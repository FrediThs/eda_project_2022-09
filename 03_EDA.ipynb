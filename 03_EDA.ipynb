{
 "cells": [
  {
   "cell_type": "markdown",
   "metadata": {},
   "source": [
    "# EDA\n",
    "\n",
    "Make sure to run and check the Data prep first so that you have a clean csv table to start with. Original data is incomplete when it comes to zip to names and city evals."
   ]
  },
  {
   "cell_type": "markdown",
   "metadata": {},
   "source": [
    "## Setup"
   ]
  },
  {
   "cell_type": "code",
   "execution_count": 220,
   "metadata": {},
   "outputs": [],
   "source": [
    "# import the necessary libraries you need for your analysis\n",
    "import pandas as pd\n",
    "import numpy as np\n",
    "import matplotlib.pyplot as plt\n",
    "import seaborn as sns\n",
    "import plotly.express as px\n",
    "\n",
    "from matplotlib.ticker import PercentFormatter\n",
    "plt.rcParams.update({ \"figure.figsize\" : (8, 5),\"axes.facecolor\" : \"white\", \"axes.edgecolor\":  \"black\"})\n",
    "plt.rcParams[\"figure.facecolor\"]= \"w\"\n",
    "pd.plotting.register_matplotlib_converters()\n",
    "# Floats (decimal numbers) should be displayed rounded with 1 decimal place\n",
    "pd.set_option('display.float_format', lambda x: '%.1f' % x)\n",
    "# Set style for plots\n",
    "plt.style.use('fivethirtyeight') "
   ]
  },
  {
   "cell_type": "code",
   "execution_count": 221,
   "metadata": {},
   "outputs": [
    {
     "name": "stdout",
     "output_type": "stream",
     "text": [
      "<class 'pandas.core.frame.DataFrame'>\n",
      "RangeIndex: 21597 entries, 0 to 21596\n",
      "Data columns (total 36 columns):\n",
      " #   Column                  Non-Null Count  Dtype  \n",
      "---  ------                  --------------  -----  \n",
      " 0   id                      21597 non-null  int64  \n",
      " 1   date                    21597 non-null  object \n",
      " 2   price                   21597 non-null  float64\n",
      " 3   bedrooms                21597 non-null  int64  \n",
      " 4   bathrooms               21597 non-null  float64\n",
      " 5   sqft_living             21597 non-null  int64  \n",
      " 6   sqft_lot                21597 non-null  int64  \n",
      " 7   floors                  21597 non-null  float64\n",
      " 8   waterfront              21597 non-null  bool   \n",
      " 9   view                    21597 non-null  float64\n",
      " 10  condition               21597 non-null  int64  \n",
      " 11  grade                   21597 non-null  int64  \n",
      " 12  sqft_above              21597 non-null  int64  \n",
      " 13  sqft_basement           21597 non-null  float64\n",
      " 14  yr_built                21597 non-null  int64  \n",
      " 15  yr_renovated            21597 non-null  int64  \n",
      " 16  zipcode                 21597 non-null  int64  \n",
      " 17  lat                     21597 non-null  float64\n",
      " 18  long                    21597 non-null  float64\n",
      " 19  sqft_living15           21597 non-null  int64  \n",
      " 20  sqft_lot15              21597 non-null  int64  \n",
      " 21  city                    21597 non-null  object \n",
      " 22  classification          21597 non-null  object \n",
      " 23  price_per_sqft_house    21597 non-null  float64\n",
      " 24  price_per_sqft_lot      21597 non-null  float64\n",
      " 25  price_tag_house         21597 non-null  object \n",
      " 26  price_tag_lot           21597 non-null  object \n",
      " 27  renovation_indicator    21597 non-null  object \n",
      " 28  view_eval               21597 non-null  object \n",
      " 29  condition_eval          21597 non-null  object \n",
      " 30  grade_eval              21597 non-null  object \n",
      " 31  sqft_basement_cleaned   21597 non-null  float64\n",
      " 32  has_secret_storage      21597 non-null  bool   \n",
      " 33  basement_sizes_string   21597 non-null  object \n",
      " 34  basement_sizes_int      21597 non-null  int64  \n",
      " 35  basement_to_rest_ratio  21597 non-null  float64\n",
      "dtypes: bool(2), float64(11), int64(13), object(10)\n",
      "memory usage: 5.6+ MB\n"
     ]
    }
   ],
   "source": [
    "# Load cleaned csv\n",
    "dfviz = pd.read_csv('data/king_county_data_viz.csv',)\n",
    "dfviz.info()"
   ]
  },
  {
   "cell_type": "markdown",
   "metadata": {},
   "source": [
    "## Hypothesis testing"
   ]
  },
  {
   "cell_type": "markdown",
   "metadata": {},
   "source": [
    "### **Hypothesis 1:** \n",
    "\n",
    "The stakeholder has keen interest in storing concrete related objects and needs an object with waterview and a rather large basement. \n",
    "Are there any good options on the market with not too many competitors?\n",
    "\n",
    "**There are waterfront objects with basements.**"
   ]
  },
  {
   "cell_type": "code",
   "execution_count": 222,
   "metadata": {},
   "outputs": [
    {
     "data": {
      "text/plain": [
       "array(['Island', 'Has Shore', 'Richie rich', 'City ', 'Forest',\n",
       "       'Poor dogs', 'City', 'Belle', 'Wide land', 'Outskirt'],\n",
       "      dtype=object)"
      ]
     },
     "execution_count": 222,
     "metadata": {},
     "output_type": "execute_result"
    }
   ],
   "source": [
    "hypo1 = dfviz[['id','price','price_per_sqft_house','price_per_sqft_lot','price_tag_house','price_tag_lot','renovation_indicator','waterfront','basement_sizes_string','basement_sizes_int','basement_to_rest_ratio','classification']]\n",
    "hypo1_waterfront = hypo1.query('waterfront == True')\n",
    "hypo1_waterfront['classification'].unique()"
   ]
  },
  {
   "cell_type": "code",
   "execution_count": 223,
   "metadata": {},
   "outputs": [
    {
     "data": {
      "application/vnd.plotly.v1+json": {
       "config": {
        "plotlyServerURL": "https://plot.ly"
       },
       "data": [
        {
         "alignmentgroup": "True",
         "bingroup": "x",
         "hovertemplate": "price_tag_house=Top 10<br>basement_sizes_string=%{x}<br>count=%{y}<extra></extra>",
         "legendgroup": "Top 10",
         "marker": {
          "color": "#2E91E5",
          "pattern": {
           "shape": ""
          }
         },
         "name": "Top 10",
         "offsetgroup": "Top 10",
         "orientation": "v",
         "showlegend": true,
         "type": "histogram",
         "x": [
          "large",
          "medium",
          "xlarge",
          "xsmall",
          "xlarge",
          "xlarge",
          "xsmall",
          "xlarge",
          "xlarge",
          "xsmall",
          "xlarge",
          "xlarge",
          "xsmall",
          "xsmall",
          "xsmall",
          "xsmall",
          "xsmall",
          "xsmall",
          "xsmall",
          "xsmall",
          "xsmall",
          "xlarge",
          "medium",
          "xlarge",
          "xsmall",
          "xsmall",
          "xsmall",
          "xlarge",
          "xsmall",
          "xsmall",
          "xsmall",
          "large",
          "xsmall",
          "xsmall",
          "xlarge",
          "xsmall",
          "xlarge",
          "xlarge",
          "xsmall",
          "xsmall",
          "xlarge",
          "xsmall",
          "xsmall",
          "xlarge",
          "large",
          "xlarge",
          "xlarge",
          "xlarge",
          "medium",
          "large",
          "medium",
          "medium",
          "xlarge",
          "xlarge",
          "medium",
          "xlarge",
          "xsmall",
          "xsmall",
          "xlarge",
          "large",
          "large",
          "xlarge",
          "xlarge",
          "xlarge",
          "medium",
          "xlarge",
          "medium",
          "xlarge",
          "xlarge",
          "xlarge",
          "xlarge",
          "large",
          "xlarge",
          "xsmall",
          "xsmall",
          "xlarge",
          "xlarge",
          "xsmall",
          "xsmall",
          "xlarge",
          "xlarge",
          "xsmall",
          "large",
          "xsmall",
          "xsmall",
          "medium",
          "xlarge",
          "xsmall",
          "xlarge",
          "xlarge",
          "large",
          "xsmall",
          "xsmall",
          "xlarge",
          "xlarge",
          "xsmall",
          "large",
          "xsmall",
          "xsmall",
          "xsmall",
          "xlarge",
          "medium",
          "large",
          "xlarge"
         ],
         "xaxis": "x",
         "yaxis": "y"
        },
        {
         "alignmentgroup": "True",
         "bingroup": "x",
         "hovertemplate": "price_tag_house=Above average<br>basement_sizes_string=%{x}<br>count=%{y}<extra></extra>",
         "legendgroup": "Above average",
         "marker": {
          "color": "#E15F99",
          "pattern": {
           "shape": ""
          }
         },
         "name": "Above average",
         "offsetgroup": "Above average",
         "orientation": "v",
         "showlegend": true,
         "type": "histogram",
         "x": [
          "medium",
          "xsmall",
          "xlarge",
          "xlarge",
          "xlarge",
          "xsmall",
          "large",
          "large",
          "medium",
          "xlarge",
          "xsmall",
          "xsmall",
          "xlarge",
          "xlarge",
          "medium",
          "xlarge",
          "medium",
          "medium",
          "large",
          "xsmall",
          "xlarge",
          "xsmall",
          "large",
          "large",
          "xlarge",
          "xsmall",
          "large",
          "xlarge",
          "xsmall",
          "xsmall",
          "xlarge",
          "xsmall",
          "xsmall",
          "medium",
          "xsmall"
         ],
         "xaxis": "x",
         "yaxis": "y"
        },
        {
         "alignmentgroup": "True",
         "bingroup": "x",
         "hovertemplate": "price_tag_house=Below average<br>basement_sizes_string=%{x}<br>count=%{y}<extra></extra>",
         "legendgroup": "Below average",
         "marker": {
          "color": "#1CA71C",
          "pattern": {
           "shape": ""
          }
         },
         "name": "Below average",
         "offsetgroup": "Below average",
         "orientation": "v",
         "showlegend": true,
         "type": "histogram",
         "x": [
          "large",
          "xlarge",
          "medium",
          "xlarge",
          "xsmall",
          "medium",
          "medium"
         ],
         "xaxis": "x",
         "yaxis": "y"
        }
       ],
       "layout": {
        "barmode": "group",
        "height": 500,
        "legend": {
         "title": {
          "text": "Property price cluster"
         },
         "tracegroupgap": 0
        },
        "margin": {
         "t": 60
        },
        "template": {
         "data": {
          "bar": [
           {
            "error_x": {
             "color": "#2a3f5f"
            },
            "error_y": {
             "color": "#2a3f5f"
            },
            "marker": {
             "line": {
              "color": "#E5ECF6",
              "width": 0.5
             },
             "pattern": {
              "fillmode": "overlay",
              "size": 10,
              "solidity": 0.2
             }
            },
            "type": "bar"
           }
          ],
          "barpolar": [
           {
            "marker": {
             "line": {
              "color": "#E5ECF6",
              "width": 0.5
             },
             "pattern": {
              "fillmode": "overlay",
              "size": 10,
              "solidity": 0.2
             }
            },
            "type": "barpolar"
           }
          ],
          "carpet": [
           {
            "aaxis": {
             "endlinecolor": "#2a3f5f",
             "gridcolor": "white",
             "linecolor": "white",
             "minorgridcolor": "white",
             "startlinecolor": "#2a3f5f"
            },
            "baxis": {
             "endlinecolor": "#2a3f5f",
             "gridcolor": "white",
             "linecolor": "white",
             "minorgridcolor": "white",
             "startlinecolor": "#2a3f5f"
            },
            "type": "carpet"
           }
          ],
          "choropleth": [
           {
            "colorbar": {
             "outlinewidth": 0,
             "ticks": ""
            },
            "type": "choropleth"
           }
          ],
          "contour": [
           {
            "colorbar": {
             "outlinewidth": 0,
             "ticks": ""
            },
            "colorscale": [
             [
              0,
              "#0d0887"
             ],
             [
              0.1111111111111111,
              "#46039f"
             ],
             [
              0.2222222222222222,
              "#7201a8"
             ],
             [
              0.3333333333333333,
              "#9c179e"
             ],
             [
              0.4444444444444444,
              "#bd3786"
             ],
             [
              0.5555555555555556,
              "#d8576b"
             ],
             [
              0.6666666666666666,
              "#ed7953"
             ],
             [
              0.7777777777777778,
              "#fb9f3a"
             ],
             [
              0.8888888888888888,
              "#fdca26"
             ],
             [
              1,
              "#f0f921"
             ]
            ],
            "type": "contour"
           }
          ],
          "contourcarpet": [
           {
            "colorbar": {
             "outlinewidth": 0,
             "ticks": ""
            },
            "type": "contourcarpet"
           }
          ],
          "heatmap": [
           {
            "colorbar": {
             "outlinewidth": 0,
             "ticks": ""
            },
            "colorscale": [
             [
              0,
              "#0d0887"
             ],
             [
              0.1111111111111111,
              "#46039f"
             ],
             [
              0.2222222222222222,
              "#7201a8"
             ],
             [
              0.3333333333333333,
              "#9c179e"
             ],
             [
              0.4444444444444444,
              "#bd3786"
             ],
             [
              0.5555555555555556,
              "#d8576b"
             ],
             [
              0.6666666666666666,
              "#ed7953"
             ],
             [
              0.7777777777777778,
              "#fb9f3a"
             ],
             [
              0.8888888888888888,
              "#fdca26"
             ],
             [
              1,
              "#f0f921"
             ]
            ],
            "type": "heatmap"
           }
          ],
          "heatmapgl": [
           {
            "colorbar": {
             "outlinewidth": 0,
             "ticks": ""
            },
            "colorscale": [
             [
              0,
              "#0d0887"
             ],
             [
              0.1111111111111111,
              "#46039f"
             ],
             [
              0.2222222222222222,
              "#7201a8"
             ],
             [
              0.3333333333333333,
              "#9c179e"
             ],
             [
              0.4444444444444444,
              "#bd3786"
             ],
             [
              0.5555555555555556,
              "#d8576b"
             ],
             [
              0.6666666666666666,
              "#ed7953"
             ],
             [
              0.7777777777777778,
              "#fb9f3a"
             ],
             [
              0.8888888888888888,
              "#fdca26"
             ],
             [
              1,
              "#f0f921"
             ]
            ],
            "type": "heatmapgl"
           }
          ],
          "histogram": [
           {
            "marker": {
             "pattern": {
              "fillmode": "overlay",
              "size": 10,
              "solidity": 0.2
             }
            },
            "type": "histogram"
           }
          ],
          "histogram2d": [
           {
            "colorbar": {
             "outlinewidth": 0,
             "ticks": ""
            },
            "colorscale": [
             [
              0,
              "#0d0887"
             ],
             [
              0.1111111111111111,
              "#46039f"
             ],
             [
              0.2222222222222222,
              "#7201a8"
             ],
             [
              0.3333333333333333,
              "#9c179e"
             ],
             [
              0.4444444444444444,
              "#bd3786"
             ],
             [
              0.5555555555555556,
              "#d8576b"
             ],
             [
              0.6666666666666666,
              "#ed7953"
             ],
             [
              0.7777777777777778,
              "#fb9f3a"
             ],
             [
              0.8888888888888888,
              "#fdca26"
             ],
             [
              1,
              "#f0f921"
             ]
            ],
            "type": "histogram2d"
           }
          ],
          "histogram2dcontour": [
           {
            "colorbar": {
             "outlinewidth": 0,
             "ticks": ""
            },
            "colorscale": [
             [
              0,
              "#0d0887"
             ],
             [
              0.1111111111111111,
              "#46039f"
             ],
             [
              0.2222222222222222,
              "#7201a8"
             ],
             [
              0.3333333333333333,
              "#9c179e"
             ],
             [
              0.4444444444444444,
              "#bd3786"
             ],
             [
              0.5555555555555556,
              "#d8576b"
             ],
             [
              0.6666666666666666,
              "#ed7953"
             ],
             [
              0.7777777777777778,
              "#fb9f3a"
             ],
             [
              0.8888888888888888,
              "#fdca26"
             ],
             [
              1,
              "#f0f921"
             ]
            ],
            "type": "histogram2dcontour"
           }
          ],
          "mesh3d": [
           {
            "colorbar": {
             "outlinewidth": 0,
             "ticks": ""
            },
            "type": "mesh3d"
           }
          ],
          "parcoords": [
           {
            "line": {
             "colorbar": {
              "outlinewidth": 0,
              "ticks": ""
             }
            },
            "type": "parcoords"
           }
          ],
          "pie": [
           {
            "automargin": true,
            "type": "pie"
           }
          ],
          "scatter": [
           {
            "fillpattern": {
             "fillmode": "overlay",
             "size": 10,
             "solidity": 0.2
            },
            "type": "scatter"
           }
          ],
          "scatter3d": [
           {
            "line": {
             "colorbar": {
              "outlinewidth": 0,
              "ticks": ""
             }
            },
            "marker": {
             "colorbar": {
              "outlinewidth": 0,
              "ticks": ""
             }
            },
            "type": "scatter3d"
           }
          ],
          "scattercarpet": [
           {
            "marker": {
             "colorbar": {
              "outlinewidth": 0,
              "ticks": ""
             }
            },
            "type": "scattercarpet"
           }
          ],
          "scattergeo": [
           {
            "marker": {
             "colorbar": {
              "outlinewidth": 0,
              "ticks": ""
             }
            },
            "type": "scattergeo"
           }
          ],
          "scattergl": [
           {
            "marker": {
             "colorbar": {
              "outlinewidth": 0,
              "ticks": ""
             }
            },
            "type": "scattergl"
           }
          ],
          "scattermapbox": [
           {
            "marker": {
             "colorbar": {
              "outlinewidth": 0,
              "ticks": ""
             }
            },
            "type": "scattermapbox"
           }
          ],
          "scatterpolar": [
           {
            "marker": {
             "colorbar": {
              "outlinewidth": 0,
              "ticks": ""
             }
            },
            "type": "scatterpolar"
           }
          ],
          "scatterpolargl": [
           {
            "marker": {
             "colorbar": {
              "outlinewidth": 0,
              "ticks": ""
             }
            },
            "type": "scatterpolargl"
           }
          ],
          "scatterternary": [
           {
            "marker": {
             "colorbar": {
              "outlinewidth": 0,
              "ticks": ""
             }
            },
            "type": "scatterternary"
           }
          ],
          "surface": [
           {
            "colorbar": {
             "outlinewidth": 0,
             "ticks": ""
            },
            "colorscale": [
             [
              0,
              "#0d0887"
             ],
             [
              0.1111111111111111,
              "#46039f"
             ],
             [
              0.2222222222222222,
              "#7201a8"
             ],
             [
              0.3333333333333333,
              "#9c179e"
             ],
             [
              0.4444444444444444,
              "#bd3786"
             ],
             [
              0.5555555555555556,
              "#d8576b"
             ],
             [
              0.6666666666666666,
              "#ed7953"
             ],
             [
              0.7777777777777778,
              "#fb9f3a"
             ],
             [
              0.8888888888888888,
              "#fdca26"
             ],
             [
              1,
              "#f0f921"
             ]
            ],
            "type": "surface"
           }
          ],
          "table": [
           {
            "cells": {
             "fill": {
              "color": "#EBF0F8"
             },
             "line": {
              "color": "white"
             }
            },
            "header": {
             "fill": {
              "color": "#C8D4E3"
             },
             "line": {
              "color": "white"
             }
            },
            "type": "table"
           }
          ]
         },
         "layout": {
          "annotationdefaults": {
           "arrowcolor": "#2a3f5f",
           "arrowhead": 0,
           "arrowwidth": 1
          },
          "autotypenumbers": "strict",
          "coloraxis": {
           "colorbar": {
            "outlinewidth": 0,
            "ticks": ""
           }
          },
          "colorscale": {
           "diverging": [
            [
             0,
             "#8e0152"
            ],
            [
             0.1,
             "#c51b7d"
            ],
            [
             0.2,
             "#de77ae"
            ],
            [
             0.3,
             "#f1b6da"
            ],
            [
             0.4,
             "#fde0ef"
            ],
            [
             0.5,
             "#f7f7f7"
            ],
            [
             0.6,
             "#e6f5d0"
            ],
            [
             0.7,
             "#b8e186"
            ],
            [
             0.8,
             "#7fbc41"
            ],
            [
             0.9,
             "#4d9221"
            ],
            [
             1,
             "#276419"
            ]
           ],
           "sequential": [
            [
             0,
             "#0d0887"
            ],
            [
             0.1111111111111111,
             "#46039f"
            ],
            [
             0.2222222222222222,
             "#7201a8"
            ],
            [
             0.3333333333333333,
             "#9c179e"
            ],
            [
             0.4444444444444444,
             "#bd3786"
            ],
            [
             0.5555555555555556,
             "#d8576b"
            ],
            [
             0.6666666666666666,
             "#ed7953"
            ],
            [
             0.7777777777777778,
             "#fb9f3a"
            ],
            [
             0.8888888888888888,
             "#fdca26"
            ],
            [
             1,
             "#f0f921"
            ]
           ],
           "sequentialminus": [
            [
             0,
             "#0d0887"
            ],
            [
             0.1111111111111111,
             "#46039f"
            ],
            [
             0.2222222222222222,
             "#7201a8"
            ],
            [
             0.3333333333333333,
             "#9c179e"
            ],
            [
             0.4444444444444444,
             "#bd3786"
            ],
            [
             0.5555555555555556,
             "#d8576b"
            ],
            [
             0.6666666666666666,
             "#ed7953"
            ],
            [
             0.7777777777777778,
             "#fb9f3a"
            ],
            [
             0.8888888888888888,
             "#fdca26"
            ],
            [
             1,
             "#f0f921"
            ]
           ]
          },
          "colorway": [
           "#636efa",
           "#EF553B",
           "#00cc96",
           "#ab63fa",
           "#FFA15A",
           "#19d3f3",
           "#FF6692",
           "#B6E880",
           "#FF97FF",
           "#FECB52"
          ],
          "font": {
           "color": "#2a3f5f"
          },
          "geo": {
           "bgcolor": "white",
           "lakecolor": "white",
           "landcolor": "#E5ECF6",
           "showlakes": true,
           "showland": true,
           "subunitcolor": "white"
          },
          "hoverlabel": {
           "align": "left"
          },
          "hovermode": "closest",
          "mapbox": {
           "style": "light"
          },
          "paper_bgcolor": "white",
          "plot_bgcolor": "#E5ECF6",
          "polar": {
           "angularaxis": {
            "gridcolor": "white",
            "linecolor": "white",
            "ticks": ""
           },
           "bgcolor": "#E5ECF6",
           "radialaxis": {
            "gridcolor": "white",
            "linecolor": "white",
            "ticks": ""
           }
          },
          "scene": {
           "xaxis": {
            "backgroundcolor": "#E5ECF6",
            "gridcolor": "white",
            "gridwidth": 2,
            "linecolor": "white",
            "showbackground": true,
            "ticks": "",
            "zerolinecolor": "white"
           },
           "yaxis": {
            "backgroundcolor": "#E5ECF6",
            "gridcolor": "white",
            "gridwidth": 2,
            "linecolor": "white",
            "showbackground": true,
            "ticks": "",
            "zerolinecolor": "white"
           },
           "zaxis": {
            "backgroundcolor": "#E5ECF6",
            "gridcolor": "white",
            "gridwidth": 2,
            "linecolor": "white",
            "showbackground": true,
            "ticks": "",
            "zerolinecolor": "white"
           }
          },
          "shapedefaults": {
           "line": {
            "color": "#2a3f5f"
           }
          },
          "ternary": {
           "aaxis": {
            "gridcolor": "white",
            "linecolor": "white",
            "ticks": ""
           },
           "baxis": {
            "gridcolor": "white",
            "linecolor": "white",
            "ticks": ""
           },
           "bgcolor": "#E5ECF6",
           "caxis": {
            "gridcolor": "white",
            "linecolor": "white",
            "ticks": ""
           }
          },
          "title": {
           "x": 0.05
          },
          "xaxis": {
           "automargin": true,
           "gridcolor": "white",
           "linecolor": "white",
           "ticks": "",
           "title": {
            "standoff": 15
           },
           "zerolinecolor": "white",
           "zerolinewidth": 2
          },
          "yaxis": {
           "automargin": true,
           "gridcolor": "white",
           "linecolor": "white",
           "ticks": "",
           "title": {
            "standoff": 15
           },
           "zerolinecolor": "white",
           "zerolinewidth": 2
          }
         }
        },
        "title": {
         "text": "Number of properties with basements near the waterfront by pricy category"
        },
        "width": 1000,
        "xaxis": {
         "anchor": "y",
         "categoryarray": [
          "xsmall",
          "small",
          "medium",
          "large",
          "xlarge"
         ],
         "categoryorder": "array",
         "domain": [
          0,
          1
         ],
         "title": {
          "text": "Basement size clusters"
         }
        },
        "yaxis": {
         "anchor": "x",
         "domain": [
          0,
          1
         ],
         "title": {
          "text": "Number of properties"
         }
        }
       }
      }
     },
     "metadata": {},
     "output_type": "display_data"
    }
   ],
   "source": [
    "# Plot Number of waterfront objects with basement sizes and pricetags\n",
    "#sortingf1 = dfviz.groupby('basement_sizes_string')['basement_sizes_int'].count().sort_values(ascending=False)\n",
    "f1x = px.histogram(hypo1_waterfront, x='basement_sizes_string',barmode='group',color='price_tag_house',\n",
    "    color_discrete_sequence=px.colors.qualitative.Dark24,height=500,width=1000) # create countplot // order='sortingf1'\n",
    "f1x.update_layout(title=\"Number of properties with basements near the waterfront by pricy category\",\n",
    "    xaxis_title=\"Basement size clusters\",\n",
    "    yaxis_title=\"Number of properties\",\n",
    "    legend_title=\"Property price cluster\",\n",
    ")\n",
    "f1x.update_xaxes(categoryorder='array', categoryarray= ['xsmall','small','medium','large','xlarge'])\n",
    "f1x.show()"
   ]
  },
  {
   "cell_type": "code",
   "execution_count": 224,
   "metadata": {},
   "outputs": [
    {
     "data": {
      "application/vnd.plotly.v1+json": {
       "config": {
        "plotlyServerURL": "https://plot.ly"
       },
       "data": [
        {
         "alignmentgroup": "True",
         "bingroup": "x",
         "hovertemplate": "classification=Island<br>basement_sizes_string=%{x}<br>count=%{y}<extra></extra>",
         "legendgroup": "Island",
         "marker": {
          "color": "#2E91E5",
          "pattern": {
           "shape": ""
          }
         },
         "name": "Island",
         "offsetgroup": "Island",
         "orientation": "v",
         "showlegend": true,
         "type": "histogram",
         "x": [
          "large",
          "xsmall",
          "medium",
          "xsmall",
          "xsmall",
          "xlarge",
          "xlarge",
          "large",
          "medium",
          "medium",
          "medium",
          "xsmall",
          "xsmall",
          "xsmall",
          "xsmall",
          "xsmall",
          "xsmall",
          "xsmall",
          "xsmall",
          "xsmall"
         ],
         "xaxis": "x",
         "yaxis": "y"
        },
        {
         "alignmentgroup": "True",
         "bingroup": "x",
         "hovertemplate": "classification=Has Shore<br>basement_sizes_string=%{x}<br>count=%{y}<extra></extra>",
         "legendgroup": "Has Shore",
         "marker": {
          "color": "#E15F99",
          "pattern": {
           "shape": ""
          }
         },
         "name": "Has Shore",
         "offsetgroup": "Has Shore",
         "orientation": "v",
         "showlegend": true,
         "type": "histogram",
         "x": [
          "medium",
          "xsmall",
          "large",
          "xsmall",
          "xsmall",
          "xsmall",
          "xlarge",
          "xlarge",
          "medium",
          "xsmall",
          "xsmall",
          "xlarge",
          "xsmall",
          "medium",
          "xlarge",
          "medium",
          "medium",
          "large",
          "large",
          "large",
          "xsmall",
          "xlarge",
          "xsmall",
          "xlarge",
          "xsmall",
          "medium",
          "medium",
          "xsmall",
          "xlarge",
          "large"
         ],
         "xaxis": "x",
         "yaxis": "y"
        },
        {
         "alignmentgroup": "True",
         "bingroup": "x",
         "hovertemplate": "classification=Richie rich<br>basement_sizes_string=%{x}<br>count=%{y}<extra></extra>",
         "legendgroup": "Richie rich",
         "marker": {
          "color": "#1CA71C",
          "pattern": {
           "shape": ""
          }
         },
         "name": "Richie rich",
         "offsetgroup": "Richie rich",
         "orientation": "v",
         "showlegend": true,
         "type": "histogram",
         "x": [
          "xlarge",
          "xlarge",
          "xlarge",
          "xlarge",
          "xlarge",
          "xlarge",
          "xlarge",
          "xsmall",
          "xsmall",
          "xsmall",
          "xsmall",
          "xsmall",
          "xlarge",
          "xsmall",
          "xlarge",
          "xlarge",
          "xsmall",
          "xsmall",
          "xlarge",
          "large",
          "xlarge",
          "xlarge",
          "xlarge",
          "medium",
          "xlarge",
          "xlarge",
          "xsmall",
          "xlarge",
          "xlarge",
          "xlarge",
          "xlarge",
          "xlarge",
          "xsmall",
          "xlarge",
          "xlarge",
          "xlarge",
          "xlarge",
          "xsmall",
          "xlarge",
          "xsmall",
          "medium",
          "xlarge"
         ],
         "xaxis": "x",
         "yaxis": "y"
        },
        {
         "alignmentgroup": "True",
         "bingroup": "x",
         "hovertemplate": "classification=City <br>basement_sizes_string=%{x}<br>count=%{y}<extra></extra>",
         "legendgroup": "City ",
         "marker": {
          "color": "#FB0D0D",
          "pattern": {
           "shape": ""
          }
         },
         "name": "City ",
         "offsetgroup": "City ",
         "orientation": "v",
         "showlegend": true,
         "type": "histogram",
         "x": [
          "xsmall",
          "xlarge",
          "xsmall",
          "xsmall",
          "large",
          "xlarge",
          "large",
          "large",
          "large"
         ],
         "xaxis": "x",
         "yaxis": "y"
        },
        {
         "alignmentgroup": "True",
         "bingroup": "x",
         "hovertemplate": "classification=Forest<br>basement_sizes_string=%{x}<br>count=%{y}<extra></extra>",
         "legendgroup": "Forest",
         "marker": {
          "color": "#DA16FF",
          "pattern": {
           "shape": ""
          }
         },
         "name": "Forest",
         "offsetgroup": "Forest",
         "orientation": "v",
         "showlegend": true,
         "type": "histogram",
         "x": [
          "xsmall",
          "medium",
          "xlarge",
          "xsmall",
          "xlarge"
         ],
         "xaxis": "x",
         "yaxis": "y"
        },
        {
         "alignmentgroup": "True",
         "bingroup": "x",
         "hovertemplate": "classification=Poor dogs<br>basement_sizes_string=%{x}<br>count=%{y}<extra></extra>",
         "legendgroup": "Poor dogs",
         "marker": {
          "color": "#222A2A",
          "pattern": {
           "shape": ""
          }
         },
         "name": "Poor dogs",
         "offsetgroup": "Poor dogs",
         "orientation": "v",
         "showlegend": true,
         "type": "histogram",
         "x": [
          "xsmall",
          "xsmall",
          "xsmall",
          "xsmall",
          "medium",
          "large",
          "xlarge",
          "xlarge"
         ],
         "xaxis": "x",
         "yaxis": "y"
        },
        {
         "alignmentgroup": "True",
         "bingroup": "x",
         "hovertemplate": "classification=City<br>basement_sizes_string=%{x}<br>count=%{y}<extra></extra>",
         "legendgroup": "City",
         "marker": {
          "color": "#B68100",
          "pattern": {
           "shape": ""
          }
         },
         "name": "City",
         "offsetgroup": "City",
         "orientation": "v",
         "showlegend": true,
         "type": "histogram",
         "x": [
          "xlarge",
          "xsmall",
          "large",
          "xsmall",
          "xsmall",
          "xsmall",
          "xlarge",
          "xsmall",
          "medium",
          "xlarge",
          "xlarge",
          "large",
          "large",
          "xlarge",
          "medium",
          "xlarge",
          "xlarge",
          "xsmall",
          "xsmall",
          "xsmall",
          "xlarge",
          "medium",
          "medium",
          "xsmall",
          "large",
          "xlarge",
          "large",
          "xsmall"
         ],
         "xaxis": "x",
         "yaxis": "y"
        },
        {
         "alignmentgroup": "True",
         "bingroup": "x",
         "hovertemplate": "classification=Belle<br>basement_sizes_string=%{x}<br>count=%{y}<extra></extra>",
         "legendgroup": "Belle",
         "marker": {
          "color": "#750D86",
          "pattern": {
           "shape": ""
          }
         },
         "name": "Belle",
         "offsetgroup": "Belle",
         "orientation": "v",
         "showlegend": true,
         "type": "histogram",
         "x": [
          "xlarge"
         ],
         "xaxis": "x",
         "yaxis": "y"
        },
        {
         "alignmentgroup": "True",
         "bingroup": "x",
         "hovertemplate": "classification=Wide land<br>basement_sizes_string=%{x}<br>count=%{y}<extra></extra>",
         "legendgroup": "Wide land",
         "marker": {
          "color": "#EB663B",
          "pattern": {
           "shape": ""
          }
         },
         "name": "Wide land",
         "offsetgroup": "Wide land",
         "orientation": "v",
         "showlegend": true,
         "type": "histogram",
         "x": [
          "xlarge",
          "xlarge"
         ],
         "xaxis": "x",
         "yaxis": "y"
        },
        {
         "alignmentgroup": "True",
         "bingroup": "x",
         "hovertemplate": "classification=Outskirt<br>basement_sizes_string=%{x}<br>count=%{y}<extra></extra>",
         "legendgroup": "Outskirt",
         "marker": {
          "color": "#511CFB",
          "pattern": {
           "shape": ""
          }
         },
         "name": "Outskirt",
         "offsetgroup": "Outskirt",
         "orientation": "v",
         "showlegend": true,
         "type": "histogram",
         "x": [
          "xlarge"
         ],
         "xaxis": "x",
         "yaxis": "y"
        }
       ],
       "layout": {
        "barmode": "group",
        "height": 500,
        "legend": {
         "title": {
          "text": "Classification cluster"
         },
         "tracegroupgap": 0
        },
        "margin": {
         "t": 60
        },
        "template": {
         "data": {
          "bar": [
           {
            "error_x": {
             "color": "#2a3f5f"
            },
            "error_y": {
             "color": "#2a3f5f"
            },
            "marker": {
             "line": {
              "color": "#E5ECF6",
              "width": 0.5
             },
             "pattern": {
              "fillmode": "overlay",
              "size": 10,
              "solidity": 0.2
             }
            },
            "type": "bar"
           }
          ],
          "barpolar": [
           {
            "marker": {
             "line": {
              "color": "#E5ECF6",
              "width": 0.5
             },
             "pattern": {
              "fillmode": "overlay",
              "size": 10,
              "solidity": 0.2
             }
            },
            "type": "barpolar"
           }
          ],
          "carpet": [
           {
            "aaxis": {
             "endlinecolor": "#2a3f5f",
             "gridcolor": "white",
             "linecolor": "white",
             "minorgridcolor": "white",
             "startlinecolor": "#2a3f5f"
            },
            "baxis": {
             "endlinecolor": "#2a3f5f",
             "gridcolor": "white",
             "linecolor": "white",
             "minorgridcolor": "white",
             "startlinecolor": "#2a3f5f"
            },
            "type": "carpet"
           }
          ],
          "choropleth": [
           {
            "colorbar": {
             "outlinewidth": 0,
             "ticks": ""
            },
            "type": "choropleth"
           }
          ],
          "contour": [
           {
            "colorbar": {
             "outlinewidth": 0,
             "ticks": ""
            },
            "colorscale": [
             [
              0,
              "#0d0887"
             ],
             [
              0.1111111111111111,
              "#46039f"
             ],
             [
              0.2222222222222222,
              "#7201a8"
             ],
             [
              0.3333333333333333,
              "#9c179e"
             ],
             [
              0.4444444444444444,
              "#bd3786"
             ],
             [
              0.5555555555555556,
              "#d8576b"
             ],
             [
              0.6666666666666666,
              "#ed7953"
             ],
             [
              0.7777777777777778,
              "#fb9f3a"
             ],
             [
              0.8888888888888888,
              "#fdca26"
             ],
             [
              1,
              "#f0f921"
             ]
            ],
            "type": "contour"
           }
          ],
          "contourcarpet": [
           {
            "colorbar": {
             "outlinewidth": 0,
             "ticks": ""
            },
            "type": "contourcarpet"
           }
          ],
          "heatmap": [
           {
            "colorbar": {
             "outlinewidth": 0,
             "ticks": ""
            },
            "colorscale": [
             [
              0,
              "#0d0887"
             ],
             [
              0.1111111111111111,
              "#46039f"
             ],
             [
              0.2222222222222222,
              "#7201a8"
             ],
             [
              0.3333333333333333,
              "#9c179e"
             ],
             [
              0.4444444444444444,
              "#bd3786"
             ],
             [
              0.5555555555555556,
              "#d8576b"
             ],
             [
              0.6666666666666666,
              "#ed7953"
             ],
             [
              0.7777777777777778,
              "#fb9f3a"
             ],
             [
              0.8888888888888888,
              "#fdca26"
             ],
             [
              1,
              "#f0f921"
             ]
            ],
            "type": "heatmap"
           }
          ],
          "heatmapgl": [
           {
            "colorbar": {
             "outlinewidth": 0,
             "ticks": ""
            },
            "colorscale": [
             [
              0,
              "#0d0887"
             ],
             [
              0.1111111111111111,
              "#46039f"
             ],
             [
              0.2222222222222222,
              "#7201a8"
             ],
             [
              0.3333333333333333,
              "#9c179e"
             ],
             [
              0.4444444444444444,
              "#bd3786"
             ],
             [
              0.5555555555555556,
              "#d8576b"
             ],
             [
              0.6666666666666666,
              "#ed7953"
             ],
             [
              0.7777777777777778,
              "#fb9f3a"
             ],
             [
              0.8888888888888888,
              "#fdca26"
             ],
             [
              1,
              "#f0f921"
             ]
            ],
            "type": "heatmapgl"
           }
          ],
          "histogram": [
           {
            "marker": {
             "pattern": {
              "fillmode": "overlay",
              "size": 10,
              "solidity": 0.2
             }
            },
            "type": "histogram"
           }
          ],
          "histogram2d": [
           {
            "colorbar": {
             "outlinewidth": 0,
             "ticks": ""
            },
            "colorscale": [
             [
              0,
              "#0d0887"
             ],
             [
              0.1111111111111111,
              "#46039f"
             ],
             [
              0.2222222222222222,
              "#7201a8"
             ],
             [
              0.3333333333333333,
              "#9c179e"
             ],
             [
              0.4444444444444444,
              "#bd3786"
             ],
             [
              0.5555555555555556,
              "#d8576b"
             ],
             [
              0.6666666666666666,
              "#ed7953"
             ],
             [
              0.7777777777777778,
              "#fb9f3a"
             ],
             [
              0.8888888888888888,
              "#fdca26"
             ],
             [
              1,
              "#f0f921"
             ]
            ],
            "type": "histogram2d"
           }
          ],
          "histogram2dcontour": [
           {
            "colorbar": {
             "outlinewidth": 0,
             "ticks": ""
            },
            "colorscale": [
             [
              0,
              "#0d0887"
             ],
             [
              0.1111111111111111,
              "#46039f"
             ],
             [
              0.2222222222222222,
              "#7201a8"
             ],
             [
              0.3333333333333333,
              "#9c179e"
             ],
             [
              0.4444444444444444,
              "#bd3786"
             ],
             [
              0.5555555555555556,
              "#d8576b"
             ],
             [
              0.6666666666666666,
              "#ed7953"
             ],
             [
              0.7777777777777778,
              "#fb9f3a"
             ],
             [
              0.8888888888888888,
              "#fdca26"
             ],
             [
              1,
              "#f0f921"
             ]
            ],
            "type": "histogram2dcontour"
           }
          ],
          "mesh3d": [
           {
            "colorbar": {
             "outlinewidth": 0,
             "ticks": ""
            },
            "type": "mesh3d"
           }
          ],
          "parcoords": [
           {
            "line": {
             "colorbar": {
              "outlinewidth": 0,
              "ticks": ""
             }
            },
            "type": "parcoords"
           }
          ],
          "pie": [
           {
            "automargin": true,
            "type": "pie"
           }
          ],
          "scatter": [
           {
            "fillpattern": {
             "fillmode": "overlay",
             "size": 10,
             "solidity": 0.2
            },
            "type": "scatter"
           }
          ],
          "scatter3d": [
           {
            "line": {
             "colorbar": {
              "outlinewidth": 0,
              "ticks": ""
             }
            },
            "marker": {
             "colorbar": {
              "outlinewidth": 0,
              "ticks": ""
             }
            },
            "type": "scatter3d"
           }
          ],
          "scattercarpet": [
           {
            "marker": {
             "colorbar": {
              "outlinewidth": 0,
              "ticks": ""
             }
            },
            "type": "scattercarpet"
           }
          ],
          "scattergeo": [
           {
            "marker": {
             "colorbar": {
              "outlinewidth": 0,
              "ticks": ""
             }
            },
            "type": "scattergeo"
           }
          ],
          "scattergl": [
           {
            "marker": {
             "colorbar": {
              "outlinewidth": 0,
              "ticks": ""
             }
            },
            "type": "scattergl"
           }
          ],
          "scattermapbox": [
           {
            "marker": {
             "colorbar": {
              "outlinewidth": 0,
              "ticks": ""
             }
            },
            "type": "scattermapbox"
           }
          ],
          "scatterpolar": [
           {
            "marker": {
             "colorbar": {
              "outlinewidth": 0,
              "ticks": ""
             }
            },
            "type": "scatterpolar"
           }
          ],
          "scatterpolargl": [
           {
            "marker": {
             "colorbar": {
              "outlinewidth": 0,
              "ticks": ""
             }
            },
            "type": "scatterpolargl"
           }
          ],
          "scatterternary": [
           {
            "marker": {
             "colorbar": {
              "outlinewidth": 0,
              "ticks": ""
             }
            },
            "type": "scatterternary"
           }
          ],
          "surface": [
           {
            "colorbar": {
             "outlinewidth": 0,
             "ticks": ""
            },
            "colorscale": [
             [
              0,
              "#0d0887"
             ],
             [
              0.1111111111111111,
              "#46039f"
             ],
             [
              0.2222222222222222,
              "#7201a8"
             ],
             [
              0.3333333333333333,
              "#9c179e"
             ],
             [
              0.4444444444444444,
              "#bd3786"
             ],
             [
              0.5555555555555556,
              "#d8576b"
             ],
             [
              0.6666666666666666,
              "#ed7953"
             ],
             [
              0.7777777777777778,
              "#fb9f3a"
             ],
             [
              0.8888888888888888,
              "#fdca26"
             ],
             [
              1,
              "#f0f921"
             ]
            ],
            "type": "surface"
           }
          ],
          "table": [
           {
            "cells": {
             "fill": {
              "color": "#EBF0F8"
             },
             "line": {
              "color": "white"
             }
            },
            "header": {
             "fill": {
              "color": "#C8D4E3"
             },
             "line": {
              "color": "white"
             }
            },
            "type": "table"
           }
          ]
         },
         "layout": {
          "annotationdefaults": {
           "arrowcolor": "#2a3f5f",
           "arrowhead": 0,
           "arrowwidth": 1
          },
          "autotypenumbers": "strict",
          "coloraxis": {
           "colorbar": {
            "outlinewidth": 0,
            "ticks": ""
           }
          },
          "colorscale": {
           "diverging": [
            [
             0,
             "#8e0152"
            ],
            [
             0.1,
             "#c51b7d"
            ],
            [
             0.2,
             "#de77ae"
            ],
            [
             0.3,
             "#f1b6da"
            ],
            [
             0.4,
             "#fde0ef"
            ],
            [
             0.5,
             "#f7f7f7"
            ],
            [
             0.6,
             "#e6f5d0"
            ],
            [
             0.7,
             "#b8e186"
            ],
            [
             0.8,
             "#7fbc41"
            ],
            [
             0.9,
             "#4d9221"
            ],
            [
             1,
             "#276419"
            ]
           ],
           "sequential": [
            [
             0,
             "#0d0887"
            ],
            [
             0.1111111111111111,
             "#46039f"
            ],
            [
             0.2222222222222222,
             "#7201a8"
            ],
            [
             0.3333333333333333,
             "#9c179e"
            ],
            [
             0.4444444444444444,
             "#bd3786"
            ],
            [
             0.5555555555555556,
             "#d8576b"
            ],
            [
             0.6666666666666666,
             "#ed7953"
            ],
            [
             0.7777777777777778,
             "#fb9f3a"
            ],
            [
             0.8888888888888888,
             "#fdca26"
            ],
            [
             1,
             "#f0f921"
            ]
           ],
           "sequentialminus": [
            [
             0,
             "#0d0887"
            ],
            [
             0.1111111111111111,
             "#46039f"
            ],
            [
             0.2222222222222222,
             "#7201a8"
            ],
            [
             0.3333333333333333,
             "#9c179e"
            ],
            [
             0.4444444444444444,
             "#bd3786"
            ],
            [
             0.5555555555555556,
             "#d8576b"
            ],
            [
             0.6666666666666666,
             "#ed7953"
            ],
            [
             0.7777777777777778,
             "#fb9f3a"
            ],
            [
             0.8888888888888888,
             "#fdca26"
            ],
            [
             1,
             "#f0f921"
            ]
           ]
          },
          "colorway": [
           "#636efa",
           "#EF553B",
           "#00cc96",
           "#ab63fa",
           "#FFA15A",
           "#19d3f3",
           "#FF6692",
           "#B6E880",
           "#FF97FF",
           "#FECB52"
          ],
          "font": {
           "color": "#2a3f5f"
          },
          "geo": {
           "bgcolor": "white",
           "lakecolor": "white",
           "landcolor": "#E5ECF6",
           "showlakes": true,
           "showland": true,
           "subunitcolor": "white"
          },
          "hoverlabel": {
           "align": "left"
          },
          "hovermode": "closest",
          "mapbox": {
           "style": "light"
          },
          "paper_bgcolor": "white",
          "plot_bgcolor": "#E5ECF6",
          "polar": {
           "angularaxis": {
            "gridcolor": "white",
            "linecolor": "white",
            "ticks": ""
           },
           "bgcolor": "#E5ECF6",
           "radialaxis": {
            "gridcolor": "white",
            "linecolor": "white",
            "ticks": ""
           }
          },
          "scene": {
           "xaxis": {
            "backgroundcolor": "#E5ECF6",
            "gridcolor": "white",
            "gridwidth": 2,
            "linecolor": "white",
            "showbackground": true,
            "ticks": "",
            "zerolinecolor": "white"
           },
           "yaxis": {
            "backgroundcolor": "#E5ECF6",
            "gridcolor": "white",
            "gridwidth": 2,
            "linecolor": "white",
            "showbackground": true,
            "ticks": "",
            "zerolinecolor": "white"
           },
           "zaxis": {
            "backgroundcolor": "#E5ECF6",
            "gridcolor": "white",
            "gridwidth": 2,
            "linecolor": "white",
            "showbackground": true,
            "ticks": "",
            "zerolinecolor": "white"
           }
          },
          "shapedefaults": {
           "line": {
            "color": "#2a3f5f"
           }
          },
          "ternary": {
           "aaxis": {
            "gridcolor": "white",
            "linecolor": "white",
            "ticks": ""
           },
           "baxis": {
            "gridcolor": "white",
            "linecolor": "white",
            "ticks": ""
           },
           "bgcolor": "#E5ECF6",
           "caxis": {
            "gridcolor": "white",
            "linecolor": "white",
            "ticks": ""
           }
          },
          "title": {
           "x": 0.05
          },
          "xaxis": {
           "automargin": true,
           "gridcolor": "white",
           "linecolor": "white",
           "ticks": "",
           "title": {
            "standoff": 15
           },
           "zerolinecolor": "white",
           "zerolinewidth": 2
          },
          "yaxis": {
           "automargin": true,
           "gridcolor": "white",
           "linecolor": "white",
           "ticks": "",
           "title": {
            "standoff": 15
           },
           "zerolinecolor": "white",
           "zerolinewidth": 2
          }
         }
        },
        "title": {
         "text": "Number of properties with basements near the waterfront by region classification"
        },
        "width": 1000,
        "xaxis": {
         "anchor": "y",
         "categoryarray": [
          "xsmall",
          "small",
          "medium",
          "large",
          "xlarge"
         ],
         "categoryorder": "array",
         "domain": [
          0,
          1
         ],
         "title": {
          "text": "Basement size clusters"
         }
        },
        "yaxis": {
         "anchor": "x",
         "domain": [
          0,
          1
         ],
         "title": {
          "text": "Number of properties"
         }
        }
       }
      }
     },
     "metadata": {},
     "output_type": "display_data"
    },
    {
     "data": {
      "text/plain": [
       "<Figure size 1500x500 with 0 Axes>"
      ]
     },
     "metadata": {},
     "output_type": "display_data"
    }
   ],
   "source": [
    "# Plot Number of waterfront objects with basement sizes and region classification\n",
    "#sortingf1 = dfviz.groupby('basement_sizes_string')['basement_sizes_int'].count().sort_values(ascending=False)\n",
    "plt.figure(figsize=(15,5)) # specify figure size\n",
    "f2x = px.histogram(hypo1_waterfront, x='basement_sizes_string',barmode='group',color='classification',\n",
    "    color_discrete_sequence=px.colors.qualitative.Dark24, height=500,width=1000)\n",
    "f2x.update_layout(title=\"Number of properties with basements near the waterfront by region classification\",\n",
    "    xaxis_title=\"Basement size clusters\",\n",
    "    yaxis_title=\"Number of properties\",\n",
    "    legend_title=\"Classification cluster\",\n",
    ")\n",
    "f2x.update_xaxes(categoryorder='array', categoryarray= ['xsmall','small','medium','large','xlarge'])\n",
    "f2x.show()"
   ]
  },
  {
   "cell_type": "code",
   "execution_count": 225,
   "metadata": {},
   "outputs": [
    {
     "data": {
      "application/vnd.plotly.v1+json": {
       "config": {
        "plotlyServerURL": "https://plot.ly"
       },
       "data": [
        {
         "alignmentgroup": "True",
         "hovertemplate": "renovation_indicator=Piece of crap<br>price_tag_house=%{x}<br>count=%{y}<extra></extra>",
         "legendgroup": "Piece of crap",
         "marker": {
          "color": "#2E91E5",
          "pattern": {
           "shape": ""
          }
         },
         "name": "Piece of crap",
         "offsetgroup": "Piece of crap",
         "orientation": "v",
         "showlegend": true,
         "textposition": "auto",
         "type": "bar",
         "x": [
          "Top 10",
          "Top 10",
          "Top 10",
          "Top 10",
          "Above average",
          "Above average",
          "Top 10",
          "Top 10",
          "Top 10",
          "Above average",
          "Top 10",
          "Top 10",
          "Top 10",
          "Top 10",
          "Top 10",
          "Top 10",
          "Top 10",
          "Top 10",
          "Top 10",
          "Top 10",
          "Top 10",
          "Top 10",
          "Top 10",
          "Top 10",
          "Above average",
          "Top 10",
          "Top 10",
          "Top 10",
          "Top 10",
          "Top 10",
          "Top 10",
          "Top 10",
          "Top 10",
          "Top 10",
          "Above average",
          "Top 10",
          "Top 10",
          "Above average",
          "Above average",
          "Top 10",
          "Top 10",
          "Top 10",
          "Top 10",
          "Top 10",
          "Top 10",
          "Top 10",
          "Top 10",
          "Below average",
          "Top 10",
          "Above average",
          "Below average",
          "Top 10",
          "Below average",
          "Top 10",
          "Top 10",
          "Above average",
          "Top 10",
          "Top 10",
          "Top 10",
          "Top 10",
          "Above average",
          "Top 10",
          "Top 10",
          "Top 10",
          "Above average",
          "Top 10",
          "Below average",
          "Above average",
          "Top 10",
          "Above average",
          "Top 10",
          "Above average",
          "Above average",
          "Top 10",
          "Top 10",
          "Top 10",
          "Above average",
          "Top 10",
          "Top 10",
          "Above average",
          "Top 10",
          "Top 10",
          "Top 10",
          "Above average",
          "Top 10",
          "Top 10",
          "Top 10",
          "Above average",
          "Above average",
          "Top 10",
          "Top 10",
          "Top 10",
          "Top 10",
          "Above average",
          "Above average",
          "Above average",
          "Below average",
          "Top 10",
          "Above average",
          "Top 10",
          "Top 10",
          "Above average",
          "Top 10",
          "Top 10",
          "Top 10",
          "Top 10",
          "Top 10",
          "Below average",
          "Top 10",
          "Top 10",
          "Top 10",
          "Top 10",
          "Top 10",
          "Top 10",
          "Top 10",
          "Top 10",
          "Top 10"
         ],
         "xaxis": "x",
         "y": [
          1,
          1,
          1,
          1,
          1,
          1,
          1,
          1,
          1,
          1,
          1,
          1,
          1,
          1,
          1,
          1,
          1,
          1,
          1,
          1,
          1,
          1,
          1,
          1,
          1,
          1,
          1,
          1,
          1,
          1,
          1,
          1,
          1,
          1,
          1,
          1,
          1,
          1,
          1,
          1,
          1,
          1,
          1,
          1,
          1,
          1,
          1,
          1,
          1,
          1,
          1,
          1,
          1,
          1,
          1,
          1,
          1,
          1,
          1,
          1,
          1,
          1,
          1,
          1,
          1,
          1,
          1,
          1,
          1,
          1,
          1,
          1,
          1,
          1,
          1,
          1,
          1,
          1,
          1,
          1,
          1,
          1,
          1,
          1,
          1,
          1,
          1,
          1,
          1,
          1,
          1,
          1,
          1,
          1,
          1,
          1,
          1,
          1,
          1,
          1,
          1,
          1,
          1,
          1,
          1,
          1,
          1,
          1,
          1,
          1,
          1,
          1,
          1,
          1,
          1,
          1,
          1
         ],
         "yaxis": "y"
        },
        {
         "alignmentgroup": "True",
         "hovertemplate": "renovation_indicator=Likely ok<br>price_tag_house=%{x}<br>count=%{y}<extra></extra>",
         "legendgroup": "Likely ok",
         "marker": {
          "color": "#E15F99",
          "pattern": {
           "shape": ""
          }
         },
         "name": "Likely ok",
         "offsetgroup": "Likely ok",
         "orientation": "v",
         "showlegend": true,
         "textposition": "auto",
         "type": "bar",
         "x": [
          "Top 10",
          "Below average",
          "Top 10",
          "Top 10",
          "Top 10",
          "Top 10",
          "Above average",
          "Above average",
          "Top 10",
          "Above average",
          "Top 10",
          "Top 10",
          "Top 10",
          "Top 10",
          "Top 10",
          "Top 10",
          "Top 10",
          "Above average",
          "Above average",
          "Above average",
          "Above average",
          "Top 10",
          "Top 10",
          "Above average",
          "Top 10",
          "Top 10",
          "Above average",
          "Top 10",
          "Above average"
         ],
         "xaxis": "x",
         "y": [
          1,
          1,
          1,
          1,
          1,
          1,
          1,
          1,
          1,
          1,
          1,
          1,
          1,
          1,
          1,
          1,
          1,
          1,
          1,
          1,
          1,
          1,
          1,
          1,
          1,
          1,
          1,
          1,
          1
         ],
         "yaxis": "y"
        }
       ],
       "layout": {
        "barmode": "relative",
        "legend": {
         "title": {
          "text": "Property price cluster"
         },
         "tracegroupgap": 0
        },
        "margin": {
         "t": 60
        },
        "template": {
         "data": {
          "bar": [
           {
            "error_x": {
             "color": "#2a3f5f"
            },
            "error_y": {
             "color": "#2a3f5f"
            },
            "marker": {
             "line": {
              "color": "#E5ECF6",
              "width": 0.5
             },
             "pattern": {
              "fillmode": "overlay",
              "size": 10,
              "solidity": 0.2
             }
            },
            "type": "bar"
           }
          ],
          "barpolar": [
           {
            "marker": {
             "line": {
              "color": "#E5ECF6",
              "width": 0.5
             },
             "pattern": {
              "fillmode": "overlay",
              "size": 10,
              "solidity": 0.2
             }
            },
            "type": "barpolar"
           }
          ],
          "carpet": [
           {
            "aaxis": {
             "endlinecolor": "#2a3f5f",
             "gridcolor": "white",
             "linecolor": "white",
             "minorgridcolor": "white",
             "startlinecolor": "#2a3f5f"
            },
            "baxis": {
             "endlinecolor": "#2a3f5f",
             "gridcolor": "white",
             "linecolor": "white",
             "minorgridcolor": "white",
             "startlinecolor": "#2a3f5f"
            },
            "type": "carpet"
           }
          ],
          "choropleth": [
           {
            "colorbar": {
             "outlinewidth": 0,
             "ticks": ""
            },
            "type": "choropleth"
           }
          ],
          "contour": [
           {
            "colorbar": {
             "outlinewidth": 0,
             "ticks": ""
            },
            "colorscale": [
             [
              0,
              "#0d0887"
             ],
             [
              0.1111111111111111,
              "#46039f"
             ],
             [
              0.2222222222222222,
              "#7201a8"
             ],
             [
              0.3333333333333333,
              "#9c179e"
             ],
             [
              0.4444444444444444,
              "#bd3786"
             ],
             [
              0.5555555555555556,
              "#d8576b"
             ],
             [
              0.6666666666666666,
              "#ed7953"
             ],
             [
              0.7777777777777778,
              "#fb9f3a"
             ],
             [
              0.8888888888888888,
              "#fdca26"
             ],
             [
              1,
              "#f0f921"
             ]
            ],
            "type": "contour"
           }
          ],
          "contourcarpet": [
           {
            "colorbar": {
             "outlinewidth": 0,
             "ticks": ""
            },
            "type": "contourcarpet"
           }
          ],
          "heatmap": [
           {
            "colorbar": {
             "outlinewidth": 0,
             "ticks": ""
            },
            "colorscale": [
             [
              0,
              "#0d0887"
             ],
             [
              0.1111111111111111,
              "#46039f"
             ],
             [
              0.2222222222222222,
              "#7201a8"
             ],
             [
              0.3333333333333333,
              "#9c179e"
             ],
             [
              0.4444444444444444,
              "#bd3786"
             ],
             [
              0.5555555555555556,
              "#d8576b"
             ],
             [
              0.6666666666666666,
              "#ed7953"
             ],
             [
              0.7777777777777778,
              "#fb9f3a"
             ],
             [
              0.8888888888888888,
              "#fdca26"
             ],
             [
              1,
              "#f0f921"
             ]
            ],
            "type": "heatmap"
           }
          ],
          "heatmapgl": [
           {
            "colorbar": {
             "outlinewidth": 0,
             "ticks": ""
            },
            "colorscale": [
             [
              0,
              "#0d0887"
             ],
             [
              0.1111111111111111,
              "#46039f"
             ],
             [
              0.2222222222222222,
              "#7201a8"
             ],
             [
              0.3333333333333333,
              "#9c179e"
             ],
             [
              0.4444444444444444,
              "#bd3786"
             ],
             [
              0.5555555555555556,
              "#d8576b"
             ],
             [
              0.6666666666666666,
              "#ed7953"
             ],
             [
              0.7777777777777778,
              "#fb9f3a"
             ],
             [
              0.8888888888888888,
              "#fdca26"
             ],
             [
              1,
              "#f0f921"
             ]
            ],
            "type": "heatmapgl"
           }
          ],
          "histogram": [
           {
            "marker": {
             "pattern": {
              "fillmode": "overlay",
              "size": 10,
              "solidity": 0.2
             }
            },
            "type": "histogram"
           }
          ],
          "histogram2d": [
           {
            "colorbar": {
             "outlinewidth": 0,
             "ticks": ""
            },
            "colorscale": [
             [
              0,
              "#0d0887"
             ],
             [
              0.1111111111111111,
              "#46039f"
             ],
             [
              0.2222222222222222,
              "#7201a8"
             ],
             [
              0.3333333333333333,
              "#9c179e"
             ],
             [
              0.4444444444444444,
              "#bd3786"
             ],
             [
              0.5555555555555556,
              "#d8576b"
             ],
             [
              0.6666666666666666,
              "#ed7953"
             ],
             [
              0.7777777777777778,
              "#fb9f3a"
             ],
             [
              0.8888888888888888,
              "#fdca26"
             ],
             [
              1,
              "#f0f921"
             ]
            ],
            "type": "histogram2d"
           }
          ],
          "histogram2dcontour": [
           {
            "colorbar": {
             "outlinewidth": 0,
             "ticks": ""
            },
            "colorscale": [
             [
              0,
              "#0d0887"
             ],
             [
              0.1111111111111111,
              "#46039f"
             ],
             [
              0.2222222222222222,
              "#7201a8"
             ],
             [
              0.3333333333333333,
              "#9c179e"
             ],
             [
              0.4444444444444444,
              "#bd3786"
             ],
             [
              0.5555555555555556,
              "#d8576b"
             ],
             [
              0.6666666666666666,
              "#ed7953"
             ],
             [
              0.7777777777777778,
              "#fb9f3a"
             ],
             [
              0.8888888888888888,
              "#fdca26"
             ],
             [
              1,
              "#f0f921"
             ]
            ],
            "type": "histogram2dcontour"
           }
          ],
          "mesh3d": [
           {
            "colorbar": {
             "outlinewidth": 0,
             "ticks": ""
            },
            "type": "mesh3d"
           }
          ],
          "parcoords": [
           {
            "line": {
             "colorbar": {
              "outlinewidth": 0,
              "ticks": ""
             }
            },
            "type": "parcoords"
           }
          ],
          "pie": [
           {
            "automargin": true,
            "type": "pie"
           }
          ],
          "scatter": [
           {
            "fillpattern": {
             "fillmode": "overlay",
             "size": 10,
             "solidity": 0.2
            },
            "type": "scatter"
           }
          ],
          "scatter3d": [
           {
            "line": {
             "colorbar": {
              "outlinewidth": 0,
              "ticks": ""
             }
            },
            "marker": {
             "colorbar": {
              "outlinewidth": 0,
              "ticks": ""
             }
            },
            "type": "scatter3d"
           }
          ],
          "scattercarpet": [
           {
            "marker": {
             "colorbar": {
              "outlinewidth": 0,
              "ticks": ""
             }
            },
            "type": "scattercarpet"
           }
          ],
          "scattergeo": [
           {
            "marker": {
             "colorbar": {
              "outlinewidth": 0,
              "ticks": ""
             }
            },
            "type": "scattergeo"
           }
          ],
          "scattergl": [
           {
            "marker": {
             "colorbar": {
              "outlinewidth": 0,
              "ticks": ""
             }
            },
            "type": "scattergl"
           }
          ],
          "scattermapbox": [
           {
            "marker": {
             "colorbar": {
              "outlinewidth": 0,
              "ticks": ""
             }
            },
            "type": "scattermapbox"
           }
          ],
          "scatterpolar": [
           {
            "marker": {
             "colorbar": {
              "outlinewidth": 0,
              "ticks": ""
             }
            },
            "type": "scatterpolar"
           }
          ],
          "scatterpolargl": [
           {
            "marker": {
             "colorbar": {
              "outlinewidth": 0,
              "ticks": ""
             }
            },
            "type": "scatterpolargl"
           }
          ],
          "scatterternary": [
           {
            "marker": {
             "colorbar": {
              "outlinewidth": 0,
              "ticks": ""
             }
            },
            "type": "scatterternary"
           }
          ],
          "surface": [
           {
            "colorbar": {
             "outlinewidth": 0,
             "ticks": ""
            },
            "colorscale": [
             [
              0,
              "#0d0887"
             ],
             [
              0.1111111111111111,
              "#46039f"
             ],
             [
              0.2222222222222222,
              "#7201a8"
             ],
             [
              0.3333333333333333,
              "#9c179e"
             ],
             [
              0.4444444444444444,
              "#bd3786"
             ],
             [
              0.5555555555555556,
              "#d8576b"
             ],
             [
              0.6666666666666666,
              "#ed7953"
             ],
             [
              0.7777777777777778,
              "#fb9f3a"
             ],
             [
              0.8888888888888888,
              "#fdca26"
             ],
             [
              1,
              "#f0f921"
             ]
            ],
            "type": "surface"
           }
          ],
          "table": [
           {
            "cells": {
             "fill": {
              "color": "#EBF0F8"
             },
             "line": {
              "color": "white"
             }
            },
            "header": {
             "fill": {
              "color": "#C8D4E3"
             },
             "line": {
              "color": "white"
             }
            },
            "type": "table"
           }
          ]
         },
         "layout": {
          "annotationdefaults": {
           "arrowcolor": "#2a3f5f",
           "arrowhead": 0,
           "arrowwidth": 1
          },
          "autotypenumbers": "strict",
          "coloraxis": {
           "colorbar": {
            "outlinewidth": 0,
            "ticks": ""
           }
          },
          "colorscale": {
           "diverging": [
            [
             0,
             "#8e0152"
            ],
            [
             0.1,
             "#c51b7d"
            ],
            [
             0.2,
             "#de77ae"
            ],
            [
             0.3,
             "#f1b6da"
            ],
            [
             0.4,
             "#fde0ef"
            ],
            [
             0.5,
             "#f7f7f7"
            ],
            [
             0.6,
             "#e6f5d0"
            ],
            [
             0.7,
             "#b8e186"
            ],
            [
             0.8,
             "#7fbc41"
            ],
            [
             0.9,
             "#4d9221"
            ],
            [
             1,
             "#276419"
            ]
           ],
           "sequential": [
            [
             0,
             "#0d0887"
            ],
            [
             0.1111111111111111,
             "#46039f"
            ],
            [
             0.2222222222222222,
             "#7201a8"
            ],
            [
             0.3333333333333333,
             "#9c179e"
            ],
            [
             0.4444444444444444,
             "#bd3786"
            ],
            [
             0.5555555555555556,
             "#d8576b"
            ],
            [
             0.6666666666666666,
             "#ed7953"
            ],
            [
             0.7777777777777778,
             "#fb9f3a"
            ],
            [
             0.8888888888888888,
             "#fdca26"
            ],
            [
             1,
             "#f0f921"
            ]
           ],
           "sequentialminus": [
            [
             0,
             "#0d0887"
            ],
            [
             0.1111111111111111,
             "#46039f"
            ],
            [
             0.2222222222222222,
             "#7201a8"
            ],
            [
             0.3333333333333333,
             "#9c179e"
            ],
            [
             0.4444444444444444,
             "#bd3786"
            ],
            [
             0.5555555555555556,
             "#d8576b"
            ],
            [
             0.6666666666666666,
             "#ed7953"
            ],
            [
             0.7777777777777778,
             "#fb9f3a"
            ],
            [
             0.8888888888888888,
             "#fdca26"
            ],
            [
             1,
             "#f0f921"
            ]
           ]
          },
          "colorway": [
           "#636efa",
           "#EF553B",
           "#00cc96",
           "#ab63fa",
           "#FFA15A",
           "#19d3f3",
           "#FF6692",
           "#B6E880",
           "#FF97FF",
           "#FECB52"
          ],
          "font": {
           "color": "#2a3f5f"
          },
          "geo": {
           "bgcolor": "white",
           "lakecolor": "white",
           "landcolor": "#E5ECF6",
           "showlakes": true,
           "showland": true,
           "subunitcolor": "white"
          },
          "hoverlabel": {
           "align": "left"
          },
          "hovermode": "closest",
          "mapbox": {
           "style": "light"
          },
          "paper_bgcolor": "white",
          "plot_bgcolor": "#E5ECF6",
          "polar": {
           "angularaxis": {
            "gridcolor": "white",
            "linecolor": "white",
            "ticks": ""
           },
           "bgcolor": "#E5ECF6",
           "radialaxis": {
            "gridcolor": "white",
            "linecolor": "white",
            "ticks": ""
           }
          },
          "scene": {
           "xaxis": {
            "backgroundcolor": "#E5ECF6",
            "gridcolor": "white",
            "gridwidth": 2,
            "linecolor": "white",
            "showbackground": true,
            "ticks": "",
            "zerolinecolor": "white"
           },
           "yaxis": {
            "backgroundcolor": "#E5ECF6",
            "gridcolor": "white",
            "gridwidth": 2,
            "linecolor": "white",
            "showbackground": true,
            "ticks": "",
            "zerolinecolor": "white"
           },
           "zaxis": {
            "backgroundcolor": "#E5ECF6",
            "gridcolor": "white",
            "gridwidth": 2,
            "linecolor": "white",
            "showbackground": true,
            "ticks": "",
            "zerolinecolor": "white"
           }
          },
          "shapedefaults": {
           "line": {
            "color": "#2a3f5f"
           }
          },
          "ternary": {
           "aaxis": {
            "gridcolor": "white",
            "linecolor": "white",
            "ticks": ""
           },
           "baxis": {
            "gridcolor": "white",
            "linecolor": "white",
            "ticks": ""
           },
           "bgcolor": "#E5ECF6",
           "caxis": {
            "gridcolor": "white",
            "linecolor": "white",
            "ticks": ""
           }
          },
          "title": {
           "x": 0.05
          },
          "xaxis": {
           "automargin": true,
           "gridcolor": "white",
           "linecolor": "white",
           "ticks": "",
           "title": {
            "standoff": 15
           },
           "zerolinecolor": "white",
           "zerolinewidth": 2
          },
          "yaxis": {
           "automargin": true,
           "gridcolor": "white",
           "linecolor": "white",
           "ticks": "",
           "title": {
            "standoff": 15
           },
           "zerolinecolor": "white",
           "zerolinewidth": 2
          }
         }
        },
        "title": {
         "text": "Number of properties with basements near the waterfront by pricy category"
        },
        "xaxis": {
         "anchor": "y",
         "categoryarray": [
          "xsmall",
          "small",
          "medium",
          "large",
          "xlarge"
         ],
         "categoryorder": "array",
         "domain": [
          0,
          1
         ],
         "title": {
          "text": "Basement size clusters"
         }
        },
        "yaxis": {
         "anchor": "x",
         "domain": [
          0,
          1
         ],
         "title": {
          "text": "Number of properties"
         }
        }
       }
      }
     },
     "metadata": {},
     "output_type": "display_data"
    },
    {
     "data": {
      "text/plain": [
       "<Figure size 1500x500 with 0 Axes>"
      ]
     },
     "metadata": {},
     "output_type": "display_data"
    }
   ],
   "source": [
    "# renovation status - refine if time is left - renovation indicator needs finer granularity\n",
    "# Plot Number of waterfront objects with renovation status and pricetags\n",
    "#sortingf1 = dfviz.groupby('basement_sizes_string')['basement_sizes_int'].count().sort_values(ascending=False)\n",
    "plt.figure(figsize=(15,5)) # specify figure size\n",
    "f1x = px.bar(hypo1_waterfront, x='price_tag_house',color='renovation_indicator',color_discrete_sequence=px.colors.qualitative.Dark24) # create countplot // order='sortingf1'\n",
    "f1x.update_layout(title=\"Number of properties with basements near the waterfront by pricy category\",\n",
    "    xaxis_title=\"Basement size clusters\",\n",
    "    yaxis_title=\"Number of properties\",\n",
    "    legend_title=\"Property price cluster\",\n",
    ")\n",
    "f1x.update_xaxes(categoryorder='array', categoryarray= ['xsmall','small','medium','large','xlarge'])\n",
    "f1x.show()"
   ]
  },
  {
   "cell_type": "markdown",
   "metadata": {},
   "source": [
    "### **Hypothesis 2:** \n",
    "\n",
    "The stakeholder wants to know which of the Top10% are highly in demand to send a problem solver to make prices go down. Possible options include ruining the condition or overall grade of the neighborhood or killing the view with construction sites. She wants to know what will reduce the prices of other properties the most.\n",
    "\n",
    "**Pricing for top10% priced houses is driven by view, condition, grade.**\n",
    "\n",
    "- create pricing variable using quantile function: small, medium, large, x-tra-large (filter)\n",
    "- try out correlation matrix with view, condition, grade."
   ]
  },
  {
   "cell_type": "code",
   "execution_count": 226,
   "metadata": {},
   "outputs": [
    {
     "data": {
      "text/html": [
       "<div>\n",
       "<style scoped>\n",
       "    .dataframe tbody tr th:only-of-type {\n",
       "        vertical-align: middle;\n",
       "    }\n",
       "\n",
       "    .dataframe tbody tr th {\n",
       "        vertical-align: top;\n",
       "    }\n",
       "\n",
       "    .dataframe thead th {\n",
       "        text-align: right;\n",
       "    }\n",
       "</style>\n",
       "<table border=\"1\" class=\"dataframe\">\n",
       "  <thead>\n",
       "    <tr style=\"text-align: right;\">\n",
       "      <th></th>\n",
       "      <th>id</th>\n",
       "      <th>price_tag_house</th>\n",
       "      <th>price</th>\n",
       "      <th>price_per_sqft_house</th>\n",
       "      <th>sqft_living15</th>\n",
       "      <th>sqft_lot15</th>\n",
       "      <th>bedrooms</th>\n",
       "      <th>bathrooms</th>\n",
       "      <th>price_per_sqft_lot</th>\n",
       "      <th>sqft_living</th>\n",
       "      <th>sqft_basement_cleaned</th>\n",
       "      <th>sqft_lot</th>\n",
       "      <th>waterfront</th>\n",
       "      <th>view</th>\n",
       "      <th>condition</th>\n",
       "      <th>grade</th>\n",
       "      <th>classification</th>\n",
       "    </tr>\n",
       "  </thead>\n",
       "  <tbody>\n",
       "    <tr>\n",
       "      <th>21</th>\n",
       "      <td>2524049179</td>\n",
       "      <td>Top 10</td>\n",
       "      <td>2000000.0</td>\n",
       "      <td>655.7</td>\n",
       "      <td>4110</td>\n",
       "      <td>20336</td>\n",
       "      <td>3</td>\n",
       "      <td>2.8</td>\n",
       "      <td>44.6</td>\n",
       "      <td>3050</td>\n",
       "      <td>720.0</td>\n",
       "      <td>44867</td>\n",
       "      <td>False</td>\n",
       "      <td>4.0</td>\n",
       "      <td>3</td>\n",
       "      <td>9</td>\n",
       "      <td>Richie rich</td>\n",
       "    </tr>\n",
       "    <tr>\n",
       "      <th>27</th>\n",
       "      <td>3303700376</td>\n",
       "      <td>Top 10</td>\n",
       "      <td>667000.0</td>\n",
       "      <td>476.4</td>\n",
       "      <td>1860</td>\n",
       "      <td>3861</td>\n",
       "      <td>3</td>\n",
       "      <td>1.0</td>\n",
       "      <td>421.9</td>\n",
       "      <td>1400</td>\n",
       "      <td>0.0</td>\n",
       "      <td>1581</td>\n",
       "      <td>False</td>\n",
       "      <td>0.0</td>\n",
       "      <td>5</td>\n",
       "      <td>8</td>\n",
       "      <td>Richie rich</td>\n",
       "    </tr>\n",
       "    <tr>\n",
       "      <th>33</th>\n",
       "      <td>7589200193</td>\n",
       "      <td>Top 10</td>\n",
       "      <td>535000.0</td>\n",
       "      <td>490.8</td>\n",
       "      <td>1570</td>\n",
       "      <td>5080</td>\n",
       "      <td>3</td>\n",
       "      <td>1.0</td>\n",
       "      <td>178.3</td>\n",
       "      <td>1090</td>\n",
       "      <td>0.0</td>\n",
       "      <td>3000</td>\n",
       "      <td>False</td>\n",
       "      <td>0.0</td>\n",
       "      <td>4</td>\n",
       "      <td>8</td>\n",
       "      <td>City</td>\n",
       "    </tr>\n",
       "    <tr>\n",
       "      <th>43</th>\n",
       "      <td>9270200160</td>\n",
       "      <td>Top 10</td>\n",
       "      <td>685000.0</td>\n",
       "      <td>436.3</td>\n",
       "      <td>1580</td>\n",
       "      <td>2640</td>\n",
       "      <td>3</td>\n",
       "      <td>1.0</td>\n",
       "      <td>300.4</td>\n",
       "      <td>1570</td>\n",
       "      <td>0.0</td>\n",
       "      <td>2280</td>\n",
       "      <td>False</td>\n",
       "      <td>0.0</td>\n",
       "      <td>3</td>\n",
       "      <td>7</td>\n",
       "      <td>Richie rich</td>\n",
       "    </tr>\n",
       "    <tr>\n",
       "      <th>49</th>\n",
       "      <td>822039084</td>\n",
       "      <td>Top 10</td>\n",
       "      <td>1350000.0</td>\n",
       "      <td>490.4</td>\n",
       "      <td>2680</td>\n",
       "      <td>72513</td>\n",
       "      <td>3</td>\n",
       "      <td>2.5</td>\n",
       "      <td>20.8</td>\n",
       "      <td>2753</td>\n",
       "      <td>588.0</td>\n",
       "      <td>65005</td>\n",
       "      <td>True</td>\n",
       "      <td>2.0</td>\n",
       "      <td>5</td>\n",
       "      <td>9</td>\n",
       "      <td>Island</td>\n",
       "    </tr>\n",
       "    <tr>\n",
       "      <th>...</th>\n",
       "      <td>...</td>\n",
       "      <td>...</td>\n",
       "      <td>...</td>\n",
       "      <td>...</td>\n",
       "      <td>...</td>\n",
       "      <td>...</td>\n",
       "      <td>...</td>\n",
       "      <td>...</td>\n",
       "      <td>...</td>\n",
       "      <td>...</td>\n",
       "      <td>...</td>\n",
       "      <td>...</td>\n",
       "      <td>...</td>\n",
       "      <td>...</td>\n",
       "      <td>...</td>\n",
       "      <td>...</td>\n",
       "      <td>...</td>\n",
       "    </tr>\n",
       "    <tr>\n",
       "      <th>21551</th>\n",
       "      <td>9521100031</td>\n",
       "      <td>Top 10</td>\n",
       "      <td>690000.0</td>\n",
       "      <td>448.1</td>\n",
       "      <td>1660</td>\n",
       "      <td>3300</td>\n",
       "      <td>3</td>\n",
       "      <td>3.2</td>\n",
       "      <td>483.2</td>\n",
       "      <td>1540</td>\n",
       "      <td>0.0</td>\n",
       "      <td>1428</td>\n",
       "      <td>False</td>\n",
       "      <td>0.0</td>\n",
       "      <td>3</td>\n",
       "      <td>9</td>\n",
       "      <td>City</td>\n",
       "    </tr>\n",
       "    <tr>\n",
       "      <th>21552</th>\n",
       "      <td>524059330</td>\n",
       "      <td>Top 10</td>\n",
       "      <td>1700000.0</td>\n",
       "      <td>443.9</td>\n",
       "      <td>2190</td>\n",
       "      <td>10777</td>\n",
       "      <td>4</td>\n",
       "      <td>3.5</td>\n",
       "      <td>189.7</td>\n",
       "      <td>3830</td>\n",
       "      <td>710.0</td>\n",
       "      <td>8963</td>\n",
       "      <td>False</td>\n",
       "      <td>0.0</td>\n",
       "      <td>3</td>\n",
       "      <td>10</td>\n",
       "      <td>Belle</td>\n",
       "    </tr>\n",
       "    <tr>\n",
       "      <th>21560</th>\n",
       "      <td>9253900271</td>\n",
       "      <td>Top 10</td>\n",
       "      <td>3570000.0</td>\n",
       "      <td>736.1</td>\n",
       "      <td>3470</td>\n",
       "      <td>18270</td>\n",
       "      <td>5</td>\n",
       "      <td>4.5</td>\n",
       "      <td>337.3</td>\n",
       "      <td>4850</td>\n",
       "      <td>1310.0</td>\n",
       "      <td>10584</td>\n",
       "      <td>True</td>\n",
       "      <td>4.0</td>\n",
       "      <td>3</td>\n",
       "      <td>10</td>\n",
       "      <td>Richie rich</td>\n",
       "    </tr>\n",
       "    <tr>\n",
       "      <th>21567</th>\n",
       "      <td>2025049203</td>\n",
       "      <td>Top 10</td>\n",
       "      <td>399950.0</td>\n",
       "      <td>563.3</td>\n",
       "      <td>1370</td>\n",
       "      <td>1173</td>\n",
       "      <td>2</td>\n",
       "      <td>1.0</td>\n",
       "      <td>345.7</td>\n",
       "      <td>710</td>\n",
       "      <td>0.0</td>\n",
       "      <td>1157</td>\n",
       "      <td>False</td>\n",
       "      <td>0.0</td>\n",
       "      <td>4</td>\n",
       "      <td>7</td>\n",
       "      <td>City</td>\n",
       "    </tr>\n",
       "    <tr>\n",
       "      <th>21581</th>\n",
       "      <td>191100405</td>\n",
       "      <td>Top 10</td>\n",
       "      <td>1580000.0</td>\n",
       "      <td>463.3</td>\n",
       "      <td>2290</td>\n",
       "      <td>10125</td>\n",
       "      <td>4</td>\n",
       "      <td>3.2</td>\n",
       "      <td>156.1</td>\n",
       "      <td>3410</td>\n",
       "      <td>0.0</td>\n",
       "      <td>10125</td>\n",
       "      <td>False</td>\n",
       "      <td>0.0</td>\n",
       "      <td>3</td>\n",
       "      <td>10</td>\n",
       "      <td>Richie rich</td>\n",
       "    </tr>\n",
       "  </tbody>\n",
       "</table>\n",
       "<p>2160 rows × 17 columns</p>\n",
       "</div>"
      ],
      "text/plain": [
       "               id price_tag_house     price  price_per_sqft_house  \\\n",
       "21     2524049179          Top 10 2000000.0                 655.7   \n",
       "27     3303700376          Top 10  667000.0                 476.4   \n",
       "33     7589200193          Top 10  535000.0                 490.8   \n",
       "43     9270200160          Top 10  685000.0                 436.3   \n",
       "49      822039084          Top 10 1350000.0                 490.4   \n",
       "...           ...             ...       ...                   ...   \n",
       "21551  9521100031          Top 10  690000.0                 448.1   \n",
       "21552   524059330          Top 10 1700000.0                 443.9   \n",
       "21560  9253900271          Top 10 3570000.0                 736.1   \n",
       "21567  2025049203          Top 10  399950.0                 563.3   \n",
       "21581   191100405          Top 10 1580000.0                 463.3   \n",
       "\n",
       "       sqft_living15  sqft_lot15  bedrooms  bathrooms  price_per_sqft_lot  \\\n",
       "21              4110       20336         3        2.8                44.6   \n",
       "27              1860        3861         3        1.0               421.9   \n",
       "33              1570        5080         3        1.0               178.3   \n",
       "43              1580        2640         3        1.0               300.4   \n",
       "49              2680       72513         3        2.5                20.8   \n",
       "...              ...         ...       ...        ...                 ...   \n",
       "21551           1660        3300         3        3.2               483.2   \n",
       "21552           2190       10777         4        3.5               189.7   \n",
       "21560           3470       18270         5        4.5               337.3   \n",
       "21567           1370        1173         2        1.0               345.7   \n",
       "21581           2290       10125         4        3.2               156.1   \n",
       "\n",
       "       sqft_living  sqft_basement_cleaned  sqft_lot  waterfront  view  \\\n",
       "21            3050                  720.0     44867       False   4.0   \n",
       "27            1400                    0.0      1581       False   0.0   \n",
       "33            1090                    0.0      3000       False   0.0   \n",
       "43            1570                    0.0      2280       False   0.0   \n",
       "49            2753                  588.0     65005        True   2.0   \n",
       "...            ...                    ...       ...         ...   ...   \n",
       "21551         1540                    0.0      1428       False   0.0   \n",
       "21552         3830                  710.0      8963       False   0.0   \n",
       "21560         4850                 1310.0     10584        True   4.0   \n",
       "21567          710                    0.0      1157       False   0.0   \n",
       "21581         3410                    0.0     10125       False   0.0   \n",
       "\n",
       "       condition  grade classification  \n",
       "21             3      9    Richie rich  \n",
       "27             5      8    Richie rich  \n",
       "33             4      8           City  \n",
       "43             3      7    Richie rich  \n",
       "49             5      9         Island  \n",
       "...          ...    ...            ...  \n",
       "21551          3      9           City  \n",
       "21552          3     10          Belle  \n",
       "21560          3     10    Richie rich  \n",
       "21567          4      7           City  \n",
       "21581          3     10    Richie rich  \n",
       "\n",
       "[2160 rows x 17 columns]"
      ]
     },
     "execution_count": 226,
     "metadata": {},
     "output_type": "execute_result"
    }
   ],
   "source": [
    "hypo2 =  dfviz[['id','price_tag_house','price','price_per_sqft_house','sqft_living15','sqft_lot15','bedrooms','bathrooms','price_per_sqft_lot','sqft_living','sqft_basement_cleaned','sqft_lot','waterfront','view','condition','grade','classification']]\n",
    "hypo2_top_10_pricing = hypo2.query('price_tag_house == \"Top 10\"')\n",
    "hypo2_top_10_pricing"
   ]
  },
  {
   "cell_type": "code",
   "execution_count": 227,
   "metadata": {},
   "outputs": [
    {
     "data": {
      "text/html": [
       "<div>\n",
       "<style scoped>\n",
       "    .dataframe tbody tr th:only-of-type {\n",
       "        vertical-align: middle;\n",
       "    }\n",
       "\n",
       "    .dataframe tbody tr th {\n",
       "        vertical-align: top;\n",
       "    }\n",
       "\n",
       "    .dataframe thead th {\n",
       "        text-align: right;\n",
       "    }\n",
       "</style>\n",
       "<table border=\"1\" class=\"dataframe\">\n",
       "  <thead>\n",
       "    <tr style=\"text-align: right;\">\n",
       "      <th></th>\n",
       "      <th>price</th>\n",
       "      <th>sqft_living</th>\n",
       "      <th>sqft_lot</th>\n",
       "      <th>sqft_living15</th>\n",
       "      <th>sqft_lot15</th>\n",
       "      <th>bedrooms</th>\n",
       "      <th>bathrooms</th>\n",
       "      <th>waterfront</th>\n",
       "      <th>view</th>\n",
       "      <th>grade</th>\n",
       "      <th>condition</th>\n",
       "    </tr>\n",
       "  </thead>\n",
       "  <tbody>\n",
       "    <tr>\n",
       "      <th>price</th>\n",
       "      <td>1.0</td>\n",
       "      <td>1.0</td>\n",
       "      <td>0.1</td>\n",
       "      <td>0.8</td>\n",
       "      <td>0.2</td>\n",
       "      <td>0.6</td>\n",
       "      <td>0.8</td>\n",
       "      <td>0.3</td>\n",
       "      <td>0.5</td>\n",
       "      <td>0.8</td>\n",
       "      <td>0.0</td>\n",
       "    </tr>\n",
       "    <tr>\n",
       "      <th>sqft_living</th>\n",
       "      <td>1.0</td>\n",
       "      <td>1.0</td>\n",
       "      <td>0.1</td>\n",
       "      <td>0.8</td>\n",
       "      <td>0.1</td>\n",
       "      <td>0.7</td>\n",
       "      <td>0.9</td>\n",
       "      <td>0.3</td>\n",
       "      <td>0.4</td>\n",
       "      <td>0.8</td>\n",
       "      <td>0.0</td>\n",
       "    </tr>\n",
       "    <tr>\n",
       "      <th>sqft_lot</th>\n",
       "      <td>0.1</td>\n",
       "      <td>0.1</td>\n",
       "      <td>1.0</td>\n",
       "      <td>0.1</td>\n",
       "      <td>0.8</td>\n",
       "      <td>0.0</td>\n",
       "      <td>0.0</td>\n",
       "      <td>0.0</td>\n",
       "      <td>0.1</td>\n",
       "      <td>0.1</td>\n",
       "      <td>0.0</td>\n",
       "    </tr>\n",
       "    <tr>\n",
       "      <th>sqft_living15</th>\n",
       "      <td>0.8</td>\n",
       "      <td>0.8</td>\n",
       "      <td>0.1</td>\n",
       "      <td>1.0</td>\n",
       "      <td>0.2</td>\n",
       "      <td>0.6</td>\n",
       "      <td>0.6</td>\n",
       "      <td>0.2</td>\n",
       "      <td>0.5</td>\n",
       "      <td>0.7</td>\n",
       "      <td>0.1</td>\n",
       "    </tr>\n",
       "    <tr>\n",
       "      <th>sqft_lot15</th>\n",
       "      <td>0.2</td>\n",
       "      <td>0.1</td>\n",
       "      <td>0.8</td>\n",
       "      <td>0.2</td>\n",
       "      <td>1.0</td>\n",
       "      <td>0.1</td>\n",
       "      <td>0.1</td>\n",
       "      <td>0.1</td>\n",
       "      <td>0.1</td>\n",
       "      <td>0.1</td>\n",
       "      <td>0.0</td>\n",
       "    </tr>\n",
       "    <tr>\n",
       "      <th>bedrooms</th>\n",
       "      <td>0.6</td>\n",
       "      <td>0.7</td>\n",
       "      <td>0.0</td>\n",
       "      <td>0.6</td>\n",
       "      <td>0.1</td>\n",
       "      <td>1.0</td>\n",
       "      <td>0.7</td>\n",
       "      <td>0.1</td>\n",
       "      <td>0.2</td>\n",
       "      <td>0.6</td>\n",
       "      <td>0.1</td>\n",
       "    </tr>\n",
       "    <tr>\n",
       "      <th>bathrooms</th>\n",
       "      <td>0.8</td>\n",
       "      <td>0.9</td>\n",
       "      <td>0.0</td>\n",
       "      <td>0.6</td>\n",
       "      <td>0.1</td>\n",
       "      <td>0.7</td>\n",
       "      <td>1.0</td>\n",
       "      <td>0.2</td>\n",
       "      <td>0.4</td>\n",
       "      <td>0.8</td>\n",
       "      <td>-0.0</td>\n",
       "    </tr>\n",
       "    <tr>\n",
       "      <th>waterfront</th>\n",
       "      <td>0.3</td>\n",
       "      <td>0.3</td>\n",
       "      <td>0.0</td>\n",
       "      <td>0.2</td>\n",
       "      <td>0.1</td>\n",
       "      <td>0.1</td>\n",
       "      <td>0.2</td>\n",
       "      <td>1.0</td>\n",
       "      <td>0.6</td>\n",
       "      <td>0.2</td>\n",
       "      <td>0.0</td>\n",
       "    </tr>\n",
       "    <tr>\n",
       "      <th>view</th>\n",
       "      <td>0.5</td>\n",
       "      <td>0.4</td>\n",
       "      <td>0.1</td>\n",
       "      <td>0.5</td>\n",
       "      <td>0.1</td>\n",
       "      <td>0.2</td>\n",
       "      <td>0.4</td>\n",
       "      <td>0.6</td>\n",
       "      <td>1.0</td>\n",
       "      <td>0.4</td>\n",
       "      <td>0.1</td>\n",
       "    </tr>\n",
       "    <tr>\n",
       "      <th>grade</th>\n",
       "      <td>0.8</td>\n",
       "      <td>0.8</td>\n",
       "      <td>0.1</td>\n",
       "      <td>0.7</td>\n",
       "      <td>0.1</td>\n",
       "      <td>0.6</td>\n",
       "      <td>0.8</td>\n",
       "      <td>0.2</td>\n",
       "      <td>0.4</td>\n",
       "      <td>1.0</td>\n",
       "      <td>-0.1</td>\n",
       "    </tr>\n",
       "    <tr>\n",
       "      <th>condition</th>\n",
       "      <td>0.0</td>\n",
       "      <td>0.0</td>\n",
       "      <td>0.0</td>\n",
       "      <td>0.1</td>\n",
       "      <td>0.0</td>\n",
       "      <td>0.1</td>\n",
       "      <td>-0.0</td>\n",
       "      <td>0.0</td>\n",
       "      <td>0.1</td>\n",
       "      <td>-0.1</td>\n",
       "      <td>1.0</td>\n",
       "    </tr>\n",
       "  </tbody>\n",
       "</table>\n",
       "</div>"
      ],
      "text/plain": [
       "               price  sqft_living  sqft_lot  sqft_living15  sqft_lot15  \\\n",
       "price            1.0          1.0       0.1            0.8         0.2   \n",
       "sqft_living      1.0          1.0       0.1            0.8         0.1   \n",
       "sqft_lot         0.1          0.1       1.0            0.1         0.8   \n",
       "sqft_living15    0.8          0.8       0.1            1.0         0.2   \n",
       "sqft_lot15       0.2          0.1       0.8            0.2         1.0   \n",
       "bedrooms         0.6          0.7       0.0            0.6         0.1   \n",
       "bathrooms        0.8          0.9       0.0            0.6         0.1   \n",
       "waterfront       0.3          0.3       0.0            0.2         0.1   \n",
       "view             0.5          0.4       0.1            0.5         0.1   \n",
       "grade            0.8          0.8       0.1            0.7         0.1   \n",
       "condition        0.0          0.0       0.0            0.1         0.0   \n",
       "\n",
       "               bedrooms  bathrooms  waterfront  view  grade  condition  \n",
       "price               0.6        0.8         0.3   0.5    0.8        0.0  \n",
       "sqft_living         0.7        0.9         0.3   0.4    0.8        0.0  \n",
       "sqft_lot            0.0        0.0         0.0   0.1    0.1        0.0  \n",
       "sqft_living15       0.6        0.6         0.2   0.5    0.7        0.1  \n",
       "sqft_lot15          0.1        0.1         0.1   0.1    0.1        0.0  \n",
       "bedrooms            1.0        0.7         0.1   0.2    0.6        0.1  \n",
       "bathrooms           0.7        1.0         0.2   0.4    0.8       -0.0  \n",
       "waterfront          0.1        0.2         1.0   0.6    0.2        0.0  \n",
       "view                0.2        0.4         0.6   1.0    0.4        0.1  \n",
       "grade               0.6        0.8         0.2   0.4    1.0       -0.1  \n",
       "condition           0.1       -0.0         0.0   0.1   -0.1        1.0  "
      ]
     },
     "execution_count": 227,
     "metadata": {},
     "output_type": "execute_result"
    }
   ],
   "source": [
    "# correlation matrix between the \n",
    "corr_columns=[\"price\",\"sqft_living\",'sqft_lot','sqft_living15','sqft_lot15','bedrooms','bathrooms',\"waterfront\", \"view\", \"grade\",'condition', \"classification\"]\n",
    "corr_mtrx= round(hypo2_top_10_pricing[corr_columns].corr(),1)\n",
    "corr_mtrx"
   ]
  },
  {
   "cell_type": "code",
   "execution_count": 228,
   "metadata": {},
   "outputs": [
    {
     "data": {
      "application/vnd.plotly.v1+json": {
       "config": {
        "plotlyServerURL": "https://plot.ly"
       },
       "data": [
        {
         "coloraxis": "coloraxis",
         "hovertemplate": "x: %{x}<br>y: %{y}<br>color: %{z}<extra></extra>",
         "name": "0",
         "texttemplate": "%{z}",
         "type": "heatmap",
         "x": [
          "Price",
          "Sqft living",
          "Sqft lot",
          "Sqft living 15 nb",
          "Sqft lot 15 nb",
          "Num bedrooms",
          "Num bathrooms",
          "Is waterfront",
          "Has view",
          "Design&Constr. grade",
          "House condition"
         ],
         "xaxis": "x",
         "y": [
          "Price",
          "Sqft living",
          "Sqft lot",
          "Sqft living 15 nb",
          "Sqft lot 15 nb",
          "Num bedrooms",
          "Num bathrooms",
          "Is waterfront",
          "Has view",
          "Design&Constr. grade",
          "House condition"
         ],
         "yaxis": "y",
         "z": [
          [
           1,
           1,
           0.1,
           0.8,
           0.2,
           0.6,
           0.8,
           0.3,
           0.5,
           0.8,
           0
          ],
          [
           1,
           1,
           0.1,
           0.8,
           0.1,
           0.7,
           0.9,
           0.3,
           0.4,
           0.8,
           0
          ],
          [
           0.1,
           0.1,
           1,
           0.1,
           0.8,
           0,
           0,
           0,
           0.1,
           0.1,
           0
          ],
          [
           0.8,
           0.8,
           0.1,
           1,
           0.2,
           0.6,
           0.6,
           0.2,
           0.5,
           0.7,
           0.1
          ],
          [
           0.2,
           0.1,
           0.8,
           0.2,
           1,
           0.1,
           0.1,
           0.1,
           0.1,
           0.1,
           0
          ],
          [
           0.6,
           0.7,
           0,
           0.6,
           0.1,
           1,
           0.7,
           0.1,
           0.2,
           0.6,
           0.1
          ],
          [
           0.8,
           0.9,
           0,
           0.6,
           0.1,
           0.7,
           1,
           0.2,
           0.4,
           0.8,
           0
          ],
          [
           0.3,
           0.3,
           0,
           0.2,
           0.1,
           0.1,
           0.2,
           1,
           0.6,
           0.2,
           0
          ],
          [
           0.5,
           0.4,
           0.1,
           0.5,
           0.1,
           0.2,
           0.4,
           0.6,
           1,
           0.4,
           0.1
          ],
          [
           0.8,
           0.8,
           0.1,
           0.7,
           0.1,
           0.6,
           0.8,
           0.2,
           0.4,
           1,
           -0.1
          ],
          [
           0,
           0,
           0,
           0.1,
           0,
           0.1,
           0,
           0,
           0.1,
           -0.1,
           1
          ]
         ]
        }
       ],
       "layout": {
        "coloraxis": {
         "colorscale": [
          [
           0,
           "#fee838"
          ],
          [
           0.1111111111111111,
           "#e1cc55"
          ],
          [
           0.2222222222222222,
           "#c3b369"
          ],
          [
           0.3333333333333333,
           "#a59c74"
          ],
          [
           0.4444444444444444,
           "#8a8678"
          ],
          [
           0.5555555555555556,
           "#707173"
          ],
          [
           0.6666666666666666,
           "#575d6d"
          ],
          [
           0.7777777777777778,
           "#3b496c"
          ],
          [
           0.8888888888888888,
           "#123570"
          ],
          [
           1,
           "#00224e"
          ]
         ]
        },
        "height": 800,
        "legend": {
         "title": {
          "text": "Corr strength"
         }
        },
        "margin": {
         "t": 60
        },
        "template": {
         "data": {
          "bar": [
           {
            "error_x": {
             "color": "#2a3f5f"
            },
            "error_y": {
             "color": "#2a3f5f"
            },
            "marker": {
             "line": {
              "color": "#E5ECF6",
              "width": 0.5
             },
             "pattern": {
              "fillmode": "overlay",
              "size": 10,
              "solidity": 0.2
             }
            },
            "type": "bar"
           }
          ],
          "barpolar": [
           {
            "marker": {
             "line": {
              "color": "#E5ECF6",
              "width": 0.5
             },
             "pattern": {
              "fillmode": "overlay",
              "size": 10,
              "solidity": 0.2
             }
            },
            "type": "barpolar"
           }
          ],
          "carpet": [
           {
            "aaxis": {
             "endlinecolor": "#2a3f5f",
             "gridcolor": "white",
             "linecolor": "white",
             "minorgridcolor": "white",
             "startlinecolor": "#2a3f5f"
            },
            "baxis": {
             "endlinecolor": "#2a3f5f",
             "gridcolor": "white",
             "linecolor": "white",
             "minorgridcolor": "white",
             "startlinecolor": "#2a3f5f"
            },
            "type": "carpet"
           }
          ],
          "choropleth": [
           {
            "colorbar": {
             "outlinewidth": 0,
             "ticks": ""
            },
            "type": "choropleth"
           }
          ],
          "contour": [
           {
            "colorbar": {
             "outlinewidth": 0,
             "ticks": ""
            },
            "colorscale": [
             [
              0,
              "#0d0887"
             ],
             [
              0.1111111111111111,
              "#46039f"
             ],
             [
              0.2222222222222222,
              "#7201a8"
             ],
             [
              0.3333333333333333,
              "#9c179e"
             ],
             [
              0.4444444444444444,
              "#bd3786"
             ],
             [
              0.5555555555555556,
              "#d8576b"
             ],
             [
              0.6666666666666666,
              "#ed7953"
             ],
             [
              0.7777777777777778,
              "#fb9f3a"
             ],
             [
              0.8888888888888888,
              "#fdca26"
             ],
             [
              1,
              "#f0f921"
             ]
            ],
            "type": "contour"
           }
          ],
          "contourcarpet": [
           {
            "colorbar": {
             "outlinewidth": 0,
             "ticks": ""
            },
            "type": "contourcarpet"
           }
          ],
          "heatmap": [
           {
            "colorbar": {
             "outlinewidth": 0,
             "ticks": ""
            },
            "colorscale": [
             [
              0,
              "#0d0887"
             ],
             [
              0.1111111111111111,
              "#46039f"
             ],
             [
              0.2222222222222222,
              "#7201a8"
             ],
             [
              0.3333333333333333,
              "#9c179e"
             ],
             [
              0.4444444444444444,
              "#bd3786"
             ],
             [
              0.5555555555555556,
              "#d8576b"
             ],
             [
              0.6666666666666666,
              "#ed7953"
             ],
             [
              0.7777777777777778,
              "#fb9f3a"
             ],
             [
              0.8888888888888888,
              "#fdca26"
             ],
             [
              1,
              "#f0f921"
             ]
            ],
            "type": "heatmap"
           }
          ],
          "heatmapgl": [
           {
            "colorbar": {
             "outlinewidth": 0,
             "ticks": ""
            },
            "colorscale": [
             [
              0,
              "#0d0887"
             ],
             [
              0.1111111111111111,
              "#46039f"
             ],
             [
              0.2222222222222222,
              "#7201a8"
             ],
             [
              0.3333333333333333,
              "#9c179e"
             ],
             [
              0.4444444444444444,
              "#bd3786"
             ],
             [
              0.5555555555555556,
              "#d8576b"
             ],
             [
              0.6666666666666666,
              "#ed7953"
             ],
             [
              0.7777777777777778,
              "#fb9f3a"
             ],
             [
              0.8888888888888888,
              "#fdca26"
             ],
             [
              1,
              "#f0f921"
             ]
            ],
            "type": "heatmapgl"
           }
          ],
          "histogram": [
           {
            "marker": {
             "pattern": {
              "fillmode": "overlay",
              "size": 10,
              "solidity": 0.2
             }
            },
            "type": "histogram"
           }
          ],
          "histogram2d": [
           {
            "colorbar": {
             "outlinewidth": 0,
             "ticks": ""
            },
            "colorscale": [
             [
              0,
              "#0d0887"
             ],
             [
              0.1111111111111111,
              "#46039f"
             ],
             [
              0.2222222222222222,
              "#7201a8"
             ],
             [
              0.3333333333333333,
              "#9c179e"
             ],
             [
              0.4444444444444444,
              "#bd3786"
             ],
             [
              0.5555555555555556,
              "#d8576b"
             ],
             [
              0.6666666666666666,
              "#ed7953"
             ],
             [
              0.7777777777777778,
              "#fb9f3a"
             ],
             [
              0.8888888888888888,
              "#fdca26"
             ],
             [
              1,
              "#f0f921"
             ]
            ],
            "type": "histogram2d"
           }
          ],
          "histogram2dcontour": [
           {
            "colorbar": {
             "outlinewidth": 0,
             "ticks": ""
            },
            "colorscale": [
             [
              0,
              "#0d0887"
             ],
             [
              0.1111111111111111,
              "#46039f"
             ],
             [
              0.2222222222222222,
              "#7201a8"
             ],
             [
              0.3333333333333333,
              "#9c179e"
             ],
             [
              0.4444444444444444,
              "#bd3786"
             ],
             [
              0.5555555555555556,
              "#d8576b"
             ],
             [
              0.6666666666666666,
              "#ed7953"
             ],
             [
              0.7777777777777778,
              "#fb9f3a"
             ],
             [
              0.8888888888888888,
              "#fdca26"
             ],
             [
              1,
              "#f0f921"
             ]
            ],
            "type": "histogram2dcontour"
           }
          ],
          "mesh3d": [
           {
            "colorbar": {
             "outlinewidth": 0,
             "ticks": ""
            },
            "type": "mesh3d"
           }
          ],
          "parcoords": [
           {
            "line": {
             "colorbar": {
              "outlinewidth": 0,
              "ticks": ""
             }
            },
            "type": "parcoords"
           }
          ],
          "pie": [
           {
            "automargin": true,
            "type": "pie"
           }
          ],
          "scatter": [
           {
            "fillpattern": {
             "fillmode": "overlay",
             "size": 10,
             "solidity": 0.2
            },
            "type": "scatter"
           }
          ],
          "scatter3d": [
           {
            "line": {
             "colorbar": {
              "outlinewidth": 0,
              "ticks": ""
             }
            },
            "marker": {
             "colorbar": {
              "outlinewidth": 0,
              "ticks": ""
             }
            },
            "type": "scatter3d"
           }
          ],
          "scattercarpet": [
           {
            "marker": {
             "colorbar": {
              "outlinewidth": 0,
              "ticks": ""
             }
            },
            "type": "scattercarpet"
           }
          ],
          "scattergeo": [
           {
            "marker": {
             "colorbar": {
              "outlinewidth": 0,
              "ticks": ""
             }
            },
            "type": "scattergeo"
           }
          ],
          "scattergl": [
           {
            "marker": {
             "colorbar": {
              "outlinewidth": 0,
              "ticks": ""
             }
            },
            "type": "scattergl"
           }
          ],
          "scattermapbox": [
           {
            "marker": {
             "colorbar": {
              "outlinewidth": 0,
              "ticks": ""
             }
            },
            "type": "scattermapbox"
           }
          ],
          "scatterpolar": [
           {
            "marker": {
             "colorbar": {
              "outlinewidth": 0,
              "ticks": ""
             }
            },
            "type": "scatterpolar"
           }
          ],
          "scatterpolargl": [
           {
            "marker": {
             "colorbar": {
              "outlinewidth": 0,
              "ticks": ""
             }
            },
            "type": "scatterpolargl"
           }
          ],
          "scatterternary": [
           {
            "marker": {
             "colorbar": {
              "outlinewidth": 0,
              "ticks": ""
             }
            },
            "type": "scatterternary"
           }
          ],
          "surface": [
           {
            "colorbar": {
             "outlinewidth": 0,
             "ticks": ""
            },
            "colorscale": [
             [
              0,
              "#0d0887"
             ],
             [
              0.1111111111111111,
              "#46039f"
             ],
             [
              0.2222222222222222,
              "#7201a8"
             ],
             [
              0.3333333333333333,
              "#9c179e"
             ],
             [
              0.4444444444444444,
              "#bd3786"
             ],
             [
              0.5555555555555556,
              "#d8576b"
             ],
             [
              0.6666666666666666,
              "#ed7953"
             ],
             [
              0.7777777777777778,
              "#fb9f3a"
             ],
             [
              0.8888888888888888,
              "#fdca26"
             ],
             [
              1,
              "#f0f921"
             ]
            ],
            "type": "surface"
           }
          ],
          "table": [
           {
            "cells": {
             "fill": {
              "color": "#EBF0F8"
             },
             "line": {
              "color": "white"
             }
            },
            "header": {
             "fill": {
              "color": "#C8D4E3"
             },
             "line": {
              "color": "white"
             }
            },
            "type": "table"
           }
          ]
         },
         "layout": {
          "annotationdefaults": {
           "arrowcolor": "#2a3f5f",
           "arrowhead": 0,
           "arrowwidth": 1
          },
          "autotypenumbers": "strict",
          "coloraxis": {
           "colorbar": {
            "outlinewidth": 0,
            "ticks": ""
           }
          },
          "colorscale": {
           "diverging": [
            [
             0,
             "#8e0152"
            ],
            [
             0.1,
             "#c51b7d"
            ],
            [
             0.2,
             "#de77ae"
            ],
            [
             0.3,
             "#f1b6da"
            ],
            [
             0.4,
             "#fde0ef"
            ],
            [
             0.5,
             "#f7f7f7"
            ],
            [
             0.6,
             "#e6f5d0"
            ],
            [
             0.7,
             "#b8e186"
            ],
            [
             0.8,
             "#7fbc41"
            ],
            [
             0.9,
             "#4d9221"
            ],
            [
             1,
             "#276419"
            ]
           ],
           "sequential": [
            [
             0,
             "#0d0887"
            ],
            [
             0.1111111111111111,
             "#46039f"
            ],
            [
             0.2222222222222222,
             "#7201a8"
            ],
            [
             0.3333333333333333,
             "#9c179e"
            ],
            [
             0.4444444444444444,
             "#bd3786"
            ],
            [
             0.5555555555555556,
             "#d8576b"
            ],
            [
             0.6666666666666666,
             "#ed7953"
            ],
            [
             0.7777777777777778,
             "#fb9f3a"
            ],
            [
             0.8888888888888888,
             "#fdca26"
            ],
            [
             1,
             "#f0f921"
            ]
           ],
           "sequentialminus": [
            [
             0,
             "#0d0887"
            ],
            [
             0.1111111111111111,
             "#46039f"
            ],
            [
             0.2222222222222222,
             "#7201a8"
            ],
            [
             0.3333333333333333,
             "#9c179e"
            ],
            [
             0.4444444444444444,
             "#bd3786"
            ],
            [
             0.5555555555555556,
             "#d8576b"
            ],
            [
             0.6666666666666666,
             "#ed7953"
            ],
            [
             0.7777777777777778,
             "#fb9f3a"
            ],
            [
             0.8888888888888888,
             "#fdca26"
            ],
            [
             1,
             "#f0f921"
            ]
           ]
          },
          "colorway": [
           "#636efa",
           "#EF553B",
           "#00cc96",
           "#ab63fa",
           "#FFA15A",
           "#19d3f3",
           "#FF6692",
           "#B6E880",
           "#FF97FF",
           "#FECB52"
          ],
          "font": {
           "color": "#2a3f5f"
          },
          "geo": {
           "bgcolor": "white",
           "lakecolor": "white",
           "landcolor": "#E5ECF6",
           "showlakes": true,
           "showland": true,
           "subunitcolor": "white"
          },
          "hoverlabel": {
           "align": "left"
          },
          "hovermode": "closest",
          "mapbox": {
           "style": "light"
          },
          "paper_bgcolor": "white",
          "plot_bgcolor": "#E5ECF6",
          "polar": {
           "angularaxis": {
            "gridcolor": "white",
            "linecolor": "white",
            "ticks": ""
           },
           "bgcolor": "#E5ECF6",
           "radialaxis": {
            "gridcolor": "white",
            "linecolor": "white",
            "ticks": ""
           }
          },
          "scene": {
           "xaxis": {
            "backgroundcolor": "#E5ECF6",
            "gridcolor": "white",
            "gridwidth": 2,
            "linecolor": "white",
            "showbackground": true,
            "ticks": "",
            "zerolinecolor": "white"
           },
           "yaxis": {
            "backgroundcolor": "#E5ECF6",
            "gridcolor": "white",
            "gridwidth": 2,
            "linecolor": "white",
            "showbackground": true,
            "ticks": "",
            "zerolinecolor": "white"
           },
           "zaxis": {
            "backgroundcolor": "#E5ECF6",
            "gridcolor": "white",
            "gridwidth": 2,
            "linecolor": "white",
            "showbackground": true,
            "ticks": "",
            "zerolinecolor": "white"
           }
          },
          "shapedefaults": {
           "line": {
            "color": "#2a3f5f"
           }
          },
          "ternary": {
           "aaxis": {
            "gridcolor": "white",
            "linecolor": "white",
            "ticks": ""
           },
           "baxis": {
            "gridcolor": "white",
            "linecolor": "white",
            "ticks": ""
           },
           "bgcolor": "#E5ECF6",
           "caxis": {
            "gridcolor": "white",
            "linecolor": "white",
            "ticks": ""
           }
          },
          "title": {
           "x": 0.05
          },
          "xaxis": {
           "automargin": true,
           "gridcolor": "white",
           "linecolor": "white",
           "ticks": "",
           "title": {
            "standoff": 15
           },
           "zerolinecolor": "white",
           "zerolinewidth": 2
          },
          "yaxis": {
           "automargin": true,
           "gridcolor": "white",
           "linecolor": "white",
           "ticks": "",
           "title": {
            "standoff": 15
           },
           "zerolinecolor": "white",
           "zerolinewidth": 2
          }
         }
        },
        "title": {
         "text": "Predictors for property pricing in the Top10 tier"
        },
        "width": 1000,
        "xaxis": {
         "anchor": "y",
         "domain": [
          0,
          1
         ]
        },
        "yaxis": {
         "anchor": "x",
         "autorange": "reversed",
         "domain": [
          0,
          1
         ]
        }
       }
      }
     },
     "metadata": {},
     "output_type": "display_data"
    }
   ],
   "source": [
    "h2 = px.imshow(corr_mtrx, text_auto=True, aspect=\"auto\", width=1000, height=800, color_continuous_scale=px.colors.sequential.Cividis_r,\n",
    "    x=['Price', 'Sqft living', 'Sqft lot', 'Sqft living 15 nb', 'Sqft lot 15 nb', 'Num bedrooms', 'Num bathrooms','Is waterfront','Has view','Design&Constr. grade','House condition'],\n",
    "    y=['Price', 'Sqft living', 'Sqft lot', 'Sqft living 15 nb', 'Sqft lot 15 nb', 'Num bedrooms', 'Num bathrooms','Is waterfront','Has view','Design&Constr. grade','House condition']\n",
    ")\n",
    "h2.update_layout(title=\"Predictors for property pricing in the Top10 tier\",\n",
    "    legend_title=\"Corr strength\",\n",
    ")\n",
    "h2.show()"
   ]
  },
  {
   "cell_type": "markdown",
   "metadata": {},
   "source": [
    "### **Hypothesis 3:** \n",
    "\n",
    "The FBI uses for no reason geo profiling and the client wants to have fair chances, therefore some dummy houses are needed in the outskirts to store and produce items in the basement\n",
    "\n",
    "**There are currently no interesting real-estate investment opportunities in the market.**\n",
    "\n",
    "Opportunities: \n",
    "- buildings with large basements and below average prices\n",
    "- buildings in rich location that are cheaper than their surrondings"
   ]
  },
  {
   "cell_type": "code",
   "execution_count": 237,
   "metadata": {},
   "outputs": [
    {
     "data": {
      "text/html": [
       "<div>\n",
       "<style scoped>\n",
       "    .dataframe tbody tr th:only-of-type {\n",
       "        vertical-align: middle;\n",
       "    }\n",
       "\n",
       "    .dataframe tbody tr th {\n",
       "        vertical-align: top;\n",
       "    }\n",
       "\n",
       "    .dataframe thead th {\n",
       "        text-align: right;\n",
       "    }\n",
       "</style>\n",
       "<table border=\"1\" class=\"dataframe\">\n",
       "  <thead>\n",
       "    <tr style=\"text-align: right;\">\n",
       "      <th></th>\n",
       "      <th>id</th>\n",
       "      <th>date</th>\n",
       "      <th>price</th>\n",
       "      <th>bedrooms</th>\n",
       "      <th>bathrooms</th>\n",
       "      <th>sqft_living</th>\n",
       "      <th>sqft_lot</th>\n",
       "      <th>floors</th>\n",
       "      <th>waterfront</th>\n",
       "      <th>view</th>\n",
       "      <th>...</th>\n",
       "      <th>price_tag_lot</th>\n",
       "      <th>renovation_indicator</th>\n",
       "      <th>view_eval</th>\n",
       "      <th>condition_eval</th>\n",
       "      <th>grade_eval</th>\n",
       "      <th>sqft_basement_cleaned</th>\n",
       "      <th>has_secret_storage</th>\n",
       "      <th>basement_sizes_string</th>\n",
       "      <th>basement_sizes_int</th>\n",
       "      <th>basement_to_rest_ratio</th>\n",
       "    </tr>\n",
       "  </thead>\n",
       "  <tbody>\n",
       "    <tr>\n",
       "      <th>112</th>\n",
       "      <td>2525310310</td>\n",
       "      <td>2014-09-16</td>\n",
       "      <td>272500.0</td>\n",
       "      <td>3</td>\n",
       "      <td>1.8</td>\n",
       "      <td>1540</td>\n",
       "      <td>12600</td>\n",
       "      <td>1.0</td>\n",
       "      <td>False</td>\n",
       "      <td>0.0</td>\n",
       "      <td>...</td>\n",
       "      <td>Below average</td>\n",
       "      <td>Piece of crap</td>\n",
       "      <td>Wall facing</td>\n",
       "      <td>Good</td>\n",
       "      <td>Average!</td>\n",
       "      <td>380.0</td>\n",
       "      <td>True</td>\n",
       "      <td>medium</td>\n",
       "      <td>3</td>\n",
       "      <td>0.3</td>\n",
       "    </tr>\n",
       "    <tr>\n",
       "      <th>115</th>\n",
       "      <td>3626039325</td>\n",
       "      <td>2014-11-21</td>\n",
       "      <td>740500.0</td>\n",
       "      <td>3</td>\n",
       "      <td>3.5</td>\n",
       "      <td>4380</td>\n",
       "      <td>6350</td>\n",
       "      <td>2.0</td>\n",
       "      <td>False</td>\n",
       "      <td>0.0</td>\n",
       "      <td>...</td>\n",
       "      <td>Above average</td>\n",
       "      <td>Piece of crap</td>\n",
       "      <td>Wall facing</td>\n",
       "      <td>Average</td>\n",
       "      <td>Above average</td>\n",
       "      <td>1600.0</td>\n",
       "      <td>True</td>\n",
       "      <td>xlarge</td>\n",
       "      <td>5</td>\n",
       "      <td>0.6</td>\n",
       "    </tr>\n",
       "    <tr>\n",
       "      <th>309</th>\n",
       "      <td>3204800200</td>\n",
       "      <td>2015-01-08</td>\n",
       "      <td>665000.0</td>\n",
       "      <td>4</td>\n",
       "      <td>2.8</td>\n",
       "      <td>3320</td>\n",
       "      <td>10574</td>\n",
       "      <td>2.0</td>\n",
       "      <td>False</td>\n",
       "      <td>0.0</td>\n",
       "      <td>...</td>\n",
       "      <td>Above average</td>\n",
       "      <td>Piece of crap</td>\n",
       "      <td>Wall facing</td>\n",
       "      <td>Jackpot!</td>\n",
       "      <td>Above average</td>\n",
       "      <td>1100.0</td>\n",
       "      <td>True</td>\n",
       "      <td>xlarge</td>\n",
       "      <td>5</td>\n",
       "      <td>0.5</td>\n",
       "    </tr>\n",
       "    <tr>\n",
       "      <th>384</th>\n",
       "      <td>713500030</td>\n",
       "      <td>2014-07-28</td>\n",
       "      <td>1350000.0</td>\n",
       "      <td>5</td>\n",
       "      <td>3.5</td>\n",
       "      <td>4800</td>\n",
       "      <td>14984</td>\n",
       "      <td>2.0</td>\n",
       "      <td>False</td>\n",
       "      <td>2.0</td>\n",
       "      <td>...</td>\n",
       "      <td>Above average</td>\n",
       "      <td>Piece of crap</td>\n",
       "      <td>Can see daylight</td>\n",
       "      <td>Average</td>\n",
       "      <td>High quality +</td>\n",
       "      <td>1320.0</td>\n",
       "      <td>True</td>\n",
       "      <td>xlarge</td>\n",
       "      <td>5</td>\n",
       "      <td>0.4</td>\n",
       "    </tr>\n",
       "    <tr>\n",
       "      <th>508</th>\n",
       "      <td>5113400431</td>\n",
       "      <td>2014-05-08</td>\n",
       "      <td>615000.0</td>\n",
       "      <td>2</td>\n",
       "      <td>1.0</td>\n",
       "      <td>1540</td>\n",
       "      <td>6872</td>\n",
       "      <td>1.0</td>\n",
       "      <td>False</td>\n",
       "      <td>0.0</td>\n",
       "      <td>...</td>\n",
       "      <td>Above average</td>\n",
       "      <td>Piece of crap</td>\n",
       "      <td>Wall facing</td>\n",
       "      <td>Good</td>\n",
       "      <td>Average!</td>\n",
       "      <td>720.0</td>\n",
       "      <td>True</td>\n",
       "      <td>large</td>\n",
       "      <td>4</td>\n",
       "      <td>0.9</td>\n",
       "    </tr>\n",
       "    <tr>\n",
       "      <th>...</th>\n",
       "      <td>...</td>\n",
       "      <td>...</td>\n",
       "      <td>...</td>\n",
       "      <td>...</td>\n",
       "      <td>...</td>\n",
       "      <td>...</td>\n",
       "      <td>...</td>\n",
       "      <td>...</td>\n",
       "      <td>...</td>\n",
       "      <td>...</td>\n",
       "      <td>...</td>\n",
       "      <td>...</td>\n",
       "      <td>...</td>\n",
       "      <td>...</td>\n",
       "      <td>...</td>\n",
       "      <td>...</td>\n",
       "      <td>...</td>\n",
       "      <td>...</td>\n",
       "      <td>...</td>\n",
       "      <td>...</td>\n",
       "      <td>...</td>\n",
       "    </tr>\n",
       "    <tr>\n",
       "      <th>21000</th>\n",
       "      <td>291310180</td>\n",
       "      <td>2014-06-13</td>\n",
       "      <td>379500.0</td>\n",
       "      <td>3</td>\n",
       "      <td>2.2</td>\n",
       "      <td>1410</td>\n",
       "      <td>1287</td>\n",
       "      <td>2.0</td>\n",
       "      <td>False</td>\n",
       "      <td>0.0</td>\n",
       "      <td>...</td>\n",
       "      <td>Top 10</td>\n",
       "      <td>Piece of crap</td>\n",
       "      <td>Wall facing</td>\n",
       "      <td>Average</td>\n",
       "      <td>Average!</td>\n",
       "      <td>120.0</td>\n",
       "      <td>True</td>\n",
       "      <td>medium</td>\n",
       "      <td>3</td>\n",
       "      <td>0.1</td>\n",
       "    </tr>\n",
       "    <tr>\n",
       "      <th>21109</th>\n",
       "      <td>3438500250</td>\n",
       "      <td>2014-06-23</td>\n",
       "      <td>515000.0</td>\n",
       "      <td>5</td>\n",
       "      <td>3.2</td>\n",
       "      <td>2910</td>\n",
       "      <td>5027</td>\n",
       "      <td>2.0</td>\n",
       "      <td>False</td>\n",
       "      <td>0.0</td>\n",
       "      <td>...</td>\n",
       "      <td>Above average</td>\n",
       "      <td>Piece of crap</td>\n",
       "      <td>Wall facing</td>\n",
       "      <td>Average</td>\n",
       "      <td>Above average</td>\n",
       "      <td>870.0</td>\n",
       "      <td>True</td>\n",
       "      <td>large</td>\n",
       "      <td>4</td>\n",
       "      <td>0.4</td>\n",
       "    </tr>\n",
       "    <tr>\n",
       "      <th>21210</th>\n",
       "      <td>3278600680</td>\n",
       "      <td>2014-06-27</td>\n",
       "      <td>235000.0</td>\n",
       "      <td>1</td>\n",
       "      <td>1.5</td>\n",
       "      <td>1170</td>\n",
       "      <td>1456</td>\n",
       "      <td>2.0</td>\n",
       "      <td>False</td>\n",
       "      <td>0.0</td>\n",
       "      <td>...</td>\n",
       "      <td>Above average</td>\n",
       "      <td>Piece of crap</td>\n",
       "      <td>Wall facing</td>\n",
       "      <td>Average</td>\n",
       "      <td>Above average</td>\n",
       "      <td>100.0</td>\n",
       "      <td>True</td>\n",
       "      <td>medium</td>\n",
       "      <td>3</td>\n",
       "      <td>0.1</td>\n",
       "    </tr>\n",
       "    <tr>\n",
       "      <th>21356</th>\n",
       "      <td>6169901185</td>\n",
       "      <td>2014-05-20</td>\n",
       "      <td>490000.0</td>\n",
       "      <td>5</td>\n",
       "      <td>3.5</td>\n",
       "      <td>4460</td>\n",
       "      <td>2975</td>\n",
       "      <td>3.0</td>\n",
       "      <td>False</td>\n",
       "      <td>2.0</td>\n",
       "      <td>...</td>\n",
       "      <td>Above average</td>\n",
       "      <td>Piece of crap</td>\n",
       "      <td>Can see daylight</td>\n",
       "      <td>Average</td>\n",
       "      <td>Very good</td>\n",
       "      <td>1180.0</td>\n",
       "      <td>True</td>\n",
       "      <td>xlarge</td>\n",
       "      <td>5</td>\n",
       "      <td>0.4</td>\n",
       "    </tr>\n",
       "    <tr>\n",
       "      <th>21442</th>\n",
       "      <td>3226049565</td>\n",
       "      <td>2014-07-11</td>\n",
       "      <td>504600.0</td>\n",
       "      <td>5</td>\n",
       "      <td>3.0</td>\n",
       "      <td>2360</td>\n",
       "      <td>5000</td>\n",
       "      <td>1.0</td>\n",
       "      <td>False</td>\n",
       "      <td>0.0</td>\n",
       "      <td>...</td>\n",
       "      <td>Above average</td>\n",
       "      <td>Piece of crap</td>\n",
       "      <td>Wall facing</td>\n",
       "      <td>Average</td>\n",
       "      <td>Average!</td>\n",
       "      <td>970.0</td>\n",
       "      <td>True</td>\n",
       "      <td>large</td>\n",
       "      <td>4</td>\n",
       "      <td>0.7</td>\n",
       "    </tr>\n",
       "  </tbody>\n",
       "</table>\n",
       "<p>170 rows × 36 columns</p>\n",
       "</div>"
      ],
      "text/plain": [
       "               id        date     price  bedrooms  bathrooms  sqft_living  \\\n",
       "112    2525310310  2014-09-16  272500.0         3        1.8         1540   \n",
       "115    3626039325  2014-11-21  740500.0         3        3.5         4380   \n",
       "309    3204800200  2015-01-08  665000.0         4        2.8         3320   \n",
       "384     713500030  2014-07-28 1350000.0         5        3.5         4800   \n",
       "508    5113400431  2014-05-08  615000.0         2        1.0         1540   \n",
       "...           ...         ...       ...       ...        ...          ...   \n",
       "21000   291310180  2014-06-13  379500.0         3        2.2         1410   \n",
       "21109  3438500250  2014-06-23  515000.0         5        3.2         2910   \n",
       "21210  3278600680  2014-06-27  235000.0         1        1.5         1170   \n",
       "21356  6169901185  2014-05-20  490000.0         5        3.5         4460   \n",
       "21442  3226049565  2014-07-11  504600.0         5        3.0         2360   \n",
       "\n",
       "       sqft_lot  floors  waterfront  view  ...  price_tag_lot  \\\n",
       "112       12600     1.0       False   0.0  ...  Below average   \n",
       "115        6350     2.0       False   0.0  ...  Above average   \n",
       "309       10574     2.0       False   0.0  ...  Above average   \n",
       "384       14984     2.0       False   2.0  ...  Above average   \n",
       "508        6872     1.0       False   0.0  ...  Above average   \n",
       "...         ...     ...         ...   ...  ...            ...   \n",
       "21000      1287     2.0       False   0.0  ...         Top 10   \n",
       "21109      5027     2.0       False   0.0  ...  Above average   \n",
       "21210      1456     2.0       False   0.0  ...  Above average   \n",
       "21356      2975     3.0       False   2.0  ...  Above average   \n",
       "21442      5000     1.0       False   0.0  ...  Above average   \n",
       "\n",
       "       renovation_indicator         view_eval  condition_eval      grade_eval  \\\n",
       "112           Piece of crap       Wall facing            Good        Average!   \n",
       "115           Piece of crap       Wall facing         Average   Above average   \n",
       "309           Piece of crap       Wall facing        Jackpot!   Above average   \n",
       "384           Piece of crap  Can see daylight         Average  High quality +   \n",
       "508           Piece of crap       Wall facing            Good        Average!   \n",
       "...                     ...               ...             ...             ...   \n",
       "21000         Piece of crap       Wall facing         Average        Average!   \n",
       "21109         Piece of crap       Wall facing         Average   Above average   \n",
       "21210         Piece of crap       Wall facing         Average   Above average   \n",
       "21356         Piece of crap  Can see daylight         Average       Very good   \n",
       "21442         Piece of crap       Wall facing         Average        Average!   \n",
       "\n",
       "       sqft_basement_cleaned  has_secret_storage  basement_sizes_string  \\\n",
       "112                    380.0                True                 medium   \n",
       "115                   1600.0                True                 xlarge   \n",
       "309                   1100.0                True                 xlarge   \n",
       "384                   1320.0                True                 xlarge   \n",
       "508                    720.0                True                  large   \n",
       "...                      ...                 ...                    ...   \n",
       "21000                  120.0                True                 medium   \n",
       "21109                  870.0                True                  large   \n",
       "21210                  100.0                True                 medium   \n",
       "21356                 1180.0                True                 xlarge   \n",
       "21442                  970.0                True                  large   \n",
       "\n",
       "       basement_sizes_int  basement_to_rest_ratio  \n",
       "112                     3                     0.3  \n",
       "115                     5                     0.6  \n",
       "309                     5                     0.5  \n",
       "384                     5                     0.4  \n",
       "508                     4                     0.9  \n",
       "...                   ...                     ...  \n",
       "21000                   3                     0.1  \n",
       "21109                   4                     0.4  \n",
       "21210                   3                     0.1  \n",
       "21356                   5                     0.4  \n",
       "21442                   4                     0.7  \n",
       "\n",
       "[170 rows x 36 columns]"
      ]
     },
     "execution_count": 237,
     "metadata": {},
     "output_type": "execute_result"
    }
   ],
   "source": [
    "# Hot picks advice\n",
    "dfviz.query('sqft_basement < sqft_basement_cleaned') # 170 instances"
   ]
  },
  {
   "cell_type": "code",
   "execution_count": 238,
   "metadata": {},
   "outputs": [
    {
     "data": {
      "text/html": [
       "<div>\n",
       "<style scoped>\n",
       "    .dataframe tbody tr th:only-of-type {\n",
       "        vertical-align: middle;\n",
       "    }\n",
       "\n",
       "    .dataframe tbody tr th {\n",
       "        vertical-align: top;\n",
       "    }\n",
       "\n",
       "    .dataframe thead th {\n",
       "        text-align: right;\n",
       "    }\n",
       "</style>\n",
       "<table border=\"1\" class=\"dataframe\">\n",
       "  <thead>\n",
       "    <tr style=\"text-align: right;\">\n",
       "      <th></th>\n",
       "      <th>id</th>\n",
       "      <th>date</th>\n",
       "      <th>price</th>\n",
       "      <th>bedrooms</th>\n",
       "      <th>bathrooms</th>\n",
       "      <th>sqft_living</th>\n",
       "      <th>sqft_lot</th>\n",
       "      <th>floors</th>\n",
       "      <th>waterfront</th>\n",
       "      <th>view</th>\n",
       "      <th>...</th>\n",
       "      <th>price_tag_lot</th>\n",
       "      <th>renovation_indicator</th>\n",
       "      <th>view_eval</th>\n",
       "      <th>condition_eval</th>\n",
       "      <th>grade_eval</th>\n",
       "      <th>sqft_basement_cleaned</th>\n",
       "      <th>has_secret_storage</th>\n",
       "      <th>basement_sizes_string</th>\n",
       "      <th>basement_sizes_int</th>\n",
       "      <th>basement_to_rest_ratio</th>\n",
       "    </tr>\n",
       "  </thead>\n",
       "  <tbody>\n",
       "    <tr>\n",
       "      <th>112</th>\n",
       "      <td>2525310310</td>\n",
       "      <td>2014-09-16</td>\n",
       "      <td>272500.0</td>\n",
       "      <td>3</td>\n",
       "      <td>1.8</td>\n",
       "      <td>1540</td>\n",
       "      <td>12600</td>\n",
       "      <td>1.0</td>\n",
       "      <td>False</td>\n",
       "      <td>0.0</td>\n",
       "      <td>...</td>\n",
       "      <td>Below average</td>\n",
       "      <td>Piece of crap</td>\n",
       "      <td>Wall facing</td>\n",
       "      <td>Good</td>\n",
       "      <td>Average!</td>\n",
       "      <td>380.0</td>\n",
       "      <td>True</td>\n",
       "      <td>medium</td>\n",
       "      <td>3</td>\n",
       "      <td>0.3</td>\n",
       "    </tr>\n",
       "    <tr>\n",
       "      <th>115</th>\n",
       "      <td>3626039325</td>\n",
       "      <td>2014-11-21</td>\n",
       "      <td>740500.0</td>\n",
       "      <td>3</td>\n",
       "      <td>3.5</td>\n",
       "      <td>4380</td>\n",
       "      <td>6350</td>\n",
       "      <td>2.0</td>\n",
       "      <td>False</td>\n",
       "      <td>0.0</td>\n",
       "      <td>...</td>\n",
       "      <td>Above average</td>\n",
       "      <td>Piece of crap</td>\n",
       "      <td>Wall facing</td>\n",
       "      <td>Average</td>\n",
       "      <td>Above average</td>\n",
       "      <td>1600.0</td>\n",
       "      <td>True</td>\n",
       "      <td>xlarge</td>\n",
       "      <td>5</td>\n",
       "      <td>0.6</td>\n",
       "    </tr>\n",
       "    <tr>\n",
       "      <th>309</th>\n",
       "      <td>3204800200</td>\n",
       "      <td>2015-01-08</td>\n",
       "      <td>665000.0</td>\n",
       "      <td>4</td>\n",
       "      <td>2.8</td>\n",
       "      <td>3320</td>\n",
       "      <td>10574</td>\n",
       "      <td>2.0</td>\n",
       "      <td>False</td>\n",
       "      <td>0.0</td>\n",
       "      <td>...</td>\n",
       "      <td>Above average</td>\n",
       "      <td>Piece of crap</td>\n",
       "      <td>Wall facing</td>\n",
       "      <td>Jackpot!</td>\n",
       "      <td>Above average</td>\n",
       "      <td>1100.0</td>\n",
       "      <td>True</td>\n",
       "      <td>xlarge</td>\n",
       "      <td>5</td>\n",
       "      <td>0.5</td>\n",
       "    </tr>\n",
       "    <tr>\n",
       "      <th>384</th>\n",
       "      <td>713500030</td>\n",
       "      <td>2014-07-28</td>\n",
       "      <td>1350000.0</td>\n",
       "      <td>5</td>\n",
       "      <td>3.5</td>\n",
       "      <td>4800</td>\n",
       "      <td>14984</td>\n",
       "      <td>2.0</td>\n",
       "      <td>False</td>\n",
       "      <td>2.0</td>\n",
       "      <td>...</td>\n",
       "      <td>Above average</td>\n",
       "      <td>Piece of crap</td>\n",
       "      <td>Can see daylight</td>\n",
       "      <td>Average</td>\n",
       "      <td>High quality +</td>\n",
       "      <td>1320.0</td>\n",
       "      <td>True</td>\n",
       "      <td>xlarge</td>\n",
       "      <td>5</td>\n",
       "      <td>0.4</td>\n",
       "    </tr>\n",
       "    <tr>\n",
       "      <th>508</th>\n",
       "      <td>5113400431</td>\n",
       "      <td>2014-05-08</td>\n",
       "      <td>615000.0</td>\n",
       "      <td>2</td>\n",
       "      <td>1.0</td>\n",
       "      <td>1540</td>\n",
       "      <td>6872</td>\n",
       "      <td>1.0</td>\n",
       "      <td>False</td>\n",
       "      <td>0.0</td>\n",
       "      <td>...</td>\n",
       "      <td>Above average</td>\n",
       "      <td>Piece of crap</td>\n",
       "      <td>Wall facing</td>\n",
       "      <td>Good</td>\n",
       "      <td>Average!</td>\n",
       "      <td>720.0</td>\n",
       "      <td>True</td>\n",
       "      <td>large</td>\n",
       "      <td>4</td>\n",
       "      <td>0.9</td>\n",
       "    </tr>\n",
       "    <tr>\n",
       "      <th>...</th>\n",
       "      <td>...</td>\n",
       "      <td>...</td>\n",
       "      <td>...</td>\n",
       "      <td>...</td>\n",
       "      <td>...</td>\n",
       "      <td>...</td>\n",
       "      <td>...</td>\n",
       "      <td>...</td>\n",
       "      <td>...</td>\n",
       "      <td>...</td>\n",
       "      <td>...</td>\n",
       "      <td>...</td>\n",
       "      <td>...</td>\n",
       "      <td>...</td>\n",
       "      <td>...</td>\n",
       "      <td>...</td>\n",
       "      <td>...</td>\n",
       "      <td>...</td>\n",
       "      <td>...</td>\n",
       "      <td>...</td>\n",
       "      <td>...</td>\n",
       "    </tr>\n",
       "    <tr>\n",
       "      <th>21000</th>\n",
       "      <td>291310180</td>\n",
       "      <td>2014-06-13</td>\n",
       "      <td>379500.0</td>\n",
       "      <td>3</td>\n",
       "      <td>2.2</td>\n",
       "      <td>1410</td>\n",
       "      <td>1287</td>\n",
       "      <td>2.0</td>\n",
       "      <td>False</td>\n",
       "      <td>0.0</td>\n",
       "      <td>...</td>\n",
       "      <td>Top 10</td>\n",
       "      <td>Piece of crap</td>\n",
       "      <td>Wall facing</td>\n",
       "      <td>Average</td>\n",
       "      <td>Average!</td>\n",
       "      <td>120.0</td>\n",
       "      <td>True</td>\n",
       "      <td>medium</td>\n",
       "      <td>3</td>\n",
       "      <td>0.1</td>\n",
       "    </tr>\n",
       "    <tr>\n",
       "      <th>21109</th>\n",
       "      <td>3438500250</td>\n",
       "      <td>2014-06-23</td>\n",
       "      <td>515000.0</td>\n",
       "      <td>5</td>\n",
       "      <td>3.2</td>\n",
       "      <td>2910</td>\n",
       "      <td>5027</td>\n",
       "      <td>2.0</td>\n",
       "      <td>False</td>\n",
       "      <td>0.0</td>\n",
       "      <td>...</td>\n",
       "      <td>Above average</td>\n",
       "      <td>Piece of crap</td>\n",
       "      <td>Wall facing</td>\n",
       "      <td>Average</td>\n",
       "      <td>Above average</td>\n",
       "      <td>870.0</td>\n",
       "      <td>True</td>\n",
       "      <td>large</td>\n",
       "      <td>4</td>\n",
       "      <td>0.4</td>\n",
       "    </tr>\n",
       "    <tr>\n",
       "      <th>21210</th>\n",
       "      <td>3278600680</td>\n",
       "      <td>2014-06-27</td>\n",
       "      <td>235000.0</td>\n",
       "      <td>1</td>\n",
       "      <td>1.5</td>\n",
       "      <td>1170</td>\n",
       "      <td>1456</td>\n",
       "      <td>2.0</td>\n",
       "      <td>False</td>\n",
       "      <td>0.0</td>\n",
       "      <td>...</td>\n",
       "      <td>Above average</td>\n",
       "      <td>Piece of crap</td>\n",
       "      <td>Wall facing</td>\n",
       "      <td>Average</td>\n",
       "      <td>Above average</td>\n",
       "      <td>100.0</td>\n",
       "      <td>True</td>\n",
       "      <td>medium</td>\n",
       "      <td>3</td>\n",
       "      <td>0.1</td>\n",
       "    </tr>\n",
       "    <tr>\n",
       "      <th>21356</th>\n",
       "      <td>6169901185</td>\n",
       "      <td>2014-05-20</td>\n",
       "      <td>490000.0</td>\n",
       "      <td>5</td>\n",
       "      <td>3.5</td>\n",
       "      <td>4460</td>\n",
       "      <td>2975</td>\n",
       "      <td>3.0</td>\n",
       "      <td>False</td>\n",
       "      <td>2.0</td>\n",
       "      <td>...</td>\n",
       "      <td>Above average</td>\n",
       "      <td>Piece of crap</td>\n",
       "      <td>Can see daylight</td>\n",
       "      <td>Average</td>\n",
       "      <td>Very good</td>\n",
       "      <td>1180.0</td>\n",
       "      <td>True</td>\n",
       "      <td>xlarge</td>\n",
       "      <td>5</td>\n",
       "      <td>0.4</td>\n",
       "    </tr>\n",
       "    <tr>\n",
       "      <th>21442</th>\n",
       "      <td>3226049565</td>\n",
       "      <td>2014-07-11</td>\n",
       "      <td>504600.0</td>\n",
       "      <td>5</td>\n",
       "      <td>3.0</td>\n",
       "      <td>2360</td>\n",
       "      <td>5000</td>\n",
       "      <td>1.0</td>\n",
       "      <td>False</td>\n",
       "      <td>0.0</td>\n",
       "      <td>...</td>\n",
       "      <td>Above average</td>\n",
       "      <td>Piece of crap</td>\n",
       "      <td>Wall facing</td>\n",
       "      <td>Average</td>\n",
       "      <td>Average!</td>\n",
       "      <td>970.0</td>\n",
       "      <td>True</td>\n",
       "      <td>large</td>\n",
       "      <td>4</td>\n",
       "      <td>0.7</td>\n",
       "    </tr>\n",
       "  </tbody>\n",
       "</table>\n",
       "<p>170 rows × 36 columns</p>\n",
       "</div>"
      ],
      "text/plain": [
       "               id        date     price  bedrooms  bathrooms  sqft_living  \\\n",
       "112    2525310310  2014-09-16  272500.0         3        1.8         1540   \n",
       "115    3626039325  2014-11-21  740500.0         3        3.5         4380   \n",
       "309    3204800200  2015-01-08  665000.0         4        2.8         3320   \n",
       "384     713500030  2014-07-28 1350000.0         5        3.5         4800   \n",
       "508    5113400431  2014-05-08  615000.0         2        1.0         1540   \n",
       "...           ...         ...       ...       ...        ...          ...   \n",
       "21000   291310180  2014-06-13  379500.0         3        2.2         1410   \n",
       "21109  3438500250  2014-06-23  515000.0         5        3.2         2910   \n",
       "21210  3278600680  2014-06-27  235000.0         1        1.5         1170   \n",
       "21356  6169901185  2014-05-20  490000.0         5        3.5         4460   \n",
       "21442  3226049565  2014-07-11  504600.0         5        3.0         2360   \n",
       "\n",
       "       sqft_lot  floors  waterfront  view  ...  price_tag_lot  \\\n",
       "112       12600     1.0       False   0.0  ...  Below average   \n",
       "115        6350     2.0       False   0.0  ...  Above average   \n",
       "309       10574     2.0       False   0.0  ...  Above average   \n",
       "384       14984     2.0       False   2.0  ...  Above average   \n",
       "508        6872     1.0       False   0.0  ...  Above average   \n",
       "...         ...     ...         ...   ...  ...            ...   \n",
       "21000      1287     2.0       False   0.0  ...         Top 10   \n",
       "21109      5027     2.0       False   0.0  ...  Above average   \n",
       "21210      1456     2.0       False   0.0  ...  Above average   \n",
       "21356      2975     3.0       False   2.0  ...  Above average   \n",
       "21442      5000     1.0       False   0.0  ...  Above average   \n",
       "\n",
       "       renovation_indicator         view_eval  condition_eval      grade_eval  \\\n",
       "112           Piece of crap       Wall facing            Good        Average!   \n",
       "115           Piece of crap       Wall facing         Average   Above average   \n",
       "309           Piece of crap       Wall facing        Jackpot!   Above average   \n",
       "384           Piece of crap  Can see daylight         Average  High quality +   \n",
       "508           Piece of crap       Wall facing            Good        Average!   \n",
       "...                     ...               ...             ...             ...   \n",
       "21000         Piece of crap       Wall facing         Average        Average!   \n",
       "21109         Piece of crap       Wall facing         Average   Above average   \n",
       "21210         Piece of crap       Wall facing         Average   Above average   \n",
       "21356         Piece of crap  Can see daylight         Average       Very good   \n",
       "21442         Piece of crap       Wall facing         Average        Average!   \n",
       "\n",
       "       sqft_basement_cleaned  has_secret_storage  basement_sizes_string  \\\n",
       "112                    380.0                True                 medium   \n",
       "115                   1600.0                True                 xlarge   \n",
       "309                   1100.0                True                 xlarge   \n",
       "384                   1320.0                True                 xlarge   \n",
       "508                    720.0                True                  large   \n",
       "...                      ...                 ...                    ...   \n",
       "21000                  120.0                True                 medium   \n",
       "21109                  870.0                True                  large   \n",
       "21210                  100.0                True                 medium   \n",
       "21356                 1180.0                True                 xlarge   \n",
       "21442                  970.0                True                  large   \n",
       "\n",
       "       basement_sizes_int  basement_to_rest_ratio  \n",
       "112                     3                     0.3  \n",
       "115                     5                     0.6  \n",
       "309                     5                     0.5  \n",
       "384                     5                     0.4  \n",
       "508                     4                     0.9  \n",
       "...                   ...                     ...  \n",
       "21000                   3                     0.1  \n",
       "21109                   4                     0.4  \n",
       "21210                   3                     0.1  \n",
       "21356                   5                     0.4  \n",
       "21442                   4                     0.7  \n",
       "\n",
       "[170 rows x 36 columns]"
      ]
     },
     "execution_count": 238,
     "metadata": {},
     "output_type": "execute_result"
    }
   ],
   "source": [
    "# look up the secret storage facilities\n",
    "df_base = dfviz[['id','sqft_living','sqft_above','sqft_basement','sqft_basement_cleaned','basement_sizes_string','lat','long','city','price','price_tag_house','classification','basement_to_rest_ratio']]\n",
    "secret_storage = dfviz.query('has_secret_storage == True')\n",
    "secret_storage"
   ]
  },
  {
   "cell_type": "code",
   "execution_count": 241,
   "metadata": {},
   "outputs": [
    {
     "data": {
      "application/vnd.plotly.v1+json": {
       "config": {
        "plotlyServerURL": "https://plot.ly"
       },
       "data": [
        {
         "customdata": [
          [
           2525310310,
           "Maple Valley",
           "Below average",
           380,
           "medium"
          ],
          [
           8832900550,
           "Kenmore",
           "Below average",
           560,
           "medium"
          ],
          [
           5149300200,
           "Auburn",
           "Below average",
           530,
           "medium"
          ],
          [
           9209900270,
           "Seattle",
           "Top 10",
           200,
           "medium"
          ],
          [
           1972201820,
           "Seattle",
           "Above average",
           480,
           "medium"
          ],
          [
           65000260,
           "Seattle",
           "Above average",
           530,
           "medium"
          ],
          [
           408100105,
           "Lake Forest Park",
           "Above average",
           100,
           "medium"
          ],
          [
           1118001295,
           "Seattle",
           "Top 10",
           540,
           "medium"
          ],
          [
           9297301055,
           "Seattle",
           "Above average",
           350,
           "medium"
          ],
          [
           2461900945,
           "Seattle",
           "Below average",
           500,
           "medium"
          ],
          [
           3578400950,
           "Redmond",
           "Above average",
           340,
           "medium"
          ],
          [
           2323069073,
           "Issaquah",
           "Below average",
           480,
           "medium"
          ],
          [
           8700500020,
           "Seatac",
           "Below average",
           350,
           "medium"
          ],
          [
           6844703135,
           "Seattle",
           "Above average",
           460,
           "medium"
          ],
          [
           1445200190,
           "Lake Forest Park",
           "Above average",
           270,
           "medium"
          ],
          [
           3126049439,
           "Seattle",
           "Above average",
           70,
           "medium"
          ],
          [
           4358700188,
           "Shoreline",
           "Below average",
           100,
           "medium"
          ],
          [
           4310700020,
           "Seattle",
           "Above average",
           260,
           "medium"
          ],
          [
           739800250,
           "Kent",
           "Below average",
           290,
           "medium"
          ],
          [
           5029451080,
           "Auburn",
           "Below average",
           470,
           "medium"
          ],
          [
           3876312840,
           "Woodinville",
           "Below average",
           380,
           "medium"
          ],
          [
           6666860210,
           "Kent",
           "Below average",
           560,
           "medium"
          ],
          [
           3226079059,
           "Carnation",
           "Below average",
           490,
           "medium"
          ],
          [
           7893203480,
           "Des Moines",
           "Below average",
           500,
           "medium"
          ],
          [
           7352200100,
           "Seattle",
           "Top 10",
           500,
           "medium"
          ],
          [
           8100900115,
           "Seattle",
           "Below average",
           290,
           "medium"
          ],
          [
           2589300180,
           "Seattle",
           "Below average",
           500,
           "medium"
          ],
          [
           2325039084,
           "Seattle",
           "Above average",
           460,
           "medium"
          ],
          [
           6804600260,
           "Bothell",
           "Above average",
           280,
           "medium"
          ],
          [
           3210400060,
           "Des Moines",
           "Below average",
           480,
           "medium"
          ],
          [
           6909200401,
           "Seattle",
           "Above average",
           250,
           "medium"
          ],
          [
           2768300736,
           "Seattle",
           "Above average",
           360,
           "medium"
          ],
          [
           4443800555,
           "Seattle",
           "Above average",
           470,
           "medium"
          ],
          [
           1370803940,
           "Seattle",
           "Top 10",
           170,
           "medium"
          ],
          [
           9530100085,
           "Seattle",
           "Top 10",
           130,
           "medium"
          ],
          [
           2624049103,
           "Seattle",
           "Above average",
           210,
           "medium"
          ],
          [
           2487200775,
           "Seattle",
           "Above average",
           470,
           "medium"
          ],
          [
           6379500216,
           "Seattle",
           "Above average",
           210,
           "medium"
          ],
          [
           7304300420,
           "Lake Forest Park",
           "Above average",
           140,
           "medium"
          ],
          [
           2023049372,
           "Des Moines",
           "Below average",
           500,
           "medium"
          ],
          [
           1797500780,
           "Seattle",
           "Above average",
           470,
           "medium"
          ],
          [
           9828702335,
           "Seattle",
           "Top 10",
           380,
           "medium"
          ],
          [
           5453700020,
           "Mercer Island",
           "Top 10",
           520,
           "medium"
          ],
          [
           8925100440,
           "Seattle",
           "Top 10",
           510,
           "medium"
          ],
          [
           9527000090,
           "Kirkland",
           "Below average",
           370,
           "medium"
          ],
          [
           3630000150,
           "Issaquah",
           "Above average",
           290,
           "medium"
          ],
          [
           1337800665,
           "Seattle",
           "Top 10",
           150,
           "medium"
          ],
          [
           3308010040,
           "Kent",
           "Below average",
           530,
           "medium"
          ],
          [
           4077800258,
           "Seattle",
           "Above average",
           140,
           "medium"
          ],
          [
           3886902615,
           "Kirkland",
           "Above average",
           540,
           "medium"
          ],
          [
           224059021,
           "Bellevue",
           "Above average",
           140,
           "medium"
          ],
          [
           2902200142,
           "Seattle",
           "Above average",
           200,
           "medium"
          ],
          [
           3879900750,
           "Seattle",
           "Top 10",
           200,
           "medium"
          ],
          [
           8850000517,
           "Seattle",
           "Above average",
           530,
           "medium"
          ],
          [
           1689401526,
           "Seattle",
           "Above average",
           390,
           "medium"
          ],
          [
           291310180,
           "Issaquah",
           "Above average",
           120,
           "medium"
          ],
          [
           3278600680,
           "Seattle",
           "Below average",
           100,
           "medium"
          ]
         ],
         "hovertemplate": "<b>%{hovertext}</b><br><br>basement_sizes_string=%{customdata[4]}<br>sqft_basement_cleaned=%{customdata[3]}<br>lat=%{lat}<br>long=%{lon}<br>id=%{customdata[0]}<br>city=%{customdata[1]}<br>price_tag_house=%{customdata[2]}<extra></extra>",
         "hovertext": [
          2525310310,
          8832900550,
          5149300200,
          9209900270,
          1972201820,
          65000260,
          408100105,
          1118001295,
          9297301055,
          2461900945,
          3578400950,
          2323069073,
          8700500020,
          6844703135,
          1445200190,
          3126049439,
          4358700188,
          4310700020,
          739800250,
          5029451080,
          3876312840,
          6666860210,
          3226079059,
          7893203480,
          7352200100,
          8100900115,
          2589300180,
          2325039084,
          6804600260,
          3210400060,
          6909200401,
          2768300736,
          4443800555,
          1370803940,
          9530100085,
          2624049103,
          2487200775,
          6379500216,
          7304300420,
          2023049372,
          1797500780,
          9828702335,
          5453700020,
          8925100440,
          9527000090,
          3630000150,
          1337800665,
          3308010040,
          4077800258,
          3886902615,
          224059021,
          2902200142,
          3879900750,
          8850000517,
          1689401526,
          291310180,
          3278600680
         ],
         "lat": [
          47.3624,
          47.7605,
          47.3272,
          47.6231,
          47.6515,
          47.5442,
          47.7505,
          47.63399999999999,
          47.5669,
          47.5511,
          47.6231,
          47.47,
          47.457,
          47.6944,
          47.7675,
          47.6967,
          47.7072,
          47.7011,
          47.4046,
          47.2896,
          47.7353,
          47.4202,
          47.6991,
          47.4192,
          47.7142,
          47.5495,
          47.5357,
          47.6461,
          47.7601,
          47.3676,
          47.591,
          47.6666,
          47.6846,
          47.6413,
          47.6681,
          47.5387,
          47.5195,
          47.5826,
          47.7425,
          47.4666,
          47.6743,
          47.6205,
          47.5358,
          47.6819,
          47.7103,
          47.5478,
          47.6292,
          47.3657,
          47.7098,
          47.683,
          47.5974,
          47.6376,
          47.6273,
          47.5893,
          47.6327,
          47.5344,
          47.5493
         ],
         "legendgroup": "medium",
         "lon": [
          -122.031,
          -122.267,
          -122.355,
          -122.293,
          -122.346,
          -122.38,
          -122.317,
          -122.288,
          -122.372,
          -122.386,
          -122.044,
          -122,
          -122.27,
          -122.288,
          -122.315,
          -122.342,
          -122.336,
          -122.336,
          -122.194,
          -122.369,
          -122.172,
          -122.204,
          -121.947,
          -122.33,
          -122.277,
          -122.31,
          -122.273,
          -122.397,
          -122.167,
          -122.312,
          -122.293,
          -122.37,
          -122.392,
          -122.401,
          -122.36,
          -122.266,
          -122.391,
          -122.387,
          -122.321,
          -122.326,
          -122.316,
          -122.3,
          -122.235,
          -122.272,
          -122.232,
          -121.999,
          -122.312,
          -122.21,
          -122.283,
          -122.187,
          -122.129,
          -122.326,
          -122.359,
          -122.309,
          -122.346,
          -122.068,
          -122.372
         ],
         "marker": {
          "color": "#2E91E5",
          "size": [
           380,
           560,
           530,
           200,
           480,
           530,
           100,
           540,
           350,
           500,
           340,
           480,
           350,
           460,
           270,
           70,
           100,
           260,
           290,
           470,
           380,
           560,
           490,
           500,
           500,
           290,
           500,
           460,
           280,
           480,
           250,
           360,
           470,
           170,
           130,
           210,
           470,
           210,
           140,
           500,
           470,
           380,
           520,
           510,
           370,
           290,
           150,
           530,
           140,
           540,
           140,
           200,
           200,
           530,
           390,
           120,
           100
          ],
          "sizemode": "area",
          "sizeref": 6.55
         },
         "mode": "markers",
         "name": "medium",
         "showlegend": true,
         "subplot": "mapbox",
         "type": "scattermapbox"
        },
        {
         "customdata": [
          [
           3626039325,
           "Seattle",
           "Below average",
           1600,
           "xlarge"
          ],
          [
           3204800200,
           "Newcastle",
           "Below average",
           1100,
           "xlarge"
          ],
          [
           713500030,
           "Bellevue",
           "Above average",
           1320,
           "xlarge"
          ],
          [
           4379600030,
           "Shoreline",
           "Below average",
           2590,
           "xlarge"
          ],
          [
           4140090370,
           "Kenmore",
           "Below average",
           1250,
           "xlarge"
          ],
          [
           2402100055,
           "Seattle",
           "Above average",
           1040,
           "xlarge"
          ],
          [
           3377900195,
           "Bellevue",
           "Above average",
           2620,
           "xlarge"
          ],
          [
           170000215,
           "Seattle",
           "Above average",
           1010,
           "xlarge"
          ],
          [
           8731990090,
           "Auburn",
           "Below average",
           1350,
           "xlarge"
          ],
          [
           2025049006,
           "Seattle",
           "Below average",
           1280,
           "xlarge"
          ],
          [
           5166700050,
           "Seattle",
           "Below average",
           1380,
           "xlarge"
          ],
          [
           6117500430,
           "Normandy Park",
           "Below average",
           1820,
           "xlarge"
          ],
          [
           3625710080,
           "Mercer Island",
           "Above average",
           1280,
           "xlarge"
          ],
          [
           7695450010,
           "Des Moines",
           "Below average",
           1030,
           "xlarge"
          ],
          [
           1622059088,
           "Kent",
           "Below average",
           1590,
           "xlarge"
          ],
          [
           2141300080,
           "Bellevue",
           "Below average",
           1460,
           "xlarge"
          ],
          [
           1689400375,
           "Seattle",
           "Top 10",
           1010,
           "xlarge"
          ],
          [
           6928600330,
           "Federal Way",
           "Below average",
           1070,
           "xlarge"
          ],
          [
           924069176,
           "Sammamish",
           "Above average",
           1020,
           "xlarge"
          ],
          [
           5113400113,
           "Seattle",
           "Above average",
           1080,
           "xlarge"
          ],
          [
           5742600115,
           "Seattle",
           "Above average",
           1010,
           "xlarge"
          ],
          [
           2024059110,
           "Bellevue",
           "Below average",
           1480,
           "xlarge"
          ],
          [
           3211600140,
           "Kirkland",
           "Below average",
           1200,
           "xlarge"
          ],
          [
           8832900135,
           "Kenmore",
           "Below average",
           1420,
           "xlarge"
          ],
          [
           486000510,
           "Seattle",
           "Above average",
           1510,
           "xlarge"
          ],
          [
           2473510260,
           "Renton",
           "Below average",
           1640,
           "xlarge"
          ],
          [
           1402200140,
           "Renton",
           "Below average",
           1530,
           "xlarge"
          ],
          [
           9276202160,
           "Seattle",
           "Above average",
           1040,
           "xlarge"
          ],
          [
           866400040,
           "Kirkland",
           "Below average",
           990,
           "xlarge"
          ],
          [
           1423069077,
           "Issaquah",
           "Below average",
           1100,
           "xlarge"
          ],
          [
           7937600087,
           "Renton",
           "Below average",
           1400,
           "xlarge"
          ],
          [
           1842300050,
           "Redmond",
           "Above average",
           1080,
           "xlarge"
          ],
          [
           9122500080,
           "Kent",
           "Below average",
           1010,
           "xlarge"
          ],
          [
           1257200050,
           "Seattle",
           "Above average",
           1090,
           "xlarge"
          ],
          [
           7802900500,
           "Snoqualmie",
           "Below average",
           1380,
           "xlarge"
          ],
          [
           7369600080,
           "Seattle",
           "Above average",
           1000,
           "xlarge"
          ],
          [
           1545806720,
           "Maple Valley",
           "Below average",
           1010,
           "xlarge"
          ],
          [
           1180002745,
           "Seattle",
           "Below average",
           1060,
           "xlarge"
          ],
          [
           1722069097,
           "Maple Valley",
           "Below average",
           1280,
           "xlarge"
          ],
          [
           9542200220,
           "Bellevue",
           "Below average",
           1790,
           "xlarge"
          ],
          [
           5609000311,
           "Seattle",
           "Below average",
           1090,
           "xlarge"
          ],
          [
           2423069039,
           "Issaquah",
           "Above average",
           990,
           "xlarge"
          ],
          [
           6169901185,
           "Seattle",
           "Below average",
           1180,
           "xlarge"
          ]
         ],
         "hovertemplate": "<b>%{hovertext}</b><br><br>basement_sizes_string=%{customdata[4]}<br>sqft_basement_cleaned=%{customdata[3]}<br>lat=%{lat}<br>long=%{lon}<br>id=%{customdata[0]}<br>city=%{customdata[1]}<br>price_tag_house=%{customdata[2]}<extra></extra>",
         "hovertext": [
          3626039325,
          3204800200,
          713500030,
          4379600030,
          4140090370,
          2402100055,
          3377900195,
          170000215,
          8731990090,
          2025049006,
          5166700050,
          6117500430,
          3625710080,
          7695450010,
          1622059088,
          2141300080,
          1689400375,
          6928600330,
          924069176,
          5113400113,
          5742600115,
          2024059110,
          3211600140,
          8832900135,
          486000510,
          2473510260,
          1402200140,
          9276202160,
          866400040,
          1423069077,
          7937600087,
          1842300050,
          9122500080,
          1257200050,
          7802900500,
          7369600080,
          1545806720,
          1180002745,
          1722069097,
          9542200220,
          5609000311,
          2423069039,
          6169901185
         ],
         "lat": [
          47.6981,
          47.5376,
          47.5543,
          47.7313,
          47.7675,
          47.6895,
          47.5547,
          47.6612,
          47.3227,
          47.6454,
          47.5561,
          47.4384,
          47.527,
          47.3566,
          47.3931,
          47.5596,
          47.6385,
          47.3355,
          47.5836,
          47.6442,
          47.5686,
          47.5506,
          47.726000000000006,
          47.75899999999999,
          47.6773,
          47.4462,
          47.4379,
          47.5791,
          47.7271,
          47.4847,
          47.4398,
          47.6696,
          47.3896,
          47.6754,
          47.5244,
          47.6516,
          47.3676,
          47.49800000000001,
          47.3928,
          47.5956,
          47.5687,
          47.4694,
          47.6313
         ],
         "legendgroup": "xlarge",
         "lon": [
          -122.368,
          -122.18,
          -122.148,
          -122.37,
          -122.261,
          -122.331,
          -122.144,
          -122.363,
          -122.384,
          -122.316,
          -122.379,
          -122.352,
          -122.228,
          -122.32,
          -122.183,
          -122.142,
          -122.348,
          -122.331,
          -122.046,
          -122.372,
          -122.392,
          -122.187,
          -122.198,
          -122.269,
          -122.403,
          -122.137,
          -122.146,
          -122.392,
          -122.228,
          -122,
          -122.08,
          -122.149,
          -122.218,
          -122.327,
          -121.842,
          -122.409,
          -122.046,
          -122.222,
          -122.066,
          -122.178,
          -122.291,
          -121.989,
          -122.37
         ],
         "marker": {
          "color": "#E15F99",
          "size": [
           1600,
           1100,
           1320,
           2590,
           1250,
           1040,
           2620,
           1010,
           1350,
           1280,
           1380,
           1820,
           1280,
           1030,
           1590,
           1460,
           1010,
           1070,
           1020,
           1080,
           1010,
           1480,
           1200,
           1420,
           1510,
           1640,
           1530,
           1040,
           990,
           1100,
           1400,
           1080,
           1010,
           1090,
           1380,
           1000,
           1010,
           1060,
           1280,
           1790,
           1090,
           990,
           1180
          ],
          "sizemode": "area",
          "sizeref": 6.55
         },
         "mode": "markers",
         "name": "xlarge",
         "showlegend": true,
         "subplot": "mapbox",
         "type": "scattermapbox"
        },
        {
         "customdata": [
          [
           5113400431,
           "Seattle",
           "Above average",
           720,
           "large"
          ],
          [
           1545804340,
           "Maple Valley",
           "Below average",
           610,
           "large"
          ],
          [
           5101405124,
           "Seattle",
           "Above average",
           850,
           "large"
          ],
          [
           194000505,
           "Seattle",
           "Above average",
           970,
           "large"
          ],
          [
           3623500135,
           "Mercer Island",
           "Above average",
           840,
           "large"
          ],
          [
           625059051,
           "Kirkland",
           "Top 10",
           700,
           "large"
          ],
          [
           8665900295,
           "Lake Forest Park",
           "Above average",
           660,
           "large"
          ],
          [
           4123400320,
           "Issaquah",
           "Above average",
           780,
           "large"
          ],
          [
           3990200125,
           "Normandy Park",
           "Below average",
           930,
           "large"
          ],
          [
           5701500030,
           "Seattle",
           "Top 10",
           900,
           "large"
          ],
          [
           8901001185,
           "Seattle",
           "Below average",
           940,
           "large"
          ],
          [
           1692900110,
           "Kirkland",
           "Above average",
           850,
           "large"
          ],
          [
           3629921240,
           "Issaquah",
           "Above average",
           830,
           "large"
          ],
          [
           2207100405,
           "Bellevue",
           "Below average",
           850,
           "large"
          ],
          [
           9136102680,
           "Seattle",
           "Above average",
           700,
           "large"
          ],
          [
           2770604920,
           "Seattle",
           "Below average",
           660,
           "large"
          ],
          [
           9257900010,
           "Lake Forest Park",
           "Below average",
           720,
           "large"
          ],
          [
           3619600143,
           "Shoreline",
           "Above average",
           760,
           "large"
          ],
          [
           1021079099,
           "Black Diamond",
           "Below average",
           580,
           "large"
          ],
          [
           4322300010,
           "Federal Way",
           "Below average",
           670,
           "large"
          ],
          [
           8058500005,
           "Seattle",
           "Below average",
           700,
           "large"
          ],
          [
           569000050,
           "Redmond",
           "Above average",
           800,
           "large"
          ],
          [
           5706200020,
           "Issaquah",
           "Below average",
           750,
           "large"
          ],
          [
           9547205260,
           "Seattle",
           "Top 10",
           790,
           "large"
          ],
          [
           3276180020,
           "Newcastle",
           "Below average",
           660,
           "large"
          ],
          [
           7714000250,
           "Maple Valley",
           "Below average",
           830,
           "large"
          ],
          [
           6791100280,
           "Sammamish",
           "Above average",
           700,
           "large"
          ],
          [
           6844700415,
           "Seattle",
           "Above average",
           600,
           "large"
          ],
          [
           148000590,
           "Seattle",
           "Above average",
           800,
           "large"
          ],
          [
           3583400120,
           "Kenmore",
           "Below average",
           700,
           "large"
          ],
          [
           8068000730,
           "Seattle",
           "Below average",
           850,
           "large"
          ],
          [
           3935900093,
           "Seattle",
           "Above average",
           900,
           "large"
          ],
          [
           2787700150,
           "Newcastle",
           "Below average",
           700,
           "large"
          ],
          [
           2719100115,
           "Seattle",
           "Above average",
           800,
           "large"
          ],
          [
           822059038,
           "Kent",
           "Below average",
           800,
           "large"
          ],
          [
           7939000090,
           "Auburn",
           "Below average",
           680,
           "large"
          ],
          [
           1423069095,
           "Issaquah",
           "Below average",
           600,
           "large"
          ],
          [
           8929000350,
           "Issaquah",
           "Below average",
           620,
           "large"
          ],
          [
           3438500677,
           "Seattle",
           "Above average",
           600,
           "large"
          ],
          [
           5700000465,
           "Seattle",
           "Below average",
           890,
           "large"
          ],
          [
           3345100251,
           "Newcastle",
           "Below average",
           630,
           "large"
          ],
          [
           4206901550,
           "Seattle",
           "Above average",
           920,
           "large"
          ],
          [
           7510700030,
           "Redmond",
           "Below average",
           760,
           "large"
          ],
          [
           3211200140,
           "Kirkland",
           "Below average",
           860,
           "large"
          ],
          [
           7905200230,
           "Seattle",
           "Below average",
           830,
           "large"
          ],
          [
           6811000220,
           "Redmond",
           "Above average",
           720,
           "large"
          ],
          [
           798000145,
           "Burien",
           "Below average",
           650,
           "large"
          ],
          [
           1822069052,
           "Renton",
           "Below average",
           920,
           "large"
          ],
          [
           5381000072,
           "Seatac",
           "Below average",
           894,
           "large"
          ],
          [
           4202400395,
           "Renton",
           "Below average",
           700,
           "large"
          ],
          [
           7011201445,
           "Seattle",
           "Above average",
           700,
           "large"
          ],
          [
           2193320210,
           "Redmond",
           "Below average",
           950,
           "large"
          ],
          [
           9187200345,
           "Seattle",
           "Below average",
           700,
           "large"
          ],
          [
           809001060,
           "Seattle",
           "Above average",
           810,
           "large"
          ],
          [
           9834200305,
           "Seattle",
           "Below average",
           700,
           "large"
          ],
          [
           2458400345,
           "Seattle",
           "Below average",
           590,
           "large"
          ],
          [
           9547205610,
           "Seattle",
           "Above average",
           740,
           "large"
          ],
          [
           3300701440,
           "Seattle",
           "Above average",
           740,
           "large"
          ],
          [
           8864000425,
           "Burien",
           "Below average",
           790,
           "large"
          ],
          [
           9348700450,
           "Redmond",
           "Below average",
           970,
           "large"
          ],
          [
           2125049133,
           "Seattle",
           "Above average",
           660,
           "large"
          ],
          [
           7649900175,
           "Seattle",
           "Below average",
           840,
           "large"
          ],
          [
           1868900775,
           "Seattle",
           "Above average",
           720,
           "large"
          ],
          [
           1761300650,
           "Kent",
           "Below average",
           680,
           "large"
          ],
          [
           5631501161,
           "Kenmore",
           "Below average",
           800,
           "large"
          ],
          [
           6126601380,
           "Seattle",
           "Above average",
           760,
           "large"
          ],
          [
           284000025,
           "Seattle",
           "Top 10",
           600,
           "large"
          ],
          [
           3013300685,
           "Seattle",
           "Above average",
           630,
           "large"
          ],
          [
           3438500250,
           "Seattle",
           "Below average",
           870,
           "large"
          ],
          [
           3226049565,
           "Seattle",
           "Below average",
           970,
           "large"
          ]
         ],
         "hovertemplate": "<b>%{hovertext}</b><br><br>basement_sizes_string=%{customdata[4]}<br>sqft_basement_cleaned=%{customdata[3]}<br>lat=%{lat}<br>long=%{lon}<br>id=%{customdata[0]}<br>city=%{customdata[1]}<br>price_tag_house=%{customdata[2]}<extra></extra>",
         "hovertext": [
          5113400431,
          1545804340,
          5101405124,
          194000505,
          3623500135,
          625059051,
          8665900295,
          4123400320,
          3990200125,
          5701500030,
          8901001185,
          1692900110,
          3629921240,
          2207100405,
          9136102680,
          2770604920,
          9257900010,
          3619600143,
          1021079099,
          4322300010,
          8058500005,
          569000050,
          5706200020,
          9547205260,
          3276180020,
          7714000250,
          6791100280,
          6844700415,
          148000590,
          3583400120,
          8068000730,
          3935900093,
          2787700150,
          2719100115,
          822059038,
          7939000090,
          1423069095,
          8929000350,
          3438500677,
          5700000465,
          3345100251,
          4206901550,
          7510700030,
          3211200140,
          7905200230,
          6811000220,
          798000145,
          1822069052,
          5381000072,
          4202400395,
          7011201445,
          2193320210,
          9187200345,
          809001060,
          9834200305,
          2458400345,
          9547205610,
          3300701440,
          8864000425,
          9348700450,
          2125049133,
          7649900175,
          1868900775,
          1761300650,
          5631501161,
          6126601380,
          284000025,
          3013300685,
          3438500250,
          3226049565
         ],
         "lat": [
          47.6454,
          47.3647,
          47.6988,
          47.5664,
          47.5743,
          47.6878,
          47.7679,
          47.5688,
          47.4598,
          47.5859,
          47.71100000000001,
          47.6651,
          47.5426,
          47.5995,
          47.6656,
          47.6543,
          47.75,
          47.7241,
          47.3259,
          47.2824,
          47.7069,
          47.6623,
          47.5243,
          47.6816,
          47.5071,
          47.3552,
          47.57899999999999,
          47.6958,
          47.5731,
          47.74100000000001,
          47.5094,
          47.7108,
          47.5067,
          47.5433,
          47.4045,
          47.3107,
          47.4824,
          47.5523,
          47.5524,
          47.5781,
          47.521,
          47.6557,
          47.621,
          47.7307,
          47.57100000000001,
          47.6301,
          47.4989,
          47.3939,
          47.4524,
          47.4883,
          47.6368,
          47.697,
          47.6025,
          47.6343,
          47.575,
          47.5102,
          47.6826,
          47.6916,
          47.4807,
          47.7054,
          47.6394,
          47.5555,
          47.6738,
          47.395,
          47.7474,
          47.5577,
          47.5036,
          47.532,
          47.5543,
          47.6931
         ],
         "legendgroup": "large",
         "lon": [
          -122.373,
          -122.05,
          -122.319,
          -122.389,
          -122.238,
          -122.215,
          -122.308,
          -122.087,
          -122.352,
          -122.291,
          -122.306,
          -122.19,
          -121.995,
          -122.144,
          -122.335,
          -122.373,
          -122.292,
          -122.369,
          -121.896,
          -122.301,
          -122.299,
          -122.152,
          -122.042,
          -122.31,
          -122.194,
          -122.026,
          -122.051,
          -122.29,
          -122.408,
          -122.256,
          -122.263,
          -122.279,
          -122.16,
          -122.384,
          -122.197,
          -122.189,
          -122,
          -121.998,
          -122.356,
          -122.293,
          -122.179,
          -122.327,
          -122.03,
          -122.239,
          -122.391,
          -122.107,
          -122.329,
          -122.089,
          -122.284,
          -122.221,
          -122.371,
          -122.097,
          -122.294,
          -122.352,
          -122.288,
          -122.372,
          -122.311,
          -122.38,
          -122.29,
          -122.107,
          -122.308,
          -122.397,
          -122.297,
          -122.174,
          -122.235,
          -122.379,
          -122.387,
          -122.384,
          -122.359,
          -122.33
         ],
         "marker": {
          "color": "#1CA71C",
          "size": [
           720,
           610,
           850,
           970,
           840,
           700,
           660,
           780,
           930,
           900,
           940,
           850,
           830,
           850,
           700,
           660,
           720,
           760,
           580,
           670,
           700,
           800,
           750,
           790,
           660,
           830,
           700,
           600,
           800,
           700,
           850,
           900,
           700,
           800,
           800,
           680,
           600,
           620,
           600,
           890,
           630,
           920,
           760,
           860,
           830,
           720,
           650,
           920,
           894,
           700,
           700,
           950,
           700,
           810,
           700,
           590,
           740,
           740,
           790,
           970,
           660,
           840,
           720,
           680,
           800,
           760,
           600,
           630,
           870,
           970
          ],
          "sizemode": "area",
          "sizeref": 6.55
         },
         "mode": "markers",
         "name": "large",
         "showlegend": true,
         "subplot": "mapbox",
         "type": "scattermapbox"
        }
       ],
       "layout": {
        "height": 600,
        "legend": {
         "itemsizing": "constant",
         "title": {
          "text": "Property price clusters"
         },
         "tracegroupgap": 0
        },
        "mapbox": {
         "center": {
          "lat": 47.5,
          "lon": -122.2
         },
         "domain": {
          "x": [
           0,
           1
          ],
          "y": [
           0,
           1
          ]
         },
         "style": "open-street-map",
         "zoom": 9
        },
        "margin": {
         "b": 10,
         "l": 10,
         "r": 10,
         "t": 40
        },
        "template": {
         "data": {
          "bar": [
           {
            "error_x": {
             "color": "#2a3f5f"
            },
            "error_y": {
             "color": "#2a3f5f"
            },
            "marker": {
             "line": {
              "color": "#E5ECF6",
              "width": 0.5
             },
             "pattern": {
              "fillmode": "overlay",
              "size": 10,
              "solidity": 0.2
             }
            },
            "type": "bar"
           }
          ],
          "barpolar": [
           {
            "marker": {
             "line": {
              "color": "#E5ECF6",
              "width": 0.5
             },
             "pattern": {
              "fillmode": "overlay",
              "size": 10,
              "solidity": 0.2
             }
            },
            "type": "barpolar"
           }
          ],
          "carpet": [
           {
            "aaxis": {
             "endlinecolor": "#2a3f5f",
             "gridcolor": "white",
             "linecolor": "white",
             "minorgridcolor": "white",
             "startlinecolor": "#2a3f5f"
            },
            "baxis": {
             "endlinecolor": "#2a3f5f",
             "gridcolor": "white",
             "linecolor": "white",
             "minorgridcolor": "white",
             "startlinecolor": "#2a3f5f"
            },
            "type": "carpet"
           }
          ],
          "choropleth": [
           {
            "colorbar": {
             "outlinewidth": 0,
             "ticks": ""
            },
            "type": "choropleth"
           }
          ],
          "contour": [
           {
            "colorbar": {
             "outlinewidth": 0,
             "ticks": ""
            },
            "colorscale": [
             [
              0,
              "#0d0887"
             ],
             [
              0.1111111111111111,
              "#46039f"
             ],
             [
              0.2222222222222222,
              "#7201a8"
             ],
             [
              0.3333333333333333,
              "#9c179e"
             ],
             [
              0.4444444444444444,
              "#bd3786"
             ],
             [
              0.5555555555555556,
              "#d8576b"
             ],
             [
              0.6666666666666666,
              "#ed7953"
             ],
             [
              0.7777777777777778,
              "#fb9f3a"
             ],
             [
              0.8888888888888888,
              "#fdca26"
             ],
             [
              1,
              "#f0f921"
             ]
            ],
            "type": "contour"
           }
          ],
          "contourcarpet": [
           {
            "colorbar": {
             "outlinewidth": 0,
             "ticks": ""
            },
            "type": "contourcarpet"
           }
          ],
          "heatmap": [
           {
            "colorbar": {
             "outlinewidth": 0,
             "ticks": ""
            },
            "colorscale": [
             [
              0,
              "#0d0887"
             ],
             [
              0.1111111111111111,
              "#46039f"
             ],
             [
              0.2222222222222222,
              "#7201a8"
             ],
             [
              0.3333333333333333,
              "#9c179e"
             ],
             [
              0.4444444444444444,
              "#bd3786"
             ],
             [
              0.5555555555555556,
              "#d8576b"
             ],
             [
              0.6666666666666666,
              "#ed7953"
             ],
             [
              0.7777777777777778,
              "#fb9f3a"
             ],
             [
              0.8888888888888888,
              "#fdca26"
             ],
             [
              1,
              "#f0f921"
             ]
            ],
            "type": "heatmap"
           }
          ],
          "heatmapgl": [
           {
            "colorbar": {
             "outlinewidth": 0,
             "ticks": ""
            },
            "colorscale": [
             [
              0,
              "#0d0887"
             ],
             [
              0.1111111111111111,
              "#46039f"
             ],
             [
              0.2222222222222222,
              "#7201a8"
             ],
             [
              0.3333333333333333,
              "#9c179e"
             ],
             [
              0.4444444444444444,
              "#bd3786"
             ],
             [
              0.5555555555555556,
              "#d8576b"
             ],
             [
              0.6666666666666666,
              "#ed7953"
             ],
             [
              0.7777777777777778,
              "#fb9f3a"
             ],
             [
              0.8888888888888888,
              "#fdca26"
             ],
             [
              1,
              "#f0f921"
             ]
            ],
            "type": "heatmapgl"
           }
          ],
          "histogram": [
           {
            "marker": {
             "pattern": {
              "fillmode": "overlay",
              "size": 10,
              "solidity": 0.2
             }
            },
            "type": "histogram"
           }
          ],
          "histogram2d": [
           {
            "colorbar": {
             "outlinewidth": 0,
             "ticks": ""
            },
            "colorscale": [
             [
              0,
              "#0d0887"
             ],
             [
              0.1111111111111111,
              "#46039f"
             ],
             [
              0.2222222222222222,
              "#7201a8"
             ],
             [
              0.3333333333333333,
              "#9c179e"
             ],
             [
              0.4444444444444444,
              "#bd3786"
             ],
             [
              0.5555555555555556,
              "#d8576b"
             ],
             [
              0.6666666666666666,
              "#ed7953"
             ],
             [
              0.7777777777777778,
              "#fb9f3a"
             ],
             [
              0.8888888888888888,
              "#fdca26"
             ],
             [
              1,
              "#f0f921"
             ]
            ],
            "type": "histogram2d"
           }
          ],
          "histogram2dcontour": [
           {
            "colorbar": {
             "outlinewidth": 0,
             "ticks": ""
            },
            "colorscale": [
             [
              0,
              "#0d0887"
             ],
             [
              0.1111111111111111,
              "#46039f"
             ],
             [
              0.2222222222222222,
              "#7201a8"
             ],
             [
              0.3333333333333333,
              "#9c179e"
             ],
             [
              0.4444444444444444,
              "#bd3786"
             ],
             [
              0.5555555555555556,
              "#d8576b"
             ],
             [
              0.6666666666666666,
              "#ed7953"
             ],
             [
              0.7777777777777778,
              "#fb9f3a"
             ],
             [
              0.8888888888888888,
              "#fdca26"
             ],
             [
              1,
              "#f0f921"
             ]
            ],
            "type": "histogram2dcontour"
           }
          ],
          "mesh3d": [
           {
            "colorbar": {
             "outlinewidth": 0,
             "ticks": ""
            },
            "type": "mesh3d"
           }
          ],
          "parcoords": [
           {
            "line": {
             "colorbar": {
              "outlinewidth": 0,
              "ticks": ""
             }
            },
            "type": "parcoords"
           }
          ],
          "pie": [
           {
            "automargin": true,
            "type": "pie"
           }
          ],
          "scatter": [
           {
            "fillpattern": {
             "fillmode": "overlay",
             "size": 10,
             "solidity": 0.2
            },
            "type": "scatter"
           }
          ],
          "scatter3d": [
           {
            "line": {
             "colorbar": {
              "outlinewidth": 0,
              "ticks": ""
             }
            },
            "marker": {
             "colorbar": {
              "outlinewidth": 0,
              "ticks": ""
             }
            },
            "type": "scatter3d"
           }
          ],
          "scattercarpet": [
           {
            "marker": {
             "colorbar": {
              "outlinewidth": 0,
              "ticks": ""
             }
            },
            "type": "scattercarpet"
           }
          ],
          "scattergeo": [
           {
            "marker": {
             "colorbar": {
              "outlinewidth": 0,
              "ticks": ""
             }
            },
            "type": "scattergeo"
           }
          ],
          "scattergl": [
           {
            "marker": {
             "colorbar": {
              "outlinewidth": 0,
              "ticks": ""
             }
            },
            "type": "scattergl"
           }
          ],
          "scattermapbox": [
           {
            "marker": {
             "colorbar": {
              "outlinewidth": 0,
              "ticks": ""
             }
            },
            "type": "scattermapbox"
           }
          ],
          "scatterpolar": [
           {
            "marker": {
             "colorbar": {
              "outlinewidth": 0,
              "ticks": ""
             }
            },
            "type": "scatterpolar"
           }
          ],
          "scatterpolargl": [
           {
            "marker": {
             "colorbar": {
              "outlinewidth": 0,
              "ticks": ""
             }
            },
            "type": "scatterpolargl"
           }
          ],
          "scatterternary": [
           {
            "marker": {
             "colorbar": {
              "outlinewidth": 0,
              "ticks": ""
             }
            },
            "type": "scatterternary"
           }
          ],
          "surface": [
           {
            "colorbar": {
             "outlinewidth": 0,
             "ticks": ""
            },
            "colorscale": [
             [
              0,
              "#0d0887"
             ],
             [
              0.1111111111111111,
              "#46039f"
             ],
             [
              0.2222222222222222,
              "#7201a8"
             ],
             [
              0.3333333333333333,
              "#9c179e"
             ],
             [
              0.4444444444444444,
              "#bd3786"
             ],
             [
              0.5555555555555556,
              "#d8576b"
             ],
             [
              0.6666666666666666,
              "#ed7953"
             ],
             [
              0.7777777777777778,
              "#fb9f3a"
             ],
             [
              0.8888888888888888,
              "#fdca26"
             ],
             [
              1,
              "#f0f921"
             ]
            ],
            "type": "surface"
           }
          ],
          "table": [
           {
            "cells": {
             "fill": {
              "color": "#EBF0F8"
             },
             "line": {
              "color": "white"
             }
            },
            "header": {
             "fill": {
              "color": "#C8D4E3"
             },
             "line": {
              "color": "white"
             }
            },
            "type": "table"
           }
          ]
         },
         "layout": {
          "annotationdefaults": {
           "arrowcolor": "#2a3f5f",
           "arrowhead": 0,
           "arrowwidth": 1
          },
          "autotypenumbers": "strict",
          "coloraxis": {
           "colorbar": {
            "outlinewidth": 0,
            "ticks": ""
           }
          },
          "colorscale": {
           "diverging": [
            [
             0,
             "#8e0152"
            ],
            [
             0.1,
             "#c51b7d"
            ],
            [
             0.2,
             "#de77ae"
            ],
            [
             0.3,
             "#f1b6da"
            ],
            [
             0.4,
             "#fde0ef"
            ],
            [
             0.5,
             "#f7f7f7"
            ],
            [
             0.6,
             "#e6f5d0"
            ],
            [
             0.7,
             "#b8e186"
            ],
            [
             0.8,
             "#7fbc41"
            ],
            [
             0.9,
             "#4d9221"
            ],
            [
             1,
             "#276419"
            ]
           ],
           "sequential": [
            [
             0,
             "#0d0887"
            ],
            [
             0.1111111111111111,
             "#46039f"
            ],
            [
             0.2222222222222222,
             "#7201a8"
            ],
            [
             0.3333333333333333,
             "#9c179e"
            ],
            [
             0.4444444444444444,
             "#bd3786"
            ],
            [
             0.5555555555555556,
             "#d8576b"
            ],
            [
             0.6666666666666666,
             "#ed7953"
            ],
            [
             0.7777777777777778,
             "#fb9f3a"
            ],
            [
             0.8888888888888888,
             "#fdca26"
            ],
            [
             1,
             "#f0f921"
            ]
           ],
           "sequentialminus": [
            [
             0,
             "#0d0887"
            ],
            [
             0.1111111111111111,
             "#46039f"
            ],
            [
             0.2222222222222222,
             "#7201a8"
            ],
            [
             0.3333333333333333,
             "#9c179e"
            ],
            [
             0.4444444444444444,
             "#bd3786"
            ],
            [
             0.5555555555555556,
             "#d8576b"
            ],
            [
             0.6666666666666666,
             "#ed7953"
            ],
            [
             0.7777777777777778,
             "#fb9f3a"
            ],
            [
             0.8888888888888888,
             "#fdca26"
            ],
            [
             1,
             "#f0f921"
            ]
           ]
          },
          "colorway": [
           "#636efa",
           "#EF553B",
           "#00cc96",
           "#ab63fa",
           "#FFA15A",
           "#19d3f3",
           "#FF6692",
           "#B6E880",
           "#FF97FF",
           "#FECB52"
          ],
          "font": {
           "color": "#2a3f5f"
          },
          "geo": {
           "bgcolor": "white",
           "lakecolor": "white",
           "landcolor": "#E5ECF6",
           "showlakes": true,
           "showland": true,
           "subunitcolor": "white"
          },
          "hoverlabel": {
           "align": "left"
          },
          "hovermode": "closest",
          "mapbox": {
           "style": "light"
          },
          "paper_bgcolor": "white",
          "plot_bgcolor": "#E5ECF6",
          "polar": {
           "angularaxis": {
            "gridcolor": "white",
            "linecolor": "white",
            "ticks": ""
           },
           "bgcolor": "#E5ECF6",
           "radialaxis": {
            "gridcolor": "white",
            "linecolor": "white",
            "ticks": ""
           }
          },
          "scene": {
           "xaxis": {
            "backgroundcolor": "#E5ECF6",
            "gridcolor": "white",
            "gridwidth": 2,
            "linecolor": "white",
            "showbackground": true,
            "ticks": "",
            "zerolinecolor": "white"
           },
           "yaxis": {
            "backgroundcolor": "#E5ECF6",
            "gridcolor": "white",
            "gridwidth": 2,
            "linecolor": "white",
            "showbackground": true,
            "ticks": "",
            "zerolinecolor": "white"
           },
           "zaxis": {
            "backgroundcolor": "#E5ECF6",
            "gridcolor": "white",
            "gridwidth": 2,
            "linecolor": "white",
            "showbackground": true,
            "ticks": "",
            "zerolinecolor": "white"
           }
          },
          "shapedefaults": {
           "line": {
            "color": "#2a3f5f"
           }
          },
          "ternary": {
           "aaxis": {
            "gridcolor": "white",
            "linecolor": "white",
            "ticks": ""
           },
           "baxis": {
            "gridcolor": "white",
            "linecolor": "white",
            "ticks": ""
           },
           "bgcolor": "#E5ECF6",
           "caxis": {
            "gridcolor": "white",
            "linecolor": "white",
            "ticks": ""
           }
          },
          "title": {
           "x": 0.05
          },
          "xaxis": {
           "automargin": true,
           "gridcolor": "white",
           "linecolor": "white",
           "ticks": "",
           "title": {
            "standoff": 15
           },
           "zerolinecolor": "white",
           "zerolinewidth": 2
          },
          "yaxis": {
           "automargin": true,
           "gridcolor": "white",
           "linecolor": "white",
           "ticks": "",
           "title": {
            "standoff": 15
           },
           "zerolinecolor": "white",
           "zerolinewidth": 2
          }
         }
        },
        "title": {
         "text": "Opportunities with secret basements by size"
        },
        "width": 1000
       }
      }
     },
     "metadata": {},
     "output_type": "display_data"
    }
   ],
   "source": [
    "# Buildings with secret basements\n",
    "h3ss = px.scatter_mapbox(secret_storage, lat=\"lat\", lon=\"long\", color='basement_sizes_string', size = 'sqft_basement_cleaned', hover_name=\"id\", hover_data=[\"id\", \"city\",\"price_tag_house\",\"sqft_basement_cleaned\",'basement_sizes_string'],\n",
    "                        color_discrete_sequence=px.colors.qualitative.Dark24, zoom=9,  center={'lon': -122.2, 'lat': 47.5 }, width=1000, height=600)\n",
    "h3ss.update_layout(mapbox_style=\"open-street-map\",\n",
    "    title=\"Opportunities with secret basements by size\",\n",
    "    legend_title=\"Property price clusters\",\n",
    "    margin={\"r\":10,\"t\":40,\"l\":10,\"b\":10}\n",
    ")\n",
    "h3ss.show()"
   ]
  },
  {
   "cell_type": "code",
   "execution_count": 232,
   "metadata": {},
   "outputs": [
    {
     "data": {
      "application/vnd.plotly.v1+json": {
       "config": {
        "plotlyServerURL": "https://plot.ly"
       },
       "data": [
        {
         "customdata": [
          [
           2525310310,
           "Maple Valley",
           272500,
           "medium",
           "Below average",
           "Wide land"
          ],
          [
           1545804340,
           "Maple Valley",
           240000,
           "large",
           "Below average",
           "Wide land"
          ],
          [
           4123400320,
           "Issaquah",
           627000,
           "large",
           "Above average",
           "Wide land"
          ],
          [
           3629921240,
           "Issaquah",
           970000,
           "large",
           "Above average",
           "Wide land"
          ],
          [
           2323069073,
           "Issaquah",
           439500,
           "medium",
           "Below average",
           "Wide land"
          ],
          [
           5706200020,
           "Issaquah",
           455000,
           "large",
           "Below average",
           "Wide land"
          ],
          [
           7714000250,
           "Maple Valley",
           394000,
           "large",
           "Below average",
           "Wide land"
          ],
          [
           1423069095,
           "Issaquah",
           600000,
           "large",
           "Below average",
           "Wide land"
          ],
          [
           8929000350,
           "Issaquah",
           472217,
           "large",
           "Below average",
           "Wide land"
          ],
          [
           1423069077,
           "Issaquah",
           570000,
           "xlarge",
           "Below average",
           "Wide land"
          ],
          [
           7802900500,
           "Snoqualmie",
           532500,
           "xlarge",
           "Below average",
           "Wide land"
          ],
          [
           1545806720,
           "Maple Valley",
           254950,
           "xlarge",
           "Below average",
           "Wide land"
          ],
          [
           3630000150,
           "Issaquah",
           358500,
           "medium",
           "Above average",
           "Wide land"
          ],
          [
           1722069097,
           "Maple Valley",
           540000,
           "xlarge",
           "Below average",
           "Wide land"
          ],
          [
           2423069039,
           "Issaquah",
           650000,
           "xlarge",
           "Above average",
           "Wide land"
          ],
          [
           291310180,
           "Issaquah",
           379500,
           "medium",
           "Above average",
           "Wide land"
          ]
         ],
         "hovertemplate": "<b>%{hovertext}</b><br><br>classification=%{customdata[5]}<br>price=%{customdata[2]}<br>lat=%{lat}<br>long=%{lon}<br>id=%{customdata[0]}<br>city=%{customdata[1]}<br>basement_sizes_string=%{customdata[3]}<br>price_tag_house=%{customdata[4]}<extra></extra>",
         "hovertext": [
          2525310310,
          1545804340,
          4123400320,
          3629921240,
          2323069073,
          5706200020,
          7714000250,
          1423069095,
          8929000350,
          1423069077,
          7802900500,
          1545806720,
          3630000150,
          1722069097,
          2423069039,
          291310180
         ],
         "lat": [
          47.3624,
          47.3647,
          47.5688,
          47.5426,
          47.47,
          47.5243,
          47.3552,
          47.4824,
          47.5523,
          47.4847,
          47.5244,
          47.3676,
          47.5478,
          47.3928,
          47.4694,
          47.5344
         ],
         "legendgroup": "Wide land",
         "lon": [
          -122.031,
          -122.05,
          -122.087,
          -121.995,
          -122,
          -122.042,
          -122.026,
          -122,
          -121.998,
          -122,
          -121.842,
          -122.046,
          -121.999,
          -122.066,
          -121.989,
          -122.068
         ],
         "marker": {
          "color": "#2E91E5",
          "size": [
           272500,
           240000,
           627000,
           970000,
           439500,
           455000,
           394000,
           600000,
           472217,
           570000,
           532500,
           254950,
           358500,
           540000,
           650000,
           379500
          ],
          "sizemode": "area",
          "sizeref": 6325
         },
         "mode": "markers",
         "name": "Wide land",
         "showlegend": true,
         "subplot": "mapbox",
         "type": "scattermapbox"
        },
        {
         "customdata": [
          [
           3626039325,
           "Seattle",
           740500,
           "xlarge",
           "Below average",
           "City"
          ],
          [
           5101405124,
           "Seattle",
           435000,
           "large",
           "Above average",
           "City"
          ],
          [
           194000505,
           "Seattle",
           651000,
           "large",
           "Above average",
           "City"
          ],
          [
           1972201820,
           "Seattle",
           610000,
           "medium",
           "Above average",
           "City"
          ],
          [
           65000260,
           "Seattle",
           830000,
           "medium",
           "Above average",
           "City"
          ],
          [
           2402100055,
           "Seattle",
           670000,
           "xlarge",
           "Above average",
           "City"
          ],
          [
           5701500030,
           "Seattle",
           1510000,
           "large",
           "Top 10",
           "City"
          ],
          [
           8901001185,
           "Seattle",
           505000,
           "large",
           "Below average",
           "City"
          ],
          [
           170000215,
           "Seattle",
           752500,
           "xlarge",
           "Above average",
           "City"
          ],
          [
           9297301055,
           "Seattle",
           363000,
           "medium",
           "Above average",
           "City"
          ],
          [
           2461900945,
           "Seattle",
           438000,
           "medium",
           "Below average",
           "City"
          ],
          [
           9136102680,
           "Seattle",
           626500,
           "large",
           "Above average",
           "City"
          ],
          [
           2025049006,
           "Seattle",
           750000,
           "xlarge",
           "Below average",
           "City"
          ],
          [
           5166700050,
           "Seattle",
           600000,
           "xlarge",
           "Below average",
           "City"
          ],
          [
           8058500005,
           "Seattle",
           290000,
           "large",
           "Below average",
           "City"
          ],
          [
           9547205260,
           "Seattle",
           733000,
           "large",
           "Top 10",
           "City"
          ],
          [
           6844703135,
           "Seattle",
           580000,
           "medium",
           "Above average",
           "City"
          ],
          [
           3126049439,
           "Seattle",
           313000,
           "medium",
           "Above average",
           "City"
          ],
          [
           4310700020,
           "Seattle",
           280000,
           "medium",
           "Above average",
           "City"
          ],
          [
           6844700415,
           "Seattle",
           605000,
           "large",
           "Above average",
           "City"
          ],
          [
           1689400375,
           "Seattle",
           1450000,
           "xlarge",
           "Top 10",
           "City"
          ],
          [
           148000590,
           "Seattle",
           725000,
           "large",
           "Above average",
           "City"
          ],
          [
           3935900093,
           "Seattle",
           688000,
           "large",
           "Above average",
           "City"
          ],
          [
           2719100115,
           "Seattle",
           690000,
           "large",
           "Above average",
           "City"
          ],
          [
           5742600115,
           "Seattle",
           630000,
           "xlarge",
           "Above average",
           "City"
          ],
          [
           7352200100,
           "Seattle",
           1360000,
           "medium",
           "Top 10",
           "City"
          ],
          [
           8100900115,
           "Seattle",
           259000,
           "medium",
           "Below average",
           "City"
          ],
          [
           2589300180,
           "Seattle",
           408000,
           "medium",
           "Below average",
           "City"
          ],
          [
           2325039084,
           "Seattle",
           550000,
           "medium",
           "Above average",
           "City"
          ],
          [
           486000510,
           "Seattle",
           1330000,
           "xlarge",
           "Above average",
           "City"
          ],
          [
           3438500677,
           "Seattle",
           305000,
           "large",
           "Above average",
           "City"
          ],
          [
           5700000465,
           "Seattle",
           666000,
           "large",
           "Below average",
           "City"
          ],
          [
           4206901550,
           "Seattle",
           550000,
           "large",
           "Above average",
           "City"
          ],
          [
           9276202160,
           "Seattle",
           660000,
           "xlarge",
           "Above average",
           "City"
          ],
          [
           7905200230,
           "Seattle",
           330000,
           "large",
           "Below average",
           "City"
          ],
          [
           6909200401,
           "Seattle",
           536500,
           "medium",
           "Above average",
           "City"
          ],
          [
           2768300736,
           "Seattle",
           605000,
           "medium",
           "Above average",
           "City"
          ],
          [
           4443800555,
           "Seattle",
           667000,
           "medium",
           "Above average",
           "City"
          ],
          [
           1370803940,
           "Seattle",
           485000,
           "medium",
           "Top 10",
           "City"
          ],
          [
           9530100085,
           "Seattle",
           790000,
           "medium",
           "Top 10",
           "City"
          ],
          [
           2624049103,
           "Seattle",
           449000,
           "medium",
           "Above average",
           "City"
          ],
          [
           2487200775,
           "Seattle",
           610000,
           "medium",
           "Above average",
           "City"
          ],
          [
           9187200345,
           "Seattle",
           599000,
           "large",
           "Below average",
           "City"
          ],
          [
           809001060,
           "Seattle",
           1110000,
           "large",
           "Above average",
           "City"
          ],
          [
           6379500216,
           "Seattle",
           450000,
           "medium",
           "Above average",
           "City"
          ],
          [
           9834200305,
           "Seattle",
           350000,
           "large",
           "Below average",
           "City"
          ],
          [
           2458400345,
           "Seattle",
           340000,
           "large",
           "Below average",
           "City"
          ],
          [
           1257200050,
           "Seattle",
           1310000,
           "xlarge",
           "Above average",
           "City"
          ],
          [
           1797500780,
           "Seattle",
           540000,
           "medium",
           "Above average",
           "City"
          ],
          [
           9547205610,
           "Seattle",
           719000,
           "large",
           "Above average",
           "City"
          ],
          [
           8925100440,
           "Seattle",
           925000,
           "medium",
           "Top 10",
           "City"
          ],
          [
           7369600080,
           "Seattle",
           704000,
           "xlarge",
           "Above average",
           "City"
          ],
          [
           3300701440,
           "Seattle",
           409000,
           "large",
           "Above average",
           "City"
          ],
          [
           7649900175,
           "Seattle",
           494000,
           "large",
           "Below average",
           "City"
          ],
          [
           1868900775,
           "Seattle",
           618500,
           "large",
           "Above average",
           "City"
          ],
          [
           4077800258,
           "Seattle",
           400000,
           "medium",
           "Above average",
           "City"
          ],
          [
           6126601380,
           "Seattle",
           490000,
           "large",
           "Above average",
           "City"
          ],
          [
           284000025,
           "Seattle",
           1410000,
           "large",
           "Top 10",
           "City"
          ],
          [
           5609000311,
           "Seattle",
           729999,
           "xlarge",
           "Below average",
           "City"
          ],
          [
           2902200142,
           "Seattle",
           584000,
           "medium",
           "Above average",
           "City"
          ],
          [
           8850000517,
           "Seattle",
           480000,
           "medium",
           "Above average",
           "City"
          ],
          [
           3013300685,
           "Seattle",
           760000,
           "large",
           "Above average",
           "City"
          ],
          [
           1689401526,
           "Seattle",
           605000,
           "medium",
           "Above average",
           "City"
          ],
          [
           3438500250,
           "Seattle",
           515000,
           "large",
           "Below average",
           "City"
          ],
          [
           3278600680,
           "Seattle",
           235000,
           "medium",
           "Below average",
           "City"
          ],
          [
           3226049565,
           "Seattle",
           504600,
           "large",
           "Below average",
           "City"
          ]
         ],
         "hovertemplate": "<b>%{hovertext}</b><br><br>classification=%{customdata[5]}<br>price=%{customdata[2]}<br>lat=%{lat}<br>long=%{lon}<br>id=%{customdata[0]}<br>city=%{customdata[1]}<br>basement_sizes_string=%{customdata[3]}<br>price_tag_house=%{customdata[4]}<extra></extra>",
         "hovertext": [
          3626039325,
          5101405124,
          194000505,
          1972201820,
          65000260,
          2402100055,
          5701500030,
          8901001185,
          170000215,
          9297301055,
          2461900945,
          9136102680,
          2025049006,
          5166700050,
          8058500005,
          9547205260,
          6844703135,
          3126049439,
          4310700020,
          6844700415,
          1689400375,
          148000590,
          3935900093,
          2719100115,
          5742600115,
          7352200100,
          8100900115,
          2589300180,
          2325039084,
          486000510,
          3438500677,
          5700000465,
          4206901550,
          9276202160,
          7905200230,
          6909200401,
          2768300736,
          4443800555,
          1370803940,
          9530100085,
          2624049103,
          2487200775,
          9187200345,
          809001060,
          6379500216,
          9834200305,
          2458400345,
          1257200050,
          1797500780,
          9547205610,
          8925100440,
          7369600080,
          3300701440,
          7649900175,
          1868900775,
          4077800258,
          6126601380,
          284000025,
          5609000311,
          2902200142,
          8850000517,
          3013300685,
          1689401526,
          3438500250,
          3278600680,
          3226049565
         ],
         "lat": [
          47.6981,
          47.6988,
          47.5664,
          47.6515,
          47.5442,
          47.6895,
          47.5859,
          47.71100000000001,
          47.6612,
          47.5669,
          47.5511,
          47.6656,
          47.6454,
          47.5561,
          47.7069,
          47.6816,
          47.6944,
          47.6967,
          47.7011,
          47.6958,
          47.6385,
          47.5731,
          47.7108,
          47.5433,
          47.5686,
          47.7142,
          47.5495,
          47.5357,
          47.6461,
          47.6773,
          47.5524,
          47.5781,
          47.6557,
          47.5791,
          47.57100000000001,
          47.591,
          47.6666,
          47.6846,
          47.6413,
          47.6681,
          47.5387,
          47.5195,
          47.6025,
          47.6343,
          47.5826,
          47.575,
          47.5102,
          47.6754,
          47.6743,
          47.6826,
          47.6819,
          47.6516,
          47.6916,
          47.5555,
          47.6738,
          47.7098,
          47.5577,
          47.5036,
          47.5687,
          47.6376,
          47.5893,
          47.532,
          47.6327,
          47.5543,
          47.5493,
          47.6931
         ],
         "legendgroup": "City",
         "lon": [
          -122.368,
          -122.319,
          -122.389,
          -122.346,
          -122.38,
          -122.331,
          -122.291,
          -122.306,
          -122.363,
          -122.372,
          -122.386,
          -122.335,
          -122.316,
          -122.379,
          -122.299,
          -122.31,
          -122.288,
          -122.342,
          -122.336,
          -122.29,
          -122.348,
          -122.408,
          -122.279,
          -122.384,
          -122.392,
          -122.277,
          -122.31,
          -122.273,
          -122.397,
          -122.403,
          -122.356,
          -122.293,
          -122.327,
          -122.392,
          -122.391,
          -122.293,
          -122.37,
          -122.392,
          -122.401,
          -122.36,
          -122.266,
          -122.391,
          -122.294,
          -122.352,
          -122.387,
          -122.288,
          -122.372,
          -122.327,
          -122.316,
          -122.311,
          -122.272,
          -122.409,
          -122.38,
          -122.397,
          -122.297,
          -122.283,
          -122.379,
          -122.387,
          -122.291,
          -122.326,
          -122.309,
          -122.384,
          -122.346,
          -122.359,
          -122.372,
          -122.33
         ],
         "marker": {
          "color": "#E15F99",
          "size": [
           740500,
           435000,
           651000,
           610000,
           830000,
           670000,
           1510000,
           505000,
           752500,
           363000,
           438000,
           626500,
           750000,
           600000,
           290000,
           733000,
           580000,
           313000,
           280000,
           605000,
           1450000,
           725000,
           688000,
           690000,
           630000,
           1360000,
           259000,
           408000,
           550000,
           1330000,
           305000,
           666000,
           550000,
           660000,
           330000,
           536500,
           605000,
           667000,
           485000,
           790000,
           449000,
           610000,
           599000,
           1110000,
           450000,
           350000,
           340000,
           1310000,
           540000,
           719000,
           925000,
           704000,
           409000,
           494000,
           618500,
           400000,
           490000,
           1410000,
           729999,
           584000,
           480000,
           760000,
           605000,
           515000,
           235000,
           504600
          ],
          "sizemode": "area",
          "sizeref": 6325
         },
         "mode": "markers",
         "name": "City",
         "showlegend": true,
         "subplot": "mapbox",
         "type": "scattermapbox"
        },
        {
         "customdata": [
          [
           3204800200,
           "Newcastle",
           665000,
           "xlarge",
           "Below average",
           "Has Shore"
          ],
          [
           5149300200,
           "Auburn",
           316500,
           "medium",
           "Below average",
           "Has Shore"
          ],
          [
           4379600030,
           "Shoreline",
           1330000,
           "xlarge",
           "Below average",
           "Has Shore"
          ],
          [
           3990200125,
           "Normandy Park",
           385000,
           "large",
           "Below average",
           "Has Shore"
          ],
          [
           8731990090,
           "Auburn",
           560000,
           "xlarge",
           "Below average",
           "Has Shore"
          ],
          [
           6117500430,
           "Normandy Park",
           925000,
           "xlarge",
           "Below average",
           "Has Shore"
          ],
          [
           3619600143,
           "Shoreline",
           650000,
           "large",
           "Above average",
           "Has Shore"
          ],
          [
           7695450010,
           "Des Moines",
           604700,
           "xlarge",
           "Below average",
           "Has Shore"
          ],
          [
           8700500020,
           "Seatac",
           324950,
           "medium",
           "Below average",
           "Has Shore"
          ],
          [
           3276180020,
           "Newcastle",
           385000,
           "large",
           "Below average",
           "Has Shore"
          ],
          [
           4358700188,
           "Shoreline",
           305000,
           "medium",
           "Below average",
           "Has Shore"
          ],
          [
           5029451080,
           "Auburn",
           203000,
           "medium",
           "Below average",
           "Has Shore"
          ],
          [
           7893203480,
           "Des Moines",
           205000,
           "medium",
           "Below average",
           "Has Shore"
          ],
          [
           3210400060,
           "Des Moines",
           255000,
           "medium",
           "Below average",
           "Has Shore"
          ],
          [
           3345100251,
           "Newcastle",
           429900,
           "large",
           "Below average",
           "Has Shore"
          ],
          [
           5381000072,
           "Seatac",
           349950,
           "large",
           "Below average",
           "Has Shore"
          ],
          [
           2023049372,
           "Des Moines",
           339950,
           "medium",
           "Below average",
           "Has Shore"
          ]
         ],
         "hovertemplate": "<b>%{hovertext}</b><br><br>classification=%{customdata[5]}<br>price=%{customdata[2]}<br>lat=%{lat}<br>long=%{lon}<br>id=%{customdata[0]}<br>city=%{customdata[1]}<br>basement_sizes_string=%{customdata[3]}<br>price_tag_house=%{customdata[4]}<extra></extra>",
         "hovertext": [
          3204800200,
          5149300200,
          4379600030,
          3990200125,
          8731990090,
          6117500430,
          3619600143,
          7695450010,
          8700500020,
          3276180020,
          4358700188,
          5029451080,
          7893203480,
          3210400060,
          3345100251,
          5381000072,
          2023049372
         ],
         "lat": [
          47.5376,
          47.3272,
          47.7313,
          47.4598,
          47.3227,
          47.4384,
          47.7241,
          47.3566,
          47.457,
          47.5071,
          47.7072,
          47.2896,
          47.4192,
          47.3676,
          47.521,
          47.4524,
          47.4666
         ],
         "legendgroup": "Has Shore",
         "lon": [
          -122.18,
          -122.355,
          -122.37,
          -122.352,
          -122.384,
          -122.352,
          -122.369,
          -122.32,
          -122.27,
          -122.194,
          -122.336,
          -122.369,
          -122.33,
          -122.312,
          -122.179,
          -122.284,
          -122.326
         ],
         "marker": {
          "color": "#1CA71C",
          "size": [
           665000,
           316500,
           1330000,
           385000,
           560000,
           925000,
           650000,
           604700,
           324950,
           385000,
           305000,
           203000,
           205000,
           255000,
           429900,
           349950,
           339950
          ],
          "sizemode": "area",
          "sizeref": 6325
         },
         "mode": "markers",
         "name": "Has Shore",
         "showlegend": true,
         "subplot": "mapbox",
         "type": "scattermapbox"
        },
        {
         "customdata": [
          [
           713500030,
           "Bellevue",
           1350000,
           "xlarge",
           "Above average",
           "Richie rich"
          ],
          [
           5113400431,
           "Seattle",
           615000,
           "large",
           "Above average",
           "Richie rich"
          ],
          [
           9209900270,
           "Seattle",
           515000,
           "medium",
           "Top 10",
           "Richie rich"
          ],
          [
           3623500135,
           "Mercer Island",
           800000,
           "large",
           "Above average",
           "Richie rich"
          ],
          [
           625059051,
           "Kirkland",
           2350000,
           "large",
           "Top 10",
           "Richie rich"
          ],
          [
           3377900195,
           "Bellevue",
           2530000,
           "xlarge",
           "Above average",
           "Richie rich"
          ],
          [
           1692900110,
           "Kirkland",
           1130000,
           "large",
           "Above average",
           "Richie rich"
          ],
          [
           1118001295,
           "Seattle",
           2200000,
           "medium",
           "Top 10",
           "Richie rich"
          ],
          [
           2207100405,
           "Bellevue",
           423000,
           "large",
           "Below average",
           "Richie rich"
          ],
          [
           2770604920,
           "Seattle",
           497000,
           "large",
           "Below average",
           "Richie rich"
          ],
          [
           3625710080,
           "Mercer Island",
           1030000,
           "xlarge",
           "Above average",
           "Richie rich"
          ],
          [
           3578400950,
           "Redmond",
           492450,
           "medium",
           "Above average",
           "Richie rich"
          ],
          [
           569000050,
           "Redmond",
           565000,
           "large",
           "Above average",
           "Richie rich"
          ],
          [
           2141300080,
           "Bellevue",
           707000,
           "xlarge",
           "Below average",
           "Richie rich"
          ],
          [
           3876312840,
           "Woodinville",
           408000,
           "medium",
           "Below average",
           "Richie rich"
          ],
          [
           5113400113,
           "Seattle",
           756000,
           "xlarge",
           "Above average",
           "Richie rich"
          ],
          [
           2024059110,
           "Bellevue",
           925000,
           "xlarge",
           "Below average",
           "Richie rich"
          ],
          [
           3211600140,
           "Kirkland",
           475000,
           "xlarge",
           "Below average",
           "Richie rich"
          ],
          [
           7510700030,
           "Redmond",
           695000,
           "large",
           "Below average",
           "Richie rich"
          ],
          [
           3211200140,
           "Kirkland",
           350000,
           "large",
           "Below average",
           "Richie rich"
          ],
          [
           6811000220,
           "Redmond",
           510000,
           "large",
           "Above average",
           "Richie rich"
          ],
          [
           866400040,
           "Kirkland",
           540000,
           "xlarge",
           "Below average",
           "Richie rich"
          ],
          [
           7011201445,
           "Seattle",
           525000,
           "large",
           "Above average",
           "Richie rich"
          ],
          [
           2193320210,
           "Redmond",
           552500,
           "large",
           "Below average",
           "Richie rich"
          ],
          [
           1842300050,
           "Redmond",
           600000,
           "xlarge",
           "Above average",
           "Richie rich"
          ],
          [
           9828702335,
           "Seattle",
           570000,
           "medium",
           "Top 10",
           "Richie rich"
          ],
          [
           5453700020,
           "Mercer Island",
           910000,
           "medium",
           "Top 10",
           "Richie rich"
          ],
          [
           9348700450,
           "Redmond",
           833000,
           "large",
           "Below average",
           "Richie rich"
          ],
          [
           9527000090,
           "Kirkland",
           425000,
           "medium",
           "Below average",
           "Richie rich"
          ],
          [
           2125049133,
           "Seattle",
           715000,
           "large",
           "Above average",
           "Richie rich"
          ],
          [
           1337800665,
           "Seattle",
           1330000,
           "medium",
           "Top 10",
           "Richie rich"
          ],
          [
           9542200220,
           "Bellevue",
           810000,
           "xlarge",
           "Below average",
           "Richie rich"
          ],
          [
           3886902615,
           "Kirkland",
           720000,
           "medium",
           "Above average",
           "Richie rich"
          ],
          [
           224059021,
           "Bellevue",
           450000,
           "medium",
           "Above average",
           "Richie rich"
          ],
          [
           3879900750,
           "Seattle",
           579000,
           "medium",
           "Top 10",
           "Richie rich"
          ],
          [
           6169901185,
           "Seattle",
           490000,
           "xlarge",
           "Below average",
           "Richie rich"
          ]
         ],
         "hovertemplate": "<b>%{hovertext}</b><br><br>classification=%{customdata[5]}<br>price=%{customdata[2]}<br>lat=%{lat}<br>long=%{lon}<br>id=%{customdata[0]}<br>city=%{customdata[1]}<br>basement_sizes_string=%{customdata[3]}<br>price_tag_house=%{customdata[4]}<extra></extra>",
         "hovertext": [
          713500030,
          5113400431,
          9209900270,
          3623500135,
          625059051,
          3377900195,
          1692900110,
          1118001295,
          2207100405,
          2770604920,
          3625710080,
          3578400950,
          569000050,
          2141300080,
          3876312840,
          5113400113,
          2024059110,
          3211600140,
          7510700030,
          3211200140,
          6811000220,
          866400040,
          7011201445,
          2193320210,
          1842300050,
          9828702335,
          5453700020,
          9348700450,
          9527000090,
          2125049133,
          1337800665,
          9542200220,
          3886902615,
          224059021,
          3879900750,
          6169901185
         ],
         "lat": [
          47.5543,
          47.6454,
          47.6231,
          47.5743,
          47.6878,
          47.5547,
          47.6651,
          47.63399999999999,
          47.5995,
          47.6543,
          47.527,
          47.6231,
          47.6623,
          47.5596,
          47.7353,
          47.6442,
          47.5506,
          47.726000000000006,
          47.621,
          47.7307,
          47.6301,
          47.7271,
          47.6368,
          47.697,
          47.6696,
          47.6205,
          47.5358,
          47.7054,
          47.7103,
          47.6394,
          47.6292,
          47.5956,
          47.683,
          47.5974,
          47.6273,
          47.6313
         ],
         "legendgroup": "Richie rich",
         "lon": [
          -122.148,
          -122.373,
          -122.293,
          -122.238,
          -122.215,
          -122.144,
          -122.19,
          -122.288,
          -122.144,
          -122.373,
          -122.228,
          -122.044,
          -122.152,
          -122.142,
          -122.172,
          -122.372,
          -122.187,
          -122.198,
          -122.03,
          -122.239,
          -122.107,
          -122.228,
          -122.371,
          -122.097,
          -122.149,
          -122.3,
          -122.235,
          -122.107,
          -122.232,
          -122.308,
          -122.312,
          -122.178,
          -122.187,
          -122.129,
          -122.359,
          -122.37
         ],
         "marker": {
          "color": "#FB0D0D",
          "size": [
           1350000,
           615000,
           515000,
           800000,
           2350000,
           2530000,
           1130000,
           2200000,
           423000,
           497000,
           1030000,
           492450,
           565000,
           707000,
           408000,
           756000,
           925000,
           475000,
           695000,
           350000,
           510000,
           540000,
           525000,
           552500,
           600000,
           570000,
           910000,
           833000,
           425000,
           715000,
           1330000,
           810000,
           720000,
           450000,
           579000,
           490000
          ],
          "sizemode": "area",
          "sizeref": 6325
         },
         "mode": "markers",
         "name": "Richie rich",
         "showlegend": true,
         "subplot": "mapbox",
         "type": "scattermapbox"
        },
        {
         "customdata": [
          [
           8832900550,
           "Kenmore",
           650000,
           "medium",
           "Below average",
           "Outskirt"
          ],
          [
           4140090370,
           "Kenmore",
           446500,
           "xlarge",
           "Below average",
           "Outskirt"
          ],
          [
           1021079099,
           "Black Diamond",
           345000,
           "large",
           "Below average",
           "Outskirt"
          ],
          [
           4322300010,
           "Federal Way",
           294700,
           "large",
           "Below average",
           "Outskirt"
          ],
          [
           1622059088,
           "Kent",
           385000,
           "xlarge",
           "Below average",
           "Outskirt"
          ],
          [
           739800250,
           "Kent",
           269000,
           "medium",
           "Below average",
           "Outskirt"
          ],
          [
           3583400120,
           "Kenmore",
           526750,
           "large",
           "Below average",
           "Outskirt"
          ],
          [
           6928600330,
           "Federal Way",
           278000,
           "xlarge",
           "Below average",
           "Outskirt"
          ],
          [
           6666860210,
           "Kent",
           316000,
           "medium",
           "Below average",
           "Outskirt"
          ],
          [
           2787700150,
           "Newcastle",
           365000,
           "large",
           "Below average",
           "Outskirt"
          ],
          [
           3226079059,
           "Carnation",
           549950,
           "medium",
           "Below average",
           "Outskirt"
          ],
          [
           822059038,
           "Kent",
           290000,
           "large",
           "Below average",
           "Outskirt"
          ],
          [
           8832900135,
           "Kenmore",
           769000,
           "xlarge",
           "Below average",
           "Outskirt"
          ],
          [
           6804600260,
           "Bothell",
           420000,
           "medium",
           "Above average",
           "Outskirt"
          ],
          [
           2473510260,
           "Renton",
           460000,
           "xlarge",
           "Below average",
           "Outskirt"
          ],
          [
           1402200140,
           "Renton",
           400000,
           "xlarge",
           "Below average",
           "Outskirt"
          ],
          [
           798000145,
           "Burien",
           244500,
           "large",
           "Below average",
           "Outskirt"
          ],
          [
           1822069052,
           "Renton",
           450000,
           "large",
           "Below average",
           "Outskirt"
          ],
          [
           4202400395,
           "Renton",
           285000,
           "large",
           "Below average",
           "Outskirt"
          ],
          [
           7937600087,
           "Renton",
           405000,
           "xlarge",
           "Below average",
           "Outskirt"
          ],
          [
           9122500080,
           "Kent",
           275000,
           "xlarge",
           "Below average",
           "Outskirt"
          ],
          [
           8864000425,
           "Burien",
           242000,
           "large",
           "Below average",
           "Outskirt"
          ],
          [
           3308010040,
           "Kent",
           325000,
           "medium",
           "Below average",
           "Outskirt"
          ],
          [
           1761300650,
           "Kent",
           295000,
           "large",
           "Below average",
           "Outskirt"
          ],
          [
           5631501161,
           "Kenmore",
           425000,
           "large",
           "Below average",
           "Outskirt"
          ]
         ],
         "hovertemplate": "<b>%{hovertext}</b><br><br>classification=%{customdata[5]}<br>price=%{customdata[2]}<br>lat=%{lat}<br>long=%{lon}<br>id=%{customdata[0]}<br>city=%{customdata[1]}<br>basement_sizes_string=%{customdata[3]}<br>price_tag_house=%{customdata[4]}<extra></extra>",
         "hovertext": [
          8832900550,
          4140090370,
          1021079099,
          4322300010,
          1622059088,
          739800250,
          3583400120,
          6928600330,
          6666860210,
          2787700150,
          3226079059,
          822059038,
          8832900135,
          6804600260,
          2473510260,
          1402200140,
          798000145,
          1822069052,
          4202400395,
          7937600087,
          9122500080,
          8864000425,
          3308010040,
          1761300650,
          5631501161
         ],
         "lat": [
          47.7605,
          47.7675,
          47.3259,
          47.2824,
          47.3931,
          47.4046,
          47.74100000000001,
          47.3355,
          47.4202,
          47.5067,
          47.6991,
          47.4045,
          47.75899999999999,
          47.7601,
          47.4462,
          47.4379,
          47.4989,
          47.3939,
          47.4883,
          47.4398,
          47.3896,
          47.4807,
          47.3657,
          47.395,
          47.7474
         ],
         "legendgroup": "Outskirt",
         "lon": [
          -122.267,
          -122.261,
          -121.896,
          -122.301,
          -122.183,
          -122.194,
          -122.256,
          -122.331,
          -122.204,
          -122.16,
          -121.947,
          -122.197,
          -122.269,
          -122.167,
          -122.137,
          -122.146,
          -122.329,
          -122.089,
          -122.221,
          -122.08,
          -122.218,
          -122.29,
          -122.21,
          -122.174,
          -122.235
         ],
         "marker": {
          "color": "#DA16FF",
          "size": [
           650000,
           446500,
           345000,
           294700,
           385000,
           269000,
           526750,
           278000,
           316000,
           365000,
           549950,
           290000,
           769000,
           420000,
           460000,
           400000,
           244500,
           450000,
           285000,
           405000,
           275000,
           242000,
           325000,
           295000,
           425000
          ],
          "sizemode": "area",
          "sizeref": 6325
         },
         "mode": "markers",
         "name": "Outskirt",
         "showlegend": true,
         "subplot": "mapbox",
         "type": "scattermapbox"
        },
        {
         "customdata": [
          [
           8665900295,
           "Lake Forest Park",
           439500,
           "large",
           "Above average",
           "Forest"
          ],
          [
           408100105,
           "Lake Forest Park",
           265000,
           "medium",
           "Above average",
           "Forest"
          ],
          [
           9257900010,
           "Lake Forest Park",
           499900,
           "large",
           "Below average",
           "Forest"
          ],
          [
           1445200190,
           "Lake Forest Park",
           284900,
           "medium",
           "Above average",
           "Forest"
          ],
          [
           7304300420,
           "Lake Forest Park",
           464500,
           "medium",
           "Above average",
           "Forest"
          ]
         ],
         "hovertemplate": "<b>%{hovertext}</b><br><br>classification=%{customdata[5]}<br>price=%{customdata[2]}<br>lat=%{lat}<br>long=%{lon}<br>id=%{customdata[0]}<br>city=%{customdata[1]}<br>basement_sizes_string=%{customdata[3]}<br>price_tag_house=%{customdata[4]}<extra></extra>",
         "hovertext": [
          8665900295,
          408100105,
          9257900010,
          1445200190,
          7304300420
         ],
         "lat": [
          47.7679,
          47.7505,
          47.75,
          47.7675,
          47.7425
         ],
         "legendgroup": "Forest",
         "lon": [
          -122.308,
          -122.317,
          -122.292,
          -122.315,
          -122.321
         ],
         "marker": {
          "color": "#222A2A",
          "size": [
           439500,
           265000,
           499900,
           284900,
           464500
          ],
          "sizemode": "area",
          "sizeref": 6325
         },
         "mode": "markers",
         "name": "Forest",
         "showlegend": true,
         "subplot": "mapbox",
         "type": "scattermapbox"
        },
        {
         "customdata": [
          [
           6791100280,
           "Sammamish",
           430000,
           "large",
           "Above average",
           "Poor dogs"
          ],
          [
           924069176,
           "Sammamish",
           710000,
           "xlarge",
           "Above average",
           "Poor dogs"
          ],
          [
           7939000090,
           "Auburn",
           355000,
           "large",
           "Below average",
           "Poor dogs"
          ]
         ],
         "hovertemplate": "<b>%{hovertext}</b><br><br>classification=%{customdata[5]}<br>price=%{customdata[2]}<br>lat=%{lat}<br>long=%{lon}<br>id=%{customdata[0]}<br>city=%{customdata[1]}<br>basement_sizes_string=%{customdata[3]}<br>price_tag_house=%{customdata[4]}<extra></extra>",
         "hovertext": [
          6791100280,
          924069176,
          7939000090
         ],
         "lat": [
          47.57899999999999,
          47.5836,
          47.3107
         ],
         "legendgroup": "Poor dogs",
         "lon": [
          -122.051,
          -122.046,
          -122.189
         ],
         "marker": {
          "color": "#B68100",
          "size": [
           430000,
           710000,
           355000
          ],
          "sizemode": "area",
          "sizeref": 6325
         },
         "mode": "markers",
         "name": "Poor dogs",
         "showlegend": true,
         "subplot": "mapbox",
         "type": "scattermapbox"
        },
        {
         "customdata": [
          [
           8068000730,
           "Seattle",
           315000,
           "large",
           "Below average",
           "City "
          ],
          [
           1180002745,
           "Seattle",
           285000,
           "xlarge",
           "Below average",
           "City "
          ]
         ],
         "hovertemplate": "<b>%{hovertext}</b><br><br>classification=%{customdata[5]}<br>price=%{customdata[2]}<br>lat=%{lat}<br>long=%{lon}<br>id=%{customdata[0]}<br>city=%{customdata[1]}<br>basement_sizes_string=%{customdata[3]}<br>price_tag_house=%{customdata[4]}<extra></extra>",
         "hovertext": [
          8068000730,
          1180002745
         ],
         "lat": [
          47.5094,
          47.49800000000001
         ],
         "legendgroup": "City ",
         "lon": [
          -122.263,
          -122.222
         ],
         "marker": {
          "color": "#750D86",
          "size": [
           315000,
           285000
          ],
          "sizemode": "area",
          "sizeref": 6325
         },
         "mode": "markers",
         "name": "City ",
         "showlegend": true,
         "subplot": "mapbox",
         "type": "scattermapbox"
        }
       ],
       "layout": {
        "height": 600,
        "legend": {
         "itemsizing": "constant",
         "title": {
          "text": "Property price clusters"
         },
         "tracegroupgap": 0
        },
        "mapbox": {
         "center": {
          "lat": 47.5,
          "lon": -122.2
         },
         "domain": {
          "x": [
           0,
           1
          ],
          "y": [
           0,
           1
          ]
         },
         "style": "open-street-map",
         "zoom": 9
        },
        "margin": {
         "b": 10,
         "l": 10,
         "r": 10,
         "t": 40
        },
        "template": {
         "data": {
          "bar": [
           {
            "error_x": {
             "color": "#2a3f5f"
            },
            "error_y": {
             "color": "#2a3f5f"
            },
            "marker": {
             "line": {
              "color": "#E5ECF6",
              "width": 0.5
             },
             "pattern": {
              "fillmode": "overlay",
              "size": 10,
              "solidity": 0.2
             }
            },
            "type": "bar"
           }
          ],
          "barpolar": [
           {
            "marker": {
             "line": {
              "color": "#E5ECF6",
              "width": 0.5
             },
             "pattern": {
              "fillmode": "overlay",
              "size": 10,
              "solidity": 0.2
             }
            },
            "type": "barpolar"
           }
          ],
          "carpet": [
           {
            "aaxis": {
             "endlinecolor": "#2a3f5f",
             "gridcolor": "white",
             "linecolor": "white",
             "minorgridcolor": "white",
             "startlinecolor": "#2a3f5f"
            },
            "baxis": {
             "endlinecolor": "#2a3f5f",
             "gridcolor": "white",
             "linecolor": "white",
             "minorgridcolor": "white",
             "startlinecolor": "#2a3f5f"
            },
            "type": "carpet"
           }
          ],
          "choropleth": [
           {
            "colorbar": {
             "outlinewidth": 0,
             "ticks": ""
            },
            "type": "choropleth"
           }
          ],
          "contour": [
           {
            "colorbar": {
             "outlinewidth": 0,
             "ticks": ""
            },
            "colorscale": [
             [
              0,
              "#0d0887"
             ],
             [
              0.1111111111111111,
              "#46039f"
             ],
             [
              0.2222222222222222,
              "#7201a8"
             ],
             [
              0.3333333333333333,
              "#9c179e"
             ],
             [
              0.4444444444444444,
              "#bd3786"
             ],
             [
              0.5555555555555556,
              "#d8576b"
             ],
             [
              0.6666666666666666,
              "#ed7953"
             ],
             [
              0.7777777777777778,
              "#fb9f3a"
             ],
             [
              0.8888888888888888,
              "#fdca26"
             ],
             [
              1,
              "#f0f921"
             ]
            ],
            "type": "contour"
           }
          ],
          "contourcarpet": [
           {
            "colorbar": {
             "outlinewidth": 0,
             "ticks": ""
            },
            "type": "contourcarpet"
           }
          ],
          "heatmap": [
           {
            "colorbar": {
             "outlinewidth": 0,
             "ticks": ""
            },
            "colorscale": [
             [
              0,
              "#0d0887"
             ],
             [
              0.1111111111111111,
              "#46039f"
             ],
             [
              0.2222222222222222,
              "#7201a8"
             ],
             [
              0.3333333333333333,
              "#9c179e"
             ],
             [
              0.4444444444444444,
              "#bd3786"
             ],
             [
              0.5555555555555556,
              "#d8576b"
             ],
             [
              0.6666666666666666,
              "#ed7953"
             ],
             [
              0.7777777777777778,
              "#fb9f3a"
             ],
             [
              0.8888888888888888,
              "#fdca26"
             ],
             [
              1,
              "#f0f921"
             ]
            ],
            "type": "heatmap"
           }
          ],
          "heatmapgl": [
           {
            "colorbar": {
             "outlinewidth": 0,
             "ticks": ""
            },
            "colorscale": [
             [
              0,
              "#0d0887"
             ],
             [
              0.1111111111111111,
              "#46039f"
             ],
             [
              0.2222222222222222,
              "#7201a8"
             ],
             [
              0.3333333333333333,
              "#9c179e"
             ],
             [
              0.4444444444444444,
              "#bd3786"
             ],
             [
              0.5555555555555556,
              "#d8576b"
             ],
             [
              0.6666666666666666,
              "#ed7953"
             ],
             [
              0.7777777777777778,
              "#fb9f3a"
             ],
             [
              0.8888888888888888,
              "#fdca26"
             ],
             [
              1,
              "#f0f921"
             ]
            ],
            "type": "heatmapgl"
           }
          ],
          "histogram": [
           {
            "marker": {
             "pattern": {
              "fillmode": "overlay",
              "size": 10,
              "solidity": 0.2
             }
            },
            "type": "histogram"
           }
          ],
          "histogram2d": [
           {
            "colorbar": {
             "outlinewidth": 0,
             "ticks": ""
            },
            "colorscale": [
             [
              0,
              "#0d0887"
             ],
             [
              0.1111111111111111,
              "#46039f"
             ],
             [
              0.2222222222222222,
              "#7201a8"
             ],
             [
              0.3333333333333333,
              "#9c179e"
             ],
             [
              0.4444444444444444,
              "#bd3786"
             ],
             [
              0.5555555555555556,
              "#d8576b"
             ],
             [
              0.6666666666666666,
              "#ed7953"
             ],
             [
              0.7777777777777778,
              "#fb9f3a"
             ],
             [
              0.8888888888888888,
              "#fdca26"
             ],
             [
              1,
              "#f0f921"
             ]
            ],
            "type": "histogram2d"
           }
          ],
          "histogram2dcontour": [
           {
            "colorbar": {
             "outlinewidth": 0,
             "ticks": ""
            },
            "colorscale": [
             [
              0,
              "#0d0887"
             ],
             [
              0.1111111111111111,
              "#46039f"
             ],
             [
              0.2222222222222222,
              "#7201a8"
             ],
             [
              0.3333333333333333,
              "#9c179e"
             ],
             [
              0.4444444444444444,
              "#bd3786"
             ],
             [
              0.5555555555555556,
              "#d8576b"
             ],
             [
              0.6666666666666666,
              "#ed7953"
             ],
             [
              0.7777777777777778,
              "#fb9f3a"
             ],
             [
              0.8888888888888888,
              "#fdca26"
             ],
             [
              1,
              "#f0f921"
             ]
            ],
            "type": "histogram2dcontour"
           }
          ],
          "mesh3d": [
           {
            "colorbar": {
             "outlinewidth": 0,
             "ticks": ""
            },
            "type": "mesh3d"
           }
          ],
          "parcoords": [
           {
            "line": {
             "colorbar": {
              "outlinewidth": 0,
              "ticks": ""
             }
            },
            "type": "parcoords"
           }
          ],
          "pie": [
           {
            "automargin": true,
            "type": "pie"
           }
          ],
          "scatter": [
           {
            "fillpattern": {
             "fillmode": "overlay",
             "size": 10,
             "solidity": 0.2
            },
            "type": "scatter"
           }
          ],
          "scatter3d": [
           {
            "line": {
             "colorbar": {
              "outlinewidth": 0,
              "ticks": ""
             }
            },
            "marker": {
             "colorbar": {
              "outlinewidth": 0,
              "ticks": ""
             }
            },
            "type": "scatter3d"
           }
          ],
          "scattercarpet": [
           {
            "marker": {
             "colorbar": {
              "outlinewidth": 0,
              "ticks": ""
             }
            },
            "type": "scattercarpet"
           }
          ],
          "scattergeo": [
           {
            "marker": {
             "colorbar": {
              "outlinewidth": 0,
              "ticks": ""
             }
            },
            "type": "scattergeo"
           }
          ],
          "scattergl": [
           {
            "marker": {
             "colorbar": {
              "outlinewidth": 0,
              "ticks": ""
             }
            },
            "type": "scattergl"
           }
          ],
          "scattermapbox": [
           {
            "marker": {
             "colorbar": {
              "outlinewidth": 0,
              "ticks": ""
             }
            },
            "type": "scattermapbox"
           }
          ],
          "scatterpolar": [
           {
            "marker": {
             "colorbar": {
              "outlinewidth": 0,
              "ticks": ""
             }
            },
            "type": "scatterpolar"
           }
          ],
          "scatterpolargl": [
           {
            "marker": {
             "colorbar": {
              "outlinewidth": 0,
              "ticks": ""
             }
            },
            "type": "scatterpolargl"
           }
          ],
          "scatterternary": [
           {
            "marker": {
             "colorbar": {
              "outlinewidth": 0,
              "ticks": ""
             }
            },
            "type": "scatterternary"
           }
          ],
          "surface": [
           {
            "colorbar": {
             "outlinewidth": 0,
             "ticks": ""
            },
            "colorscale": [
             [
              0,
              "#0d0887"
             ],
             [
              0.1111111111111111,
              "#46039f"
             ],
             [
              0.2222222222222222,
              "#7201a8"
             ],
             [
              0.3333333333333333,
              "#9c179e"
             ],
             [
              0.4444444444444444,
              "#bd3786"
             ],
             [
              0.5555555555555556,
              "#d8576b"
             ],
             [
              0.6666666666666666,
              "#ed7953"
             ],
             [
              0.7777777777777778,
              "#fb9f3a"
             ],
             [
              0.8888888888888888,
              "#fdca26"
             ],
             [
              1,
              "#f0f921"
             ]
            ],
            "type": "surface"
           }
          ],
          "table": [
           {
            "cells": {
             "fill": {
              "color": "#EBF0F8"
             },
             "line": {
              "color": "white"
             }
            },
            "header": {
             "fill": {
              "color": "#C8D4E3"
             },
             "line": {
              "color": "white"
             }
            },
            "type": "table"
           }
          ]
         },
         "layout": {
          "annotationdefaults": {
           "arrowcolor": "#2a3f5f",
           "arrowhead": 0,
           "arrowwidth": 1
          },
          "autotypenumbers": "strict",
          "coloraxis": {
           "colorbar": {
            "outlinewidth": 0,
            "ticks": ""
           }
          },
          "colorscale": {
           "diverging": [
            [
             0,
             "#8e0152"
            ],
            [
             0.1,
             "#c51b7d"
            ],
            [
             0.2,
             "#de77ae"
            ],
            [
             0.3,
             "#f1b6da"
            ],
            [
             0.4,
             "#fde0ef"
            ],
            [
             0.5,
             "#f7f7f7"
            ],
            [
             0.6,
             "#e6f5d0"
            ],
            [
             0.7,
             "#b8e186"
            ],
            [
             0.8,
             "#7fbc41"
            ],
            [
             0.9,
             "#4d9221"
            ],
            [
             1,
             "#276419"
            ]
           ],
           "sequential": [
            [
             0,
             "#0d0887"
            ],
            [
             0.1111111111111111,
             "#46039f"
            ],
            [
             0.2222222222222222,
             "#7201a8"
            ],
            [
             0.3333333333333333,
             "#9c179e"
            ],
            [
             0.4444444444444444,
             "#bd3786"
            ],
            [
             0.5555555555555556,
             "#d8576b"
            ],
            [
             0.6666666666666666,
             "#ed7953"
            ],
            [
             0.7777777777777778,
             "#fb9f3a"
            ],
            [
             0.8888888888888888,
             "#fdca26"
            ],
            [
             1,
             "#f0f921"
            ]
           ],
           "sequentialminus": [
            [
             0,
             "#0d0887"
            ],
            [
             0.1111111111111111,
             "#46039f"
            ],
            [
             0.2222222222222222,
             "#7201a8"
            ],
            [
             0.3333333333333333,
             "#9c179e"
            ],
            [
             0.4444444444444444,
             "#bd3786"
            ],
            [
             0.5555555555555556,
             "#d8576b"
            ],
            [
             0.6666666666666666,
             "#ed7953"
            ],
            [
             0.7777777777777778,
             "#fb9f3a"
            ],
            [
             0.8888888888888888,
             "#fdca26"
            ],
            [
             1,
             "#f0f921"
            ]
           ]
          },
          "colorway": [
           "#636efa",
           "#EF553B",
           "#00cc96",
           "#ab63fa",
           "#FFA15A",
           "#19d3f3",
           "#FF6692",
           "#B6E880",
           "#FF97FF",
           "#FECB52"
          ],
          "font": {
           "color": "#2a3f5f"
          },
          "geo": {
           "bgcolor": "white",
           "lakecolor": "white",
           "landcolor": "#E5ECF6",
           "showlakes": true,
           "showland": true,
           "subunitcolor": "white"
          },
          "hoverlabel": {
           "align": "left"
          },
          "hovermode": "closest",
          "mapbox": {
           "style": "light"
          },
          "paper_bgcolor": "white",
          "plot_bgcolor": "#E5ECF6",
          "polar": {
           "angularaxis": {
            "gridcolor": "white",
            "linecolor": "white",
            "ticks": ""
           },
           "bgcolor": "#E5ECF6",
           "radialaxis": {
            "gridcolor": "white",
            "linecolor": "white",
            "ticks": ""
           }
          },
          "scene": {
           "xaxis": {
            "backgroundcolor": "#E5ECF6",
            "gridcolor": "white",
            "gridwidth": 2,
            "linecolor": "white",
            "showbackground": true,
            "ticks": "",
            "zerolinecolor": "white"
           },
           "yaxis": {
            "backgroundcolor": "#E5ECF6",
            "gridcolor": "white",
            "gridwidth": 2,
            "linecolor": "white",
            "showbackground": true,
            "ticks": "",
            "zerolinecolor": "white"
           },
           "zaxis": {
            "backgroundcolor": "#E5ECF6",
            "gridcolor": "white",
            "gridwidth": 2,
            "linecolor": "white",
            "showbackground": true,
            "ticks": "",
            "zerolinecolor": "white"
           }
          },
          "shapedefaults": {
           "line": {
            "color": "#2a3f5f"
           }
          },
          "ternary": {
           "aaxis": {
            "gridcolor": "white",
            "linecolor": "white",
            "ticks": ""
           },
           "baxis": {
            "gridcolor": "white",
            "linecolor": "white",
            "ticks": ""
           },
           "bgcolor": "#E5ECF6",
           "caxis": {
            "gridcolor": "white",
            "linecolor": "white",
            "ticks": ""
           }
          },
          "title": {
           "x": 0.05
          },
          "xaxis": {
           "automargin": true,
           "gridcolor": "white",
           "linecolor": "white",
           "ticks": "",
           "title": {
            "standoff": 15
           },
           "zerolinecolor": "white",
           "zerolinewidth": 2
          },
          "yaxis": {
           "automargin": true,
           "gridcolor": "white",
           "linecolor": "white",
           "ticks": "",
           "title": {
            "standoff": 15
           },
           "zerolinecolor": "white",
           "zerolinewidth": 2
          }
         }
        },
        "title": {
         "text": "Opportunities by location classification and price indicator"
        },
        "width": 1000
       }
      }
     },
     "metadata": {},
     "output_type": "display_data"
    }
   ],
   "source": [
    "# buildings in rich location that are cheaper than their surroundings\n",
    "h3c = px.scatter_mapbox(secret_storage, lat=\"lat\", lon=\"long\", color='classification', size = 'price', hover_name=\"id\", hover_data=[\"id\", \"city\",\"price\",'basement_sizes_string','price_tag_house','classification'],\n",
    "                        color_discrete_sequence=px.colors.qualitative.Dark24, zoom=9, center={'lon': -122.2, 'lat': 47.5 }, width=1000, height=600)\n",
    "h3c.update_layout(mapbox_style=\"open-street-map\",\n",
    "    title=\"Opportunities by location classification and price indicator\",\n",
    "    legend_title=\"Property price clusters\",\n",
    "    margin={\"r\":10,\"t\":40,\"l\":10,\"b\":10}\n",
    "    )\n",
    "h3c.show()"
   ]
  },
  {
   "cell_type": "code",
   "execution_count": 233,
   "metadata": {},
   "outputs": [
    {
     "data": {
      "text/html": [
       "<div>\n",
       "<style scoped>\n",
       "    .dataframe tbody tr th:only-of-type {\n",
       "        vertical-align: middle;\n",
       "    }\n",
       "\n",
       "    .dataframe tbody tr th {\n",
       "        vertical-align: top;\n",
       "    }\n",
       "\n",
       "    .dataframe thead th {\n",
       "        text-align: right;\n",
       "    }\n",
       "</style>\n",
       "<table border=\"1\" class=\"dataframe\">\n",
       "  <thead>\n",
       "    <tr style=\"text-align: right;\">\n",
       "      <th></th>\n",
       "      <th>id</th>\n",
       "      <th>date</th>\n",
       "      <th>price</th>\n",
       "      <th>bedrooms</th>\n",
       "      <th>bathrooms</th>\n",
       "      <th>sqft_living</th>\n",
       "      <th>sqft_lot</th>\n",
       "      <th>floors</th>\n",
       "      <th>waterfront</th>\n",
       "      <th>view</th>\n",
       "      <th>...</th>\n",
       "      <th>price_tag_lot</th>\n",
       "      <th>renovation_indicator</th>\n",
       "      <th>view_eval</th>\n",
       "      <th>condition_eval</th>\n",
       "      <th>grade_eval</th>\n",
       "      <th>sqft_basement_cleaned</th>\n",
       "      <th>has_secret_storage</th>\n",
       "      <th>basement_sizes_string</th>\n",
       "      <th>basement_sizes_int</th>\n",
       "      <th>basement_to_rest_ratio</th>\n",
       "    </tr>\n",
       "  </thead>\n",
       "  <tbody>\n",
       "    <tr>\n",
       "      <th>7921</th>\n",
       "      <td>5029451080</td>\n",
       "      <td>2014-08-21</td>\n",
       "      <td>203000.0</td>\n",
       "      <td>2</td>\n",
       "      <td>1.0</td>\n",
       "      <td>1440</td>\n",
       "      <td>6650</td>\n",
       "      <td>1.0</td>\n",
       "      <td>False</td>\n",
       "      <td>0.0</td>\n",
       "      <td>...</td>\n",
       "      <td>Below average</td>\n",
       "      <td>Piece of crap</td>\n",
       "      <td>Wall facing</td>\n",
       "      <td>Average</td>\n",
       "      <td>Average!</td>\n",
       "      <td>470.0</td>\n",
       "      <td>True</td>\n",
       "      <td>medium</td>\n",
       "      <td>3</td>\n",
       "      <td>0.5</td>\n",
       "    </tr>\n",
       "    <tr>\n",
       "      <th>8985</th>\n",
       "      <td>7893203480</td>\n",
       "      <td>2015-05-12</td>\n",
       "      <td>205000.0</td>\n",
       "      <td>3</td>\n",
       "      <td>1.5</td>\n",
       "      <td>1420</td>\n",
       "      <td>5000</td>\n",
       "      <td>1.0</td>\n",
       "      <td>False</td>\n",
       "      <td>0.0</td>\n",
       "      <td>...</td>\n",
       "      <td>Below average</td>\n",
       "      <td>Piece of crap</td>\n",
       "      <td>Wall facing</td>\n",
       "      <td>Average</td>\n",
       "      <td>Average!</td>\n",
       "      <td>500.0</td>\n",
       "      <td>True</td>\n",
       "      <td>medium</td>\n",
       "      <td>3</td>\n",
       "      <td>0.5</td>\n",
       "    </tr>\n",
       "    <tr>\n",
       "      <th>21210</th>\n",
       "      <td>3278600680</td>\n",
       "      <td>2014-06-27</td>\n",
       "      <td>235000.0</td>\n",
       "      <td>1</td>\n",
       "      <td>1.5</td>\n",
       "      <td>1170</td>\n",
       "      <td>1456</td>\n",
       "      <td>2.0</td>\n",
       "      <td>False</td>\n",
       "      <td>0.0</td>\n",
       "      <td>...</td>\n",
       "      <td>Above average</td>\n",
       "      <td>Piece of crap</td>\n",
       "      <td>Wall facing</td>\n",
       "      <td>Average</td>\n",
       "      <td>Above average</td>\n",
       "      <td>100.0</td>\n",
       "      <td>True</td>\n",
       "      <td>medium</td>\n",
       "      <td>3</td>\n",
       "      <td>0.1</td>\n",
       "    </tr>\n",
       "    <tr>\n",
       "      <th>11201</th>\n",
       "      <td>3210400060</td>\n",
       "      <td>2014-12-24</td>\n",
       "      <td>255000.0</td>\n",
       "      <td>3</td>\n",
       "      <td>1.0</td>\n",
       "      <td>1580</td>\n",
       "      <td>8206</td>\n",
       "      <td>1.0</td>\n",
       "      <td>False</td>\n",
       "      <td>0.0</td>\n",
       "      <td>...</td>\n",
       "      <td>Below average</td>\n",
       "      <td>Piece of crap</td>\n",
       "      <td>Wall facing</td>\n",
       "      <td>Average</td>\n",
       "      <td>Average!</td>\n",
       "      <td>480.0</td>\n",
       "      <td>True</td>\n",
       "      <td>medium</td>\n",
       "      <td>3</td>\n",
       "      <td>0.4</td>\n",
       "    </tr>\n",
       "    <tr>\n",
       "      <th>9364</th>\n",
       "      <td>8100900115</td>\n",
       "      <td>2015-02-06</td>\n",
       "      <td>259000.0</td>\n",
       "      <td>3</td>\n",
       "      <td>1.8</td>\n",
       "      <td>1270</td>\n",
       "      <td>4815</td>\n",
       "      <td>1.5</td>\n",
       "      <td>False</td>\n",
       "      <td>0.0</td>\n",
       "      <td>...</td>\n",
       "      <td>Below average</td>\n",
       "      <td>Piece of crap</td>\n",
       "      <td>Wall facing</td>\n",
       "      <td>Average</td>\n",
       "      <td>Below average</td>\n",
       "      <td>290.0</td>\n",
       "      <td>True</td>\n",
       "      <td>medium</td>\n",
       "      <td>3</td>\n",
       "      <td>0.3</td>\n",
       "    </tr>\n",
       "    <tr>\n",
       "      <th>7325</th>\n",
       "      <td>4310700020</td>\n",
       "      <td>2014-10-10</td>\n",
       "      <td>280000.0</td>\n",
       "      <td>3</td>\n",
       "      <td>1.0</td>\n",
       "      <td>1100</td>\n",
       "      <td>5132</td>\n",
       "      <td>1.0</td>\n",
       "      <td>False</td>\n",
       "      <td>0.0</td>\n",
       "      <td>...</td>\n",
       "      <td>Below average</td>\n",
       "      <td>Piece of crap</td>\n",
       "      <td>Wall facing</td>\n",
       "      <td>Average</td>\n",
       "      <td>Below average</td>\n",
       "      <td>260.0</td>\n",
       "      <td>True</td>\n",
       "      <td>medium</td>\n",
       "      <td>3</td>\n",
       "      <td>0.3</td>\n",
       "    </tr>\n",
       "    <tr>\n",
       "      <th>5409</th>\n",
       "      <td>8058500005</td>\n",
       "      <td>2015-02-03</td>\n",
       "      <td>290000.0</td>\n",
       "      <td>2</td>\n",
       "      <td>1.0</td>\n",
       "      <td>1620</td>\n",
       "      <td>5400</td>\n",
       "      <td>1.0</td>\n",
       "      <td>False</td>\n",
       "      <td>0.0</td>\n",
       "      <td>...</td>\n",
       "      <td>Below average</td>\n",
       "      <td>Piece of crap</td>\n",
       "      <td>Wall facing</td>\n",
       "      <td>Average</td>\n",
       "      <td>Below average</td>\n",
       "      <td>700.0</td>\n",
       "      <td>True</td>\n",
       "      <td>large</td>\n",
       "      <td>4</td>\n",
       "      <td>0.8</td>\n",
       "    </tr>\n",
       "    <tr>\n",
       "      <th>11319</th>\n",
       "      <td>3438500677</td>\n",
       "      <td>2014-06-13</td>\n",
       "      <td>305000.0</td>\n",
       "      <td>3</td>\n",
       "      <td>1.5</td>\n",
       "      <td>1210</td>\n",
       "      <td>5240</td>\n",
       "      <td>1.0</td>\n",
       "      <td>False</td>\n",
       "      <td>0.0</td>\n",
       "      <td>...</td>\n",
       "      <td>Below average</td>\n",
       "      <td>Piece of crap</td>\n",
       "      <td>Wall facing</td>\n",
       "      <td>Good</td>\n",
       "      <td>Average!</td>\n",
       "      <td>600.0</td>\n",
       "      <td>True</td>\n",
       "      <td>large</td>\n",
       "      <td>4</td>\n",
       "      <td>1.0</td>\n",
       "    </tr>\n",
       "    <tr>\n",
       "      <th>7311</th>\n",
       "      <td>4358700188</td>\n",
       "      <td>2015-03-31</td>\n",
       "      <td>305000.0</td>\n",
       "      <td>3</td>\n",
       "      <td>2.5</td>\n",
       "      <td>1260</td>\n",
       "      <td>895</td>\n",
       "      <td>3.0</td>\n",
       "      <td>False</td>\n",
       "      <td>0.0</td>\n",
       "      <td>...</td>\n",
       "      <td>Top 10</td>\n",
       "      <td>Piece of crap</td>\n",
       "      <td>Wall facing</td>\n",
       "      <td>Average</td>\n",
       "      <td>Average!</td>\n",
       "      <td>100.0</td>\n",
       "      <td>True</td>\n",
       "      <td>medium</td>\n",
       "      <td>3</td>\n",
       "      <td>0.1</td>\n",
       "    </tr>\n",
       "    <tr>\n",
       "      <th>6631</th>\n",
       "      <td>3126049439</td>\n",
       "      <td>2015-01-09</td>\n",
       "      <td>313000.0</td>\n",
       "      <td>2</td>\n",
       "      <td>1.5</td>\n",
       "      <td>870</td>\n",
       "      <td>747</td>\n",
       "      <td>2.0</td>\n",
       "      <td>False</td>\n",
       "      <td>0.0</td>\n",
       "      <td>...</td>\n",
       "      <td>Top 10</td>\n",
       "      <td>Piece of crap</td>\n",
       "      <td>Wall facing</td>\n",
       "      <td>Average</td>\n",
       "      <td>Above average</td>\n",
       "      <td>70.0</td>\n",
       "      <td>True</td>\n",
       "      <td>medium</td>\n",
       "      <td>3</td>\n",
       "      <td>0.1</td>\n",
       "    </tr>\n",
       "  </tbody>\n",
       "</table>\n",
       "<p>10 rows × 36 columns</p>\n",
       "</div>"
      ],
      "text/plain": [
       "               id        date    price  bedrooms  bathrooms  sqft_living  \\\n",
       "7921   5029451080  2014-08-21 203000.0         2        1.0         1440   \n",
       "8985   7893203480  2015-05-12 205000.0         3        1.5         1420   \n",
       "21210  3278600680  2014-06-27 235000.0         1        1.5         1170   \n",
       "11201  3210400060  2014-12-24 255000.0         3        1.0         1580   \n",
       "9364   8100900115  2015-02-06 259000.0         3        1.8         1270   \n",
       "7325   4310700020  2014-10-10 280000.0         3        1.0         1100   \n",
       "5409   8058500005  2015-02-03 290000.0         2        1.0         1620   \n",
       "11319  3438500677  2014-06-13 305000.0         3        1.5         1210   \n",
       "7311   4358700188  2015-03-31 305000.0         3        2.5         1260   \n",
       "6631   3126049439  2015-01-09 313000.0         2        1.5          870   \n",
       "\n",
       "       sqft_lot  floors  waterfront  view  ...  price_tag_lot  \\\n",
       "7921       6650     1.0       False   0.0  ...  Below average   \n",
       "8985       5000     1.0       False   0.0  ...  Below average   \n",
       "21210      1456     2.0       False   0.0  ...  Above average   \n",
       "11201      8206     1.0       False   0.0  ...  Below average   \n",
       "9364       4815     1.5       False   0.0  ...  Below average   \n",
       "7325       5132     1.0       False   0.0  ...  Below average   \n",
       "5409       5400     1.0       False   0.0  ...  Below average   \n",
       "11319      5240     1.0       False   0.0  ...  Below average   \n",
       "7311        895     3.0       False   0.0  ...         Top 10   \n",
       "6631        747     2.0       False   0.0  ...         Top 10   \n",
       "\n",
       "       renovation_indicator    view_eval  condition_eval     grade_eval  \\\n",
       "7921          Piece of crap  Wall facing         Average       Average!   \n",
       "8985          Piece of crap  Wall facing         Average       Average!   \n",
       "21210         Piece of crap  Wall facing         Average  Above average   \n",
       "11201         Piece of crap  Wall facing         Average       Average!   \n",
       "9364          Piece of crap  Wall facing         Average  Below average   \n",
       "7325          Piece of crap  Wall facing         Average  Below average   \n",
       "5409          Piece of crap  Wall facing         Average  Below average   \n",
       "11319         Piece of crap  Wall facing            Good       Average!   \n",
       "7311          Piece of crap  Wall facing         Average       Average!   \n",
       "6631          Piece of crap  Wall facing         Average  Above average   \n",
       "\n",
       "       sqft_basement_cleaned  has_secret_storage  basement_sizes_string  \\\n",
       "7921                   470.0                True                 medium   \n",
       "8985                   500.0                True                 medium   \n",
       "21210                  100.0                True                 medium   \n",
       "11201                  480.0                True                 medium   \n",
       "9364                   290.0                True                 medium   \n",
       "7325                   260.0                True                 medium   \n",
       "5409                   700.0                True                  large   \n",
       "11319                  600.0                True                  large   \n",
       "7311                   100.0                True                 medium   \n",
       "6631                    70.0                True                 medium   \n",
       "\n",
       "       basement_sizes_int  basement_to_rest_ratio  \n",
       "7921                    3                     0.5  \n",
       "8985                    3                     0.5  \n",
       "21210                   3                     0.1  \n",
       "11201                   3                     0.4  \n",
       "9364                    3                     0.3  \n",
       "7325                    3                     0.3  \n",
       "5409                    4                     0.8  \n",
       "11319                   4                     1.0  \n",
       "7311                    3                     0.1  \n",
       "6631                    3                     0.1  \n",
       "\n",
       "[10 rows x 36 columns]"
      ]
     },
     "execution_count": 233,
     "metadata": {},
     "output_type": "execute_result"
    }
   ],
   "source": [
    "# create best pics list\n",
    "secret_storage.query('classification in (\"Has Shore\",\"Richie rich\",\"City\")').sort_values(['price']).head(10)"
   ]
  },
  {
   "cell_type": "code",
   "execution_count": 242,
   "metadata": {},
   "outputs": [
    {
     "name": "stdout",
     "output_type": "stream",
     "text": [
      "<class 'pandas.core.frame.DataFrame'>\n",
      "RangeIndex: 21597 entries, 0 to 21596\n",
      "Data columns (total 36 columns):\n",
      " #   Column                  Non-Null Count  Dtype  \n",
      "---  ------                  --------------  -----  \n",
      " 0   id                      21597 non-null  int64  \n",
      " 1   date                    21597 non-null  object \n",
      " 2   price                   21597 non-null  float64\n",
      " 3   bedrooms                21597 non-null  int64  \n",
      " 4   bathrooms               21597 non-null  float64\n",
      " 5   sqft_living             21597 non-null  int64  \n",
      " 6   sqft_lot                21597 non-null  int64  \n",
      " 7   floors                  21597 non-null  float64\n",
      " 8   waterfront              21597 non-null  bool   \n",
      " 9   view                    21597 non-null  float64\n",
      " 10  condition               21597 non-null  int64  \n",
      " 11  grade                   21597 non-null  int64  \n",
      " 12  sqft_above              21597 non-null  int64  \n",
      " 13  sqft_basement           21597 non-null  float64\n",
      " 14  yr_built                21597 non-null  int64  \n",
      " 15  yr_renovated            21597 non-null  int64  \n",
      " 16  zipcode                 21597 non-null  int64  \n",
      " 17  lat                     21597 non-null  float64\n",
      " 18  long                    21597 non-null  float64\n",
      " 19  sqft_living15           21597 non-null  int64  \n",
      " 20  sqft_lot15              21597 non-null  int64  \n",
      " 21  city                    21597 non-null  object \n",
      " 22  classification          21597 non-null  object \n",
      " 23  price_per_sqft_house    21597 non-null  float64\n",
      " 24  price_per_sqft_lot      21597 non-null  float64\n",
      " 25  price_tag_house         21597 non-null  object \n",
      " 26  price_tag_lot           21597 non-null  object \n",
      " 27  renovation_indicator    21597 non-null  object \n",
      " 28  view_eval               21597 non-null  object \n",
      " 29  condition_eval          21597 non-null  object \n",
      " 30  grade_eval              21597 non-null  object \n",
      " 31  sqft_basement_cleaned   21597 non-null  float64\n",
      " 32  has_secret_storage      21597 non-null  bool   \n",
      " 33  basement_sizes_string   21597 non-null  object \n",
      " 34  basement_sizes_int      21597 non-null  int64  \n",
      " 35  basement_to_rest_ratio  21597 non-null  float64\n",
      "dtypes: bool(2), float64(11), int64(13), object(10)\n",
      "memory usage: 5.6+ MB\n"
     ]
    }
   ],
   "source": [
    "dfviz.info()"
   ]
  },
  {
   "cell_type": "code",
   "execution_count": 244,
   "metadata": {},
   "outputs": [
    {
     "data": {
      "text/html": [
       "<div>\n",
       "<style scoped>\n",
       "    .dataframe tbody tr th:only-of-type {\n",
       "        vertical-align: middle;\n",
       "    }\n",
       "\n",
       "    .dataframe tbody tr th {\n",
       "        vertical-align: top;\n",
       "    }\n",
       "\n",
       "    .dataframe thead th {\n",
       "        text-align: right;\n",
       "    }\n",
       "</style>\n",
       "<table border=\"1\" class=\"dataframe\">\n",
       "  <thead>\n",
       "    <tr style=\"text-align: right;\">\n",
       "      <th></th>\n",
       "      <th>id</th>\n",
       "      <th>price</th>\n",
       "      <th>has_secret_storage</th>\n",
       "      <th>bedrooms</th>\n",
       "      <th>bathrooms</th>\n",
       "      <th>city</th>\n",
       "      <th>basement_to_rest_ratio</th>\n",
       "      <th>sqft_living</th>\n",
       "      <th>sqft_above</th>\n",
       "      <th>sqft_basement_cleaned</th>\n",
       "      <th>basement_sizes_string</th>\n",
       "      <th>price_tag_house</th>\n",
       "      <th>classification</th>\n",
       "      <th>lat</th>\n",
       "      <th>long</th>\n",
       "    </tr>\n",
       "  </thead>\n",
       "  <tbody>\n",
       "    <tr>\n",
       "      <th>17097</th>\n",
       "      <td>8864000425</td>\n",
       "      <td>242000.0</td>\n",
       "      <td>True</td>\n",
       "      <td>3</td>\n",
       "      <td>1.8</td>\n",
       "      <td>Burien</td>\n",
       "      <td>1.0</td>\n",
       "      <td>1580</td>\n",
       "      <td>790</td>\n",
       "      <td>790.0</td>\n",
       "      <td>large</td>\n",
       "      <td>Below average</td>\n",
       "      <td>Outskirt</td>\n",
       "      <td>47.5</td>\n",
       "      <td>-122.3</td>\n",
       "    </tr>\n",
       "    <tr>\n",
       "      <th>12933</th>\n",
       "      <td>798000145</td>\n",
       "      <td>244500.0</td>\n",
       "      <td>True</td>\n",
       "      <td>2</td>\n",
       "      <td>1.8</td>\n",
       "      <td>Burien</td>\n",
       "      <td>1.0</td>\n",
       "      <td>1300</td>\n",
       "      <td>650</td>\n",
       "      <td>650.0</td>\n",
       "      <td>large</td>\n",
       "      <td>Below average</td>\n",
       "      <td>Outskirt</td>\n",
       "      <td>47.5</td>\n",
       "      <td>-122.3</td>\n",
       "    </tr>\n",
       "    <tr>\n",
       "      <th>17241</th>\n",
       "      <td>1545806720</td>\n",
       "      <td>254950.0</td>\n",
       "      <td>True</td>\n",
       "      <td>4</td>\n",
       "      <td>2.0</td>\n",
       "      <td>Maple Valley</td>\n",
       "      <td>0.9</td>\n",
       "      <td>2180</td>\n",
       "      <td>1170</td>\n",
       "      <td>1010.0</td>\n",
       "      <td>xlarge</td>\n",
       "      <td>Below average</td>\n",
       "      <td>Wide land</td>\n",
       "      <td>47.4</td>\n",
       "      <td>-122.0</td>\n",
       "    </tr>\n",
       "    <tr>\n",
       "      <th>15301</th>\n",
       "      <td>9122500080</td>\n",
       "      <td>275000.0</td>\n",
       "      <td>True</td>\n",
       "      <td>5</td>\n",
       "      <td>2.0</td>\n",
       "      <td>Kent</td>\n",
       "      <td>0.8</td>\n",
       "      <td>2260</td>\n",
       "      <td>1250</td>\n",
       "      <td>1010.0</td>\n",
       "      <td>xlarge</td>\n",
       "      <td>Below average</td>\n",
       "      <td>Outskirt</td>\n",
       "      <td>47.4</td>\n",
       "      <td>-122.2</td>\n",
       "    </tr>\n",
       "    <tr>\n",
       "      <th>8039</th>\n",
       "      <td>6928600330</td>\n",
       "      <td>278000.0</td>\n",
       "      <td>True</td>\n",
       "      <td>5</td>\n",
       "      <td>1.8</td>\n",
       "      <td>Federal Way</td>\n",
       "      <td>1.0</td>\n",
       "      <td>2170</td>\n",
       "      <td>1100</td>\n",
       "      <td>1070.0</td>\n",
       "      <td>xlarge</td>\n",
       "      <td>Below average</td>\n",
       "      <td>Outskirt</td>\n",
       "      <td>47.3</td>\n",
       "      <td>-122.3</td>\n",
       "    </tr>\n",
       "    <tr>\n",
       "      <th>17528</th>\n",
       "      <td>1180002745</td>\n",
       "      <td>285000.0</td>\n",
       "      <td>True</td>\n",
       "      <td>3</td>\n",
       "      <td>1.8</td>\n",
       "      <td>Seattle</td>\n",
       "      <td>0.8</td>\n",
       "      <td>2380</td>\n",
       "      <td>1320</td>\n",
       "      <td>1060.0</td>\n",
       "      <td>xlarge</td>\n",
       "      <td>Below average</td>\n",
       "      <td>City</td>\n",
       "      <td>47.5</td>\n",
       "      <td>-122.2</td>\n",
       "    </tr>\n",
       "    <tr>\n",
       "      <th>5409</th>\n",
       "      <td>8058500005</td>\n",
       "      <td>290000.0</td>\n",
       "      <td>True</td>\n",
       "      <td>2</td>\n",
       "      <td>1.0</td>\n",
       "      <td>Seattle</td>\n",
       "      <td>0.8</td>\n",
       "      <td>1620</td>\n",
       "      <td>920</td>\n",
       "      <td>700.0</td>\n",
       "      <td>large</td>\n",
       "      <td>Below average</td>\n",
       "      <td>City</td>\n",
       "      <td>47.7</td>\n",
       "      <td>-122.3</td>\n",
       "    </tr>\n",
       "    <tr>\n",
       "      <th>11319</th>\n",
       "      <td>3438500677</td>\n",
       "      <td>305000.0</td>\n",
       "      <td>True</td>\n",
       "      <td>3</td>\n",
       "      <td>1.5</td>\n",
       "      <td>Seattle</td>\n",
       "      <td>1.0</td>\n",
       "      <td>1210</td>\n",
       "      <td>610</td>\n",
       "      <td>600.0</td>\n",
       "      <td>large</td>\n",
       "      <td>Above average</td>\n",
       "      <td>City</td>\n",
       "      <td>47.6</td>\n",
       "      <td>-122.4</td>\n",
       "    </tr>\n",
       "    <tr>\n",
       "      <th>8094</th>\n",
       "      <td>8068000730</td>\n",
       "      <td>315000.0</td>\n",
       "      <td>True</td>\n",
       "      <td>4</td>\n",
       "      <td>2.0</td>\n",
       "      <td>Seattle</td>\n",
       "      <td>0.9</td>\n",
       "      <td>1780</td>\n",
       "      <td>930</td>\n",
       "      <td>850.0</td>\n",
       "      <td>large</td>\n",
       "      <td>Below average</td>\n",
       "      <td>City</td>\n",
       "      <td>47.5</td>\n",
       "      <td>-122.3</td>\n",
       "    </tr>\n",
       "    <tr>\n",
       "      <th>12161</th>\n",
       "      <td>3211200140</td>\n",
       "      <td>350000.0</td>\n",
       "      <td>True</td>\n",
       "      <td>4</td>\n",
       "      <td>2.0</td>\n",
       "      <td>Kirkland</td>\n",
       "      <td>1.0</td>\n",
       "      <td>1720</td>\n",
       "      <td>860</td>\n",
       "      <td>860.0</td>\n",
       "      <td>large</td>\n",
       "      <td>Below average</td>\n",
       "      <td>Richie rich</td>\n",
       "      <td>47.7</td>\n",
       "      <td>-122.2</td>\n",
       "    </tr>\n",
       "  </tbody>\n",
       "</table>\n",
       "</div>"
      ],
      "text/plain": [
       "               id    price  has_secret_storage  bedrooms  bathrooms  \\\n",
       "17097  8864000425 242000.0                True         3        1.8   \n",
       "12933   798000145 244500.0                True         2        1.8   \n",
       "17241  1545806720 254950.0                True         4        2.0   \n",
       "15301  9122500080 275000.0                True         5        2.0   \n",
       "8039   6928600330 278000.0                True         5        1.8   \n",
       "17528  1180002745 285000.0                True         3        1.8   \n",
       "5409   8058500005 290000.0                True         2        1.0   \n",
       "11319  3438500677 305000.0                True         3        1.5   \n",
       "8094   8068000730 315000.0                True         4        2.0   \n",
       "12161  3211200140 350000.0                True         4        2.0   \n",
       "\n",
       "               city  basement_to_rest_ratio  sqft_living  sqft_above  \\\n",
       "17097        Burien                     1.0         1580         790   \n",
       "12933        Burien                     1.0         1300         650   \n",
       "17241  Maple Valley                     0.9         2180        1170   \n",
       "15301          Kent                     0.8         2260        1250   \n",
       "8039    Federal Way                     1.0         2170        1100   \n",
       "17528       Seattle                     0.8         2380        1320   \n",
       "5409        Seattle                     0.8         1620         920   \n",
       "11319       Seattle                     1.0         1210         610   \n",
       "8094        Seattle                     0.9         1780         930   \n",
       "12161      Kirkland                     1.0         1720         860   \n",
       "\n",
       "       sqft_basement_cleaned basement_sizes_string price_tag_house  \\\n",
       "17097                  790.0                 large   Below average   \n",
       "12933                  650.0                 large   Below average   \n",
       "17241                 1010.0                xlarge   Below average   \n",
       "15301                 1010.0                xlarge   Below average   \n",
       "8039                  1070.0                xlarge   Below average   \n",
       "17528                 1060.0                xlarge   Below average   \n",
       "5409                   700.0                 large   Below average   \n",
       "11319                  600.0                 large   Above average   \n",
       "8094                   850.0                 large   Below average   \n",
       "12161                  860.0                 large   Below average   \n",
       "\n",
       "      classification  lat   long  \n",
       "17097       Outskirt 47.5 -122.3  \n",
       "12933       Outskirt 47.5 -122.3  \n",
       "17241      Wide land 47.4 -122.0  \n",
       "15301       Outskirt 47.4 -122.2  \n",
       "8039        Outskirt 47.3 -122.3  \n",
       "17528          City  47.5 -122.2  \n",
       "5409            City 47.7 -122.3  \n",
       "11319           City 47.6 -122.4  \n",
       "8094           City  47.5 -122.3  \n",
       "12161    Richie rich 47.7 -122.2  "
      ]
     },
     "execution_count": 244,
     "metadata": {},
     "output_type": "execute_result"
    }
   ],
   "source": [
    "# best basement to rest ratio overall\n",
    "large_basement_to_rest = dfviz.query('basement_to_rest_ratio > 0.75')\n",
    "# create data frame for the question\n",
    "large_basement_to_rest = large_basement_to_rest[['id','price','has_secret_storage','bedrooms','bathrooms', \"city\",'basement_to_rest_ratio','sqft_living','sqft_above','sqft_basement_cleaned','basement_sizes_string','price_tag_house','classification','lat','long']]\n",
    "# create best pics list\n",
    "large_basement_to_rest.query('has_secret_storage').sort_values(['price']).head(10)"
   ]
  },
  {
   "cell_type": "code",
   "execution_count": 235,
   "metadata": {},
   "outputs": [
    {
     "data": {
      "application/vnd.plotly.v1+json": {
       "config": {
        "plotlyServerURL": "https://plot.ly"
       },
       "data": [
        {
         "customdata": [
          [
           2487200875,
           "Seattle",
           604000,
           0.9,
           "large",
           "Above average",
           "City"
          ],
          [
           1736800520,
           "Bellevue",
           662500,
           0.9,
           "xlarge",
           "Below average",
           "Richie rich"
          ],
          [
           6300500875,
           "Shoreline",
           385000,
           0.9,
           "large",
           "Below average",
           "Has Shore"
          ],
          [
           5101402488,
           "Seattle",
           438000,
           0.9,
           "large",
           "Above average",
           "City"
          ],
          [
           9435300030,
           "Redmond",
           550000,
           0.8,
           "large",
           "Above average",
           "Richie rich"
          ],
          [
           7231300125,
           "Newcastle",
           345000,
           0.9,
           "xlarge",
           "Below average",
           "Has Shore"
          ],
          [
           3626039271,
           "Seattle",
           585000,
           1,
           "xlarge",
           "Above average",
           "City"
          ],
          [
           1802000060,
           "Bellevue",
           1330000,
           1,
           "xlarge",
           "Top 10",
           "Belle"
          ],
          [
           4036801170,
           "Bellevue",
           380000,
           1,
           "large",
           "Below average",
           "Richie rich"
          ],
          [
           9418400240,
           "Seattle",
           355000,
           1,
           "xlarge",
           "Below average",
           "City"
          ],
          [
           3362400511,
           "Seattle",
           570000,
           0.8,
           "medium",
           "Top 10",
           "City"
          ],
          [
           6126500060,
           "Seattle",
           329950,
           0.9,
           "xlarge",
           "Below average",
           "City"
          ],
          [
           3655000070,
           "Federal Way",
           220000,
           1,
           "xlarge",
           "Below average",
           "Outskirt"
          ],
          [
           4027700812,
           "Kenmore",
           452000,
           0.9,
           "xlarge",
           "Below average",
           "Outskirt"
          ],
          [
           1777500060,
           "Bellevue",
           527700,
           0.8,
           "xlarge",
           "Below average",
           "Richie rich"
          ],
          [
           8075400570,
           "Kent",
           258000,
           1,
           "xlarge",
           "Below average",
           "Has Shore"
          ],
          [
           84000105,
           "Seattle",
           255000,
           1,
           "xlarge",
           "Below average",
           "City"
          ],
          [
           2617300160,
           "Issaquah",
           420000,
           1,
           "xlarge",
           "Below average",
           "Wide land"
          ],
          [
           2009000370,
           "Des Moines",
           269950,
           0.9,
           "large",
           "Below average",
           "Has Shore"
          ],
          [
           825059270,
           "Kirkland",
           1100000,
           1,
           "xlarge",
           "Above average",
           "Richie rich"
          ],
          [
           46100204,
           "Mercer Island",
           1510000,
           0.8,
           "xlarge",
           "Top 10",
           "Richie rich"
          ],
          [
           1250202145,
           "Seattle",
           1070000,
           1,
           "xlarge",
           "Above average",
           "City"
          ],
          [
           5152100060,
           "Federal Way",
           472000,
           0.9,
           "xlarge",
           "Below average",
           "Outskirt"
          ],
          [
           2025069065,
           "Redmond",
           2400000,
           1,
           "xlarge",
           "Top 10",
           "Richie rich"
          ],
          [
           3797001895,
           "Seattle",
           481000,
           1,
           "large",
           "Above average",
           "City"
          ],
          [
           1105000588,
           "Seattle",
           349500,
           0.8,
           "large",
           "Above average",
           "City"
          ],
          [
           7972601890,
           "Seattle",
           385000,
           1,
           "xlarge",
           "Below average",
           "City"
          ],
          [
           4235400186,
           "Seattle",
           331000,
           0.9,
           "medium",
           "Above average",
           "City"
          ],
          [
           9412900055,
           "Seattle",
           405000,
           0.9,
           "xlarge",
           "Below average",
           "City"
          ],
          [
           9552700140,
           "Bellevue",
           675000,
           1,
           "xlarge",
           "Below average",
           "Richie rich"
          ],
          [
           3225069065,
           "Redmond",
           3080000,
           0.8,
           "xlarge",
           "Top 10",
           "Richie rich"
          ],
          [
           2747100024,
           "Seattle",
           576000,
           1,
           "large",
           "Above average",
           "City"
          ],
          [
           4330600350,
           "Normandy Park",
           315000,
           1,
           "xlarge",
           "Below average",
           "Has Shore"
          ],
          [
           5016001535,
           "Seattle",
           725000,
           1,
           "large",
           "Above average",
           "Richie rich"
          ],
          [
           6414100671,
           "Seattle",
           425000,
           0.9,
           "xlarge",
           "Below average",
           "City"
          ],
          [
           7374200030,
           "Lake Forest Park",
           387000,
           1,
           "xlarge",
           "Below average",
           "Forest"
          ],
          [
           6607000126,
           "Seattle",
           375000,
           1,
           "xlarge",
           "Below average",
           "City"
          ],
          [
           7855801090,
           "Bellevue",
           795000,
           0.9,
           "xlarge",
           "Above average",
           "Richie rich"
          ],
          [
           2231500030,
           "Shoreline",
           315000,
           1,
           "xlarge",
           "Below average",
           "Has Shore"
          ],
          [
           2231500030,
           "Shoreline",
           530000,
           1,
           "xlarge",
           "Below average",
           "Has Shore"
          ],
          [
           7375300160,
           "Bellevue",
           530000,
           0.8,
           "xlarge",
           "Below average",
           "Richie rich"
          ],
          [
           3426059070,
           "Redmond",
           570000,
           0.9,
           "xlarge",
           "Below average",
           "Richie rich"
          ],
          [
           7905370390,
           "Kirkland",
           475000,
           0.8,
           "xlarge",
           "Below average",
           "Richie rich"
          ],
          [
           4140090240,
           "Kenmore",
           520000,
           0.8,
           "xlarge",
           "Below average",
           "Outskirt"
          ],
          [
           1742800030,
           "Renton",
           578000,
           0.8,
           "xlarge",
           "Below average",
           "Outskirt"
          ],
          [
           2205700350,
           "Bellevue",
           378500,
           1,
           "large",
           "Below average",
           "Richie rich"
          ],
          [
           7806300030,
           "Kent",
           299000,
           0.9,
           "xlarge",
           "Below average",
           "Has Shore"
          ],
          [
           9276201895,
           "Seattle",
           615000,
           1,
           "large",
           "Above average",
           "City"
          ],
          [
           4099500935,
           "Mercer Island",
           705000,
           0.9,
           "xlarge",
           "Above average",
           "Richie rich"
          ],
          [
           2525069041,
           "Redmond",
           505000,
           0.8,
           "large",
           "Above average",
           "Richie rich"
          ],
          [
           461001615,
           "Seattle",
           605000,
           0.9,
           "large",
           "Above average",
           "City"
          ],
          [
           4140090320,
           "Kenmore",
           595000,
           0.9,
           "xlarge",
           "Below average",
           "Outskirt"
          ],
          [
           2710600045,
           "Seattle",
           460000,
           0.8,
           "large",
           "Above average",
           "City"
          ],
          [
           7527200030,
           "Sammamish",
           700000,
           0.8,
           "xlarge",
           "Above average",
           "Poor dogs"
          ],
          [
           766500030,
           "Covington",
           225000,
           0.9,
           "large",
           "Below average",
           "Outskirt"
          ],
          [
           1563102435,
           "Seattle",
           950000,
           0.9,
           "xlarge",
           "Top 10",
           "City"
          ],
          [
           4385700765,
           "Seattle",
           850000,
           0.8,
           "large",
           "Top 10",
           "Richie rich"
          ],
          [
           9323600060,
           "Bellevue",
           942500,
           0.8,
           "xlarge",
           "Above average",
           "Richie rich"
          ],
          [
           8146100270,
           "Bellevue",
           824000,
           0.9,
           "xlarge",
           "Above average",
           "Belle"
          ],
          [
           4040800810,
           "Bellevue",
           420000,
           1,
           "xlarge",
           "Below average",
           "Richie rich"
          ],
          [
           3814400125,
           "Seattle",
           493000,
           0.8,
           "large",
           "Above average",
           "City"
          ],
          [
           7855801610,
           "Bellevue",
           1220000,
           0.9,
           "xlarge",
           "Above average",
           "Richie rich"
          ],
          [
           6067900060,
           "Bellevue",
           565000,
           0.8,
           "xlarge",
           "Below average",
           "Richie rich"
          ],
          [
           4037200075,
           "Bellevue",
           662500,
           0.8,
           "xlarge",
           "Above average",
           "Richie rich"
          ],
          [
           6777800160,
           "Kent",
           285000,
           0.9,
           "xlarge",
           "Below average",
           "Has Shore"
          ],
          [
           3395050060,
           "Bothell",
           628000,
           0.8,
           "xlarge",
           "Below average",
           "Outskirt"
          ],
          [
           3327020400,
           "Auburn",
           289999,
           0.8,
           "large",
           "Below average",
           "Poor dogs"
          ],
          [
           6665800060,
           "Kirkland",
           795000,
           1,
           "xlarge",
           "Above average",
           "Richie rich"
          ],
          [
           2349300060,
           "Seattle",
           200000,
           1.1,
           "xlarge",
           "Below average",
           "City"
          ],
          [
           8566100200,
           "Mercer Island",
           980000,
           0.8,
           "xlarge",
           "Above average",
           "Richie rich"
          ],
          [
           7625701891,
           "Seattle",
           435000,
           1,
           "large",
           "Above average",
           "City"
          ],
          [
           2115200125,
           "Seattle",
           384000,
           1,
           "xlarge",
           "Below average",
           "City"
          ],
          [
           103000116,
           "Seattle",
           645000,
           0.8,
           "large",
           "Above average",
           "City"
          ],
          [
           2465400036,
           "Kirkland",
           990000,
           1,
           "xlarge",
           "Above average",
           "Richie rich"
          ],
          [
           7937600830,
           "Renton",
           390000,
           0.8,
           "xlarge",
           "Below average",
           "Outskirt"
          ],
          [
           4441300240,
           "Seattle",
           1200000,
           1,
           "xlarge",
           "Above average",
           "City"
          ],
          [
           8113101670,
           "Seattle",
           378000,
           0.8,
           "large",
           "Below average",
           "City"
          ],
          [
           8651520510,
           "Redmond",
           582800,
           0.8,
           "xlarge",
           "Below average",
           "Richie rich"
          ],
          [
           1455100116,
           "Seattle",
           397500,
           0.9,
           "large",
           "Above average",
           "City"
          ],
          [
           5469700570,
           "Kent",
           469500,
           0.8,
           "xlarge",
           "Below average",
           "Outskirt"
          ],
          [
           1777500160,
           "Bellevue",
           718000,
           0.8,
           "xlarge",
           "Below average",
           "Richie rich"
          ],
          [
           1455600030,
           "Seattle",
           645000,
           1.3,
           "xlarge",
           "Below average",
           "City"
          ],
          [
           4310700570,
           "Seattle",
           280300,
           0.9,
           "medium",
           "Above average",
           "City"
          ],
          [
           2021201000,
           "Seattle",
           980000,
           0.8,
           "xlarge",
           "Above average",
           "City"
          ],
          [
           2877101031,
           "Seattle",
           512031,
           1,
           "large",
           "Above average",
           "City"
          ],
          [
           2771101200,
           "Seattle",
           410000,
           0.9,
           "large",
           "Below average",
           "City"
          ],
          [
           6072600200,
           "Bellevue",
           470500,
           0.9,
           "xlarge",
           "Below average",
           "Richie rich"
          ],
          [
           7855300200,
           "Bellevue",
           1240000,
           0.8,
           "xlarge",
           "Top 10",
           "Richie rich"
          ],
          [
           2485000202,
           "Seattle",
           986000,
           0.8,
           "xlarge",
           "Top 10",
           "City"
          ],
          [
           6099400030,
           "Burien",
           320000,
           0.8,
           "xlarge",
           "Below average",
           "Outskirt"
          ],
          [
           9368700223,
           "Seattle",
           310000,
           0.8,
           "large",
           "Below average",
           "City "
          ],
          [
           9834200885,
           "Seattle",
           360000,
           1,
           "xlarge",
           "Below average",
           "City"
          ],
          [
           9834200885,
           "Seattle",
           550000,
           1,
           "xlarge",
           "Above average",
           "City"
          ],
          [
           7000100631,
           "Bellevue",
           730000,
           0.9,
           "xlarge",
           "Above average",
           "Belle"
          ],
          [
           2484200171,
           "Seattle",
           575000,
           0.9,
           "xlarge",
           "Below average",
           "City"
          ],
          [
           3450300240,
           "Newcastle",
           302000,
           1,
           "xlarge",
           "Below average",
           "Outskirt"
          ],
          [
           9352900695,
           "Seattle",
           170000,
           0.9,
           "large",
           "Below average",
           "City"
          ],
          [
           7135520810,
           "Newcastle",
           1280000,
           0.8,
           "xlarge",
           "Above average",
           "Outskirt"
          ],
          [
           9554200105,
           "Seattle",
           625000,
           1,
           "xlarge",
           "Above average",
           "City"
          ],
          [
           3320000810,
           "Seattle",
           380000,
           1,
           "large",
           "Below average",
           "City"
          ],
          [
           4055701200,
           "Kirkland",
           1960000,
           1,
           "xlarge",
           "Top 10",
           "Richie rich"
          ],
          [
           3110800260,
           "Kent",
           274700,
           1,
           "xlarge",
           "Below average",
           "Outskirt"
          ],
          [
           9455200570,
           "Seattle",
           632000,
           0.9,
           "xlarge",
           "Above average",
           "City"
          ],
          [
           5561400340,
           "Issaquah",
           630000,
           0.8,
           "xlarge",
           "Below average",
           "Wide land"
          ],
          [
           1231000510,
           "Seattle",
           263000,
           1.1,
           "large",
           "Below average",
           "City"
          ],
          [
           1231000510,
           "Seattle",
           510000,
           1.1,
           "large",
           "Above average",
           "City"
          ],
          [
           3885804305,
           "Kirkland",
           949000,
           1,
           "xlarge",
           "Above average",
           "Richie rich"
          ],
          [
           8585400135,
           "Seattle",
           585000,
           0.9,
           "large",
           "Above average",
           "City"
          ],
          [
           7016310030,
           "Bothell",
           330000,
           0.8,
           "xlarge",
           "Below average",
           "Outskirt"
          ],
          [
           2636900126,
           "Lake Forest Park",
           365000,
           1,
           "large",
           "Below average",
           "Forest"
          ],
          [
           5166700055,
           "Seattle",
           645000,
           0.8,
           "xlarge",
           "Above average",
           "City"
          ],
          [
           7227802030,
           "Newcastle",
           350000,
           1,
           "xlarge",
           "Below average",
           "Has Shore"
          ],
          [
           472000055,
           "Seattle",
           546000,
           0.8,
           "large",
           "Above average",
           "City"
          ],
          [
           1926049355,
           "Shoreline",
           399000,
           0.8,
           "xlarge",
           "Below average",
           "Has Shore"
          ],
          [
           3832711040,
           "Kent",
           321000,
           1,
           "xlarge",
           "Below average",
           "Has Shore"
          ],
          [
           7893804340,
           "Des Moines",
           470000,
           0.8,
           "xlarge",
           "Below average",
           "Has Shore"
          ],
          [
           3759500046,
           "Kirkland",
           748000,
           1,
           "xlarge",
           "Above average",
           "Richie rich"
          ],
          [
           766000240,
           "Covington",
           225000,
           0.8,
           "xlarge",
           "Below average",
           "Outskirt"
          ],
          [
           2423059104,
           "Renton",
           360000,
           0.8,
           "large",
           "Below average",
           "Outskirt"
          ],
          [
           6844703240,
           "Seattle",
           1080000,
           1,
           "xlarge",
           "Above average",
           "City"
          ],
          [
           3526039116,
           "Seattle",
           549000,
           0.8,
           "large",
           "Above average",
           "City"
          ],
          [
           7015200685,
           "Seattle",
           749950,
           0.8,
           "large",
           "Top 10",
           "Richie rich"
          ],
          [
           84000335,
           "Seattle",
           225000,
           0.8,
           "large",
           "Below average",
           "City"
          ],
          [
           3342700465,
           "Newcastle",
           250000,
           0.9,
           "xlarge",
           "Below average",
           "Has Shore"
          ],
          [
           2205500400,
           "Bellevue",
           542000,
           1,
           "large",
           "Above average",
           "Richie rich"
          ],
          [
           1370801331,
           "Seattle",
           1400000,
           1,
           "xlarge",
           "Above average",
           "City"
          ],
          [
           7214700830,
           "Woodinville",
           480000,
           0.8,
           "xlarge",
           "Below average",
           "Outskirt"
          ],
          [
           4473400045,
           "Seattle",
           535000,
           0.8,
           "large",
           "Above average",
           "City"
          ],
          [
           6021501920,
           "Seattle",
           672500,
           0.9,
           "xlarge",
           "Above average",
           "City"
          ],
          [
           2856102336,
           "Seattle",
           652000,
           1,
           "large",
           "Above average",
           "City"
          ],
          [
           2771601940,
           "Seattle",
           850000,
           0.8,
           "xlarge",
           "Above average",
           "Richie rich"
          ],
          [
           5255690060,
           "Bothell",
           413000,
           0.8,
           "xlarge",
           "Below average",
           "Outskirt"
          ],
          [
           3295700060,
           "Seattle",
           500000,
           0.8,
           "large",
           "Above average",
           "City"
          ],
          [
           3288200030,
           "Kirkland",
           405000,
           0.8,
           "large",
           "Below average",
           "Richie rich"
          ],
          [
           6071600270,
           "Bellevue",
           495000,
           1,
           "xlarge",
           "Below average",
           "Richie rich"
          ],
          [
           8816400885,
           "Seattle",
           450000,
           1,
           "large",
           "Above average",
           "City"
          ],
          [
           1250203335,
           "Seattle",
           1050000,
           1,
           "xlarge",
           "Above average",
           "City"
          ],
          [
           8815400105,
           "Seattle",
           500000,
           1,
           "large",
           "Above average",
           "City"
          ],
          [
           925049360,
           "Seattle",
           512000,
           1.1,
           "large",
           "Above average",
           "City"
          ],
          [
           3286800260,
           "Issaquah",
           780000,
           0.8,
           "xlarge",
           "Below average",
           "Wide land"
          ],
          [
           1310500550,
           "Kent",
           248000,
           1,
           "xlarge",
           "Below average",
           "Has Shore"
          ],
          [
           7129300935,
           "Seattle",
           415000,
           1,
           "xlarge",
           "Below average",
           "City"
          ],
          [
           8143000310,
           "Kirkland",
           495000,
           1,
           "xlarge",
           "Above average",
           "Richie rich"
          ],
          [
           7922800320,
           "Bellevue",
           561750,
           1,
           "xlarge",
           "Above average",
           "Richie rich"
          ],
          [
           5649600435,
           "Seattle",
           349950,
           1,
           "large",
           "Below average",
           "City"
          ],
          [
           2249500059,
           "Seattle",
           550000,
           0.8,
           "large",
           "Above average",
           "City"
          ],
          [
           1773100510,
           "Seattle",
           396000,
           1,
           "xlarge",
           "Below average",
           "City"
          ],
          [
           9485950060,
           "Covington",
           440000,
           1,
           "xlarge",
           "Below average",
           "Outskirt"
          ],
          [
           2493200435,
           "Seattle",
           360000,
           1,
           "large",
           "Above average",
           "City"
          ],
          [
           226039282,
           "Shoreline",
           442500,
           1,
           "xlarge",
           "Below average",
           "Has Shore"
          ],
          [
           7883603750,
           "Seattle",
           337000,
           1,
           "large",
           "Below average",
           "City"
          ],
          [
           5402100045,
           "Auburn",
           189950,
           1.1,
           "xlarge",
           "Below average",
           "Poor dogs"
          ],
          [
           626100023,
           "Woodinville",
           600000,
           0.9,
           "xlarge",
           "Below average",
           "Outskirt"
          ],
          [
           9414100030,
           "Kirkland",
           975000,
           0.9,
           "xlarge",
           "Above average",
           "Richie rich"
          ],
          [
           185000118,
           "Seattle",
           212000,
           0.9,
           "large",
           "Below average",
           "City "
          ],
          [
           4358700135,
           "Shoreline",
           480000,
           0.8,
           "xlarge",
           "Below average",
           "Has Shore"
          ],
          [
           7101100055,
           "Seattle",
           753000,
           1,
           "xlarge",
           "Above average",
           "City"
          ],
          [
           7855000550,
           "Bellevue",
           1100000,
           0.9,
           "xlarge",
           "Above average",
           "Richie rich"
          ],
          [
           9560700055,
           "Bellevue",
           550000,
           1,
           "xlarge",
           "Below average",
           "Richie rich"
          ],
          [
           9201000320,
           "Sammamish",
           765000,
           0.8,
           "xlarge",
           "Above average",
           "Poor dogs"
          ],
          [
           1887500045,
           "Auburn",
           247500,
           1,
           "xlarge",
           "Below average",
           "Poor dogs"
          ],
          [
           5505700055,
           "Seattle",
           345000,
           1,
           "xlarge",
           "Below average",
           "City"
          ],
          [
           8163300320,
           "Issaquah",
           850000,
           0.8,
           "xlarge",
           "Above average",
           "Wide land"
          ],
          [
           4278900055,
           "Seattle",
           599000,
           1,
           "xlarge",
           "Above average",
           "City"
          ],
          [
           2126049032,
           "Seattle",
           375000,
           0.9,
           "large",
           "Above average",
           "City"
          ],
          [
           3972900160,
           "Lake Forest Park",
           190000,
           0.8,
           "large",
           "Below average",
           "Forest"
          ],
          [
           5141000685,
           "Seattle",
           320000,
           1,
           "large",
           "Below average",
           "City"
          ],
          [
           627300105,
           "Bellevue",
           930000,
           0.9,
           "xlarge",
           "Above average",
           "Richie rich"
          ],
          [
           312000135,
           "Seattle",
           483945,
           0.8,
           "large",
           "Above average",
           "City"
          ],
          [
           1370802650,
           "Seattle",
           605000,
           1,
           "xlarge",
           "Below average",
           "City"
          ],
          [
           1972202080,
           "Seattle",
           725000,
           0.9,
           "large",
           "Above average",
           "City"
          ],
          [
           9476200350,
           "Newcastle",
           471750,
           0.8,
           "xlarge",
           "Below average",
           "Has Shore"
          ],
          [
           3619600132,
           "Shoreline",
           635000,
           0.8,
           "xlarge",
           "Below average",
           "Has Shore"
          ],
          [
           434000030,
           "Seattle",
           555000,
           1,
           "xlarge",
           "Above average",
           "City"
          ],
          [
           7856560320,
           "Bellevue",
           962000,
           0.8,
           "xlarge",
           "Above average",
           "Richie rich"
          ],
          [
           3578400030,
           "Redmond",
           465000,
           1,
           "xlarge",
           "Below average",
           "Richie rich"
          ],
          [
           3760500516,
           "Kirkland",
           835000,
           1,
           "xlarge",
           "Below average",
           "Richie rich"
          ],
          [
           9553200125,
           "Seattle",
           875000,
           0.8,
           "xlarge",
           "Above average",
           "City"
          ],
          [
           4139420070,
           "Bellevue",
           1200000,
           1,
           "xlarge",
           "Below average",
           "Richie rich"
          ],
          [
           2175100270,
           "Mercer Island",
           1030000,
           1,
           "xlarge",
           "Above average",
           "Richie rich"
          ],
          [
           9178600135,
           "Seattle",
           800000,
           1,
           "xlarge",
           "Above average",
           "City"
          ],
          [
           2568300132,
           "Seattle",
           521000,
           0.8,
           "large",
           "Above average",
           "City"
          ],
          [
           6159400030,
           "Lake Forest Park",
           399950,
           0.8,
           "large",
           "Below average",
           "Forest"
          ],
          [
           7787400030,
           "Bellevue",
           1640000,
           1,
           "xlarge",
           "Above average",
           "Belle"
          ],
          [
           824069121,
           "Sammamish",
           585000,
           0.9,
           "xlarge",
           "Below average",
           "Poor dogs"
          ],
          [
           2483200060,
           "Seattle",
           678500,
           0.8,
           "xlarge",
           "Above average",
           "City"
          ],
          [
           1355200060,
           "Shoreline",
           765000,
           0.9,
           "xlarge",
           "Below average",
           "Has Shore"
          ],
          [
           7443000640,
           "Seattle",
           460000,
           1,
           "large",
           "Above average",
           "Richie rich"
          ],
          [
           6344000060,
           "Bellevue",
           760000,
           0.9,
           "xlarge",
           "Above average",
           "Belle"
          ],
          [
           5149300400,
           "Auburn",
           311750,
           0.8,
           "xlarge",
           "Below average",
           "Has Shore"
          ],
          [
           269000240,
           "Seattle",
           1050000,
           0.9,
           "xlarge",
           "Above average",
           "City"
          ],
          [
           1449000270,
           "Redmond",
           670000,
           1,
           "xlarge",
           "Below average",
           "Richie rich"
          ],
          [
           269000070,
           "Seattle",
           608000,
           1,
           "xlarge",
           "Above average",
           "City"
          ],
          [
           6151800070,
           "Black Diamond",
           700000,
           1,
           "xlarge",
           "Above average",
           "Outskirt"
          ],
          [
           3971701455,
           "Lake Forest Park",
           273000,
           1,
           "large",
           "Below average",
           "Forest"
          ],
          [
           4037400295,
           "Bellevue",
           618000,
           1.1,
           "xlarge",
           "Below average",
           "Richie rich"
          ],
          [
           6145601715,
           "Shoreline",
           403500,
           1,
           "xlarge",
           "Below average",
           "Has Shore"
          ],
          [
           7471900045,
           "Renton",
           287500,
           1,
           "large",
           "Below average",
           "Outskirt"
          ],
          [
           7974200776,
           "Seattle",
           625000,
           0.8,
           "large",
           "Above average",
           "City"
          ],
          [
           9157600060,
           "Shoreline",
           635000,
           0.9,
           "xlarge",
           "Below average",
           "Has Shore"
          ],
          [
           3810000465,
           "Seattle",
           243000,
           0.8,
           "large",
           "Below average",
           "City "
          ],
          [
           3253500030,
           "Seattle",
           583000,
           1,
           "xlarge",
           "Above average",
           "City"
          ],
          [
           2203500570,
           "Bellevue",
           437000,
           1,
           "large",
           "Above average",
           "Richie rich"
          ],
          [
           2346800270,
           "Seattle",
           555000,
           0.9,
           "xlarge",
           "Below average",
           "City"
          ],
          [
           5634500036,
           "Kenmore",
           459000,
           1,
           "xlarge",
           "Below average",
           "Outskirt"
          ],
          [
           5710600030,
           "Issaquah",
           500000,
           0.8,
           "xlarge",
           "Below average",
           "Wide land"
          ],
          [
           7304300570,
           "Lake Forest Park",
           366500,
           0.8,
           "large",
           "Below average",
           "Forest"
          ],
          [
           4154300465,
           "Seattle",
           719000,
           1,
           "xlarge",
           "Below average",
           "City"
          ],
          [
           3623029045,
           "Vashon",
           482000,
           1,
           "xlarge",
           "Below average",
           "Island"
          ],
          [
           9477201620,
           "Kirkland",
           446000,
           0.8,
           "xlarge",
           "Below average",
           "Richie rich"
          ],
          [
           3395000070,
           "Bellevue",
           1540000,
           0.9,
           "xlarge",
           "Above average",
           "Belle"
          ],
          [
           3904100106,
           "Seattle",
           335000,
           1,
           "xlarge",
           "Below average",
           "City"
          ],
          [
           4443800765,
           "Seattle",
           700000,
           0.8,
           "large",
           "Above average",
           "City"
          ],
          [
           1005000036,
           "Seattle",
           285000,
           1,
           "large",
           "Below average",
           "City"
          ],
          [
           3126049094,
           "Seattle",
           392450,
           1.1,
           "xlarge",
           "Below average",
           "City"
          ],
          [
           3797000830,
           "Seattle",
           425000,
           1,
           "large",
           "Above average",
           "City"
          ],
          [
           7277100640,
           "Shoreline",
           715000,
           0.8,
           "xlarge",
           "Below average",
           "Has Shore"
          ],
          [
           9828202255,
           "Seattle",
           890000,
           1.1,
           "xlarge",
           "Above average",
           "City"
          ],
          [
           8722100570,
           "Seattle",
           1600000,
           1,
           "xlarge",
           "Top 10",
           "Richie rich"
          ],
          [
           292000070,
           "Bellevue",
           895000,
           0.9,
           "xlarge",
           "Above average",
           "Belle"
          ],
          [
           9476700135,
           "Newcastle",
           300000,
           1,
           "large",
           "Below average",
           "Has Shore"
          ],
          [
           1822079046,
           "Maple Valley",
           500000,
           1,
           "xlarge",
           "Below average",
           "Wide land"
          ],
          [
           3286800370,
           "Issaquah",
           590000,
           0.9,
           "xlarge",
           "Below average",
           "Wide land"
          ],
          [
           7611200136,
           "Shoreline",
           872000,
           0.9,
           "xlarge",
           "Below average",
           "Has Shore"
          ],
          [
           5459500125,
           "Mercer Island",
           1000000,
           0.9,
           "xlarge",
           "Above average",
           "Richie rich"
          ],
          [
           825059271,
           "Kirkland",
           900000,
           0.9,
           "xlarge",
           "Above average",
           "Richie rich"
          ],
          [
           486000565,
           "Seattle",
           840000,
           0.8,
           "xlarge",
           "Above average",
           "City"
          ],
          [
           7272001805,
           "Des Moines",
           418200,
           0.9,
           "xlarge",
           "Below average",
           "Has Shore"
          ],
          [
           4027701294,
           "Kenmore",
           485000,
           0.8,
           "xlarge",
           "Below average",
           "Outskirt"
          ],
          [
           5071401000,
           "Seattle",
           779000,
           0.8,
           "xlarge",
           "Below average",
           "City"
          ],
          [
           3760500435,
           "Kirkland",
           570000,
           0.8,
           "xlarge",
           "Below average",
           "Richie rich"
          ],
          [
           9170500060,
           "Kirkland",
           649000,
           1,
           "xlarge",
           "Above average",
           "Richie rich"
          ],
          [
           4406000560,
           "Renton",
           278500,
           1,
           "large",
           "Below average",
           "Outskirt"
          ],
          [
           1257200060,
           "Seattle",
           595000,
           1,
           "large",
           "Above average",
           "City"
          ],
          [
           2795000060,
           "Shoreline",
           722500,
           1,
           "xlarge",
           "Below average",
           "Has Shore"
          ],
          [
           6384500581,
           "Seattle",
           555000,
           0.8,
           "large",
           "Above average",
           "City"
          ],
          [
           859000160,
           "Seattle",
           375000,
           0.8,
           "large",
           "Below average",
           "City"
          ],
          [
           5021900160,
           "Mercer Island",
           711000,
           1,
           "xlarge",
           "Above average",
           "Richie rich"
          ],
          [
           393000045,
           "Seattle",
           415000,
           1,
           "xlarge",
           "Below average",
           "City "
          ],
          [
           8813400405,
           "Seattle",
           763101,
           0.8,
           "large",
           "Above average",
           "City"
          ],
          [
           381000110,
           "Seattle",
           599950,
           0.8,
           "xlarge",
           "Below average",
           "City"
          ],
          [
           9212900100,
           "Seattle",
           425000,
           1,
           "large",
           "Below average",
           "City"
          ],
          [
           7598100735,
           "Mercer Island",
           769000,
           1,
           "xlarge",
           "Below average",
           "Richie rich"
          ],
          [
           1455600015,
           "Seattle",
           760000,
           0.8,
           "xlarge",
           "Above average",
           "City"
          ],
          [
           9324800110,
           "Seattle",
           420000,
           1,
           "large",
           "Below average",
           "City"
          ],
          [
           7227501645,
           "Newcastle",
           230000,
           1,
           "large",
           "Below average",
           "Has Shore"
          ],
          [
           7128300855,
           "Seattle",
           313000,
           0.8,
           "large",
           "Below average",
           "City"
          ],
          [
           1193000025,
           "Seattle",
           495000,
           0.8,
           "large",
           "Above average",
           "City"
          ],
          [
           8732040090,
           "Auburn",
           307450,
           1,
           "xlarge",
           "Below average",
           "Has Shore"
          ],
          [
           5318100504,
           "Seattle",
           524000,
           0.9,
           "large",
           "Above average",
           "Richie rich"
          ],
          [
           2291401425,
           "Shoreline",
           485000,
           0.9,
           "large",
           "Above average",
           "Has Shore"
          ],
          [
           2144800215,
           "Seattle",
           285000,
           1,
           "xlarge",
           "Below average",
           "City "
          ],
          [
           5559200051,
           "Auburn",
           272000,
           1,
           "xlarge",
           "Below average",
           "Has Shore"
          ],
          [
           2675600028,
           "Seattle",
           615000,
           1,
           "xlarge",
           "Below average",
           "City"
          ],
          [
           6896300375,
           "Seattle",
           580000,
           0.9,
           "xlarge",
           "Below average",
           "City"
          ],
          [
           5652601425,
           "Seattle",
           595000,
           0.8,
           "large",
           "Above average",
           "City"
          ],
          [
           2926049382,
           "Seattle",
           650000,
           1,
           "xlarge",
           "Below average",
           "City"
          ],
          [
           4027700853,
           "Kenmore",
           387500,
           1,
           "xlarge",
           "Below average",
           "Outskirt"
          ],
          [
           2919702235,
           "Seattle",
           740000,
           0.9,
           "xlarge",
           "Above average",
           "City"
          ],
          [
           5476200123,
           "Seattle",
           200000,
           1,
           "xlarge",
           "Below average",
           "City "
          ],
          [
           8900000110,
           "Seattle",
           691000,
           0.8,
           "large",
           "Above average",
           "Richie rich"
          ],
          [
           2222900082,
           "Shoreline",
           449500,
           0.8,
           "large",
           "Above average",
           "Has Shore"
          ],
          [
           5035300750,
           "Seattle",
           850000,
           0.8,
           "xlarge",
           "Above average",
           "City"
          ],
          [
           3271800850,
           "Seattle",
           765000,
           0.8,
           "xlarge",
           "Above average",
           "City"
          ],
          [
           7663700261,
           "Seattle",
           395000,
           1,
           "xlarge",
           "Below average",
           "City"
          ],
          [
           5029450110,
           "Auburn",
           215000,
           0.8,
           "large",
           "Below average",
           "Has Shore"
          ],
          [
           7915100490,
           "Seattle",
           589000,
           0.8,
           "large",
           "Above average",
           "City"
          ],
          [
           6021503830,
           "Seattle",
           480000,
           1,
           "xlarge",
           "Below average",
           "City"
          ],
          [
           7129304105,
           "Seattle",
           285000,
           1.3,
           "xlarge",
           "Below average",
           "City"
          ],
          [
           525049085,
           "Seattle",
           575000,
           1,
           "large",
           "Above average",
           "City"
          ],
          [
           952003480,
           "Seattle",
           445000,
           0.9,
           "large",
           "Above average",
           "City"
          ],
          [
           5014000100,
           "Seattle",
           537000,
           1,
           "large",
           "Above average",
           "City"
          ],
          [
           3959400855,
           "Seattle",
           525000,
           0.8,
           "xlarge",
           "Below average",
           "City"
          ],
          [
           2877102345,
           "Seattle",
           511718,
           1,
           "large",
           "Above average",
           "City"
          ],
          [
           8576400110,
           "Normandy Park",
           580000,
           1,
           "xlarge",
           "Below average",
           "Has Shore"
          ],
          [
           2296500131,
           "Newcastle",
           739000,
           0.8,
           "xlarge",
           "Below average",
           "Has Shore"
          ],
          [
           1761300850,
           "Kent",
           271000,
           0.9,
           "large",
           "Below average",
           "Outskirt"
          ],
          [
           2917200645,
           "Shoreline",
           575000,
           1,
           "xlarge",
           "Above average",
           "Has Shore"
          ],
          [
           8818400490,
           "Seattle",
           527000,
           1,
           "large",
           "Above average",
           "City"
          ],
          [
           1938400300,
           "Auburn",
           245000,
           0.9,
           "xlarge",
           "Below average",
           "Has Shore"
          ],
          [
           3438500714,
           "Seattle",
           325000,
           0.9,
           "large",
           "Below average",
           "City"
          ],
          [
           8122600245,
           "Seattle",
           359000,
           1,
           "large",
           "Below average",
           "City"
          ],
          [
           4021700025,
           "Lake Forest Park",
           569000,
           0.8,
           "xlarge",
           "Below average",
           "Forest"
          ],
          [
           2473250850,
           "Renton",
           318500,
           1,
           "large",
           "Below average",
           "Outskirt"
          ],
          [
           7792000025,
           "Enumclaw",
           340000,
           1.3,
           "xlarge",
           "Below average",
           "Wide land"
          ],
          [
           4039701080,
           "Bellevue",
           905000,
           0.9,
           "xlarge",
           "Above average",
           "Richie rich"
          ],
          [
           5249801785,
           "Seattle",
           579000,
           1,
           "large",
           "Above average",
           "City"
          ],
          [
           2190601055,
           "Federal Way",
           314900,
           1,
           "xlarge",
           "Below average",
           "Outskirt"
          ],
          [
           1022069058,
           "Maple Valley",
           449500,
           0.9,
           "xlarge",
           "Below average",
           "Wide land"
          ],
          [
           7905200037,
           "Seattle",
           515000,
           0.8,
           "large",
           "Above average",
           "City"
          ],
          [
           9349900110,
           "Seattle",
           355000,
           0.8,
           "medium",
           "Above average",
           "City"
          ],
          [
           5451200110,
           "Mercer Island",
           1080000,
           0.9,
           "xlarge",
           "Above average",
           "Richie rich"
          ],
          [
           7518504291,
           "Seattle",
           535000,
           0.8,
           "large",
           "Above average",
           "City"
          ],
          [
           9282801720,
           "Seattle",
           355000,
           1,
           "xlarge",
           "Below average",
           "City "
          ],
          [
           1370803820,
           "Seattle",
           629000,
           0.8,
           "large",
           "Above average",
           "City"
          ],
          [
           5249802460,
           "Seattle",
           500000,
           0.8,
           "large",
           "Above average",
           "City"
          ],
          [
           8121100265,
           "Seattle",
           635000,
           0.8,
           "xlarge",
           "Below average",
           "City"
          ],
          [
           2817800100,
           "Renton",
           328950,
           1,
           "xlarge",
           "Below average",
           "Outskirt"
          ],
          [
           1322059002,
           "Covington",
           350000,
           0.9,
           "large",
           "Below average",
           "Outskirt"
          ],
          [
           5456000110,
           "Mercer Island",
           865000,
           0.9,
           "xlarge",
           "Above average",
           "Richie rich"
          ],
          [
           1823049202,
           "Seattle",
           175000,
           0.9,
           "large",
           "Below average",
           "City"
          ],
          [
           1823049202,
           "Seattle",
           326000,
           0.9,
           "large",
           "Below average",
           "City"
          ],
          [
           3340401570,
           "Renton",
           312500,
           1,
           "large",
           "Below average",
           "Outskirt"
          ],
          [
           3600057,
           "Seattle",
           402500,
           1.2,
           "large",
           "Below average",
           "City"
          ],
          [
           3342700371,
           "Newcastle",
           539950,
           0.8,
           "large",
           "Above average",
           "Has Shore"
          ],
          [
           809000820,
           "Seattle",
           494400,
           1,
           "large",
           "Above average",
           "City"
          ],
          [
           9460000110,
           "Renton",
           280000,
           1,
           "xlarge",
           "Below average",
           "Outskirt"
          ],
          [
           1787600164,
           "Seattle",
           310000,
           1,
           "large",
           "Below average",
           "City"
          ],
          [
           5072300100,
           "Normandy Park",
           470000,
           1,
           "xlarge",
           "Below average",
           "Has Shore"
          ],
          [
           1828001220,
           "Redmond",
           550000,
           1,
           "xlarge",
           "Below average",
           "Richie rich"
          ],
          [
           369000881,
           "Seattle",
           777000,
           0.9,
           "xlarge",
           "Above average",
           "City"
          ],
          [
           7338402690,
           "Seattle",
           335000,
           1,
           "xlarge",
           "Below average",
           "City"
          ],
          [
           326049058,
           "Lake Forest Park",
           464500,
           1,
           "xlarge",
           "Below average",
           "Forest"
          ],
          [
           2391600165,
           "Seattle",
           475000,
           1,
           "xlarge",
           "Below average",
           "City"
          ],
          [
           7228500375,
           "Seattle",
           430000,
           0.8,
           "large",
           "Below average",
           "City"
          ],
          [
           793200100,
           "Bellevue",
           360000,
           0.8,
           "xlarge",
           "Below average",
           "Richie rich"
          ],
          [
           2330000015,
           "Bellevue",
           740000,
           1,
           "xlarge",
           "Below average",
           "Richie rich"
          ],
          [
           1254200015,
           "Seattle",
           405000,
           0.8,
           "xlarge",
           "Below average",
           "City"
          ],
          [
           1254200015,
           "Seattle",
           625000,
           0.8,
           "xlarge",
           "Above average",
           "City"
          ],
          [
           5113400535,
           "Seattle",
           750000,
           0.9,
           "xlarge",
           "Above average",
           "Richie rich"
          ],
          [
           1777500090,
           "Bellevue",
           680000,
           1,
           "xlarge",
           "Below average",
           "Richie rich"
          ],
          [
           5130000090,
           "Kenmore",
           374950,
           1,
           "xlarge",
           "Below average",
           "Outskirt"
          ],
          [
           5149300100,
           "Auburn",
           304999,
           0.8,
           "xlarge",
           "Below average",
           "Has Shore"
          ],
          [
           8146300025,
           "Bellevue",
           772000,
           1,
           "xlarge",
           "Above average",
           "Belle"
          ],
          [
           5611000090,
           "Lake Forest Park",
           525000,
           0.8,
           "xlarge",
           "Below average",
           "Forest"
          ],
          [
           1773101340,
           "Seattle",
           399950,
           1,
           "large",
           "Below average",
           "City"
          ],
          [
           3342700405,
           "Newcastle",
           585000,
           1,
           "xlarge",
           "Below average",
           "Has Shore"
          ],
          [
           9276201140,
           "Seattle",
           576750,
           1,
           "xlarge",
           "Above average",
           "City"
          ],
          [
           7972601280,
           "Seattle",
           495000,
           1,
           "xlarge",
           "Below average",
           "City"
          ],
          [
           1777600490,
           "Bellevue",
           675000,
           0.9,
           "xlarge",
           "Below average",
           "Richie rich"
          ],
          [
           1877500090,
           "Seattle",
           756000,
           1.2,
           "xlarge",
           "Below average",
           "City"
          ],
          [
           5101406489,
           "Seattle",
           432000,
           1,
           "large",
           "Above average",
           "City"
          ],
          [
           1311000600,
           "Auburn",
           250000,
           0.8,
           "xlarge",
           "Below average",
           "Poor dogs"
          ],
          [
           7740100015,
           "Lake Forest Park",
           440000,
           0.8,
           "xlarge",
           "Below average",
           "Forest"
          ],
          [
           2085200261,
           "Maple Valley",
           422500,
           1,
           "large",
           "Below average",
           "Wide land"
          ],
          [
           3223049131,
           "Des Moines",
           270000,
           0.8,
           "xlarge",
           "Below average",
           "Has Shore"
          ],
          [
           7905200315,
           "Seattle",
           711777,
           1,
           "xlarge",
           "Above average",
           "City"
          ],
          [
           9285800755,
           "Seattle",
           515000,
           1,
           "large",
           "Above average",
           "City"
          ],
          [
           1269200229,
           "Vashon",
           1380000,
           1,
           "xlarge",
           "Above average",
           "Island"
          ],
          [
           8035600590,
           "Kent",
           335000,
           0.9,
           "xlarge",
           "Below average",
           "Outskirt"
          ],
          [
           5041300100,
           "Seattle",
           639000,
           1,
           "large",
           "Above average",
           "City"
          ],
          [
           7129302235,
           "Seattle",
           325000,
           1,
           "xlarge",
           "Below average",
           "City"
          ],
          [
           4036800015,
           "Bellevue",
           465000,
           1,
           "large",
           "Above average",
           "Richie rich"
          ],
          [
           9542100165,
           "Bellevue",
           875000,
           0.9,
           "xlarge",
           "Below average",
           "Richie rich"
          ],
          [
           1159100100,
           "Seattle",
           359950,
           0.8,
           "large",
           "Below average",
           "City "
          ],
          [
           1725059209,
           "Kirkland",
           698000,
           1,
           "xlarge",
           "Above average",
           "Richie rich"
          ],
          [
           514500090,
           "Bellevue",
           550000,
           0.9,
           "xlarge",
           "Below average",
           "Richie rich"
          ],
          [
           5680001095,
           "Seattle",
           470000,
           1,
           "xlarge",
           "Below average",
           "City"
          ],
          [
           8669400100,
           "Bellevue",
           910000,
           1.1,
           "xlarge",
           "Below average",
           "Richie rich"
          ],
          [
           396100025,
           "Shoreline",
           339999,
           1,
           "large",
           "Below average",
           "Has Shore"
          ],
          [
           7977201707,
           "Seattle",
           526000,
           0.8,
           "large",
           "Above average",
           "City"
          ],
          [
           9158100090,
           "Shoreline",
           550500,
           1,
           "xlarge",
           "Below average",
           "Has Shore"
          ],
          [
           3987700115,
           "Newcastle",
           522500,
           0.9,
           "large",
           "Above average",
           "Has Shore"
          ],
          [
           8073000265,
           "Seattle",
           360000,
           1,
           "xlarge",
           "Below average",
           "City "
          ],
          [
           8562500690,
           "Redmond",
           581000,
           1,
           "xlarge",
           "Above average",
           "Richie rich"
          ],
          [
           3834500195,
           "Seattle",
           527000,
           1,
           "xlarge",
           "Below average",
           "City"
          ],
          [
           3298700110,
           "Seattle",
           373000,
           0.9,
           "xlarge",
           "Below average",
           "City"
          ],
          [
           6300000337,
           "Shoreline",
           550000,
           1,
           "xlarge",
           "Below average",
           "Has Shore"
          ],
          [
           274100090,
           "Kent",
           329500,
           0.8,
           "xlarge",
           "Below average",
           "Outskirt"
          ],
          [
           1698900195,
           "Seattle",
           710000,
           0.8,
           "large",
           "Above average",
           "City"
          ],
          [
           6071800100,
           "Bellevue",
           815000,
           1,
           "xlarge",
           "Above average",
           "Richie rich"
          ],
          [
           5309101050,
           "Seattle",
           489950,
           1,
           "large",
           "Above average",
           "City"
          ],
          [
           8857600820,
           "Kent",
           260000,
           0.9,
           "xlarge",
           "Below average",
           "Has Shore"
          ],
          [
           3864000090,
           "Bellevue",
           858000,
           0.9,
           "xlarge",
           "Below average",
           "Richie rich"
          ],
          [
           5101408593,
           "Seattle",
           534950,
           0.8,
           "large",
           "Below average",
           "City"
          ],
          [
           3308030100,
           "Kent",
           465000,
           1,
           "xlarge",
           "Below average",
           "Outskirt"
          ],
          [
           1887000100,
           "Kenmore",
           485000,
           0.8,
           "xlarge",
           "Below average",
           "Outskirt"
          ],
          [
           1498304065,
           "Seattle",
           496752,
           0.8,
           "large",
           "Above average",
           "City"
          ],
          [
           4037800015,
           "Bellevue",
           480000,
           0.9,
           "xlarge",
           "Below average",
           "Richie rich"
          ],
          [
           7738500475,
           "Lake Forest Park",
           485000,
           1,
           "xlarge",
           "Below average",
           "Forest"
          ],
          [
           5101404563,
           "Seattle",
           561500,
           1,
           "xlarge",
           "Above average",
           "City"
          ],
          [
           2767705010,
           "Seattle",
           639000,
           1,
           "large",
           "Above average",
           "City"
          ],
          [
           7549802600,
           "Seattle",
           335000,
           1,
           "large",
           "Below average",
           "City"
          ],
          [
           7855900110,
           "Bellevue",
           1090000,
           0.9,
           "xlarge",
           "Above average",
           "Richie rich"
          ],
          [
           6046401105,
           "Seattle",
           450000,
           0.8,
           "large",
           "Above average",
           "City"
          ],
          [
           3505100756,
           "Seattle",
           2050000,
           1,
           "xlarge",
           "Top 10",
           "City"
          ],
          [
           868001030,
           "Shoreline",
           1150000,
           1,
           "xlarge",
           "Above average",
           "Has Shore"
          ],
          [
           4047200265,
           "Duvall",
           325000,
           0.8,
           "medium",
           "Above average",
           "Wide land"
          ],
          [
           2011400583,
           "Des Moines",
           402000,
           1,
           "xlarge",
           "Below average",
           "Has Shore"
          ],
          [
           8718500495,
           "Kenmore",
           375000,
           0.8,
           "large",
           "Below average",
           "Outskirt"
          ],
          [
           3815500165,
           "Kenmore",
           396000,
           1,
           "xlarge",
           "Below average",
           "Outskirt"
          ],
          [
           5104450690,
           "Renton",
           320000,
           1,
           "xlarge",
           "Below average",
           "Outskirt"
          ],
          [
           3874900090,
           "Seattle",
           448000,
           0.9,
           "large",
           "Above average",
           "City"
          ],
          [
           9268200300,
           "Seattle",
           490000,
           0.9,
           "large",
           "Above average",
           "City"
          ],
          [
           4385700735,
           "Seattle",
           790000,
           1,
           "large",
           "Top 10",
           "Richie rich"
          ],
          [
           402000115,
           "Seattle",
           263500,
           1,
           "large",
           "Below average",
           "City"
          ],
          [
           3335000025,
           "Seattle",
           468000,
           0.9,
           "large",
           "Above average",
           "City"
          ],
          [
           5035300090,
           "Seattle",
           639000,
           1,
           "large",
           "Above average",
           "City"
          ],
          [
           408100110,
           "Lake Forest Park",
           381000,
           1,
           "large",
           "Below average",
           "Forest"
          ],
          [
           1982200015,
           "Seattle",
           555000,
           1,
           "large",
           "Above average",
           "City"
          ],
          [
           1245001220,
           "Kirkland",
           749000,
           1,
           "xlarge",
           "Above average",
           "Richie rich"
          ],
          [
           7891600245,
           "Seattle",
           430000,
           1,
           "large",
           "Below average",
           "City"
          ],
          [
           3876312350,
           "Woodinville",
           466000,
           0.8,
           "large",
           "Below average",
           "Richie rich"
          ],
          [
           2126079014,
           "Duvall",
           540000,
           0.8,
           "xlarge",
           "Below average",
           "Wide land"
          ],
          [
           475000750,
           "Seattle",
           477000,
           0.8,
           "large",
           "Above average",
           "City"
          ],
          [
           5162100820,
           "Federal Way",
           345000,
           0.8,
           "xlarge",
           "Below average",
           "Outskirt"
          ],
          [
           597000195,
           "Seattle",
           527200,
           1,
           "large",
           "Above average",
           "City"
          ],
          [
           5119010090,
           "Seattle",
           549900,
           0.9,
           "xlarge",
           "Below average",
           "City"
          ],
          [
           7345310100,
           "Auburn",
           238000,
           0.8,
           "large",
           "Below average",
           "Poor dogs"
          ],
          [
           5019500215,
           "Seattle",
           495000,
           0.8,
           "medium",
           "Above average",
           "City"
          ],
          [
           7555210100,
           "Kirkland",
           880000,
           0.8,
           "xlarge",
           "Above average",
           "Richie rich"
          ],
          [
           3886902870,
           "Kirkland",
           800000,
           0.9,
           "xlarge",
           "Above average",
           "Richie rich"
          ],
          [
           2473410690,
           "Renton",
           324000,
           0.8,
           "large",
           "Below average",
           "Outskirt"
          ],
          [
           9471201110,
           "Seattle",
           1130000,
           0.9,
           "xlarge",
           "Top 10",
           "City"
          ],
          [
           6788201015,
           "Seattle",
           690000,
           0.9,
           "large",
           "Top 10",
           "Richie rich"
          ],
          [
           4047200300,
           "Duvall",
           599900,
           0.9,
           "xlarge",
           "Below average",
           "Wide land"
          ],
          [
           9126101645,
           "Seattle",
           558000,
           1.1,
           "xlarge",
           "Above average",
           "City"
          ],
          [
           1180500100,
           "Seattle",
           353000,
           0.9,
           "large",
           "Below average",
           "City "
          ],
          [
           2011400019,
           "Des Moines",
           260000,
           0.8,
           "xlarge",
           "Below average",
           "Has Shore"
          ],
          [
           8078370010,
           "Woodinville",
           470000,
           0.8,
           "xlarge",
           "Below average",
           "Richie rich"
          ],
          [
           723069049,
           "Issaquah",
           379000,
           1,
           "xlarge",
           "Below average",
           "Wide land"
          ],
          [
           2592400170,
           "Kirkland",
           475000,
           1,
           "xlarge",
           "Below average",
           "Richie rich"
          ],
          [
           2741100280,
           "Seattle",
           415000,
           1,
           "xlarge",
           "Below average",
           "City"
          ],
          [
           7366100080,
           "Burien",
           318000,
           1,
           "xlarge",
           "Below average",
           "Outskirt"
          ],
          [
           3211270170,
           "Auburn",
           404000,
           1,
           "xlarge",
           "Below average",
           "Poor dogs"
          ],
          [
           7140200380,
           "Kent",
           275000,
           0.9,
           "large",
           "Below average",
           "Outskirt"
          ],
          [
           7972601235,
           "Seattle",
           325000,
           1,
           "xlarge",
           "Below average",
           "City"
          ],
          [
           121029034,
           "Vashon",
           549000,
           0.8,
           "large",
           "Above average",
           "Island"
          ],
          [
           6072000440,
           "Bellevue",
           620000,
           1,
           "xlarge",
           "Below average",
           "Richie rich"
          ],
          [
           1823059028,
           "Renton",
           312500,
           0.8,
           "xlarge",
           "Below average",
           "Outskirt"
          ],
          [
           3421069120,
           "Enumclaw",
           329999,
           0.8,
           "xlarge",
           "Below average",
           "Wide land"
          ],
          [
           3583400130,
           "Kenmore",
           692500,
           1,
           "xlarge",
           "Below average",
           "Outskirt"
          ],
          [
           2888000020,
           "Kirkland",
           455000,
           1.4,
           "xlarge",
           "Below average",
           "Richie rich"
          ],
          [
           7856410430,
           "Bellevue",
           1390000,
           1,
           "xlarge",
           "Below average",
           "Richie rich"
          ],
          [
           6744700285,
           "Lake Forest Park",
           600000,
           1,
           "xlarge",
           "Below average",
           "Forest"
          ],
          [
           6671900130,
           "Shoreline",
           370000,
           1,
           "xlarge",
           "Below average",
           "Has Shore"
          ],
          [
           2484200080,
           "Seattle",
           731100,
           0.8,
           "large",
           "Above average",
           "City"
          ],
          [
           7952800010,
           "Shoreline",
           475000,
           0.8,
           "xlarge",
           "Below average",
           "Has Shore"
          ],
          [
           1972202005,
           "Seattle",
           475000,
           1.1,
           "large",
           "Above average",
           "City"
          ],
          [
           1311500020,
           "Auburn",
           198000,
           1,
           "xlarge",
           "Below average",
           "Poor dogs"
          ],
          [
           1086100130,
           "Kirkland",
           528000,
           0.8,
           "large",
           "Above average",
           "Richie rich"
          ],
          [
           7140200280,
           "Kent",
           250000,
           0.9,
           "large",
           "Below average",
           "Outskirt"
          ],
          [
           6673050020,
           "Renton",
           300000,
           0.9,
           "xlarge",
           "Below average",
           "Outskirt"
          ],
          [
           2785000480,
           "Bellevue",
           768500,
           1,
           "xlarge",
           "Below average",
           "Richie rich"
          ],
          [
           2926049400,
           "Seattle",
           500000,
           0.9,
           "xlarge",
           "Below average",
           "City"
          ],
          [
           3528900980,
           "Seattle",
           648475,
           0.9,
           "xlarge",
           "Above average",
           "City"
          ],
          [
           6979900080,
           "Redmond",
           635000,
           0.9,
           "xlarge",
           "Below average",
           "Richie rich"
          ],
          [
           7319900345,
           "Seattle",
           438500,
           0.9,
           "large",
           "Above average",
           "City"
          ],
          [
           31200020,
           "Mercer Island",
           1040000,
           0.8,
           "xlarge",
           "Above average",
           "Richie rich"
          ],
          [
           4441300440,
           "Seattle",
           582000,
           0.8,
           "large",
           "Above average",
           "City"
          ],
          [
           4204400098,
           "Renton",
           250000,
           0.8,
           "xlarge",
           "Below average",
           "Outskirt"
          ],
          [
           4204400098,
           "Renton",
           385000,
           0.8,
           "xlarge",
           "Below average",
           "Outskirt"
          ],
          [
           2896600020,
           "Kirkland",
           460000,
           0.9,
           "large",
           "Above average",
           "Richie rich"
          ],
          [
           7011201470,
           "Seattle",
           625000,
           0.8,
           "xlarge",
           "Above average",
           "Richie rich"
          ],
          [
           6632900574,
           "Lake Forest Park",
           367500,
           0.8,
           "xlarge",
           "Below average",
           "Forest"
          ],
          [
           6632900574,
           "Lake Forest Park",
           595000,
           0.8,
           "xlarge",
           "Below average",
           "Forest"
          ],
          [
           8078550250,
           "Kent",
           307000,
           1,
           "xlarge",
           "Below average",
           "Outskirt"
          ],
          [
           6450304600,
           "Shoreline",
           315000,
           0.8,
           "large",
           "Below average",
           "Has Shore"
          ],
          [
           1853200080,
           "Kirkland",
           350000,
           0.9,
           "large",
           "Below average",
           "Richie rich"
          ],
          [
           6421100502,
           "Redmond",
           695000,
           0.8,
           "xlarge",
           "Below average",
           "Richie rich"
          ],
          [
           7520000440,
           "Seattle",
           214000,
           1,
           "large",
           "Below average",
           "City"
          ],
          [
           322069109,
           "Maple Valley",
           411000,
           0.9,
           "large",
           "Below average",
           "Wide land"
          ],
          [
           2423069120,
           "Issaquah",
           295000,
           1,
           "xlarge",
           "Below average",
           "Wide land"
          ],
          [
           3723800086,
           "Seattle",
           665000,
           1,
           "xlarge",
           "Below average",
           "City"
          ],
          [
           6381500635,
           "Seattle",
           342000,
           0.8,
           "medium",
           "Above average",
           "City"
          ],
          [
           6065300840,
           "Bellevue",
           2850000,
           0.8,
           "xlarge",
           "Top 10",
           "Richie rich"
          ],
          [
           3423059153,
           "Renton",
           785000,
           0.8,
           "xlarge",
           "Below average",
           "Outskirt"
          ],
          [
           7806210380,
           "Auburn",
           257500,
           0.8,
           "large",
           "Below average",
           "Poor dogs"
          ],
          [
           3348401319,
           "Seattle",
           372500,
           0.9,
           "xlarge",
           "Below average",
           "City "
          ],
          [
           2013300050,
           "Des Moines",
           258000,
           0.9,
           "large",
           "Below average",
           "Has Shore"
          ],
          [
           2264500425,
           "Seattle",
           640000,
           1,
           "large",
           "Above average",
           "City"
          ],
          [
           1105000780,
           "Seattle",
           425000,
           0.8,
           "large",
           "Above average",
           "City"
          ],
          [
           127100005,
           "Shoreline",
           377000,
           1,
           "large",
           "Below average",
           "Has Shore"
          ],
          [
           458000235,
           "Seattle",
           525000,
           1,
           "large",
           "Above average",
           "City"
          ],
          [
           4019301300,
           "Lake Forest Park",
           472000,
           0.8,
           "xlarge",
           "Below average",
           "Forest"
          ],
          [
           807800190,
           "Kent",
           245000,
           1,
           "xlarge",
           "Below average",
           "Outskirt"
          ],
          [
           3024079063,
           "Issaquah",
           850000,
           1,
           "xlarge",
           "Below average",
           "Wide land"
          ],
          [
           7785000010,
           "Mercer Island",
           750000,
           1,
           "xlarge",
           "Above average",
           "Richie rich"
          ],
          [
           3213200314,
           "Seattle",
           874000,
           0.8,
           "xlarge",
           "Above average",
           "City"
          ],
          [
           9834200950,
           "Seattle",
           385000,
           0.9,
           "large",
           "Below average",
           "City"
          ],
          [
           4027700321,
           "Lake Forest Park",
           420000,
           0.9,
           "xlarge",
           "Below average",
           "Forest"
          ],
          [
           6820100010,
           "Seattle",
           415000,
           0.8,
           "large",
           "Below average",
           "City"
          ],
          [
           3391900130,
           "Federal Way",
           258750,
           1,
           "xlarge",
           "Below average",
           "Outskirt"
          ],
          [
           686900010,
           "Bellevue",
           898000,
           0.8,
           "xlarge",
           "Above average",
           "Belle"
          ],
          [
           8159300050,
           "Des Moines",
           355425,
           0.9,
           "xlarge",
           "Below average",
           "Has Shore"
          ],
          [
           2113701100,
           "Seattle",
           294010,
           0.9,
           "large",
           "Below average",
           "City"
          ],
          [
           9297300255,
           "Seattle",
           565000,
           0.9,
           "xlarge",
           "Above average",
           "City"
          ],
          [
           8663280080,
           "Kirkland",
           405000,
           1,
           "large",
           "Below average",
           "Richie rich"
          ],
          [
           9834200440,
           "Seattle",
           615000,
           0.8,
           "large",
           "Above average",
           "City"
          ],
          [
           6613000585,
           "Seattle",
           1620000,
           1,
           "xlarge",
           "Top 10",
           "City"
          ],
          [
           7893202340,
           "Des Moines",
           335000,
           1,
           "xlarge",
           "Below average",
           "Has Shore"
          ],
          [
           7522500020,
           "Seattle",
           730001,
           0.8,
           "large",
           "Above average",
           "City"
          ],
          [
           1250203860,
           "Seattle",
           759000,
           1,
           "xlarge",
           "Above average",
           "City"
          ],
          [
           7856640170,
           "Bellevue",
           789900,
           1,
           "xlarge",
           "Below average",
           "Richie rich"
          ],
          [
           1523069215,
           "Issaquah",
           435000,
           1,
           "xlarge",
           "Below average",
           "Wide land"
          ],
          [
           1201500010,
           "Kirkland",
           833000,
           0.9,
           "xlarge",
           "Above average",
           "Richie rich"
          ],
          [
           8857310010,
           "Bellevue",
           268500,
           1,
           "large",
           "Below average",
           "Richie rich"
          ],
          [
           4364200250,
           "Seattle",
           400375,
           0.9,
           "large",
           "Below average",
           "City"
          ],
          [
           6372000101,
           "Seattle",
           483500,
           1,
           "large",
           "Above average",
           "City"
          ],
          [
           7871500440,
           "Seattle",
           750000,
           0.9,
           "xlarge",
           "Above average",
           "Richie rich"
          ],
          [
           461004095,
           "Seattle",
           514000,
           0.8,
           "large",
           "Above average",
           "City"
          ],
          [
           1422700080,
           "Seatac",
           253000,
           1,
           "xlarge",
           "Below average",
           "Has Shore"
          ],
          [
           2926049408,
           "Seattle",
           400000,
           1,
           "xlarge",
           "Below average",
           "City"
          ],
          [
           6821101870,
           "Seattle",
           524000,
           1,
           "large",
           "Above average",
           "City"
          ],
          [
           8854100130,
           "Bothell",
           600000,
           0.9,
           "xlarge",
           "Below average",
           "Outskirt"
          ],
          [
           2205700345,
           "Bellevue",
           500000,
           1,
           "large",
           "Above average",
           "Richie rich"
          ],
          [
           507100020,
           "Shoreline",
           270000,
           0.9,
           "large",
           "Below average",
           "Has Shore"
          ],
          [
           8820900670,
           "Seattle",
           399950,
           0.9,
           "large",
           "Above average",
           "City"
          ],
          [
           2925059260,
           "Bellevue",
           800000,
           1,
           "xlarge",
           "Above average",
           "Belle"
          ],
          [
           9197100263,
           "Kent",
           237000,
           0.8,
           "large",
           "Below average",
           "Has Shore"
          ],
          [
           222029026,
           "Vashon",
           340000,
           0.9,
           "medium",
           "Above average",
           "Island"
          ],
          [
           6071200545,
           "Bellevue",
           541125,
           1,
           "xlarge",
           "Below average",
           "Richie rich"
          ],
          [
           5379804393,
           "Seatac",
           325000,
           1,
           "xlarge",
           "Below average",
           "Has Shore"
          ],
          [
           6430500233,
           "Seattle",
           650000,
           1,
           "large",
           "Above average",
           "City"
          ],
          [
           7701800050,
           "Renton",
           589950,
           0.9,
           "xlarge",
           "Below average",
           "Outskirt"
          ],
          [
           7878400022,
           "Seattle",
           390000,
           1,
           "xlarge",
           "Below average",
           "City "
          ],
          [
           2893000280,
           "Kent",
           216600,
           0.8,
           "large",
           "Below average",
           "Outskirt"
          ],
          [
           3039000020,
           "Kirkland",
           450000,
           1.1,
           "large",
           "Below average",
           "Richie rich"
          ],
          [
           1873400020,
           "Shoreline",
           340000,
           0.9,
           "xlarge",
           "Below average",
           "Has Shore"
          ],
          [
           9136102057,
           "Seattle",
           650000,
           1,
           "xlarge",
           "Above average",
           "City"
          ],
          [
           2787310130,
           "Kent",
           289950,
           1,
           "xlarge",
           "Below average",
           "Outskirt"
          ],
          [
           8899000050,
           "Renton",
           313100,
           0.8,
           "xlarge",
           "Below average",
           "Outskirt"
          ],
          [
           3271300345,
           "Seattle",
           1030000,
           0.8,
           "xlarge",
           "Above average",
           "City"
          ],
          [
           7931000066,
           "Kent",
           280000,
           1,
           "xlarge",
           "Below average",
           "Outskirt"
          ],
          [
           1681400010,
           "Seattle",
           885000,
           0.8,
           "xlarge",
           "Above average",
           "City"
          ],
          [
           3523069008,
           "Maple Valley",
           890000,
           0.9,
           "xlarge",
           "Below average",
           "Wide land"
          ],
          [
           2253200010,
           "Newcastle",
           390000,
           1,
           "xlarge",
           "Below average",
           "Has Shore"
          ],
          [
           7855000460,
           "Bellevue",
           1450000,
           0.8,
           "xlarge",
           "Above average",
           "Richie rich"
          ],
          [
           6152900402,
           "Lake Forest Park",
           410000,
           0.9,
           "xlarge",
           "Below average",
           "Forest"
          ],
          [
           9476200545,
           "Newcastle",
           270000,
           1,
           "large",
           "Below average",
           "Has Shore"
          ],
          [
           6338000592,
           "Seattle",
           565000,
           1,
           "large",
           "Above average",
           "City"
          ],
          [
           2815600305,
           "Seattle",
           695000,
           0.9,
           "xlarge",
           "Above average",
           "City"
          ],
          [
           9368700006,
           "Seattle",
           375000,
           0.8,
           "xlarge",
           "Below average",
           "City "
          ],
          [
           3867400130,
           "Seattle",
           810000,
           1,
           "xlarge",
           "Above average",
           "City"
          ],
          [
           7856410020,
           "Bellevue",
           998160,
           1.4,
           "xlarge",
           "Above average",
           "Richie rich"
          ],
          [
           2301400655,
           "Seattle",
           775000,
           0.9,
           "xlarge",
           "Above average",
           "City"
          ],
          [
           6204200170,
           "Bothell",
           525000,
           0.8,
           "xlarge",
           "Below average",
           "Outskirt"
          ],
          [
           8656800190,
           "Carnation",
           280000,
           1,
           "xlarge",
           "Below average",
           "Outskirt"
          ],
          [
           8805900080,
           "Seattle",
           750000,
           0.8,
           "large",
           "Top 10",
           "Richie rich"
          ],
          [
           224069102,
           "Sammamish",
           615000,
           1,
           "large",
           "Above average",
           "Poor dogs"
          ],
          [
           6616000010,
           "Seattle",
           814000,
           1,
           "xlarge",
           "Above average",
           "City"
          ],
          [
           8901000911,
           "Seattle",
           425000,
           1,
           "xlarge",
           "Below average",
           "City"
          ],
          [
           4036800170,
           "Bellevue",
           453000,
           1,
           "xlarge",
           "Below average",
           "Richie rich"
          ],
          [
           7971300020,
           "Bellevue",
           800000,
           1,
           "xlarge",
           "Above average",
           "Richie rich"
          ],
          [
           1433500050,
           "Bellevue",
           549950,
           0.8,
           "xlarge",
           "Below average",
           "Richie rich"
          ],
          [
           3303870050,
           "Auburn",
           545000,
           0.9,
           "xlarge",
           "Below average",
           "Poor dogs"
          ],
          [
           3322049005,
           "Auburn",
           850000,
           1,
           "xlarge",
           "Below average",
           "Poor dogs"
          ],
          [
           1196000007,
           "Auburn",
           384900,
           0.8,
           "xlarge",
           "Below average",
           "Has Shore"
          ],
          [
           7950302210,
           "Seattle",
           358000,
           1,
           "xlarge",
           "Below average",
           "City"
          ],
          [
           5072100095,
           "Normandy Park",
           554000,
           1,
           "xlarge",
           "Below average",
           "Has Shore"
          ],
          [
           2570300130,
           "Kirkland",
           414999,
           1,
           "xlarge",
           "Below average",
           "Richie rich"
          ],
          [
           1245500950,
           "Kirkland",
           1100000,
           0.8,
           "large",
           "Top 10",
           "Richie rich"
          ],
          [
           2212500430,
           "Auburn",
           323000,
           0.9,
           "xlarge",
           "Below average",
           "Poor dogs"
          ],
          [
           4046501300,
           "Carnation",
           430000,
           0.9,
           "xlarge",
           "Below average",
           "Outskirt"
          ],
          [
           4038700380,
           "Bellevue",
           657000,
           1,
           "xlarge",
           "Above average",
           "Richie rich"
          ],
          [
           5700002125,
           "Seattle",
           480000,
           1,
           "xlarge",
           "Below average",
           "City"
          ],
          [
           1200019,
           "Normandy Park",
           647500,
           0.8,
           "large",
           "Above average",
           "Has Shore"
          ],
          [
           4112100101,
           "Seattle",
           415000,
           1,
           "xlarge",
           "Below average",
           "City"
          ],
          [
           4302200415,
           "Seattle",
           339888,
           1,
           "large",
           "Below average",
           "City"
          ],
          [
           6190701112,
           "Shoreline",
           396000,
           0.8,
           "large",
           "Below average",
           "Has Shore"
          ],
          [
           3856900005,
           "Seattle",
           535000,
           1,
           "xlarge",
           "Below average",
           "City"
          ],
          [
           6819100345,
           "Seattle",
           700000,
           0.8,
           "xlarge",
           "Above average",
           "City"
          ],
          [
           6083000050,
           "Burien",
           235000,
           1,
           "large",
           "Below average",
           "Outskirt"
          ],
          [
           686100380,
           "Bellevue",
           472000,
           0.8,
           "large",
           "Below average",
           "Richie rich"
          ],
          [
           507100005,
           "Shoreline",
           285000,
           1,
           "xlarge",
           "Below average",
           "Has Shore"
          ],
          [
           2919702040,
           "Seattle",
           599000,
           0.9,
           "xlarge",
           "Below average",
           "City"
          ],
          [
           3095000095,
           "Seattle",
           580000,
           1,
           "xlarge",
           "Above average",
           "City"
          ],
          [
           7549800168,
           "Seattle",
           457500,
           0.8,
           "large",
           "Above average",
           "City"
          ],
          [
           3226049466,
           "Seattle",
           340000,
           1,
           "large",
           "Below average",
           "City"
          ],
          [
           7979900006,
           "Lake Forest Park",
           450000,
           0.8,
           "xlarge",
           "Below average",
           "Forest"
          ],
          [
           3558900430,
           "Kirkland",
           615000,
           0.8,
           "xlarge",
           "Above average",
           "Richie rich"
          ],
          [
           1430800279,
           "Normandy Park",
           469000,
           0.9,
           "xlarge",
           "Below average",
           "Has Shore"
          ],
          [
           6821600005,
           "Seattle",
           710000,
           1,
           "xlarge",
           "Above average",
           "City"
          ],
          [
           9359100101,
           "Mercer Island",
           1370000,
           0.9,
           "xlarge",
           "Above average",
           "Richie rich"
          ],
          [
           2872900280,
           "Redmond",
           540000,
           1.1,
           "xlarge",
           "Below average",
           "Richie rich"
          ],
          [
           7937600380,
           "Renton",
           435000,
           0.9,
           "large",
           "Below average",
           "Outskirt"
          ],
          [
           9828200545,
           "Seattle",
           591000,
           0.9,
           "large",
           "Above average",
           "City"
          ],
          [
           1377300020,
           "Seattle",
           650000,
           1,
           "xlarge",
           "Above average",
           "City"
          ],
          [
           7997200130,
           "Seattle",
           649950,
           1,
           "xlarge",
           "Above average",
           "City"
          ],
          [
           9517200290,
           "Woodinville",
           482000,
           0.9,
           "xlarge",
           "Below average",
           "Richie rich"
          ],
          [
           7715600050,
           "Seattle",
           385000,
           1,
           "large",
           "Above average",
           "City"
          ],
          [
           8069000216,
           "Seattle",
           356200,
           0.8,
           "large",
           "Below average",
           "City "
          ],
          [
           3401700255,
           "Woodinville",
           595000,
           0.9,
           "xlarge",
           "Below average",
           "Richie rich"
          ],
          [
           4083306720,
           "Seattle",
           560000,
           0.8,
           "large",
           "Above average",
           "City"
          ],
          [
           3438500797,
           "Seattle",
           368000,
           1,
           "xlarge",
           "Below average",
           "City"
          ],
          [
           3224510290,
           "Bellevue",
           920000,
           0.9,
           "xlarge",
           "Above average",
           "Richie rich"
          ],
          [
           6072500050,
           "Bellevue",
           560000,
           1,
           "xlarge",
           "Below average",
           "Richie rich"
          ],
          [
           1066000290,
           "Bellevue",
           600000,
           0.9,
           "xlarge",
           "Below average",
           "Richie rich"
          ],
          [
           2114300290,
           "Seattle",
           411500,
           0.8,
           "xlarge",
           "Below average",
           "City"
          ],
          [
           5130000080,
           "Kenmore",
           481000,
           1,
           "xlarge",
           "Below average",
           "Outskirt"
          ],
          [
           868002335,
           "Shoreline",
           1430000,
           0.8,
           "xlarge",
           "Top 10",
           "Has Shore"
          ],
          [
           2487700130,
           "Seattle",
           710000,
           1,
           "xlarge",
           "Above average",
           "City"
          ],
          [
           6154900095,
           "Shoreline",
           565000,
           1,
           "xlarge",
           "Above average",
           "Has Shore"
          ],
          [
           7936000403,
           "Seattle",
           568000,
           0.9,
           "xlarge",
           "Above average",
           "City"
          ],
          [
           8645540290,
           "Renton",
           358000,
           0.9,
           "xlarge",
           "Below average",
           "Outskirt"
          ],
          [
           7613700660,
           "Seattle",
           758800,
           0.8,
           "large",
           "Top 10",
           "City"
          ],
          [
           6868200029,
           "Seattle",
           467500,
           1,
           "xlarge",
           "Below average",
           "City"
          ],
          [
           1326049130,
           "Kenmore",
           605000,
           0.9,
           "xlarge",
           "Below average",
           "Outskirt"
          ],
          [
           3946900010,
           "Seattle",
           500007,
           1,
           "large",
           "Above average",
           "City"
          ],
          [
           126049167,
           "Kenmore",
           380000,
           1,
           "xlarge",
           "Below average",
           "Outskirt"
          ],
          [
           1525079069,
           "Carnation",
           650000,
           1,
           "xlarge",
           "Below average",
           "Outskirt"
          ],
          [
           1924069071,
           "Issaquah",
           485000,
           0.8,
           "large",
           "Below average",
           "Wide land"
          ],
          [
           9346910500,
           "Bellevue",
           700000,
           1,
           "xlarge",
           "Above average",
           "Richie rich"
          ],
          [
           4477000290,
           "Normandy Park",
           474950,
           0.8,
           "large",
           "Below average",
           "Has Shore"
          ],
          [
           8127700440,
           "Seattle",
           654000,
           0.9,
           "xlarge",
           "Above average",
           "City"
          ],
          [
           5561400440,
           "Issaquah",
           465000,
           0.8,
           "xlarge",
           "Below average",
           "Wide land"
          ],
          [
           2297400250,
           "Kirkland",
           445000,
           0.8,
           "large",
           "Below average",
           "Richie rich"
          ],
          [
           6373000130,
           "Seattle",
           555000,
           1,
           "large",
           "Above average",
           "City"
          ],
          [
           1311200460,
           "Auburn",
           265000,
           1,
           "xlarge",
           "Below average",
           "Poor dogs"
          ],
          [
           7844200425,
           "Seatac",
           525000,
           0.8,
           "xlarge",
           "Below average",
           "Has Shore"
          ],
          [
           9407001330,
           "North Bend",
           355000,
           0.9,
           "xlarge",
           "Below average",
           "Wide land"
          ],
          [
           7905370440,
           "Kirkland",
           469950,
           0.8,
           "xlarge",
           "Below average",
           "Richie rich"
          ],
          [
           3992700585,
           "Seattle",
           445500,
           1,
           "large",
           "Below average",
           "City"
          ],
          [
           8937500020,
           "Auburn",
           325000,
           0.8,
           "xlarge",
           "Below average",
           "Has Shore"
          ],
          [
           8917100020,
           "Redmond",
           1150000,
           0.9,
           "xlarge",
           "Top 10",
           "Richie rich"
          ],
          [
           2770600795,
           "Seattle",
           585000,
           1,
           "xlarge",
           "Below average",
           "City"
          ],
          [
           3336001470,
           "Seattle",
           311000,
           0.8,
           "large",
           "Below average",
           "City"
          ],
          [
           1591600307,
           "Seattle",
           360000,
           0.8,
           "large",
           "Below average",
           "City"
          ],
          [
           7130300170,
           "Seattle",
           552000,
           1,
           "xlarge",
           "Below average",
           "City "
          ],
          [
           2223069120,
           "Issaquah",
           440000,
           1,
           "xlarge",
           "Below average",
           "Wide land"
          ],
          [
           3459600440,
           "Bellevue",
           1310000,
           1,
           "xlarge",
           "Above average",
           "Richie rich"
          ],
          [
           6914700130,
           "Seattle",
           520500,
           1,
           "large",
           "Above average",
           "City"
          ],
          [
           5451200280,
           "Mercer Island",
           1170000,
           0.9,
           "xlarge",
           "Above average",
           "Richie rich"
          ],
          [
           582000010,
           "Seattle",
           830200,
           0.9,
           "xlarge",
           "Above average",
           "City"
          ],
          [
           3824100235,
           "Kenmore",
           425000,
           1,
           "xlarge",
           "Below average",
           "Outskirt"
          ],
          [
           8732020440,
           "Auburn",
           297500,
           0.8,
           "large",
           "Below average",
           "Has Shore"
          ],
          [
           8562500380,
           "Redmond",
           679000,
           1,
           "xlarge",
           "Below average",
           "Richie rich"
          ],
          [
           2655500235,
           "Mercer Island",
           1610000,
           0.8,
           "xlarge",
           "Top 10",
           "Richie rich"
          ],
          [
           3526059115,
           "Redmond",
           515000,
           0.9,
           "xlarge",
           "Below average",
           "Richie rich"
          ],
          [
           1722069052,
           "Maple Valley",
           565000,
           1,
           "xlarge",
           "Below average",
           "Wide land"
          ],
          [
           3178100065,
           "Seattle",
           676101,
           0.8,
           "xlarge",
           "Above average",
           "City"
          ],
          [
           9310300300,
           "Shoreline",
           411000,
           1,
           "xlarge",
           "Below average",
           "Has Shore"
          ],
          [
           461002150,
           "Seattle",
           725000,
           0.8,
           "large",
           "Above average",
           "City"
          ],
          [
           3886902950,
           "Kirkland",
           860000,
           1,
           "xlarge",
           "Above average",
           "Richie rich"
          ],
          [
           3883100220,
           "Kent",
           299000,
           0.8,
           "large",
           "Below average",
           "Outskirt"
          ],
          [
           2207200405,
           "Bellevue",
           460000,
           0.9,
           "large",
           "Below average",
           "Richie rich"
          ],
          [
           3288301050,
           "Kirkland",
           482000,
           0.9,
           "xlarge",
           "Below average",
           "Richie rich"
          ],
          [
           2121000300,
           "Kirkland",
           518000,
           0.8,
           "xlarge",
           "Below average",
           "Richie rich"
          ],
          [
           4077800026,
           "Seattle",
           715000,
           0.9,
           "xlarge",
           "Below average",
           "City"
          ],
          [
           3644100065,
           "Seattle",
           257000,
           1,
           "large",
           "Below average",
           "City"
          ],
          [
           7818700410,
           "Seattle",
           481500,
           1,
           "xlarge",
           "Below average",
           "City"
          ],
          [
           7183000120,
           "Federal Way",
           380000,
           0.9,
           "xlarge",
           "Below average",
           "Outskirt"
          ],
          [
           1022059123,
           "Covington",
           250000,
           0.9,
           "xlarge",
           "Below average",
           "Outskirt"
          ],
          [
           2520069100,
           "Enumclaw",
           275000,
           0.8,
           "large",
           "Below average",
           "Wide land"
          ],
          [
           9238480120,
           "Woodinville",
           575000,
           0.8,
           "xlarge",
           "Below average",
           "Richie rich"
          ],
          [
           626049058,
           "Shoreline",
           275000,
           1,
           "xlarge",
           "Below average",
           "Has Shore"
          ],
          [
           8085400355,
           "Bellevue",
           1270000,
           0.8,
           "xlarge",
           "Above average",
           "Belle"
          ],
          [
           6169900580,
           "Seattle",
           1470000,
           0.8,
           "xlarge",
           "Above average",
           "Richie rich"
          ],
          [
           3179101945,
           "Seattle",
           864000,
           0.9,
           "xlarge",
           "Above average",
           "City"
          ],
          [
           8827900690,
           "Seattle",
           600000,
           1,
           "large",
           "Top 10",
           "City"
          ],
          [
           3579700100,
           "Kenmore",
           389000,
           1,
           "xlarge",
           "Below average",
           "Outskirt"
          ],
          [
           3352400330,
           "Seattle",
           216000,
           0.8,
           "large",
           "Below average",
           "City "
          ],
          [
           9274204230,
           "Seattle",
           410000,
           1,
           "large",
           "Above average",
           "City"
          ],
          [
           4058200985,
           "Seattle",
           472000,
           1,
           "xlarge",
           "Below average",
           "City "
          ],
          [
           3904100220,
           "Seattle",
           276000,
           1,
           "large",
           "Below average",
           "City"
          ],
          [
           461002615,
           "Seattle",
           580000,
           0.8,
           "xlarge",
           "Below average",
           "City"
          ],
          [
           3332000530,
           "Seattle",
           599000,
           0.9,
           "xlarge",
           "Below average",
           "City"
          ],
          [
           7866000158,
           "Seattle",
           320000,
           0.8,
           "large",
           "Below average",
           "City"
          ],
          [
           8084900195,
           "Bellevue",
           1650000,
           0.9,
           "xlarge",
           "Top 10",
           "Belle"
          ],
          [
           4139420590,
           "Bellevue",
           1210000,
           1,
           "xlarge",
           "Above average",
           "Richie rich"
          ],
          [
           4139420590,
           "Bellevue",
           1200000,
           1,
           "xlarge",
           "Above average",
           "Richie rich"
          ],
          [
           524069101,
           "Sammamish",
           850000,
           1,
           "xlarge",
           "Above average",
           "Poor dogs"
          ],
          [
           9191200490,
           "Seattle",
           826600,
           0.8,
           "xlarge",
           "Above average",
           "City"
          ],
          [
           9459200110,
           "Seattle",
           315000,
           0.8,
           "large",
           "Below average",
           "City"
          ],
          [
           3575304895,
           "Redmond",
           406550,
           1,
           "xlarge",
           "Below average",
           "Richie rich"
          ],
          [
           6071800410,
           "Bellevue",
           500000,
           1,
           "xlarge",
           "Below average",
           "Richie rich"
          ],
          [
           1931300035,
           "Seattle",
           785000,
           1,
           "xlarge",
           "Above average",
           "City"
          ],
          [
           2770601800,
           "Seattle",
           525000,
           1,
           "large",
           "Above average",
           "City"
          ],
          [
           5309100515,
           "Seattle",
           537000,
           1,
           "large",
           "Above average",
           "City"
          ],
          [
           2113700115,
           "Seattle",
           369950,
           0.9,
           "large",
           "Below average",
           "City"
          ],
          [
           5101400838,
           "Seattle",
           450000,
           0.8,
           "large",
           "Above average",
           "City"
          ],
          [
           3886903155,
           "Kirkland",
           606000,
           0.9,
           "large",
           "Above average",
           "Richie rich"
          ],
          [
           8150600195,
           "Seattle",
           450000,
           0.8,
           "large",
           "Above average",
           "City"
          ],
          [
           4022902260,
           "Lake Forest Park",
           460000,
           1,
           "xlarge",
           "Below average",
           "Forest"
          ],
          [
           6021500025,
           "Seattle",
           631750,
           1,
           "xlarge",
           "Above average",
           "City"
          ],
          [
           4134300175,
           "Bellevue",
           1850000,
           1,
           "xlarge",
           "Top 10",
           "Richie rich"
          ],
          [
           1311910300,
           "Auburn",
           260000,
           0.8,
           "xlarge",
           "Below average",
           "Poor dogs"
          ],
          [
           3390600025,
           "Seattle",
           450000,
           1,
           "xlarge",
           "Below average",
           "City"
          ],
          [
           1924059029,
           "Mercer Island",
           4670000,
           1,
           "xlarge",
           "Top 10",
           "Richie rich"
          ],
          [
           3959401880,
           "Seattle",
           395000,
           1,
           "xlarge",
           "Below average",
           "City"
          ],
          [
           1099900120,
           "Seatac",
           345000,
           0.8,
           "xlarge",
           "Below average",
           "Has Shore"
          ],
          [
           1545801970,
           "Maple Valley",
           250000,
           1,
           "large",
           "Below average",
           "Wide land"
          ],
          [
           9273200115,
           "Seattle",
           1250000,
           1,
           "xlarge",
           "Above average",
           "City"
          ],
          [
           5249803550,
           "Seattle",
           635000,
           1,
           "xlarge",
           "Above average",
           "City"
          ],
          [
           7856601110,
           "Bellevue",
           945800,
           0.9,
           "xlarge",
           "Above average",
           "Richie rich"
          ],
          [
           1121039059,
           "Auburn",
           503000,
           0.9,
           "xlarge",
           "Below average",
           "Has Shore"
          ],
          [
           797000256,
           "Burien",
           339950,
           0.8,
           "large",
           "Above average",
           "Outskirt"
          ],
          [
           5021900175,
           "Mercer Island",
           500000,
           1,
           "large",
           "Above average",
           "Richie rich"
          ],
          [
           4038700220,
           "Bellevue",
           610000,
           0.9,
           "large",
           "Above average",
           "Richie rich"
          ],
          [
           4315701163,
           "Seattle",
           585000,
           0.8,
           "large",
           "Above average",
           "City"
          ],
          [
           4157600120,
           "Bellevue",
           580000,
           0.8,
           "xlarge",
           "Below average",
           "Richie rich"
          ],
          [
           3438500781,
           "Seattle",
           330000,
           1,
           "xlarge",
           "Below average",
           "City"
          ],
          [
           9268200315,
           "Seattle",
           456000,
           0.8,
           "large",
           "Below average",
           "City"
          ],
          [
           4358700141,
           "Shoreline",
           480000,
           0.9,
           "large",
           "Above average",
           "Has Shore"
          ],
          [
           7844200120,
           "Seatac",
           340000,
           0.8,
           "xlarge",
           "Below average",
           "Has Shore"
          ],
          [
           7841300535,
           "Renton",
           225000,
           1,
           "large",
           "Below average",
           "Outskirt"
          ],
          [
           8562901250,
           "Redmond",
           516000,
           0.9,
           "xlarge",
           "Below average",
           "Richie rich"
          ],
          [
           3601800580,
           "Kent",
           250000,
           0.8,
           "xlarge",
           "Below average",
           "Has Shore"
          ],
          [
           3726800201,
           "Seattle",
           410000,
           1,
           "xlarge",
           "Below average",
           "City"
          ],
          [
           13002460,
           "Seattle",
           205000,
           2,
           "xlarge",
           "Below average",
           "City"
          ],
          [
           4364700945,
           "Seattle",
           459000,
           1,
           "xlarge",
           "Below average",
           "City"
          ],
          [
           1924059254,
           "Mercer Island",
           1300000,
           0.8,
           "xlarge",
           "Above average",
           "Richie rich"
          ],
          [
           2172000846,
           "Seattle",
           248000,
           1,
           "xlarge",
           "Below average",
           "City "
          ],
          [
           514500195,
           "Bellevue",
           556000,
           0.8,
           "xlarge",
           "Above average",
           "Richie rich"
          ],
          [
           1310980580,
           "Kent",
           374900,
           0.9,
           "xlarge",
           "Below average",
           "Has Shore"
          ],
          [
           6600220150,
           "Redmond",
           549950,
           0.9,
           "xlarge",
           "Above average",
           "Richie rich"
          ],
          [
           4343800100,
           "Shoreline",
           315000,
           0.8,
           "large",
           "Below average",
           "Has Shore"
          ],
          [
           1824059079,
           "Mercer Island",
           880000,
           0.9,
           "xlarge",
           "Above average",
           "Richie rich"
          ],
          [
           8948500025,
           "Newcastle",
           380000,
           0.8,
           "xlarge",
           "Below average",
           "Has Shore"
          ],
          [
           2123700100,
           "Seattle",
           353000,
           0.9,
           "xlarge",
           "Below average",
           "City"
          ],
          [
           4038800580,
           "Bellevue",
           565000,
           0.9,
           "xlarge",
           "Below average",
           "Richie rich"
          ],
          [
           1250202324,
           "Seattle",
           610000,
           0.8,
           "xlarge",
           "Below average",
           "City"
          ],
          [
           5127000410,
           "Newcastle",
           350000,
           1,
           "xlarge",
           "Below average",
           "Outskirt"
          ],
          [
           9376301520,
           "Seattle",
           595000,
           1,
           "large",
           "Above average",
           "City"
          ],
          [
           5366200330,
           "Seattle",
           470000,
           0.8,
           "large",
           "Above average",
           "City"
          ],
          [
           984210590,
           "Renton",
           360000,
           0.9,
           "xlarge",
           "Below average",
           "Outskirt"
          ],
          [
           3904100065,
           "Seattle",
           340000,
           1,
           "large",
           "Above average",
           "City"
          ],
          [
           4077800088,
           "Seattle",
           699950,
           0.8,
           "large",
           "Above average",
           "City"
          ],
          [
           5101404444,
           "Seattle",
           564000,
           0.8,
           "large",
           "Above average",
           "City"
          ],
          [
           6329000705,
           "Seattle",
           545000,
           0.8,
           "xlarge",
           "Below average",
           "City"
          ],
          [
           5379805160,
           "Seatac",
           242000,
           1,
           "xlarge",
           "Below average",
           "Has Shore"
          ],
          [
           2523069146,
           "Issaquah",
           349900,
           1,
           "xlarge",
           "Below average",
           "Wide land"
          ],
          [
           6822100750,
           "Seattle",
           700000,
           0.8,
           "large",
           "Top 10",
           "City"
          ],
          [
           7550801207,
           "Seattle",
           536500,
           1,
           "large",
           "Above average",
           "City"
          ],
          [
           2450500110,
           "Bellevue",
           780000,
           0.8,
           "xlarge",
           "Above average",
           "Belle"
          ],
          [
           5101405340,
           "Seattle",
           460000,
           1,
           "large",
           "Above average",
           "City"
          ],
          [
           2734100065,
           "Seattle",
           445000,
           0.8,
           "xlarge",
           "Below average",
           "City"
          ],
          [
           9178600360,
           "Seattle",
           760500,
           0.8,
           "large",
           "Above average",
           "City"
          ],
          [
           6126601445,
           "Seattle",
           490000,
           1,
           "large",
           "Above average",
           "City"
          ],
          [
           7812800515,
           "Seattle",
           159075,
           1,
           "large",
           "Below average",
           "City "
          ],
          [
           4246000180,
           "Bellevue",
           433000,
           0.8,
           "large",
           "Below average",
           "Richie rich"
          ],
          [
           7520000616,
           "Seattle",
           325000,
           0.9,
           "xlarge",
           "Below average",
           "City"
          ],
          [
           5067400032,
           "Des Moines",
           550000,
           0.8,
           "xlarge",
           "Below average",
           "Has Shore"
          ],
          [
           5459300040,
           "Mercer Island",
           715000,
           1,
           "xlarge",
           "Above average",
           "Richie rich"
          ],
          [
           7855200120,
           "Bellevue",
           1370000,
           0.9,
           "xlarge",
           "Above average",
           "Richie rich"
          ],
          [
           2306400040,
           "Seattle",
           604000,
           1,
           "large",
           "Above average",
           "City"
          ],
          [
           9191201250,
           "Seattle",
           580000,
           0.9,
           "xlarge",
           "Below average",
           "City"
          ],
          [
           7855400330,
           "Bellevue",
           1100000,
           0.8,
           "xlarge",
           "Top 10",
           "Richie rich"
          ],
          [
           8833510230,
           "Kenmore",
           603500,
           0.9,
           "xlarge",
           "Below average",
           "Outskirt"
          ],
          [
           7229800175,
           "Newcastle",
           453500,
           1,
           "xlarge",
           "Below average",
           "Outskirt"
          ],
          [
           2524049257,
           "Mercer Island",
           1530000,
           0.8,
           "xlarge",
           "Above average",
           "Richie rich"
          ],
          [
           8645500900,
           "Renton",
           279000,
           1,
           "xlarge",
           "Below average",
           "Outskirt"
          ],
          [
           9285800801,
           "Seattle",
           364500,
           1,
           "large",
           "Below average",
           "City"
          ],
          [
           3750607974,
           "Auburn",
           280000,
           0.9,
           "xlarge",
           "Below average",
           "Poor dogs"
          ],
          [
           2788500090,
           "Burien",
           309000,
           0.8,
           "large",
           "Below average",
           "Outskirt"
          ],
          [
           3750603940,
           "Auburn",
           240000,
           0.8,
           "large",
           "Below average",
           "Poor dogs"
          ],
          [
           269000615,
           "Seattle",
           875000,
           0.8,
           "xlarge",
           "Above average",
           "City"
          ],
          [
           3101500090,
           "Seattle",
           400000,
           0.8,
           "xlarge",
           "Below average",
           "City"
          ],
          [
           3447000090,
           "Bellevue",
           653000,
           1,
           "xlarge",
           "Below average",
           "Richie rich"
          ],
          [
           2223069112,
           "Issaquah",
           465000,
           1,
           "xlarge",
           "Below average",
           "Wide land"
          ],
          [
           2114700540,
           "Seattle",
           366000,
           1,
           "large",
           "Above average",
           "City"
          ],
          [
           5652601035,
           "Seattle",
           285000,
           0.9,
           "medium",
           "Above average",
           "City"
          ],
          [
           3524039202,
           "Seattle",
           1070000,
           0.9,
           "xlarge",
           "Above average",
           "City"
          ],
          [
           2570500230,
           "Kenmore",
           400000,
           0.9,
           "large",
           "Below average",
           "Outskirt"
          ],
          [
           4302700559,
           "Seattle",
           342000,
           0.8,
           "large",
           "Below average",
           "City"
          ],
          [
           2883200961,
           "Seattle",
           700000,
           0.8,
           "large",
           "Above average",
           "City"
          ],
          [
           1126049095,
           "Kenmore",
           450000,
           1,
           "xlarge",
           "Below average",
           "Outskirt"
          ],
          [
           9530101385,
           "Seattle",
           540000,
           1,
           "large",
           "Above average",
           "City"
          ],
          [
           7243500015,
           "Seattle",
           275000,
           1,
           "large",
           "Below average",
           "City"
          ],
          [
           5035300650,
           "Seattle",
           1100000,
           1,
           "xlarge",
           "Top 10",
           "City"
          ],
          [
           2675600025,
           "Seattle",
           603500,
           1,
           "xlarge",
           "Above average",
           "City"
          ],
          [
           8146300015,
           "Bellevue",
           685000,
           0.8,
           "large",
           "Above average",
           "Belle"
          ],
          [
           267020090,
           "Redmond",
           580000,
           0.8,
           "xlarge",
           "Below average",
           "Richie rich"
          ],
          [
           1623301185,
           "Seattle",
           625000,
           0.9,
           "large",
           "Above average",
           "City"
          ],
          [
           4151800410,
           "Kirkland",
           1350000,
           0.8,
           "xlarge",
           "Above average",
           "Richie rich"
          ],
          [
           8731900790,
           "Auburn",
           354950,
           1,
           "xlarge",
           "Below average",
           "Has Shore"
          ],
          [
           1311100490,
           "Auburn",
           274000,
           0.9,
           "large",
           "Below average",
           "Poor dogs"
          ],
          [
           8679600150,
           "Kirkland",
           581000,
           1,
           "xlarge",
           "Below average",
           "Richie rich"
          ],
          [
           6746700615,
           "Seattle",
           700000,
           0.9,
           "xlarge",
           "Above average",
           "City"
          ],
          [
           3222049055,
           "Des Moines",
           650000,
           1,
           "xlarge",
           "Below average",
           "Has Shore"
          ],
          [
           1222069133,
           "Maple Valley",
           415000,
           0.8,
           "xlarge",
           "Below average",
           "Wide land"
          ],
          [
           9165100230,
           "Seattle",
           575000,
           1,
           "xlarge",
           "Above average",
           "City"
          ],
          [
           4174600331,
           "Seattle",
           384000,
           0.9,
           "xlarge",
           "Below average",
           "City"
          ],
          [
           7202000220,
           "Redmond",
           426000,
           0.8,
           "large",
           "Above average",
           "Richie rich"
          ],
          [
           259600530,
           "Bellevue",
           501000,
           0.8,
           "large",
           "Below average",
           "Richie rich"
          ],
          [
           5351200265,
           "Seattle",
           1270000,
           0.9,
           "xlarge",
           "Above average",
           "City"
          ],
          [
           4449800315,
           "Seattle",
           412000,
           0.8,
           "large",
           "Above average",
           "City"
          ],
          [
           7856400410,
           "Bellevue",
           1100000,
           1,
           "xlarge",
           "Above average",
           "Richie rich"
          ],
          [
           9541600490,
           "Bellevue",
           931088,
           0.8,
           "xlarge",
           "Above average",
           "Richie rich"
          ],
          [
           7352200025,
           "Seattle",
           1190000,
           1,
           "xlarge",
           "Top 10",
           "City"
          ],
          [
           8835400805,
           "Seattle",
           657000,
           1,
           "xlarge",
           "Below average",
           "City"
          ],
          [
           3876310300,
           "Kirkland",
           525000,
           1,
           "xlarge",
           "Below average",
           "Richie rich"
          ],
          [
           2523400205,
           "Seattle",
           510000,
           0.8,
           "large",
           "Above average",
           "City"
          ],
          [
           424059100,
           "Bellevue",
           449228,
           0.8,
           "xlarge",
           "Below average",
           "Richie rich"
          ],
          [
           5112800042,
           "Renton",
           400000,
           1,
           "xlarge",
           "Below average",
           "Outskirt"
          ],
          [
           579002870,
           "Seattle",
           612500,
           1,
           "xlarge",
           "Above average",
           "City"
          ],
          [
           2461900790,
           "Seattle",
           560000,
           1,
           "xlarge",
           "Above average",
           "City"
          ],
          [
           5035300572,
           "Seattle",
           779000,
           1,
           "xlarge",
           "Above average",
           "City"
          ],
          [
           6415100410,
           "Seattle",
           440000,
           1,
           "xlarge",
           "Below average",
           "City"
          ],
          [
           1328300040,
           "Renton",
           317500,
           0.9,
           "xlarge",
           "Below average",
           "Outskirt"
          ],
          [
           179001425,
           "Seattle",
           230000,
           1,
           "large",
           "Below average",
           "City "
          ],
          [
           5469300330,
           "Covington",
           275000,
           1,
           "xlarge",
           "Below average",
           "Outskirt"
          ],
          [
           4083302485,
           "Seattle",
           913000,
           1,
           "xlarge",
           "Top 10",
           "City"
          ],
          [
           7857000716,
           "Seattle",
           334998,
           1,
           "large",
           "Below average",
           "City"
          ],
          [
           4302201005,
           "Seattle",
           353900,
           1,
           "large",
           "Below average",
           "City"
          ],
          [
           2125059123,
           "Bellevue",
           1250000,
           0.9,
           "xlarge",
           "Above average",
           "Richie rich"
          ],
          [
           5149800040,
           "Federal Way",
           255000,
           0.9,
           "xlarge",
           "Below average",
           "Outskirt"
          ],
          [
           6117501755,
           "Normandy Park",
           355000,
           0.8,
           "xlarge",
           "Below average",
           "Has Shore"
          ],
          [
           2769600590,
           "Seattle",
           900000,
           1,
           "xlarge",
           "Below average",
           "City"
          ],
          [
           3735901080,
           "Seattle",
           645000,
           0.9,
           "xlarge",
           "Above average",
           "City"
          ],
          [
           9144300110,
           "Woodinville",
           308000,
           1,
           "large",
           "Below average",
           "Richie rich"
          ],
          [
           5423600100,
           "Redmond",
           604000,
           1,
           "xlarge",
           "Below average",
           "Richie rich"
          ],
          [
           4037500110,
           "Bellevue",
           404000,
           0.9,
           "large",
           "Below average",
           "Richie rich"
          ],
          [
           6073300750,
           "Newcastle",
           480000,
           0.8,
           "xlarge",
           "Below average",
           "Has Shore"
          ],
          [
           7200001254,
           "Redmond",
           550000,
           0.9,
           "xlarge",
           "Above average",
           "Richie rich"
          ],
          [
           3904100035,
           "Seattle",
           235000,
           1,
           "large",
           "Below average",
           "City"
          ],
          [
           3331500820,
           "Seattle",
           516200,
           1,
           "xlarge",
           "Above average",
           "City"
          ],
          [
           1787600165,
           "Seattle",
           396500,
           0.8,
           "xlarge",
           "Below average",
           "City"
          ],
          [
           2742100085,
           "Seattle",
           449500,
           0.8,
           "xlarge",
           "Below average",
           "City"
          ],
          [
           686530110,
           "Redmond",
           599000,
           0.8,
           "xlarge",
           "Below average",
           "Richie rich"
          ],
          [
           5151600530,
           "Federal Way",
           460000,
           0.8,
           "xlarge",
           "Below average",
           "Outskirt"
          ],
          [
           5649000150,
           "Kirkland",
           385000,
           1,
           "large",
           "Below average",
           "Richie rich"
          ],
          [
           5035300085,
           "Seattle",
           730000,
           0.9,
           "xlarge",
           "Above average",
           "City"
          ],
          [
           6187700501,
           "Lake Forest Park",
           360000,
           0.9,
           "large",
           "Below average",
           "Forest"
          ],
          [
           7011201550,
           "Seattle",
           780000,
           0.9,
           "xlarge",
           "Above average",
           "Richie rich"
          ],
          [
           4040700310,
           "Bellevue",
           416000,
           1,
           "xlarge",
           "Below average",
           "Richie rich"
          ],
          [
           5561100431,
           "Issaquah",
           510000,
           1,
           "xlarge",
           "Below average",
           "Wide land"
          ],
          [
           5426300060,
           "Medina",
           1000000,
           1,
           "xlarge",
           "Top 10",
           "Richie rich"
          ],
          [
           2894700270,
           "Kent",
           275000,
           0.9,
           "xlarge",
           "Below average",
           "Has Shore"
          ],
          [
           2862100260,
           "Seattle",
           540000,
           1,
           "large",
           "Above average",
           "City"
          ],
          [
           1446801000,
           "Burien",
           352000,
           1,
           "xlarge",
           "Below average",
           "Outskirt"
          ],
          [
           4038700830,
           "Bellevue",
           575000,
           0.8,
           "xlarge",
           "Above average",
           "Richie rich"
          ],
          [
           4400200060,
           "Seattle",
           650000,
           0.9,
           "large",
           "Above average",
           "Richie rich"
          ],
          [
           9350900550,
           "Mercer Island",
           890000,
           0.9,
           "xlarge",
           "Above average",
           "Richie rich"
          ],
          [
           5398600075,
           "Seattle",
           523500,
           1,
           "large",
           "Above average",
           "City"
          ],
          [
           7272000260,
           "Des Moines",
           210500,
           0.8,
           "large",
           "Below average",
           "Has Shore"
          ],
          [
           3583300075,
           "Kenmore",
           599950,
           1,
           "xlarge",
           "Below average",
           "Outskirt"
          ],
          [
           5153200358,
           "Auburn",
           240000,
           1,
           "xlarge",
           "Below average",
           "Has Shore"
          ],
          [
           5700002325,
           "Seattle",
           640000,
           1,
           "xlarge",
           "Above average",
           "City"
          ],
          [
           2818100060,
           "Seattle",
           1280000,
           1,
           "xlarge",
           "Top 10",
           "City"
          ],
          [
           7856700060,
           "Bellevue",
           893880,
           1,
           "xlarge",
           "Above average",
           "Richie rich"
          ],
          [
           7779200075,
           "Seattle",
           689000,
           0.9,
           "xlarge",
           "Above average",
           "City"
          ],
          [
           3438502200,
           "Seattle",
           445000,
           1,
           "xlarge",
           "Below average",
           "City"
          ],
          [
           2887700560,
           "Seattle",
           616500,
           1,
           "xlarge",
           "Above average",
           "City"
          ],
          [
           1923800135,
           "Seattle",
           495000,
           1,
           "xlarge",
           "Below average",
           "City"
          ],
          [
           7230300060,
           "Newcastle",
           370000,
           1,
           "xlarge",
           "Below average",
           "Outskirt"
          ],
          [
           4364200125,
           "Seattle",
           530000,
           0.9,
           "xlarge",
           "Above average",
           "City"
          ],
          [
           4440400125,
           "Seattle",
           228000,
           0.8,
           "large",
           "Below average",
           "City "
          ],
          [
           2896000710,
           "Redmond",
           560000,
           0.8,
           "xlarge",
           "Below average",
           "Richie rich"
          ],
          [
           9345400350,
           "Seattle",
           665000,
           1,
           "xlarge",
           "Above average",
           "City"
          ],
          [
           3034200435,
           "Shoreline",
           552625,
           1,
           "xlarge",
           "Below average",
           "Has Shore"
          ],
          [
           3447000060,
           "Bellevue",
           577500,
           0.8,
           "large",
           "Above average",
           "Richie rich"
          ],
          [
           7767000060,
           "Mercer Island",
           1900000,
           1,
           "xlarge",
           "Above average",
           "Richie rich"
          ],
          [
           3224059033,
           "Newcastle",
           555000,
           0.8,
           "xlarge",
           "Below average",
           "Has Shore"
          ],
          [
           2624049050,
           "Seattle",
           338000,
           0.9,
           "large",
           "Below average",
           "City"
          ],
          [
           4046700140,
           "Carnation",
           340000,
           1,
           "large",
           "Below average",
           "Outskirt"
          ],
          [
           8665900070,
           "Lake Forest Park",
           460000,
           1,
           "xlarge",
           "Below average",
           "Forest"
          ],
          [
           3438501662,
           "Seattle",
           270000,
           1,
           "large",
           "Below average",
           "City"
          ],
          [
           3298600340,
           "Auburn",
           400000,
           1,
           "xlarge",
           "Below average",
           "Poor dogs"
          ],
          [
           1921059235,
           "Auburn",
           215000,
           1,
           "xlarge",
           "Below average",
           "Poor dogs"
          ],
          [
           1995200200,
           "Seattle",
           313950,
           0.8,
           "large",
           "Below average",
           "City"
          ],
          [
           1995200200,
           "Seattle",
           415000,
           0.8,
           "large",
           "Above average",
           "City"
          ],
          [
           1311600030,
           "Auburn",
           270000,
           0.8,
           "large",
           "Below average",
           "Poor dogs"
          ],
          [
           2771600350,
           "Seattle",
           575000,
           0.8,
           "large",
           "Above average",
           "City"
          ],
          [
           2473250400,
           "Renton",
           325000,
           1,
           "large",
           "Below average",
           "Outskirt"
          ],
          [
           2472950350,
           "Renton",
           312500,
           0.9,
           "xlarge",
           "Below average",
           "Outskirt"
          ],
          [
           2323089065,
           "North Bend",
           800000,
           0.9,
           "xlarge",
           "Below average",
           "Wide land"
          ],
          [
           1172000135,
           "Seattle",
           446000,
           1,
           "large",
           "Below average",
           "City"
          ],
          [
           6821101895,
           "Seattle",
           680000,
           1,
           "xlarge",
           "Above average",
           "City"
          ],
          [
           4167700240,
           "Auburn",
           268450,
           1,
           "xlarge",
           "Below average",
           "Has Shore"
          ],
          [
           3361402041,
           "Burien",
           134000,
           1,
           "large",
           "Below average",
           "Outskirt"
          ],
          [
           4415600030,
           "Normandy Park",
           433000,
           1,
           "xlarge",
           "Below average",
           "Has Shore"
          ],
          [
           2205500335,
           "Bellevue",
           420000,
           0.8,
           "large",
           "Below average",
           "Richie rich"
          ],
          [
           3294700421,
           "Renton",
           389000,
           0.9,
           "large",
           "Below average",
           "Outskirt"
          ],
          [
           2570300240,
           "Kirkland",
           405000,
           1,
           "large",
           "Below average",
           "Richie rich"
          ],
          [
           2976800700,
           "Seattle",
           301350,
           0.8,
           "large",
           "Below average",
           "City "
          ],
          [
           8001450060,
           "Auburn",
           370000,
           0.9,
           "xlarge",
           "Below average",
           "Poor dogs"
          ],
          [
           9542600070,
           "Bellevue",
           516000,
           0.8,
           "xlarge",
           "Below average",
           "Richie rich"
          ],
          [
           1223039195,
           "Seattle",
           465000,
           0.8,
           "xlarge",
           "Below average",
           "City"
          ],
          [
           7525300260,
           "Bellevue",
           502000,
           0.8,
           "xlarge",
           "Below average",
           "Richie rich"
          ],
          [
           7715600070,
           "Seattle",
           385000,
           1,
           "large",
           "Above average",
           "City"
          ],
          [
           7954000125,
           "Seattle",
           562000,
           1,
           "large",
           "Above average",
           "City"
          ],
          [
           7856610160,
           "Bellevue",
           925000,
           0.9,
           "xlarge",
           "Above average",
           "Richie rich"
          ],
          [
           5015000700,
           "Seattle",
           563225,
           0.8,
           "xlarge",
           "Below average",
           "Richie rich"
          ],
          [
           7504000510,
           "Redmond",
           750000,
           0.9,
           "xlarge",
           "Below average",
           "Richie rich"
          ],
          [
           3544400045,
           "Seattle",
           705000,
           0.8,
           "large",
           "Above average",
           "City"
          ],
          [
           2518400046,
           "Seattle",
           456700,
           0.8,
           "xlarge",
           "Below average",
           "City"
          ],
          [
           1081330030,
           "Newcastle",
           375000,
           0.9,
           "xlarge",
           "Below average",
           "Outskirt"
          ],
          [
           597000566,
           "Seattle",
           335000,
           1,
           "large",
           "Above average",
           "City"
          ],
          [
           6145601890,
           "Shoreline",
           415000,
           1,
           "xlarge",
           "Below average",
           "Has Shore"
          ],
          [
           4279900140,
           "Seattle",
           251000,
           0.9,
           "large",
           "Below average",
           "City "
          ],
          [
           2204500550,
           "Bellevue",
           425000,
           0.9,
           "large",
           "Below average",
           "Richie rich"
          ],
          [
           7390400069,
           "Seattle",
           450000,
           0.9,
           "xlarge",
           "Below average",
           "City "
          ],
          [
           3317500070,
           "Mercer Island",
           1140000,
           0.8,
           "xlarge",
           "Above average",
           "Richie rich"
          ],
          [
           269001331,
           "Seattle",
           1310000,
           1,
           "xlarge",
           "Top 10",
           "City"
          ],
          [
           7774200070,
           "Seattle",
           725000,
           1,
           "xlarge",
           "Above average",
           "City"
          ],
          [
           2600110560,
           "Bellevue",
           750000,
           0.8,
           "xlarge",
           "Above average",
           "Richie rich"
          ],
          [
           6411600370,
           "Seattle",
           475000,
           0.9,
           "xlarge",
           "Below average",
           "City"
          ],
          [
           269000030,
           "Seattle",
           976000,
           0.9,
           "xlarge",
           "Above average",
           "City"
          ],
          [
           871000435,
           "Seattle",
           812000,
           0.8,
           "xlarge",
           "Above average",
           "City"
          ],
          [
           217500140,
           "Shoreline",
           464000,
           1,
           "xlarge",
           "Below average",
           "Has Shore"
          ],
          [
           8825900465,
           "Seattle",
           599000,
           0.8,
           "large",
           "Above average",
           "City"
          ],
          [
           7625704500,
           "Seattle",
           500000,
           1.1,
           "xlarge",
           "Below average",
           "City"
          ],
          [
           3260000570,
           "Bellevue",
           735000,
           0.8,
           "xlarge",
           "Above average",
           "Richie rich"
          ],
          [
           2205500030,
           "Bellevue",
           331500,
           1,
           "large",
           "Below average",
           "Richie rich"
          ],
          [
           381000240,
           "Seattle",
           650500,
           0.8,
           "xlarge",
           "Above average",
           "City"
          ],
          [
           1250200786,
           "Seattle",
           360000,
           1,
           "xlarge",
           "Below average",
           "City"
          ],
          [
           1176000390,
           "Seattle",
           448000,
           0.8,
           "large",
           "Above average",
           "City"
          ],
          [
           5332200320,
           "Seattle",
           675000,
           1.1,
           "xlarge",
           "Above average",
           "Richie rich"
          ],
          [
           1652500060,
           "Bellevue",
           1650000,
           1,
           "xlarge",
           "Top 10",
           "Belle"
          ],
          [
           9368700270,
           "Seattle",
           137900,
           1,
           "large",
           "Below average",
           "City "
          ],
          [
           9828201920,
           "Seattle",
           360000,
           1,
           "large",
           "Above average",
           "City"
          ],
          [
           5152700060,
           "Federal Way",
           465000,
           1,
           "xlarge",
           "Below average",
           "Outskirt"
          ],
          [
           8731901610,
           "Auburn",
           282000,
           0.8,
           "xlarge",
           "Below average",
           "Has Shore"
          ],
          [
           2044500152,
           "Seattle",
           455000,
           1,
           "large",
           "Below average",
           "City"
          ],
          [
           6065300570,
           "Bellevue",
           1250000,
           0.9,
           "xlarge",
           "Above average",
           "Richie rich"
          ],
          [
           513000445,
           "Seattle",
           554950,
           1,
           "large",
           "Above average",
           "City"
          ],
          [
           2162000260,
           "Mercer Island",
           699000,
           0.8,
           "xlarge",
           "Above average",
           "Richie rich"
          ],
          [
           3243200310,
           "Newcastle",
           300000,
           1,
           "xlarge",
           "Below average",
           "Outskirt"
          ],
          [
           4459800075,
           "Seattle",
           710000,
           1,
           "xlarge",
           "Above average",
           "City"
          ],
          [
           7153200160,
           "Seattle",
           1380000,
           0.9,
           "xlarge",
           "Above average",
           "City"
          ],
          [
           7604410030,
           "Seattle",
           375000,
           0.9,
           "large",
           "Below average",
           "City"
          ],
          [
           2144800311,
           "Seattle",
           315000,
           1,
           "xlarge",
           "Below average",
           "City "
          ],
          [
           7922900030,
           "Bellevue",
           851000,
           1,
           "xlarge",
           "Above average",
           "Richie rich"
          ],
          [
           1423069129,
           "Issaquah",
           449000,
           0.9,
           "xlarge",
           "Below average",
           "Wide land"
          ],
          [
           4037000160,
           "Bellevue",
           506000,
           0.8,
           "xlarge",
           "Below average",
           "Richie rich"
          ],
          [
           2592200030,
           "Bellevue",
           650000,
           0.8,
           "xlarge",
           "Below average",
           "Richie rich"
          ],
          [
           5154700060,
           "Seattle",
           1660000,
           0.8,
           "xlarge",
           "Top 10",
           "City"
          ],
          [
           414100045,
           "Shoreline",
           344950,
           1,
           "xlarge",
           "Below average",
           "Has Shore"
          ],
          [
           3701000060,
           "Lake Forest Park",
           880000,
           1,
           "xlarge",
           "Below average",
           "Forest"
          ],
          [
           8955800045,
           "Covington",
           530000,
           0.8,
           "large",
           "Above average",
           "Outskirt"
          ],
          [
           8859000045,
           "Seattle",
           545000,
           0.8,
           "large",
           "Above average",
           "City"
          ],
          [
           6163901433,
           "Lake Forest Park",
           425000,
           0.8,
           "large",
           "Below average",
           "Forest"
          ],
          [
           7936500172,
           "Seattle",
           1180000,
           0.8,
           "large",
           "Top 10",
           "City"
          ],
          [
           8567300270,
           "Maple Valley",
           446000,
           1,
           "xlarge",
           "Below average",
           "Wide land"
          ],
          [
           2141200030,
           "Seattle",
           625000,
           0.9,
           "large",
           "Above average",
           "City"
          ],
          [
           6002400030,
           "Seattle",
           324950,
           1,
           "xlarge",
           "Below average",
           "City "
          ],
          [
           3392500060,
           "Seatac",
           368000,
           0.9,
           "xlarge",
           "Below average",
           "Has Shore"
          ],
          [
           5467200055,
           "Covington",
           392500,
           0.8,
           "xlarge",
           "Below average",
           "Outskirt"
          ],
          [
           9414610320,
           "Issaquah",
           463000,
           1,
           "xlarge",
           "Below average",
           "Wide land"
          ],
          [
           7567600030,
           "Seattle",
           750000,
           0.9,
           "xlarge",
           "Above average",
           "City "
          ],
          [
           9424400105,
           "Seattle",
           525000,
           0.8,
           "xlarge",
           "Below average",
           "City"
          ],
          [
           8718500260,
           "Kenmore",
           485000,
           1,
           "xlarge",
           "Below average",
           "Outskirt"
          ],
          [
           6154900070,
           "Shoreline",
           700000,
           0.8,
           "xlarge",
           "Above average",
           "Has Shore"
          ],
          [
           5592900105,
           "Newcastle",
           435000,
           1,
           "xlarge",
           "Below average",
           "Has Shore"
          ],
          [
           1005000240,
           "Seattle",
           395000,
           1,
           "large",
           "Above average",
           "City"
          ],
          [
           7950303290,
           "Seattle",
           499950,
           1,
           "xlarge",
           "Below average",
           "City"
          ],
          [
           4077800376,
           "Seattle",
           600000,
           0.9,
           "xlarge",
           "Below average",
           "City"
          ],
          [
           2461900550,
           "Seattle",
           500000,
           1,
           "xlarge",
           "Above average",
           "City"
          ],
          [
           5101402435,
           "Seattle",
           312000,
           1,
           "large",
           "Below average",
           "City"
          ],
          [
           5101402435,
           "Seattle",
           539000,
           1,
           "large",
           "Above average",
           "City"
          ],
          [
           5035300570,
           "Seattle",
           650000,
           1,
           "xlarge",
           "Above average",
           "City"
          ],
          [
           2887701940,
           "Seattle",
           485000,
           1,
           "xlarge",
           "Below average",
           "City"
          ],
          [
           2207000060,
           "Bellevue",
           500000,
           0.9,
           "large",
           "Above average",
           "Richie rich"
          ],
          [
           9530101290,
           "Seattle",
           700000,
           0.8,
           "large",
           "Above average",
           "City"
          ],
          [
           9536601331,
           "Des Moines",
           420000,
           0.8,
           "xlarge",
           "Below average",
           "Has Shore"
          ],
          [
           323059208,
           "Newcastle",
           320000,
           1,
           "large",
           "Below average",
           "Outskirt"
          ],
          [
           4141800030,
           "Seattle",
           920000,
           1,
           "xlarge",
           "Above average",
           "City"
          ],
          [
           7116500125,
           "Auburn",
           189000,
           1,
           "large",
           "Below average",
           "Poor dogs"
          ],
          [
           5119400075,
           "Des Moines",
           950000,
           0.8,
           "xlarge",
           "Above average",
           "Has Shore"
          ],
          [
           2225059240,
           "Bellevue",
           935000,
           0.8,
           "xlarge",
           "Above average",
           "Richie rich"
          ],
          [
           207500012,
           "Seattle",
           855000,
           1,
           "xlarge",
           "Above average",
           "City"
          ],
          [
           2207500200,
           "Seattle",
           615000,
           0.8,
           "large",
           "Above average",
           "City"
          ],
          [
           986000045,
           "Burien",
           240000,
           1,
           "xlarge",
           "Below average",
           "Outskirt"
          ],
          [
           3365900041,
           "Burien",
           319000,
           0.8,
           "large",
           "Below average",
           "Outskirt"
          ],
          [
           3389900800,
           "Seattle",
           395000,
           1,
           "large",
           "Above average",
           "City"
          ],
          [
           1523069128,
           "Issaquah",
           625000,
           0.9,
           "xlarge",
           "Below average",
           "Wide land"
          ],
          [
           6071000030,
           "Bellevue",
           610000,
           0.9,
           "xlarge",
           "Below average",
           "Richie rich"
          ],
          [
           1938000140,
           "Bellevue",
           810000,
           0.9,
           "xlarge",
           "Above average",
           "Richie rich"
          ],
          [
           1923300135,
           "Seattle",
           365000,
           0.8,
           "large",
           "Below average",
           "City"
          ],
          [
           5056500260,
           "Bellevue",
           440000,
           1,
           "xlarge",
           "Below average",
           "Richie rich"
          ],
          [
           3260701160,
           "Federal Way",
           286500,
           0.8,
           "large",
           "Below average",
           "Outskirt"
          ],
          [
           2028701000,
           "Seattle",
           635200,
           0.8,
           "large",
           "Above average",
           "City"
          ],
          [
           1546600565,
           "Bellevue",
           705000,
           1,
           "xlarge",
           "Above average",
           "Richie rich"
          ],
          [
           9297301535,
           "Seattle",
           540000,
           0.9,
           "xlarge",
           "Below average",
           "City"
          ],
          [
           2492200055,
           "Seattle",
           412000,
           1,
           "large",
           "Below average",
           "City"
          ],
          [
           4338800685,
           "Normandy Park",
           299999,
           1,
           "large",
           "Below average",
           "Has Shore"
          ],
          [
           5100403754,
           "Seattle",
           420000,
           1,
           "large",
           "Above average",
           "City"
          ],
          [
           1796200140,
           "Covington",
           270000,
           1,
           "xlarge",
           "Below average",
           "Outskirt"
          ],
          [
           3878900681,
           "Seattle",
           272000,
           0.8,
           "medium",
           "Above average",
           "City "
          ],
          [
           7635801370,
           "Normandy Park",
           530000,
           0.8,
           "xlarge",
           "Below average",
           "Has Shore"
          ],
          [
           9353301070,
           "Newcastle",
           342500,
           1,
           "xlarge",
           "Below average",
           "Outskirt"
          ],
          [
           7987400316,
           "Seattle",
           255000,
           0.8,
           "medium",
           "Above average",
           "City"
          ],
          [
           6821101275,
           "Seattle",
           478000,
           1,
           "xlarge",
           "Below average",
           "City"
          ],
          [
           7518502030,
           "Seattle",
           410000,
           1,
           "large",
           "Below average",
           "City"
          ],
          [
           4078300024,
           "Seattle",
           590000,
           1,
           "xlarge",
           "Above average",
           "City"
          ],
          [
           6071000310,
           "Bellevue",
           622000,
           1,
           "xlarge",
           "Below average",
           "Richie rich"
          ],
          [
           7577700136,
           "Seattle",
           615000,
           0.8,
           "large",
           "Above average",
           "City"
          ],
          [
           9560500105,
           "Bellevue",
           957000,
           1,
           "xlarge",
           "Above average",
           "Richie rich"
          ],
          [
           4039300140,
           "Bellevue",
           530000,
           1,
           "xlarge",
           "Above average",
           "Richie rich"
          ],
          [
           1498301672,
           "Seattle",
           467000,
           1,
           "xlarge",
           "Below average",
           "City"
          ],
          [
           475001000,
           "Seattle",
           670000,
           0.8,
           "large",
           "Above average",
           "City"
          ],
          [
           4139420640,
           "Bellevue",
           1790000,
           0.9,
           "xlarge",
           "Above average",
           "Richie rich"
          ],
          [
           7258200060,
           "Burien",
           320000,
           1,
           "xlarge",
           "Below average",
           "Outskirt"
          ],
          [
           1118001360,
           "Seattle",
           1480000,
           1,
           "xlarge",
           "Above average",
           "Richie rich"
          ],
          [
           2998300060,
           "Seattle",
           672500,
           0.8,
           "large",
           "Above average",
           "City"
          ],
          [
           7504020960,
           "Redmond",
           879900,
           0.9,
           "xlarge",
           "Above average",
           "Richie rich"
          ],
          [
           6822100310,
           "Seattle",
           685000,
           0.8,
           "xlarge",
           "Above average",
           "City"
          ],
          [
           7856410030,
           "Bellevue",
           1030000,
           0.9,
           "xlarge",
           "Above average",
           "Richie rich"
          ],
          [
           6383500295,
           "Seattle",
           900000,
           0.9,
           "xlarge",
           "Below average",
           "City"
          ],
          [
           3589500260,
           "Seattle",
           550000,
           1,
           "xlarge",
           "Above average",
           "City"
          ],
          [
           1775920340,
           "Woodinville",
           484000,
           0.8,
           "xlarge",
           "Below average",
           "Richie rich"
          ],
          [
           3124049196,
           "Seattle",
           330000,
           1,
           "xlarge",
           "Below average",
           "City"
          ],
          [
           1066100260,
           "Bellevue",
           681500,
           1,
           "xlarge",
           "Below average",
           "Richie rich"
          ],
          [
           224069129,
           "Sammamish",
           500000,
           0.8,
           "large",
           "Above average",
           "Poor dogs"
          ],
          [
           8964800390,
           "Bellevue",
           1500000,
           0.8,
           "xlarge",
           "Top 10",
           "Belle"
          ],
          [
           9530101535,
           "Seattle",
           680000,
           0.9,
           "large",
           "Above average",
           "City"
          ],
          [
           2493200370,
           "Seattle",
           415000,
           0.9,
           "large",
           "Above average",
           "City"
          ],
          [
           9441300030,
           "Shoreline",
           615000,
           1,
           "xlarge",
           "Below average",
           "Has Shore"
          ],
          [
           6071300160,
           "Bellevue",
           585000,
           1,
           "xlarge",
           "Below average",
           "Richie rich"
          ],
          [
           6884800262,
           "Seattle",
           535000,
           0.9,
           "large",
           "Above average",
           "City"
          ],
          [
           3211100990,
           "Newcastle",
           410000,
           0.8,
           "large",
           "Below average",
           "Outskirt"
          ],
          [
           5288200260,
           "Seattle",
           597000,
           1.2,
           "xlarge",
           "Below average",
           "City"
          ],
          [
           2816900030,
           "Seattle",
           338000,
           1,
           "xlarge",
           "Below average",
           "City"
          ],
          [
           7806210070,
           "Auburn",
           249500,
           0.8,
           "large",
           "Below average",
           "Poor dogs"
          ],
          [
           1432900310,
           "Renton",
           320000,
           1,
           "xlarge",
           "Below average",
           "Outskirt"
          ],
          [
           8920100041,
           "Sammamish",
           815000,
           0.9,
           "xlarge",
           "Above average",
           "Poor dogs"
          ],
          [
           5457801925,
           "Seattle",
           885000,
           0.8,
           "xlarge",
           "Above average",
           "City"
          ],
          [
           3343903240,
           "Newcastle",
           452000,
           0.8,
           "xlarge",
           "Below average",
           "Has Shore"
          ],
          [
           1498303855,
           "Seattle",
           718000,
           0.8,
           "xlarge",
           "Above average",
           "City"
          ],
          [
           7214810510,
           "Woodinville",
           480000,
           0.9,
           "xlarge",
           "Below average",
           "Richie rich"
          ],
          [
           6385800030,
           "Seatac",
           335000,
           1,
           "xlarge",
           "Below average",
           "Has Shore"
          ],
          [
           4154303215,
           "Seattle",
           902000,
           1,
           "xlarge",
           "Above average",
           "City"
          ],
          [
           6708200320,
           "Kenmore",
           599000,
           1,
           "xlarge",
           "Below average",
           "Outskirt"
          ],
          [
           3575200030,
           "Redmond",
           549000,
           0.8,
           "xlarge",
           "Below average",
           "Richie rich"
          ],
          [
           8031700186,
           "Seattle",
           710000,
           0.9,
           "xlarge",
           "Above average",
           "City"
          ],
          [
           7625702505,
           "Seattle",
           605000,
           1,
           "large",
           "Above average",
           "City"
          ],
          [
           1775950030,
           "Woodinville",
           375000,
           1,
           "large",
           "Below average",
           "Richie rich"
          ],
          [
           1842100160,
           "Redmond",
           513000,
           1,
           "xlarge",
           "Below average",
           "Richie rich"
          ],
          [
           4365200055,
           "Seattle",
           450000,
           0.9,
           "large",
           "Below average",
           "City"
          ],
          [
           3644100030,
           "Seattle",
           432500,
           1,
           "large",
           "Above average",
           "City"
          ],
          [
           254000075,
           "Seattle",
           368000,
           1,
           "large",
           "Below average",
           "City"
          ],
          [
           7529500030,
           "Seattle",
           385000,
           1,
           "xlarge",
           "Below average",
           "City"
          ],
          [
           7519001275,
           "Seattle",
           624000,
           0.8,
           "large",
           "Top 10",
           "City"
          ],
          [
           5430300171,
           "Seattle",
           430000,
           0.8,
           "large",
           "Below average",
           "City"
          ],
          [
           5430300171,
           "Seattle",
           615500,
           0.8,
           "large",
           "Above average",
           "City"
          ],
          [
           7287700059,
           "Shoreline",
           367950,
           0.8,
           "xlarge",
           "Below average",
           "Has Shore"
          ],
          [
           6746701090,
           "Seattle",
           680000,
           0.9,
           "large",
           "Top 10",
           "City"
          ],
          [
           3760100200,
           "Kirkland",
           395000,
           1,
           "xlarge",
           "Below average",
           "Richie rich"
          ],
          [
           9206950200,
           "Seattle",
           352000,
           1,
           "large",
           "Above average",
           "City"
          ],
          [
           1311400350,
           "Auburn",
           235000,
           1,
           "xlarge",
           "Below average",
           "Poor dogs"
          ],
          [
           9221400335,
           "Seattle",
           570000,
           1,
           "xlarge",
           "Below average",
           "City"
          ],
          [
           2172000570,
           "Seattle",
           317000,
           1,
           "xlarge",
           "Below average",
           "City "
          ],
          [
           1471701200,
           "Newcastle",
           302000,
           0.9,
           "xlarge",
           "Below average",
           "Outskirt"
          ],
          [
           1217000340,
           "Normandy Park",
           185000,
           1,
           "large",
           "Below average",
           "Has Shore"
          ],
          [
           1217000340,
           "Normandy Park",
           340000,
           1,
           "large",
           "Below average",
           "Has Shore"
          ],
          [
           9468200163,
           "Seattle",
           680000,
           0.8,
           "large",
           "Above average",
           "City"
          ],
          [
           2624049035,
           "Seattle",
           560000,
           1,
           "xlarge",
           "Below average",
           "City"
          ],
          [
           8098400135,
           "Seattle",
           385000,
           1,
           "large",
           "Above average",
           "City"
          ],
          [
           8082400136,
           "Seattle",
           815000,
           1,
           "xlarge",
           "Above average",
           "City"
          ],
          [
           4037500230,
           "Bellevue",
           400000,
           0.9,
           "xlarge",
           "Below average",
           "Richie rich"
          ],
          [
           5315100476,
           "Mercer Island",
           760250,
           0.8,
           "xlarge",
           "Above average",
           "Richie rich"
          ],
          [
           1794501415,
           "Seattle",
           840500,
           0.8,
           "xlarge",
           "Above average",
           "Richie rich"
          ],
          [
           9297301065,
           "Seattle",
           625000,
           1,
           "large",
           "Above average",
           "City"
          ],
          [
           6446200175,
           "Issaquah",
           735000,
           1,
           "xlarge",
           "Below average",
           "Wide land"
          ],
          [
           2899200040,
           "Seattle",
           242000,
           1,
           "xlarge",
           "Below average",
           "City"
          ],
          [
           2644900149,
           "Shoreline",
           364000,
           0.9,
           "large",
           "Below average",
           "Has Shore"
          ],
          [
           1562000120,
           "Bellevue",
           660000,
           1,
           "xlarge",
           "Above average",
           "Richie rich"
          ],
          [
           272000220,
           "Seattle",
           417000,
           1,
           "xlarge",
           "Below average",
           "City"
          ],
          [
           6819100150,
           "Seattle",
           677915,
           0.8,
           "large",
           "Above average",
           "Richie rich"
          ],
          [
           430000035,
           "Seattle",
           671000,
           0.8,
           "xlarge",
           "Below average",
           "City"
          ],
          [
           1623049133,
           "Burien",
           205000,
           1,
           "xlarge",
           "Below average",
           "Outskirt"
          ],
          [
           8665900206,
           "Lake Forest Park",
           452000,
           1,
           "large",
           "Above average",
           "Forest"
          ],
          [
           2070100040,
           "Seattle",
           467000,
           1,
           "xlarge",
           "Below average",
           "City"
          ],
          [
           526059122,
           "Bothell",
           495200,
           0.9,
           "xlarge",
           "Below average",
           "Outskirt"
          ],
          [
           5249804655,
           "Seattle",
           800000,
           1,
           "xlarge",
           "Above average",
           "City"
          ],
          [
           1424200035,
           "Bellevue",
           945000,
           1,
           "xlarge",
           "Above average",
           "Belle"
          ],
          [
           5460500040,
           "Mercer Island",
           1300000,
           1,
           "xlarge",
           "Above average",
           "Richie rich"
          ],
          [
           4078300040,
           "Seattle",
           850000,
           1,
           "xlarge",
           "Above average",
           "City"
          ],
          [
           2205500355,
           "Bellevue",
           455000,
           1,
           "large",
           "Above average",
           "Richie rich"
          ],
          [
           9828701085,
           "Seattle",
           747000,
           1,
           "xlarge",
           "Above average",
           "Richie rich"
          ],
          [
           2789000120,
           "Burien",
           335000,
           1,
           "large",
           "Below average",
           "Outskirt"
          ],
          [
           7247000035,
           "Des Moines",
           210000,
           0.8,
           "xlarge",
           "Below average",
           "Has Shore"
          ],
          [
           7349650120,
           "Auburn",
           292000,
           0.8,
           "xlarge",
           "Below average",
           "Poor dogs"
          ],
          [
           9269200540,
           "Seattle",
           429000,
           1,
           "xlarge",
           "Below average",
           "City"
          ],
          [
           6362900145,
           "Seattle",
           450000,
           1,
           "xlarge",
           "Below average",
           "City"
          ],
          [
           7663700968,
           "Seattle",
           565000,
           1,
           "xlarge",
           "Below average",
           "City"
          ],
          [
           1262700040,
           "Seattle",
           363500,
           1,
           "xlarge",
           "Below average",
           "City "
          ],
          [
           4157600180,
           "Bellevue",
           598780,
           1,
           "xlarge",
           "Below average",
           "Richie rich"
          ],
          [
           524059241,
           "Bellevue",
           870000,
           0.8,
           "xlarge",
           "Above average",
           "Belle"
          ],
          [
           9238500040,
           "Woodinville",
           400000,
           1,
           "xlarge",
           "Below average",
           "Richie rich"
          ],
          [
           9238500040,
           "Woodinville",
           599000,
           1,
           "xlarge",
           "Below average",
           "Richie rich"
          ],
          [
           1868900035,
           "Seattle",
           840000,
           0.9,
           "large",
           "Top 10",
           "City"
          ],
          [
           6795100589,
           "Sammamish",
           663000,
           0.8,
           "xlarge",
           "Below average",
           "Poor dogs"
          ],
          [
           930000234,
           "Shoreline",
           525000,
           1,
           "xlarge",
           "Below average",
           "Has Shore"
          ],
          [
           3867400175,
           "Seattle",
           850000,
           1,
           "large",
           "Top 10",
           "City"
          ],
          [
           5379800040,
           "Seatac",
           275000,
           0.9,
           "xlarge",
           "Below average",
           "Has Shore"
          ],
          [
           3344500085,
           "Newcastle",
           383000,
           1,
           "xlarge",
           "Below average",
           "Has Shore"
          ],
          [
           3223059123,
           "Renton",
           550000,
           0.8,
           "xlarge",
           "Below average",
           "Outskirt"
          ],
          [
           3920000040,
           "Seattle",
           280000,
           0.9,
           "xlarge",
           "Below average",
           "City"
          ],
          [
           5647900650,
           "Auburn",
           500000,
           0.8,
           "xlarge",
           "Below average",
           "Poor dogs"
          ],
          [
           6154900065,
           "Shoreline",
           490000,
           1,
           "xlarge",
           "Below average",
           "Has Shore"
          ],
          [
           3244500158,
           "Woodinville",
           570000,
           0.9,
           "xlarge",
           "Below average",
           "Richie rich"
          ],
          [
           2978800120,
           "Shoreline",
           469000,
           1,
           "xlarge",
           "Below average",
           "Has Shore"
          ],
          [
           5101400871,
           "Seattle",
           445500,
           0.9,
           "large",
           "Above average",
           "City"
          ],
          [
           5561400610,
           "Issaquah",
           542500,
           0.8,
           "xlarge",
           "Below average",
           "Wide land"
          ],
          [
           5700000905,
           "Seattle",
           739000,
           0.8,
           "xlarge",
           "Above average",
           "City"
          ],
          [
           7986400180,
           "Seattle",
           675000,
           1,
           "large",
           "Above average",
           "City"
          ],
          [
           1250201175,
           "Seattle",
           386500,
           1,
           "large",
           "Above average",
           "City"
          ],
          [
           2331300395,
           "Seattle",
           875000,
           0.8,
           "xlarge",
           "Above average",
           "City"
          ],
          [
           8122600145,
           "Seattle",
           452000,
           1,
           "large",
           "Above average",
           "City"
          ],
          [
           629000410,
           "Bellevue",
           915000,
           1,
           "xlarge",
           "Above average",
           "Belle"
          ],
          [
           9550202700,
           "Seattle",
           460000,
           0.8,
           "large",
           "Above average",
           "City"
          ],
          [
           7923100410,
           "Bellevue",
           650000,
           0.8,
           "xlarge",
           "Above average",
           "Richie rich"
          ],
          [
           7229900925,
           "Newcastle",
           381000,
           0.8,
           "xlarge",
           "Below average",
           "Outskirt"
          ],
          [
           4058802300,
           "Seattle",
           300000,
           1,
           "xlarge",
           "Below average",
           "City "
          ],
          [
           9528102060,
           "Seattle",
           516000,
           0.8,
           "large",
           "Above average",
           "City"
          ],
          [
           2490200450,
           "Seattle",
           550000,
           0.9,
           "xlarge",
           "Below average",
           "City"
          ],
          [
           3321079060,
           "Enumclaw",
           378000,
           0.9,
           "xlarge",
           "Below average",
           "Wide land"
          ],
          [
           1523049207,
           "Burien",
           161000,
           1,
           "large",
           "Below average",
           "Outskirt"
          ],
          [
           1523049207,
           "Burien",
           220000,
           1,
           "large",
           "Below average",
           "Outskirt"
          ],
          [
           7697800040,
           "Bothell",
           470000,
           0.8,
           "large",
           "Below average",
           "Outskirt"
          ],
          [
           624110610,
           "Woodinville",
           1090000,
           0.9,
           "xlarge",
           "Above average",
           "Outskirt"
          ],
          [
           822069029,
           "Maple Valley",
           579000,
           1,
           "xlarge",
           "Below average",
           "Wide land"
          ],
          [
           1115700040,
           "Bellevue",
           713500,
           0.9,
           "xlarge",
           "Below average",
           "Richie rich"
          ],
          [
           1005000220,
           "Seattle",
           410000,
           1,
           "xlarge",
           "Below average",
           "City"
          ],
          [
           9144100035,
           "Seattle",
           350000,
           1,
           "large",
           "Below average",
           "City"
          ],
          [
           625049318,
           "Seattle",
           605000,
           0.8,
           "large",
           "Above average",
           "City"
          ],
          [
           2215500205,
           "Seattle",
           600000,
           0.8,
           "large",
           "Above average",
           "City"
          ],
          [
           6813600365,
           "Seattle",
           527950,
           1,
           "large",
           "Above average",
           "City"
          ],
          [
           627300145,
           "Bellevue",
           1150000,
           0.8,
           "xlarge",
           "Above average",
           "Belle"
          ],
          [
           2970800145,
           "Normandy Park",
           350500,
           1,
           "xlarge",
           "Below average",
           "Has Shore"
          ],
          [
           5561720180,
           "Kent",
           252000,
           0.9,
           "large",
           "Below average",
           "Outskirt"
          ],
          [
           3126049052,
           "Seattle",
           551000,
           1,
           "xlarge",
           "Above average",
           "City"
          ],
          [
           3726800220,
           "Seattle",
           348000,
           1,
           "large",
           "Below average",
           "City"
          ],
          [
           2843200085,
           "Burien",
           260000,
           0.8,
           "large",
           "Below average",
           "Outskirt"
          ],
          [
           9279200910,
           "Seattle",
           770000,
           0.9,
           "xlarge",
           "Above average",
           "City"
          ],
          [
           5093301285,
           "Mercer Island",
           1580000,
           1,
           "xlarge",
           "Top 10",
           "Richie rich"
          ],
          [
           524069020,
           "Sammamish",
           1050000,
           1,
           "xlarge",
           "Below average",
           "Poor dogs"
          ],
          [
           624069003,
           "Sammamish",
           829000,
           0.8,
           "xlarge",
           "Above average",
           "Poor dogs"
          ],
          [
           1115100119,
           "Lake Forest Park",
           360000,
           0.8,
           "large",
           "Below average",
           "Forest"
          ],
          [
           2525049246,
           "Medina",
           1550000,
           0.9,
           "xlarge",
           "Top 10",
           "Richie rich"
          ],
          [
           203101210,
           "Redmond",
           379500,
           1,
           "large",
           "Below average",
           "Richie rich"
          ],
          [
           8121100325,
           "Seattle",
           575000,
           1,
           "large",
           "Above average",
           "City"
          ],
          [
           1624049170,
           "Seattle",
           446800,
           0.9,
           "xlarge",
           "Below average",
           "City"
          ],
          [
           204000175,
           "Redmond",
           381000,
           0.8,
           "large",
           "Below average",
           "Richie rich"
          ],
          [
           7942600975,
           "Seattle",
           505000,
           0.9,
           "large",
           "Above average",
           "City"
          ],
          [
           3121069038,
           "Auburn",
           355000,
           1,
           "xlarge",
           "Below average",
           "Poor dogs"
          ],
          [
           3025059124,
           "Bellevue",
           3170000,
           1.1,
           "xlarge",
           "Top 10",
           "Belle"
          ],
          [
           251500330,
           "Bellevue",
           1780000,
           1,
           "xlarge",
           "Top 10",
           "Belle"
          ],
          [
           1900600040,
           "Normandy Park",
           265000,
           1,
           "large",
           "Below average",
           "Has Shore"
          ],
          [
           9269200150,
           "Seattle",
           390000,
           1,
           "large",
           "Above average",
           "City"
          ],
          [
           1068000559,
           "Seattle",
           1280000,
           0.9,
           "xlarge",
           "Above average",
           "City"
          ],
          [
           259800610,
           "Bellevue",
           575000,
           0.8,
           "xlarge",
           "Above average",
           "Richie rich"
          ],
          [
           5561300540,
           "Issaquah",
           492000,
           0.8,
           "xlarge",
           "Below average",
           "Wide land"
          ],
          [
           5249803010,
           "Seattle",
           439000,
           1,
           "large",
           "Below average",
           "City"
          ],
          [
           5459500145,
           "Mercer Island",
           975000,
           0.9,
           "xlarge",
           "Above average",
           "Richie rich"
          ],
          [
           622049106,
           "Normandy Park",
           570000,
           0.9,
           "xlarge",
           "Below average",
           "Has Shore"
          ],
          [
           7131300063,
           "Seattle",
           350000,
           1,
           "xlarge",
           "Below average",
           "City"
          ],
          [
           2807100155,
           "Shoreline",
           240000,
           1,
           "large",
           "Below average",
           "Has Shore"
          ],
          [
           8860300220,
           "Redmond",
           612000,
           0.8,
           "xlarge",
           "Above average",
           "Richie rich"
          ],
          [
           8854000410,
           "Bothell",
           557000,
           1.4,
           "xlarge",
           "Below average",
           "Outskirt"
          ],
          [
           3344500183,
           "Newcastle",
           375000,
           0.8,
           "large",
           "Below average",
           "Has Shore"
          ],
          [
           7129800063,
           "Seattle",
           330000,
           0.9,
           "xlarge",
           "Below average",
           "City"
          ],
          [
           2122700120,
           "Seattle",
           235000,
           0.8,
           "xlarge",
           "Below average",
           "City"
          ],
          [
           4039700870,
           "Bellevue",
           1160000,
           1,
           "xlarge",
           "Above average",
           "Richie rich"
          ],
          [
           6837700175,
           "Seattle",
           775000,
           1.3,
           "xlarge",
           "Below average",
           "City"
          ],
          [
           3797000330,
           "Seattle",
           471001,
           1,
           "large",
           "Above average",
           "City"
          ],
          [
           8024202170,
           "Seattle",
           510000,
           0.9,
           "xlarge",
           "Below average",
           "City"
          ],
          [
           427000065,
           "Seattle",
           537500,
           1,
           "xlarge",
           "Below average",
           "City"
          ],
          [
           2207200455,
           "Bellevue",
           585000,
           1,
           "large",
           "Above average",
           "Richie rich"
          ],
          [
           4058801575,
           "Seattle",
           415000,
           0.9,
           "xlarge",
           "Below average",
           "City "
          ],
          [
           1604600085,
           "Seattle",
           400000,
           1,
           "xlarge",
           "Below average",
           "City"
          ],
          [
           5706200360,
           "Issaquah",
           465000,
           1,
           "xlarge",
           "Below average",
           "Wide land"
          ],
          [
           8122100355,
           "Seattle",
           550000,
           1,
           "xlarge",
           "Below average",
           "City"
          ],
          [
           5249803185,
           "Seattle",
           525000,
           1,
           "xlarge",
           "Below average",
           "City"
          ],
          [
           1598600209,
           "Kent",
           300000,
           0.9,
           "xlarge",
           "Below average",
           "Outskirt"
          ],
          [
           9201000610,
           "Sammamish",
           875000,
           1,
           "xlarge",
           "Below average",
           "Poor dogs"
          ],
          [
           7525410120,
           "Sammamish",
           624500,
           0.8,
           "xlarge",
           "Below average",
           "Poor dogs"
          ],
          [
           1862400087,
           "Seattle",
           475000,
           1,
           "large",
           "Above average",
           "City"
          ],
          [
           8898700120,
           "Renton",
           400000,
           1,
           "xlarge",
           "Below average",
           "Outskirt"
          ],
          [
           1242700035,
           "Bellevue",
           772000,
           1,
           "xlarge",
           "Below average",
           "Richie rich"
          ],
          [
           1219000043,
           "Normandy Park",
           315000,
           1,
           "xlarge",
           "Below average",
           "Has Shore"
          ],
          [
           7338402160,
           "Seattle",
           349950,
           1,
           "large",
           "Below average",
           "City"
          ],
          [
           3024059044,
           "Mercer Island",
           990000,
           0.9,
           "large",
           "Top 10",
           "Richie rich"
          ],
          [
           8832900155,
           "Kenmore",
           439000,
           0.8,
           "xlarge",
           "Below average",
           "Outskirt"
          ],
          [
           3448000344,
           "Seattle",
           599950,
           1,
           "xlarge",
           "Below average",
           "City"
          ],
          [
           7855800730,
           "Bellevue",
           940000,
           0.8,
           "xlarge",
           "Above average",
           "Richie rich"
          ],
          [
           7881500330,
           "Seattle",
           515000,
           1,
           "large",
           "Above average",
           "City"
          ],
          [
           3874010220,
           "Auburn",
           289000,
           0.8,
           "large",
           "Below average",
           "Poor dogs"
          ],
          [
           3526039101,
           "Seattle",
           622000,
           1,
           "xlarge",
           "Below average",
           "City"
          ],
          [
           7284900385,
           "Shoreline",
           970000,
           1.5,
           "xlarge",
           "Above average",
           "Has Shore"
          ],
          [
           952001765,
           "Seattle",
           558000,
           1,
           "large",
           "Above average",
           "City"
          ],
          [
           1175001135,
           "Seattle",
           424000,
           0.8,
           "medium",
           "Above average",
           "City"
          ],
          [
           4008400035,
           "Renton",
           600000,
           0.9,
           "xlarge",
           "Below average",
           "Outskirt"
          ],
          [
           4074300150,
           "Seattle",
           460000,
           0.8,
           "large",
           "Above average",
           "City"
          ],
          [
           1777600210,
           "Bellevue",
           590000,
           0.9,
           "xlarge",
           "Below average",
           "Richie rich"
          ],
          [
           4058800925,
           "Seattle",
           452100,
           1,
           "xlarge",
           "Below average",
           "City "
          ],
          [
           6790600790,
           "Des Moines",
           368000,
           0.9,
           "xlarge",
           "Below average",
           "Has Shore"
          ],
          [
           3031200230,
           "Seattle",
           350000,
           1,
           "xlarge",
           "Below average",
           "City"
          ],
          [
           6372000155,
           "Seattle",
           639950,
           1,
           "large",
           "Above average",
           "City"
          ],
          [
           3329520410,
           "Auburn",
           245000,
           0.9,
           "large",
           "Below average",
           "Poor dogs"
          ],
          [
           6300500183,
           "Shoreline",
           305000,
           1,
           "large",
           "Below average",
           "Has Shore"
          ],
          [
           7857004225,
           "Seattle",
           355000,
           0.8,
           "large",
           "Below average",
           "City"
          ],
          [
           4388000120,
           "Auburn",
           289950,
           1.1,
           "xlarge",
           "Below average",
           "Has Shore"
          ],
          [
           3325059177,
           "Bellevue",
           850000,
           1,
           "xlarge",
           "Above average",
           "Richie rich"
          ],
          [
           5318101075,
           "Seattle",
           960000,
           1,
           "xlarge",
           "Above average",
           "Richie rich"
          ],
          [
           7200001608,
           "Redmond",
           540000,
           0.8,
           "xlarge",
           "Above average",
           "Richie rich"
          ],
          [
           923000120,
           "Shoreline",
           515000,
           0.9,
           "xlarge",
           "Below average",
           "Has Shore"
          ],
          [
           4364700730,
           "Seattle",
           280000,
           1,
           "large",
           "Below average",
           "City"
          ],
          [
           6021502300,
           "Seattle",
           549010,
           0.8,
           "large",
           "Above average",
           "City"
          ],
          [
           2607801120,
           "Bellevue",
           830000,
           0.8,
           "xlarge",
           "Above average",
           "Richie rich"
          ],
          [
           2769602710,
           "Seattle",
           517950,
           0.9,
           "large",
           "Above average",
           "City"
          ],
          [
           6071300180,
           "Bellevue",
           525000,
           1,
           "xlarge",
           "Below average",
           "Richie rich"
          ],
          [
           1326049170,
           "Kenmore",
           280000,
           1,
           "large",
           "Below average",
           "Outskirt"
          ],
          [
           65000085,
           "Seattle",
           430000,
           0.9,
           "large",
           "Above average",
           "City"
          ],
          [
           2301400325,
           "Seattle",
           760000,
           0.8,
           "large",
           "Top 10",
           "City"
          ],
          [
           1562100220,
           "Bellevue",
           605000,
           1,
           "xlarge",
           "Below average",
           "Richie rich"
          ],
          [
           1504800097,
           "Seattle",
           513000,
           1,
           "xlarge",
           "Above average",
           "City"
          ],
          [
           1061500360,
           "Newcastle",
           287000,
           1,
           "xlarge",
           "Below average",
           "Has Shore"
          ],
          [
           1254200835,
           "Seattle",
           595000,
           0.8,
           "large",
           "Above average",
           "City"
          ],
          [
           8562700410,
           "Redmond",
           528000,
           1,
           "xlarge",
           "Below average",
           "Richie rich"
          ],
          [
           7857001225,
           "Seattle",
           320000,
           0.8,
           "large",
           "Below average",
           "City"
          ],
          [
           5249802520,
           "Seattle",
           402000,
           0.8,
           "large",
           "Below average",
           "City"
          ],
          [
           1313000220,
           "Redmond",
           675000,
           0.8,
           "xlarge",
           "Below average",
           "Richie rich"
          ],
          [
           2946002914,
           "Des Moines",
           325000,
           1,
           "xlarge",
           "Below average",
           "Has Shore"
          ],
          [
           7856640180,
           "Bellevue",
           770000,
           0.9,
           "xlarge",
           "Above average",
           "Richie rich"
          ],
          [
           632000065,
           "Bellevue",
           1990000,
           0.9,
           "xlarge",
           "Top 10",
           "Belle"
          ],
          [
           6821101765,
           "Seattle",
           442900,
           1,
           "large",
           "Above average",
           "City"
          ],
          [
           4083300620,
           "Seattle",
           930000,
           1,
           "xlarge",
           "Above average",
           "City"
          ],
          [
           8122100905,
           "Seattle",
           395000,
           1,
           "large",
           "Above average",
           "City"
          ],
          [
           871001484,
           "Seattle",
           719000,
           1,
           "large",
           "Above average",
           "City"
          ],
          [
           726049213,
           "Shoreline",
           410000,
           0.9,
           "xlarge",
           "Below average",
           "Has Shore"
          ],
          [
           3832500790,
           "Kent",
           309000,
           1,
           "xlarge",
           "Below average",
           "Has Shore"
          ],
          [
           123039207,
           "Seattle",
           283000,
           0.8,
           "large",
           "Below average",
           "City"
          ],
          [
           3426049124,
           "Seattle",
           334000,
           1,
           "large",
           "Below average",
           "City"
          ],
          [
           4222500410,
           "Federal Way",
           267000,
           0.8,
           "large",
           "Below average",
           "Outskirt"
          ],
          [
           431500155,
           "Seattle",
           640000,
           0.8,
           "large",
           "Above average",
           "City"
          ],
          [
           3345100286,
           "Newcastle",
           560000,
           0.9,
           "xlarge",
           "Below average",
           "Has Shore"
          ],
          [
           8562901830,
           "Redmond",
           454800,
           0.8,
           "xlarge",
           "Below average",
           "Richie rich"
          ],
          [
           8608900205,
           "Seattle",
           565500,
           0.8,
           "large",
           "Above average",
           "City"
          ],
          [
           8712100760,
           "Seattle",
           721000,
           0.9,
           "large",
           "Above average",
           "Richie rich"
          ],
          [
           1025059186,
           "Redmond",
           438000,
           0.9,
           "large",
           "Below average",
           "Richie rich"
          ],
          [
           1180005280,
           "Seattle",
           239950,
           1,
           "large",
           "Below average",
           "City "
          ],
          [
           1254201106,
           "Seattle",
           524500,
           0.8,
           "large",
           "Above average",
           "City"
          ],
          [
           5460900120,
           "Mercer Island",
           989900,
           1,
           "xlarge",
           "Above average",
           "Richie rich"
          ],
          [
           2112700845,
           "Seattle",
           270000,
           1,
           "large",
           "Below average",
           "City"
          ],
          [
           7436200040,
           "Auburn",
           290000,
           1,
           "xlarge",
           "Below average",
           "Poor dogs"
          ],
          [
           3835502815,
           "Medina",
           1260000,
           0.9,
           "xlarge",
           "Above average",
           "Richie rich"
          ],
          [
           3459600330,
           "Bellevue",
           925000,
           0.8,
           "xlarge",
           "Above average",
           "Richie rich"
          ],
          [
           546001020,
           "Seattle",
           554000,
           0.8,
           "large",
           "Above average",
           "City"
          ],
          [
           3421049044,
           "Auburn",
           289000,
           1,
           "xlarge",
           "Below average",
           "Poor dogs"
          ],
          [
           3585900665,
           "Shoreline",
           805000,
           1,
           "xlarge",
           "Below average",
           "Has Shore"
          ],
          [
           4034900065,
           "Bellevue",
           459900,
           1,
           "xlarge",
           "Below average",
           "Richie rich"
          ],
          [
           4058800500,
           "Seattle",
           416100,
           1,
           "xlarge",
           "Below average",
           "City "
          ],
          [
           3500100089,
           "Lake Forest Park",
           495000,
           0.8,
           "xlarge",
           "Below average",
           "Forest"
          ],
          [
           7855400630,
           "Bellevue",
           1030000,
           0.8,
           "xlarge",
           "Above average",
           "Richie rich"
          ],
          [
           7214400095,
           "Seattle",
           667500,
           1,
           "xlarge",
           "Above average",
           "City"
          ],
          [
           585000095,
           "Seattle",
           625000,
           0.8,
           "large",
           "Above average",
           "City"
          ],
          [
           1423069063,
           "Issaquah",
           464950,
           0.8,
           "xlarge",
           "Below average",
           "Wide land"
          ],
          [
           4027700396,
           "Lake Forest Park",
           505000,
           0.9,
           "xlarge",
           "Below average",
           "Forest"
          ],
          [
           3627800050,
           "Mercer Island",
           1380000,
           1,
           "xlarge",
           "Above average",
           "Richie rich"
          ],
          [
           3856901760,
           "Seattle",
           730000,
           0.8,
           "large",
           "Above average",
           "City"
          ],
          [
           7011201087,
           "Seattle",
           385000,
           1,
           "large",
           "Above average",
           "Richie rich"
          ],
          [
           8638500170,
           "Seattle",
           233000,
           0.9,
           "large",
           "Below average",
           "City"
          ],
          [
           9541800190,
           "Bellevue",
           915000,
           0.9,
           "xlarge",
           "Above average",
           "Richie rich"
          ],
          [
           8924600020,
           "Seattle",
           1540000,
           0.8,
           "xlarge",
           "Above average",
           "City"
          ],
          [
           4003000285,
           "Seattle",
           628000,
           1,
           "xlarge",
           "Above average",
           "City"
          ],
          [
           290000095,
           "Seattle",
           675000,
           1,
           "xlarge",
           "Above average",
           "City"
          ],
          [
           461002890,
           "Seattle",
           499000,
           1,
           "large",
           "Above average",
           "City"
          ],
          [
           2597300020,
           "Lake Forest Park",
           725000,
           1,
           "xlarge",
           "Below average",
           "Forest"
          ],
          [
           9276200635,
           "Seattle",
           645000,
           1,
           "large",
           "Above average",
           "City"
          ],
          [
           3444120130,
           "Covington",
           399950,
           1,
           "xlarge",
           "Below average",
           "Outskirt"
          ],
          [
           7424110130,
           "Kirkland",
           423000,
           0.9,
           "large",
           "Below average",
           "Richie rich"
          ],
          [
           626049102,
           "Shoreline",
           397950,
           1,
           "xlarge",
           "Below average",
           "Has Shore"
          ],
          [
           1529200480,
           "Woodinville",
           534640,
           0.8,
           "large",
           "Above average",
           "Richie rich"
          ],
          [
           726049217,
           "Shoreline",
           425000,
           0.8,
           "xlarge",
           "Below average",
           "Has Shore"
          ],
          [
           7229900285,
           "Newcastle",
           390000,
           0.9,
           "large",
           "Below average",
           "Outskirt"
          ],
          [
           3832700250,
           "Kent",
           270000,
           1,
           "xlarge",
           "Below average",
           "Has Shore"
          ],
          [
           3025049028,
           "Seattle",
           930000,
           0.8,
           "large",
           "Top 10",
           "City"
          ],
          [
           2848700095,
           "Seattle",
           412000,
           1,
           "xlarge",
           "Below average",
           "City"
          ],
          [
           3625059109,
           "Bellevue",
           1050000,
           1,
           "xlarge",
           "Above average",
           "Richie rich"
          ],
          [
           1929300415,
           "Seattle",
           710000,
           1,
           "xlarge",
           "Above average",
           "City"
          ],
          [
           7625701900,
           "Seattle",
           467500,
           1,
           "large",
           "Above average",
           "City"
          ],
          [
           6372000190,
           "Seattle",
           745000,
           1,
           "xlarge",
           "Above average",
           "City"
          ],
          [
           9320500080,
           "Kent",
           265000,
           0.8,
           "large",
           "Below average",
           "Outskirt"
          ],
          [
           3142600130,
           "Seattle",
           667500,
           0.8,
           "large",
           "Above average",
           "City"
          ],
          [
           1565600130,
           "Seatac",
           275000,
           0.9,
           "xlarge",
           "Below average",
           "Has Shore"
          ],
          [
           4384000020,
           "Bellevue",
           605000,
           1,
           "xlarge",
           "Below average",
           "Richie rich"
          ],
          [
           2922701305,
           "Seattle",
           470000,
           0.8,
           "large",
           "Above average",
           "City"
          ],
          [
           4037800020,
           "Bellevue",
           497500,
           0.8,
           "large",
           "Below average",
           "Richie rich"
          ],
          [
           3422049088,
           "Auburn",
           389000,
           1,
           "xlarge",
           "Below average",
           "Poor dogs"
          ],
          [
           6433000050,
           "Burien",
           350000,
           0.9,
           "xlarge",
           "Below average",
           "Outskirt"
          ],
          [
           59000250,
           "Seattle",
           720000,
           1,
           "xlarge",
           "Above average",
           "City"
          ],
          [
           5113400364,
           "Seattle",
           650000,
           0.8,
           "xlarge",
           "Above average",
           "Richie rich"
          ],
          [
           5100404761,
           "Seattle",
           547500,
           0.9,
           "large",
           "Above average",
           "City"
          ],
          [
           7148700050,
           "Lake Forest Park",
           340000,
           0.8,
           "xlarge",
           "Below average",
           "Forest"
          ],
          [
           8819900170,
           "Seattle",
           861000,
           1,
           "xlarge",
           "Above average",
           "City"
          ],
          [
           4060000020,
           "Seattle",
           299980,
           1,
           "large",
           "Below average",
           "City "
          ],
          [
           3992700048,
           "Seattle",
           526000,
           1,
           "xlarge",
           "Below average",
           "City"
          ],
          [
           2968800010,
           "Normandy Park",
           275000,
           0.9,
           "large",
           "Below average",
           "Has Shore"
          ],
          [
           1024000050,
           "Seattle",
           915000,
           0.9,
           "xlarge",
           "Above average",
           "City"
          ],
          [
           624069108,
           "Sammamish",
           3200000,
           1,
           "xlarge",
           "Top 10",
           "Poor dogs"
          ],
          [
           7147600225,
           "Seatac",
           320000,
           0.8,
           "xlarge",
           "Below average",
           "Has Shore"
          ],
          [
           7922720250,
           "Redmond",
           601002,
           1,
           "xlarge",
           "Above average",
           "Richie rich"
          ],
          [
           3459900305,
           "Bellevue",
           1110000,
           0.8,
           "xlarge",
           "Above average",
           "Richie rich"
          ],
          [
           461005435,
           "Seattle",
           519000,
           0.9,
           "large",
           "Above average",
           "City"
          ],
          [
           1818800235,
           "Seattle",
           1100000,
           1,
           "xlarge",
           "Above average",
           "City"
          ],
          [
           1245000500,
           "Kirkland",
           750500,
           0.9,
           "xlarge",
           "Above average",
           "Richie rich"
          ],
          [
           1257200290,
           "Seattle",
           910000,
           1,
           "xlarge",
           "Above average",
           "City"
          ],
          [
           126059005,
           "Woodinville",
           547000,
           0.9,
           "xlarge",
           "Above average",
           "Richie rich"
          ],
          [
           1156000250,
           "Covington",
           320000,
           1,
           "xlarge",
           "Below average",
           "Outskirt"
          ],
          [
           8650000250,
           "Issaquah",
           611000,
           0.9,
           "xlarge",
           "Below average",
           "Wide land"
          ],
          [
           3010300415,
           "Seattle",
           383000,
           1,
           "xlarge",
           "Below average",
           "City"
          ],
          [
           8963300005,
           "Shoreline",
           390000,
           0.9,
           "xlarge",
           "Below average",
           "Has Shore"
          ],
          [
           13001795,
           "Seattle",
           319500,
           0.8,
           "xlarge",
           "Below average",
           "City"
          ],
          [
           9542000275,
           "Bellevue",
           675000,
           1.6,
           "xlarge",
           "Above average",
           "Richie rich"
          ],
          [
           8141200080,
           "Seattle",
           680000,
           0.8,
           "xlarge",
           "Above average",
           "Richie rich"
          ],
          [
           3585900190,
           "Shoreline",
           825000,
           0.8,
           "xlarge",
           "Below average",
           "Has Shore"
          ],
          [
           3582900280,
           "Kenmore",
           1120000,
           1,
           "xlarge",
           "Above average",
           "Outskirt"
          ],
          [
           9315600050,
           "Bellevue",
           1680000,
           0.8,
           "xlarge",
           "Above average",
           "Belle"
          ],
          [
           8824900050,
           "Seattle",
           656500,
           0.9,
           "xlarge",
           "Below average",
           "City"
          ],
          [
           2710600080,
           "Seattle",
           525000,
           1,
           "large",
           "Above average",
           "City"
          ],
          [
           4219401236,
           "Seattle",
           1690000,
           0.9,
           "xlarge",
           "Top 10",
           "City"
          ],
          [
           751000080,
           "Seattle",
           426000,
           1,
           "large",
           "Above average",
           "City"
          ],
          [
           1193000480,
           "Seattle",
           784000,
           0.8,
           "xlarge",
           "Below average",
           "City"
          ],
          [
           6332000050,
           "Seattle",
           464000,
           0.9,
           "large",
           "Above average",
           "City"
          ],
          [
           7403200050,
           "Kenmore",
           1600000,
           0.8,
           "xlarge",
           "Top 10",
           "Outskirt"
          ],
          [
           9460000010,
           "Renton",
           285000,
           0.8,
           "large",
           "Below average",
           "Outskirt"
          ],
          [
           4222700130,
           "Federal Way",
           279000,
           0.8,
           "large",
           "Below average",
           "Outskirt"
          ],
          [
           2423039134,
           "Normandy Park",
           387500,
           0.9,
           "xlarge",
           "Below average",
           "Has Shore"
          ],
          [
           3296000170,
           "Bellevue",
           555000,
           1,
           "xlarge",
           "Below average",
           "Richie rich"
          ],
          [
           5561000420,
           "Issaquah",
           490000,
           1.1,
           "xlarge",
           "Below average",
           "Wide land"
          ],
          [
           7922800190,
           "Bellevue",
           620000,
           1,
           "xlarge",
           "Above average",
           "Richie rich"
          ],
          [
           4083802425,
           "Seattle",
           608000,
           0.8,
           "xlarge",
           "Above average",
           "City"
          ],
          [
           5538300460,
           "Lake Forest Park",
           465000,
           0.8,
           "large",
           "Above average",
           "Forest"
          ],
          [
           7625700305,
           "Seattle",
           564000,
           0.8,
           "large",
           "Above average",
           "City"
          ],
          [
           7305300470,
           "Lake Forest Park",
           345000,
           1,
           "large",
           "Below average",
           "Forest"
          ],
          [
           2296700050,
           "Kirkland",
           475000,
           1,
           "xlarge",
           "Below average",
           "Richie rich"
          ],
          [
           4122900190,
           "Bellevue",
           1350000,
           1,
           "xlarge",
           "Above average",
           "Belle"
          ],
          [
           7784400130,
           "Seattle",
           497300,
           1,
           "xlarge",
           "Below average",
           "City"
          ],
          [
           259601100,
           "Bellevue",
           580000,
           0.9,
           "xlarge",
           "Above average",
           "Richie rich"
          ],
          [
           8815400670,
           "Seattle",
           780000,
           1,
           "xlarge",
           "Above average",
           "City"
          ],
          [
           8651442910,
           "Covington",
           247500,
           0.9,
           "large",
           "Below average",
           "Outskirt"
          ],
          [
           5135000170,
           "Seattle",
           655000,
           0.9,
           "xlarge",
           "Above average",
           "City"
          ],
          [
           8155500020,
           "Bellevue",
           530000,
           1,
           "xlarge",
           "Below average",
           "Richie rich"
          ],
          [
           1424059130,
           "Bellevue",
           247500,
           0.9,
           "large",
           "Below average",
           "Richie rich"
          ],
          [
           3885801190,
           "Kirkland",
           1390000,
           1,
           "xlarge",
           "Top 10",
           "Richie rich"
          ],
          [
           2769602140,
           "Seattle",
           499950,
           0.9,
           "large",
           "Above average",
           "City"
          ],
          [
           5152920170,
           "Federal Way",
           549000,
           1,
           "xlarge",
           "Below average",
           "Outskirt"
          ],
          [
           3982700250,
           "Kirkland",
           799900,
           0.9,
           "xlarge",
           "Above average",
           "Richie rich"
          ],
          [
           8026200080,
           "Newcastle",
           372000,
           0.9,
           "large",
           "Below average",
           "Has Shore"
          ],
          [
           8854000010,
           "Bothell",
           540000,
           0.8,
           "xlarge",
           "Below average",
           "Outskirt"
          ],
          [
           4023500352,
           "Lake Forest Park",
           425000,
           0.8,
           "xlarge",
           "Below average",
           "Forest"
          ],
          [
           9285800585,
           "Seattle",
           460000,
           1,
           "xlarge",
           "Below average",
           "City"
          ],
          [
           5727500561,
           "Shoreline",
           255544,
           0.8,
           "large",
           "Below average",
           "Has Shore"
          ],
          [
           7527410080,
           "Sammamish",
           585083,
           0.8,
           "xlarge",
           "Below average",
           "Poor dogs"
          ],
          [
           1236300307,
           "Kirkland",
           565000,
           1,
           "large",
           "Above average",
           "Richie rich"
          ],
          [
           3812400898,
           "Seattle",
           399950,
           1,
           "xlarge",
           "Below average",
           "City"
          ],
          [
           5652600427,
           "Seattle",
           420000,
           1,
           "large",
           "Above average",
           "City"
          ],
          [
           5297200089,
           "Seattle",
           664000,
           1,
           "large",
           "Above average",
           "City"
          ],
          [
           7855600080,
           "Bellevue",
           750000,
           0.8,
           "xlarge",
           "Above average",
           "Richie rich"
          ],
          [
           5113400168,
           "Seattle",
           620000,
           1,
           "xlarge",
           "Above average",
           "Richie rich"
          ],
          [
           5559200020,
           "Auburn",
           248500,
           1,
           "large",
           "Below average",
           "Has Shore"
          ],
          [
           1214000050,
           "Normandy Park",
           350000,
           1,
           "xlarge",
           "Below average",
           "Has Shore"
          ],
          [
           4027700009,
           "Lake Forest Park",
           575000,
           0.9,
           "xlarge",
           "Below average",
           "Forest"
          ],
          [
           8731960050,
           "Auburn",
           302300,
           1,
           "xlarge",
           "Below average",
           "Has Shore"
          ],
          [
           5652600605,
           "Seattle",
           630000,
           0.8,
           "xlarge",
           "Above average",
           "City"
          ],
          [
           6329000190,
           "Seattle",
           750000,
           0.8,
           "xlarge",
           "Above average",
           "City"
          ],
          [
           3083000048,
           "Seattle",
           427000,
           0.8,
           "xlarge",
           "Below average",
           "City"
          ],
          [
           2741100741,
           "Seattle",
           411715,
           0.8,
           "large",
           "Below average",
           "City"
          ],
          [
           4452300130,
           "Seattle",
           677000,
           0.8,
           "large",
           "Above average",
           "City"
          ],
          [
           9323600280,
           "Bellevue",
           822600,
           1,
           "xlarge",
           "Above average",
           "Richie rich"
          ],
          [
           3438500114,
           "Seattle",
           377000,
           0.8,
           "large",
           "Below average",
           "City"
          ],
          [
           6414100231,
           "Seattle",
           440000,
           1,
           "large",
           "Below average",
           "City"
          ],
          [
           7905380080,
           "Kirkland",
           330000,
           0.9,
           "xlarge",
           "Below average",
           "Richie rich"
          ],
          [
           5145100460,
           "Kirkland",
           469500,
           0.8,
           "large",
           "Below average",
           "Richie rich"
          ],
          [
           9542100005,
           "Bellevue",
           1130000,
           0.8,
           "xlarge",
           "Above average",
           "Richie rich"
          ],
          [
           4037000185,
           "Bellevue",
           395000,
           0.9,
           "xlarge",
           "Below average",
           "Richie rich"
          ],
          [
           3023059071,
           "Renton",
           631000,
           0.8,
           "xlarge",
           "Below average",
           "Outskirt"
          ],
          [
           1431700280,
           "Renton",
           310000,
           0.8,
           "xlarge",
           "Below average",
           "Outskirt"
          ],
          [
           9412200080,
           "Issaquah",
           440000,
           1,
           "xlarge",
           "Below average",
           "Wide land"
          ],
          [
           7972601100,
           "Seattle",
           355000,
           1,
           "xlarge",
           "Below average",
           "City"
          ],
          [
           3291800670,
           "Newcastle",
           439000,
           0.8,
           "xlarge",
           "Below average",
           "Has Shore"
          ],
          [
           6190700284,
           "Shoreline",
           420000,
           0.8,
           "xlarge",
           "Below average",
           "Has Shore"
          ],
          [
           7419700010,
           "Kirkland",
           665000,
           1,
           "xlarge",
           "Below average",
           "Richie rich"
          ],
          [
           2621750280,
           "Covington",
           369950,
           1,
           "xlarge",
           "Below average",
           "Outskirt"
          ],
          [
           1423910670,
           "Renton",
           305000,
           1,
           "xlarge",
           "Below average",
           "Outskirt"
          ],
          [
           9804500420,
           "Enumclaw",
           430000,
           0.9,
           "xlarge",
           "Below average",
           "Wide land"
          ],
          [
           1568100670,
           "Lake Forest Park",
           395900,
           1,
           "large",
           "Below average",
           "Forest"
          ],
          [
           9250900104,
           "Shoreline",
           300000,
           0.9,
           "xlarge",
           "Below average",
           "Has Shore"
          ],
          [
           9250900104,
           "Shoreline",
           496000,
           0.9,
           "xlarge",
           "Below average",
           "Has Shore"
          ],
          [
           623039026,
           "Vashon",
           645000,
           0.8,
           "xlarge",
           "Below average",
           "Island"
          ],
          [
           5113000420,
           "Renton",
           420000,
           1.1,
           "xlarge",
           "Below average",
           "Outskirt"
          ],
          [
           3971701300,
           "Lake Forest Park",
           255000,
           1,
           "large",
           "Below average",
           "Forest"
          ],
          [
           798000630,
           "Burien",
           340000,
           0.9,
           "large",
           "Below average",
           "Outskirt"
          ],
          [
           2294900010,
           "Issaquah",
           478000,
           1,
           "xlarge",
           "Below average",
           "Wide land"
          ],
          [
           625049153,
           "Seattle",
           605000,
           0.8,
           "large",
           "Above average",
           "City"
          ],
          [
           191100250,
           "Mercer Island",
           750000,
           1,
           "xlarge",
           "Above average",
           "Richie rich"
          ],
          [
           9547205380,
           "Seattle",
           630000,
           0.8,
           "xlarge",
           "Above average",
           "City"
          ],
          [
           2008000420,
           "Des Moines",
           280500,
           1,
           "xlarge",
           "Below average",
           "Has Shore"
          ],
          [
           3222079120,
           "Black Diamond",
           330000,
           1,
           "large",
           "Above average",
           "Outskirt"
          ],
          [
           2473250280,
           "Renton",
           265000,
           0.8,
           "xlarge",
           "Below average",
           "Outskirt"
          ],
          [
           5456000280,
           "Mercer Island",
           820000,
           1,
           "xlarge",
           "Above average",
           "Richie rich"
          ],
          [
           5592900285,
           "Newcastle",
           435000,
           1,
           "xlarge",
           "Below average",
           "Has Shore"
          ],
          [
           461001435,
           "Seattle",
           566000,
           0.8,
           "xlarge",
           "Below average",
           "City"
          ],
          [
           7922900250,
           "Bellevue",
           507500,
           1,
           "xlarge",
           "Above average",
           "Richie rich"
          ],
          [
           1370802335,
           "Seattle",
           1020000,
           1,
           "xlarge",
           "Above average",
           "City"
          ],
          [
           7518503220,
           "Seattle",
           520000,
           0.8,
           "large",
           "Above average",
           "City"
          ],
          [
           2201500680,
           "Bellevue",
           501000,
           1,
           "large",
           "Above average",
           "Richie rich"
          ],
          [
           4022902555,
           "Lake Forest Park",
           609000,
           0.8,
           "xlarge",
           "Below average",
           "Forest"
          ],
          [
           7385300020,
           "Bellevue",
           725000,
           0.8,
           "xlarge",
           "Below average",
           "Richie rich"
          ],
          [
           5016002275,
           "Seattle",
           610000,
           1,
           "xlarge",
           "Below average",
           "Richie rich"
          ],
          [
           9523102040,
           "Seattle",
           440000,
           0.9,
           "xlarge",
           "Below average",
           "City"
          ],
          [
           5538300225,
           "Lake Forest Park",
           405000,
           1,
           "xlarge",
           "Below average",
           "Forest"
          ],
          [
           3888100029,
           "Kirkland",
           475300,
           0.9,
           "xlarge",
           "Below average",
           "Richie rich"
          ],
          [
           4364700585,
           "Seattle",
           485000,
           0.8,
           "large",
           "Below average",
           "City"
          ],
          [
           3293700480,
           "Shoreline",
           414950,
           1,
           "xlarge",
           "Below average",
           "Has Shore"
          ],
          [
           3975400185,
           "Seattle",
           645000,
           0.8,
           "large",
           "Above average",
           "City"
          ],
          [
           8731950080,
           "Auburn",
           420000,
           0.9,
           "xlarge",
           "Below average",
           "Has Shore"
          ],
          [
           2475900170,
           "Fall City",
           303000,
           0.9,
           "xlarge",
           "Below average",
           "Wide land"
          ],
          [
           2008000130,
           "Des Moines",
           360500,
           1,
           "xlarge",
           "Below average",
           "Has Shore"
          ],
          [
           930000305,
           "Shoreline",
           379400,
           1,
           "xlarge",
           "Below average",
           "Has Shore"
          ],
          [
           2215500080,
           "Seattle",
           580000,
           1,
           "large",
           "Above average",
           "City"
          ],
          [
           3392900080,
           "Seattle",
           625000,
           0.8,
           "large",
           "Above average",
           "City"
          ],
          [
           2112700185,
           "Seattle",
           435000,
           1,
           "xlarge",
           "Below average",
           "City"
          ],
          [
           5518800010,
           "Bothell",
           515000,
           1,
           "xlarge",
           "Below average",
           "Outskirt"
          ],
          [
           3645100280,
           "Shoreline",
           385000,
           0.8,
           "large",
           "Below average",
           "Has Shore"
          ],
          [
           582000185,
           "Seattle",
           655000,
           0.8,
           "large",
           "Above average",
           "City"
          ],
          [
           5469501410,
           "Covington",
           490000,
           0.8,
           "xlarge",
           "Below average",
           "Outskirt"
          ],
          [
           4107100190,
           "Bellevue",
           2500000,
           0.9,
           "xlarge",
           "Top 10",
           "Belle"
          ],
          [
           6072000380,
           "Bellevue",
           505000,
           1,
           "xlarge",
           "Below average",
           "Richie rich"
          ],
          [
           475000605,
           "Seattle",
           800000,
           0.8,
           "xlarge",
           "Below average",
           "City"
          ],
          [
           3336000050,
           "Seattle",
           435000,
           1,
           "xlarge",
           "Below average",
           "City"
          ],
          [
           7883601155,
           "Seattle",
           240000,
           1.1,
           "large",
           "Below average",
           "City"
          ],
          [
           7173700591,
           "Seattle",
           735000,
           1.3,
           "xlarge",
           "Above average",
           "City"
          ],
          [
           2524049108,
           "Mercer Island",
           1380000,
           0.9,
           "xlarge",
           "Above average",
           "Richie rich"
          ],
          [
           1552800280,
           "Kent",
           298950,
           0.8,
           "xlarge",
           "Below average",
           "Outskirt"
          ],
          [
           7016300050,
           "Kirkland",
           420000,
           0.8,
           "large",
           "Below average",
           "Richie rich"
          ],
          [
           1024069063,
           "Sammamish",
           620000,
           1,
           "xlarge",
           "Below average",
           "Poor dogs"
          ],
          [
           2491200050,
           "Seattle",
           423000,
           0.8,
           "large",
           "Below average",
           "City"
          ],
          [
           7893801760,
           "Des Moines",
           368000,
           1,
           "xlarge",
           "Below average",
           "Has Shore"
          ],
          [
           2769602135,
           "Seattle",
           435000,
           0.8,
           "large",
           "Above average",
           "City"
          ],
          [
           3448002285,
           "Seattle",
           475000,
           1,
           "xlarge",
           "Below average",
           "City"
          ],
          [
           868001435,
           "Shoreline",
           2230000,
           0.8,
           "xlarge",
           "Top 10",
           "Has Shore"
          ],
          [
           3971700670,
           "Lake Forest Park",
           420000,
           0.8,
           "large",
           "Below average",
           "Forest"
          ],
          [
           4154304505,
           "Seattle",
           435000,
           1,
           "xlarge",
           "Below average",
           "City"
          ],
          [
           2436700280,
           "Seattle",
           840000,
           0.8,
           "xlarge",
           "Above average",
           "City"
          ],
          [
           4146800050,
           "Seattle",
           563000,
           0.8,
           "large",
           "Above average",
           "City"
          ],
          [
           7525900050,
           "Redmond",
           780000,
           1.5,
           "xlarge",
           "Above average",
           "Richie rich"
          ],
          [
           3783100080,
           "Covington",
           261000,
           0.9,
           "large",
           "Below average",
           "Outskirt"
          ],
          [
           5459000305,
           "Mercer Island",
           648752,
           0.9,
           "xlarge",
           "Above average",
           "Richie rich"
          ],
          [
           4122900020,
           "Bellevue",
           1390000,
           1,
           "xlarge",
           "Above average",
           "Belle"
          ],
          [
           4154303125,
           "Seattle",
           650000,
           0.8,
           "xlarge",
           "Above average",
           "City"
          ],
          [
           2487200279,
           "Seattle",
           560000,
           0.9,
           "xlarge",
           "Below average",
           "City"
          ],
          [
           4038700680,
           "Bellevue",
           750000,
           0.9,
           "xlarge",
           "Above average",
           "Richie rich"
          ],
          [
           6392003810,
           "Seattle",
           530000,
           0.9,
           "large",
           "Above average",
           "City"
          ],
          [
           7806210250,
           "Auburn",
           235000,
           0.9,
           "large",
           "Below average",
           "Poor dogs"
          ],
          [
           4127000050,
           "Maple Valley",
           485000,
           1,
           "large",
           "Above average",
           "Wide land"
          ],
          [
           8815400020,
           "Seattle",
           601000,
           0.9,
           "large",
           "Above average",
           "City"
          ],
          [
           1742800430,
           "Renton",
           463828,
           1,
           "xlarge",
           "Below average",
           "Outskirt"
          ],
          [
           7387500235,
           "Seattle",
           340000,
           1,
           "xlarge",
           "Below average",
           "City"
          ],
          [
           7387500235,
           "Seattle",
           363000,
           1,
           "xlarge",
           "Below average",
           "City"
          ],
          [
           1467400095,
           "Maple Valley",
           545000,
           0.8,
           "large",
           "Above average",
           "Wide land"
          ],
          [
           8081020380,
           "Bellevue",
           1200000,
           0.9,
           "xlarge",
           "Above average",
           "Richie rich"
          ],
          [
           5700002285,
           "Seattle",
           495000,
           1,
           "xlarge",
           "Below average",
           "City"
          ],
          [
           6822100305,
           "Seattle",
           465000,
           0.9,
           "large",
           "Above average",
           "City"
          ],
          [
           9117100130,
           "Renton",
           368500,
           0.8,
           "xlarge",
           "Below average",
           "Outskirt"
          ],
          [
           2425700022,
           "Bellevue",
           425000,
           0.8,
           "large",
           "Above average",
           "Belle"
          ],
          [
           8127700210,
           "Seattle",
           600000,
           0.8,
           "large",
           "Above average",
           "City"
          ],
          [
           2771604791,
           "Seattle",
           680000,
           1,
           "xlarge",
           "Above average",
           "City"
          ],
          [
           9277200065,
           "Seattle",
           616000,
           0.9,
           "xlarge",
           "Below average",
           "City"
          ],
          [
           5315101728,
           "Mercer Island",
           770000,
           0.8,
           "xlarge",
           "Above average",
           "Richie rich"
          ],
          [
           1923300315,
           "Seattle",
           565000,
           1,
           "large",
           "Above average",
           "City"
          ],
          [
           7347600490,
           "Burien",
           245000,
           1.5,
           "xlarge",
           "Below average",
           "Outskirt"
          ],
          [
           2267000485,
           "Seattle",
           635000,
           1,
           "xlarge",
           "Above average",
           "City"
          ],
          [
           1093000090,
           "Seattle",
           776000,
           1,
           "xlarge",
           "Above average",
           "City"
          ],
          [
           3222049151,
           "Des Moines",
           820000,
           0.9,
           "xlarge",
           "Above average",
           "Has Shore"
          ],
          [
           620079042,
           "Enumclaw",
           370000,
           1,
           "xlarge",
           "Below average",
           "Wide land"
          ],
          [
           1423069076,
           "Issaquah",
           560000,
           1.1,
           "xlarge",
           "Below average",
           "Wide land"
          ],
          [
           1786830090,
           "Redmond",
           599000,
           0.9,
           "xlarge",
           "Below average",
           "Richie rich"
          ],
          [
           226039317,
           "Shoreline",
           750000,
           0.8,
           "xlarge",
           "Below average",
           "Has Shore"
          ],
          [
           924069042,
           "Sammamish",
           775000,
           1,
           "large",
           "Top 10",
           "Poor dogs"
          ],
          [
           1422059039,
           "Covington",
           455000,
           0.8,
           "xlarge",
           "Below average",
           "Outskirt"
          ],
          [
           1705400361,
           "Seattle",
           600000,
           1,
           "xlarge",
           "Above average",
           "City"
          ],
          [
           3449500035,
           "Newcastle",
           322000,
           0.8,
           "large",
           "Below average",
           "Has Shore"
          ],
          [
           2599700040,
           "Auburn",
           160000,
           1,
           "large",
           "Below average",
           "Has Shore"
          ],
          [
           5592900205,
           "Newcastle",
           380000,
           0.8,
           "large",
           "Below average",
           "Has Shore"
          ],
          [
           2922701175,
           "Seattle",
           535000,
           1,
           "large",
           "Above average",
           "City"
          ],
          [
           1951800580,
           "Bellevue",
           590000,
           0.9,
           "xlarge",
           "Below average",
           "Richie rich"
          ],
          [
           6788201781,
           "Seattle",
           886000,
           0.8,
           "xlarge",
           "Above average",
           "Richie rich"
          ],
          [
           2600100300,
           "Bellevue",
           623000,
           0.8,
           "xlarge",
           "Below average",
           "Richie rich"
          ],
          [
           424049039,
           "Seattle",
           570000,
           1,
           "large",
           "Above average",
           "City"
          ],
          [
           1226039058,
           "Shoreline",
           425000,
           0.9,
           "xlarge",
           "Below average",
           "Has Shore"
          ],
          [
           2770605175,
           "Seattle",
           620047,
           1,
           "large",
           "Above average",
           "Richie rich"
          ],
          [
           5495200040,
           "Bellevue",
           610000,
           0.8,
           "xlarge",
           "Below average",
           "Richie rich"
          ],
          [
           3096000040,
           "Seattle",
           871000,
           1,
           "xlarge",
           "Above average",
           "City"
          ],
          [
           3579800405,
           "Kenmore",
           440000,
           0.9,
           "xlarge",
           "Below average",
           "Outskirt"
          ],
          [
           162500015,
           "Shoreline",
           362500,
           0.8,
           "xlarge",
           "Below average",
           "Has Shore"
          ],
          [
           7340600735,
           "Burien",
           285000,
           0.8,
           "xlarge",
           "Below average",
           "Outskirt"
          ],
          [
           9289900065,
           "Lake Forest Park",
           440000,
           0.9,
           "xlarge",
           "Below average",
           "Forest"
          ],
          [
           7589200153,
           "Seattle",
           559000,
           0.8,
           "large",
           "Above average",
           "City"
          ],
          [
           2516000515,
           "Seattle",
           623500,
           0.8,
           "large",
           "Above average",
           "City"
          ],
          [
           3975400085,
           "Seattle",
           850000,
           0.9,
           "xlarge",
           "Above average",
           "City"
          ],
          [
           8952900245,
           "Seattle",
           850000,
           0.8,
           "xlarge",
           "Below average",
           "City"
          ],
          [
           952000925,
           "Seattle",
           430000,
           1,
           "large",
           "Above average",
           "City"
          ],
          [
           8151600941,
           "Seattle",
           340000,
           1,
           "large",
           "Below average",
           "City"
          ],
          [
           3396800120,
           "Redmond",
           540000,
           0.8,
           "large",
           "Above average",
           "Richie rich"
          ],
          [
           9826701765,
           "Seattle",
           715000,
           0.8,
           "large",
           "Top 10",
           "City"
          ],
          [
           8624700015,
           "Seattle",
           640000,
           0.8,
           "xlarge",
           "Below average",
           "City"
          ],
          [
           7520000330,
           "Seattle",
           285000,
           0.9,
           "large",
           "Below average",
           "City"
          ],
          [
           7280300375,
           "Shoreline",
           536000,
           1,
           "xlarge",
           "Below average",
           "Has Shore"
          ],
          [
           2558640110,
           "Kirkland",
           498000,
           0.8,
           "xlarge",
           "Below average",
           "Richie rich"
          ],
          [
           2998800040,
           "Seattle",
           589000,
           0.8,
           "xlarge",
           "Above average",
           "City"
          ],
          [
           7658600150,
           "Seattle",
           435000,
           0.9,
           "large",
           "Below average",
           "City"
          ],
          [
           9191201385,
           "Seattle",
           505400,
           0.8,
           "large",
           "Above average",
           "City"
          ],
          [
           7589200165,
           "Seattle",
           515000,
           1,
           "large",
           "Above average",
           "City"
          ],
          [
           1924059278,
           "Mercer Island",
           762400,
           1,
           "xlarge",
           "Above average",
           "Richie rich"
          ],
          [
           3142600120,
           "Seattle",
           627000,
           0.8,
           "large",
           "Above average",
           "City"
          ],
          [
           3024079096,
           "Issaquah",
           510000,
           0.9,
           "xlarge",
           "Below average",
           "Wide land"
          ],
          [
           7986400265,
           "Seattle",
           770000,
           0.8,
           "xlarge",
           "Above average",
           "City"
          ],
          [
           3959400645,
           "Seattle",
           605000,
           0.9,
           "xlarge",
           "Below average",
           "City"
          ],
          [
           2579500110,
           "Mercer Island",
           2370000,
           0.9,
           "xlarge",
           "Top 10",
           "Richie rich"
          ],
          [
           7931000053,
           "Kent",
           362950,
           0.9,
           "xlarge",
           "Below average",
           "Outskirt"
          ],
          [
           8074400035,
           "Newcastle",
           315000,
           1,
           "xlarge",
           "Below average",
           "Has Shore"
          ],
          [
           7625701386,
           "Seattle",
           430000,
           0.8,
           "large",
           "Below average",
           "City"
          ],
          [
           1311800040,
           "Auburn",
           260000,
           1,
           "xlarge",
           "Below average",
           "Poor dogs"
          ],
          [
           1180008355,
           "Seattle",
           380000,
           1,
           "xlarge",
           "Below average",
           "City "
          ],
          [
           5210200184,
           "Seattle",
           452000,
           0.8,
           "large",
           "Above average",
           "City"
          ],
          [
           3438501452,
           "Seattle",
           329000,
           0.9,
           "large",
           "Below average",
           "City"
          ],
          [
           4302200625,
           "Seattle",
           335000,
           0.9,
           "large",
           "Below average",
           "City"
          ],
          [
           142000175,
           "Seattle",
           625000,
           0.8,
           "xlarge",
           "Above average",
           "City"
          ],
          [
           7519001321,
           "Seattle",
           545000,
           1,
           "large",
           "Above average",
           "City"
          ],
          [
           8024202380,
           "Seattle",
           418000,
           0.8,
           "large",
           "Below average",
           "City"
          ],
          [
           421069081,
           "Black Diamond",
           337000,
           1.3,
           "xlarge",
           "Below average",
           "Outskirt"
          ],
          [
           5561000330,
           "Issaquah",
           525000,
           1,
           "xlarge",
           "Below average",
           "Wide land"
          ],
          [
           1370803445,
           "Seattle",
           1140000,
           0.8,
           "xlarge",
           "Above average",
           "City"
          ],
          [
           2193320450,
           "Redmond",
           655000,
           0.9,
           "xlarge",
           "Above average",
           "Richie rich"
          ],
          [
           7923250090,
           "Kirkland",
           1500000,
           1,
           "xlarge",
           "Top 10",
           "Richie rich"
          ],
          [
           1982201485,
           "Seattle",
           675000,
           1,
           "xlarge",
           "Above average",
           "City"
          ],
          [
           5145100300,
           "Kirkland",
           465000,
           1,
           "large",
           "Above average",
           "Richie rich"
          ],
          [
           3279000120,
           "Auburn",
           274000,
           0.8,
           "large",
           "Below average",
           "Has Shore"
          ],
          [
           6448000100,
           "Bellevue",
           1730000,
           1,
           "xlarge",
           "Top 10",
           "Belle"
          ],
          [
           1870400615,
           "Seattle",
           635000,
           1,
           "xlarge",
           "Above average",
           "City"
          ],
          [
           2457200120,
           "Newcastle",
           359000,
           1,
           "xlarge",
           "Below average",
           "Has Shore"
          ],
          [
           1245001295,
           "Kirkland",
           648360,
           1,
           "xlarge",
           "Above average",
           "Richie rich"
          ],
          [
           3760500455,
           "Kirkland",
           1450000,
           0.8,
           "xlarge",
           "Above average",
           "Richie rich"
          ],
          [
           3600072,
           "Seattle",
           680000,
           0.9,
           "xlarge",
           "Above average",
           "City"
          ],
          [
           1560800110,
           "Bellevue",
           580000,
           0.8,
           "xlarge",
           "Below average",
           "Richie rich"
          ],
          [
           324069058,
           "Sammamish",
           568000,
           1,
           "xlarge",
           "Below average",
           "Poor dogs"
          ],
          [
           8935100100,
           "Seattle",
           476000,
           0.8,
           "xlarge",
           "Below average",
           "City"
          ],
          [
           1079450410,
           "Newcastle",
           450000,
           0.8,
           "xlarge",
           "Below average",
           "Outskirt"
          ],
          [
           1386800054,
           "Burien",
           283450,
           0.9,
           "xlarge",
           "Below average",
           "Outskirt"
          ],
          [
           6814600150,
           "Seattle",
           863000,
           1,
           "xlarge",
           "Above average",
           "City"
          ],
          [
           5122400025,
           "Normandy Park",
           568000,
           0.9,
           "xlarge",
           "Below average",
           "Has Shore"
          ],
          [
           9297300750,
           "Seattle",
           355000,
           1.1,
           "large",
           "Below average",
           "City"
          ],
          [
           2485000076,
           "Seattle",
           1050000,
           1,
           "xlarge",
           "Above average",
           "City"
          ],
          [
           1189000910,
           "Seattle",
           517000,
           1,
           "large",
           "Above average",
           "City"
          ],
          [
           4443801340,
           "Seattle",
           480000,
           1,
           "large",
           "Above average",
           "City"
          ],
          [
           6378500230,
           "Shoreline",
           423000,
           1,
           "large",
           "Below average",
           "Has Shore"
          ],
          [
           518000040,
           "Kirkland",
           440000,
           1,
           "xlarge",
           "Below average",
           "Richie rich"
          ],
          [
           4242900245,
           "Seattle",
           618000,
           0.8,
           "large",
           "Above average",
           "City"
          ],
          [
           1231001130,
           "Seattle",
           572000,
           0.8,
           "large",
           "Above average",
           "City"
          ],
          [
           1105000360,
           "Seattle",
           320000,
           1,
           "xlarge",
           "Below average",
           "City"
          ],
          [
           1724079048,
           "Fall City",
           475000,
           1,
           "xlarge",
           "Below average",
           "Wide land"
          ],
          [
           9169600209,
           "Seattle",
           746300,
           0.8,
           "large",
           "Above average",
           "City"
          ],
          [
           1919800090,
           "Seattle",
           625000,
           1,
           "xlarge",
           "Above average",
           "City"
          ],
          [
           4038200120,
           "Bellevue",
           534000,
           0.8,
           "large",
           "Above average",
           "Richie rich"
          ],
          [
           8902000175,
           "Seattle",
           489000,
           1,
           "xlarge",
           "Below average",
           "City"
          ],
          [
           582000065,
           "Seattle",
           725000,
           0.9,
           "xlarge",
           "Above average",
           "City"
          ],
          [
           4038400150,
           "Bellevue",
           465000,
           1,
           "xlarge",
           "Below average",
           "Richie rich"
          ],
          [
           9834200365,
           "Seattle",
           607000,
           0.9,
           "xlarge",
           "Above average",
           "City"
          ],
          [
           6909700040,
           "Seattle",
           813000,
           0.8,
           "xlarge",
           "Below average",
           "City"
          ],
          [
           4147200040,
           "Mercer Island",
           1090000,
           1,
           "xlarge",
           "Above average",
           "Richie rich"
          ],
          [
           8807810110,
           "Redmond",
           432000,
           1,
           "xlarge",
           "Below average",
           "Richie rich"
          ],
          [
           4027700930,
           "Kenmore",
           330000,
           1,
           "xlarge",
           "Below average",
           "Outskirt"
          ],
          [
           1535204165,
           "Vashon",
           510000,
           0.9,
           "large",
           "Above average",
           "Island"
          ],
          [
           9282801450,
           "Seattle",
           361000,
           0.8,
           "xlarge",
           "Below average",
           "City "
          ],
          [
           4037000925,
           "Bellevue",
           650000,
           1,
           "xlarge",
           "Above average",
           "Richie rich"
          ],
          [
           9264910300,
           "Auburn",
           345000,
           0.9,
           "xlarge",
           "Below average",
           "Has Shore"
          ],
          [
           9274200735,
           "Seattle",
           567500,
           0.8,
           "xlarge",
           "Above average",
           "City"
          ],
          [
           5101405338,
           "Seattle",
           452000,
           1.1,
           "xlarge",
           "Below average",
           "City"
          ],
          [
           1066600090,
           "Newcastle",
           519000,
           0.9,
           "xlarge",
           "Below average",
           "Has Shore"
          ],
          [
           2806800120,
           "Bothell",
           400000,
           0.8,
           "xlarge",
           "Below average",
           "Outskirt"
          ],
          [
           4443800785,
           "Seattle",
           481000,
           0.8,
           "large",
           "Above average",
           "City"
          ],
          [
           7923600330,
           "Bellevue",
           520000,
           1,
           "xlarge",
           "Above average",
           "Richie rich"
          ],
          [
           8127700410,
           "Seattle",
           511200,
           1,
           "large",
           "Above average",
           "City"
          ],
          [
           621069218,
           "Covington",
           410000,
           0.9,
           "xlarge",
           "Below average",
           "Outskirt"
          ],
          [
           7579200600,
           "Seattle",
           575000,
           1,
           "large",
           "Above average",
           "City"
          ],
          [
           4058800930,
           "Seattle",
           385000,
           0.9,
           "xlarge",
           "Below average",
           "City "
          ],
          [
           9253900408,
           "Bellevue",
           1400000,
           0.9,
           "xlarge",
           "Top 10",
           "Richie rich"
          ],
          [
           809002290,
           "Seattle",
           1190000,
           0.8,
           "large",
           "Top 10",
           "City"
          ],
          [
           5561400220,
           "Issaquah",
           592500,
           0.9,
           "xlarge",
           "Below average",
           "Wide land"
          ],
          [
           6600220300,
           "Redmond",
           600000,
           0.9,
           "xlarge",
           "Above average",
           "Richie rich"
          ],
          [
           3131201105,
           "Seattle",
           580000,
           0.8,
           "large",
           "Above average",
           "City"
          ],
          [
           1446400615,
           "Burien",
           268000,
           0.9,
           "large",
           "Below average",
           "Outskirt"
          ],
          [
           327000100,
           "Seattle",
           1160000,
           1,
           "xlarge",
           "Above average",
           "City"
          ],
          [
           3297700100,
           "Seattle",
           577000,
           0.8,
           "large",
           "Above average",
           "City"
          ],
          [
           2473370110,
           "Renton",
           370000,
           0.8,
           "large",
           "Below average",
           "Outskirt"
          ],
          [
           7923700330,
           "Bellevue",
           510000,
           1,
           "xlarge",
           "Above average",
           "Richie rich"
          ],
          [
           4077800474,
           "Seattle",
           571500,
           1,
           "large",
           "Above average",
           "City"
          ],
          [
           984200690,
           "Renton",
           299000,
           1,
           "xlarge",
           "Below average",
           "Outskirt"
          ],
          [
           2968801605,
           "Normandy Park",
           285000,
           1,
           "large",
           "Below average",
           "Has Shore"
          ],
          [
           2325039067,
           "Seattle",
           690000,
           0.8,
           "large",
           "Above average",
           "City"
          ],
          [
           9322800210,
           "Seattle",
           879950,
           0.9,
           "xlarge",
           "Above average",
           "City"
          ],
          [
           2201501015,
           "Bellevue",
           430000,
           0.8,
           "large",
           "Below average",
           "Richie rich"
          ],
          [
           3732800495,
           "Seattle",
           429000,
           1,
           "xlarge",
           "Below average",
           "City"
          ],
          [
           8096600100,
           "Bothell",
           455000,
           1,
           "xlarge",
           "Below average",
           "Outskirt"
          ],
          [
           4323700230,
           "Redmond",
           390000,
           0.8,
           "large",
           "Below average",
           "Richie rich"
          ],
          [
           7855600730,
           "Bellevue",
           920000,
           1,
           "xlarge",
           "Above average",
           "Richie rich"
          ],
          [
           130000175,
           "Seattle",
           655000,
           1,
           "xlarge",
           "Below average",
           "City"
          ],
          [
           8643200061,
           "Des Moines",
           235000,
           0.9,
           "xlarge",
           "Below average",
           "Has Shore"
          ],
          [
           7935000450,
           "Seattle",
           1050000,
           0.9,
           "xlarge",
           "Top 10",
           "City"
          ],
          [
           3918400097,
           "Shoreline",
           567000,
           0.8,
           "xlarge",
           "Below average",
           "Has Shore"
          ],
          [
           2988800011,
           "Seattle",
           244000,
           1,
           "xlarge",
           "Below average",
           "City "
          ],
          [
           4174600391,
           "Seattle",
           393000,
           1,
           "large",
           "Below average",
           "City"
          ],
          [
           323049176,
           "Seattle",
           325000,
           1,
           "xlarge",
           "Below average",
           "City"
          ],
          [
           923059206,
           "Newcastle",
           374000,
           0.9,
           "xlarge",
           "Below average",
           "Has Shore"
          ],
          [
           3288301010,
           "Kirkland",
           585000,
           0.9,
           "xlarge",
           "Below average",
           "Richie rich"
          ],
          [
           8563001130,
           "Bellevue",
           654000,
           0.8,
           "xlarge",
           "Below average",
           "Richie rich"
          ],
          [
           3876311490,
           "Kirkland",
           580000,
           0.8,
           "xlarge",
           "Below average",
           "Richie rich"
          ],
          [
           9297300590,
           "Seattle",
           435000,
           0.8,
           "xlarge",
           "Below average",
           "City"
          ],
          [
           1822059156,
           "Kent",
           680000,
           0.8,
           "xlarge",
           "Below average",
           "Outskirt"
          ],
          [
           1224049095,
           "Mercer Island",
           959000,
           1,
           "xlarge",
           "Below average",
           "Richie rich"
          ],
          [
           7899800586,
           "Seattle",
           372000,
           0.8,
           "xlarge",
           "Below average",
           "City"
          ],
          [
           9164100035,
           "Seattle",
           655000,
           1,
           "large",
           "Above average",
           "City"
          ],
          [
           1566100555,
           "Seattle",
           721000,
           0.9,
           "xlarge",
           "Above average",
           "City"
          ],
          [
           3658700395,
           "Seattle",
           628000,
           0.9,
           "large",
           "Above average",
           "City"
          ],
          [
           7977201709,
           "Seattle",
           475000,
           0.8,
           "large",
           "Above average",
           "City"
          ],
          [
           2324039152,
           "Seattle",
           624000,
           0.9,
           "xlarge",
           "Below average",
           "City"
          ],
          [
           7812801785,
           "Seattle",
           221347,
           1,
           "large",
           "Below average",
           "City "
          ],
          [
           5458300580,
           "Seattle",
           478000,
           1,
           "large",
           "Above average",
           "City"
          ],
          [
           9136100056,
           "Seattle",
           875000,
           0.8,
           "xlarge",
           "Above average",
           "City"
          ],
          [
           3019300090,
           "Seattle",
           535000,
           1,
           "xlarge",
           "Below average",
           "City"
          ],
          [
           9297301050,
           "Seattle",
           465000,
           0.8,
           "large",
           "Above average",
           "City"
          ],
          [
           3585300194,
           "Shoreline",
           1400000,
           0.9,
           "xlarge",
           "Above average",
           "Has Shore"
          ],
          [
           6204000040,
           "Bothell",
           608000,
           0.8,
           "xlarge",
           "Below average",
           "Outskirt"
          ],
          [
           5537200043,
           "Burien",
           211000,
           1,
           "xlarge",
           "Below average",
           "Outskirt"
          ],
          [
           868000905,
           "Shoreline",
           950000,
           1,
           "xlarge",
           "Above average",
           "Has Shore"
          ],
          [
           2998300146,
           "Seattle",
           936000,
           1,
           "xlarge",
           "Above average",
           "City"
          ],
          [
           9122001225,
           "Seattle",
           610000,
           0.8,
           "xlarge",
           "Above average",
           "City"
          ],
          [
           4058200915,
           "Seattle",
           324950,
           1,
           "xlarge",
           "Below average",
           "City "
          ],
          [
           3876800580,
           "Woodinville",
           351000,
           1,
           "large",
           "Above average",
           "Richie rich"
          ],
          [
           9282801030,
           "Seattle",
           440000,
           0.9,
           "xlarge",
           "Below average",
           "City "
          ],
          [
           5267000180,
           "Kent",
           299000,
           0.9,
           "xlarge",
           "Below average",
           "Outskirt"
          ],
          [
           3878900464,
           "Seattle",
           229500,
           0.9,
           "large",
           "Below average",
           "City "
          ],
          [
           3472800068,
           "Bellevue",
           968000,
           1,
           "xlarge",
           "Above average",
           "Belle"
          ],
          [
           8928100205,
           "Seattle",
           725000,
           1,
           "large",
           "Above average",
           "City"
          ],
          [
           2473400110,
           "Renton",
           315500,
           0.9,
           "large",
           "Below average",
           "Outskirt"
          ],
          [
           9165100375,
           "Seattle",
           510000,
           1,
           "xlarge",
           "Below average",
           "City"
          ],
          [
           5078400035,
           "Bellevue",
           875000,
           0.8,
           "xlarge",
           "Above average",
           "Belle"
          ],
          [
           984210120,
           "Renton",
           359900,
           0.8,
           "xlarge",
           "Below average",
           "Outskirt"
          ],
          [
           9376301800,
           "Seattle",
           724950,
           1,
           "xlarge",
           "Above average",
           "City"
          ],
          [
           5422560850,
           "Redmond",
           541338,
           1,
           "xlarge",
           "Above average",
           "Richie rich"
          ],
          [
           6821102170,
           "Seattle",
           794154,
           0.8,
           "xlarge",
           "Above average",
           "City"
          ],
          [
           1624049293,
           "Seattle",
           390000,
           1.2,
           "xlarge",
           "Below average",
           "City"
          ],
          [
           1604601804,
           "Seattle",
           532000,
           0.9,
           "xlarge",
           "Below average",
           "City"
          ],
          [
           2888000030,
           "Kirkland",
           500000,
           1,
           "xlarge",
           "Below average",
           "Richie rich"
          ],
          [
           8096800110,
           "Kent",
           345000,
           1,
           "xlarge",
           "Below average",
           "Outskirt"
          ],
          [
           148000475,
           "Seattle",
           1400000,
           0.9,
           "xlarge",
           "Above average",
           "City"
          ],
          [
           1777600850,
           "Bellevue",
           859000,
           0.9,
           "xlarge",
           "Below average",
           "Richie rich"
          ],
          [
           6430500182,
           "Seattle",
           1210000,
           0.8,
           "xlarge",
           "Above average",
           "City"
          ],
          [
           3524039228,
           "Seattle",
           394000,
           1,
           "large",
           "Above average",
           "City"
          ],
          [
           1604601801,
           "Seattle",
           539000,
           1,
           "xlarge",
           "Above average",
           "City"
          ],
          [
           4305600360,
           "Newcastle",
           500012,
           1,
           "xlarge",
           "Below average",
           "Outskirt"
          ],
          [
           9808100150,
           "Bellevue",
           3350000,
           0.8,
           "xlarge",
           "Top 10",
           "Belle"
          ],
          [
           7683800205,
           "Federal Way",
           298450,
           0.8,
           "large",
           "Below average",
           "Outskirt"
          ],
          [
           3333001997,
           "Seattle",
           445000,
           1.7,
           "xlarge",
           "Above average",
           "City"
          ],
          [
           1239400650,
           "Kirkland",
           1240000,
           0.8,
           "xlarge",
           "Above average",
           "Richie rich"
          ],
          [
           1604601803,
           "Seattle",
           525000,
           1,
           "xlarge",
           "Above average",
           "City"
          ],
          [
           200480020,
           "Kirkland",
           770000,
           0.9,
           "xlarge",
           "Above average",
           "Richie rich"
          ],
          [
           123059127,
           "Newcastle",
           625000,
           0.8,
           "xlarge",
           "Below average",
           "Outskirt"
          ],
          [
           2924079034,
           "Fall City",
           332220,
           0.9,
           "xlarge",
           "Below average",
           "Wide land"
          ]
         ],
         "hovertemplate": "<b>%{hovertext}</b><br><br>has_secret_storage=False<br>price=%{customdata[2]}<br>lat=%{lat}<br>long=%{lon}<br>id=%{customdata[0]}<br>city=%{customdata[1]}<br>basement_to_rest_ratio=%{customdata[3]}<br>basement_sizes_string=%{customdata[4]}<br>price_tag_house=%{customdata[5]}<br>classification=%{customdata[6]}<extra></extra>",
         "hovertext": [
          2487200875,
          1736800520,
          6300500875,
          5101402488,
          9435300030,
          7231300125,
          3626039271,
          1802000060,
          4036801170,
          9418400240,
          3362400511,
          6126500060,
          3655000070,
          4027700812,
          1777500060,
          8075400570,
          84000105,
          2617300160,
          2009000370,
          825059270,
          46100204,
          1250202145,
          5152100060,
          2025069065,
          3797001895,
          1105000588,
          7972601890,
          4235400186,
          9412900055,
          9552700140,
          3225069065,
          2747100024,
          4330600350,
          5016001535,
          6414100671,
          7374200030,
          6607000126,
          7855801090,
          2231500030,
          2231500030,
          7375300160,
          3426059070,
          7905370390,
          4140090240,
          1742800030,
          2205700350,
          7806300030,
          9276201895,
          4099500935,
          2525069041,
          461001615,
          4140090320,
          2710600045,
          7527200030,
          766500030,
          1563102435,
          4385700765,
          9323600060,
          8146100270,
          4040800810,
          3814400125,
          7855801610,
          6067900060,
          4037200075,
          6777800160,
          3395050060,
          3327020400,
          6665800060,
          2349300060,
          8566100200,
          7625701891,
          2115200125,
          103000116,
          2465400036,
          7937600830,
          4441300240,
          8113101670,
          8651520510,
          1455100116,
          5469700570,
          1777500160,
          1455600030,
          4310700570,
          2021201000,
          2877101031,
          2771101200,
          6072600200,
          7855300200,
          2485000202,
          6099400030,
          9368700223,
          9834200885,
          9834200885,
          7000100631,
          2484200171,
          3450300240,
          9352900695,
          7135520810,
          9554200105,
          3320000810,
          4055701200,
          3110800260,
          9455200570,
          5561400340,
          1231000510,
          1231000510,
          3885804305,
          8585400135,
          7016310030,
          2636900126,
          5166700055,
          7227802030,
          472000055,
          1926049355,
          3832711040,
          7893804340,
          3759500046,
          766000240,
          2423059104,
          6844703240,
          3526039116,
          7015200685,
          84000335,
          3342700465,
          2205500400,
          1370801331,
          7214700830,
          4473400045,
          6021501920,
          2856102336,
          2771601940,
          5255690060,
          3295700060,
          3288200030,
          6071600270,
          8816400885,
          1250203335,
          8815400105,
          925049360,
          3286800260,
          1310500550,
          7129300935,
          8143000310,
          7922800320,
          5649600435,
          2249500059,
          1773100510,
          9485950060,
          2493200435,
          226039282,
          7883603750,
          5402100045,
          626100023,
          9414100030,
          185000118,
          4358700135,
          7101100055,
          7855000550,
          9560700055,
          9201000320,
          1887500045,
          5505700055,
          8163300320,
          4278900055,
          2126049032,
          3972900160,
          5141000685,
          627300105,
          312000135,
          1370802650,
          1972202080,
          9476200350,
          3619600132,
          434000030,
          7856560320,
          3578400030,
          3760500516,
          9553200125,
          4139420070,
          2175100270,
          9178600135,
          2568300132,
          6159400030,
          7787400030,
          824069121,
          2483200060,
          1355200060,
          7443000640,
          6344000060,
          5149300400,
          269000240,
          1449000270,
          269000070,
          6151800070,
          3971701455,
          4037400295,
          6145601715,
          7471900045,
          7974200776,
          9157600060,
          3810000465,
          3253500030,
          2203500570,
          2346800270,
          5634500036,
          5710600030,
          7304300570,
          4154300465,
          3623029045,
          9477201620,
          3395000070,
          3904100106,
          4443800765,
          1005000036,
          3126049094,
          3797000830,
          7277100640,
          9828202255,
          8722100570,
          292000070,
          9476700135,
          1822079046,
          3286800370,
          7611200136,
          5459500125,
          825059271,
          486000565,
          7272001805,
          4027701294,
          5071401000,
          3760500435,
          9170500060,
          4406000560,
          1257200060,
          2795000060,
          6384500581,
          859000160,
          5021900160,
          393000045,
          8813400405,
          381000110,
          9212900100,
          7598100735,
          1455600015,
          9324800110,
          7227501645,
          7128300855,
          1193000025,
          8732040090,
          5318100504,
          2291401425,
          2144800215,
          5559200051,
          2675600028,
          6896300375,
          5652601425,
          2926049382,
          4027700853,
          2919702235,
          5476200123,
          8900000110,
          2222900082,
          5035300750,
          3271800850,
          7663700261,
          5029450110,
          7915100490,
          6021503830,
          7129304105,
          525049085,
          952003480,
          5014000100,
          3959400855,
          2877102345,
          8576400110,
          2296500131,
          1761300850,
          2917200645,
          8818400490,
          1938400300,
          3438500714,
          8122600245,
          4021700025,
          2473250850,
          7792000025,
          4039701080,
          5249801785,
          2190601055,
          1022069058,
          7905200037,
          9349900110,
          5451200110,
          7518504291,
          9282801720,
          1370803820,
          5249802460,
          8121100265,
          2817800100,
          1322059002,
          5456000110,
          1823049202,
          1823049202,
          3340401570,
          3600057,
          3342700371,
          809000820,
          9460000110,
          1787600164,
          5072300100,
          1828001220,
          369000881,
          7338402690,
          326049058,
          2391600165,
          7228500375,
          793200100,
          2330000015,
          1254200015,
          1254200015,
          5113400535,
          1777500090,
          5130000090,
          5149300100,
          8146300025,
          5611000090,
          1773101340,
          3342700405,
          9276201140,
          7972601280,
          1777600490,
          1877500090,
          5101406489,
          1311000600,
          7740100015,
          2085200261,
          3223049131,
          7905200315,
          9285800755,
          1269200229,
          8035600590,
          5041300100,
          7129302235,
          4036800015,
          9542100165,
          1159100100,
          1725059209,
          514500090,
          5680001095,
          8669400100,
          396100025,
          7977201707,
          9158100090,
          3987700115,
          8073000265,
          8562500690,
          3834500195,
          3298700110,
          6300000337,
          274100090,
          1698900195,
          6071800100,
          5309101050,
          8857600820,
          3864000090,
          5101408593,
          3308030100,
          1887000100,
          1498304065,
          4037800015,
          7738500475,
          5101404563,
          2767705010,
          7549802600,
          7855900110,
          6046401105,
          3505100756,
          868001030,
          4047200265,
          2011400583,
          8718500495,
          3815500165,
          5104450690,
          3874900090,
          9268200300,
          4385700735,
          402000115,
          3335000025,
          5035300090,
          408100110,
          1982200015,
          1245001220,
          7891600245,
          3876312350,
          2126079014,
          475000750,
          5162100820,
          597000195,
          5119010090,
          7345310100,
          5019500215,
          7555210100,
          3886902870,
          2473410690,
          9471201110,
          6788201015,
          4047200300,
          9126101645,
          1180500100,
          2011400019,
          8078370010,
          723069049,
          2592400170,
          2741100280,
          7366100080,
          3211270170,
          7140200380,
          7972601235,
          121029034,
          6072000440,
          1823059028,
          3421069120,
          3583400130,
          2888000020,
          7856410430,
          6744700285,
          6671900130,
          2484200080,
          7952800010,
          1972202005,
          1311500020,
          1086100130,
          7140200280,
          6673050020,
          2785000480,
          2926049400,
          3528900980,
          6979900080,
          7319900345,
          31200020,
          4441300440,
          4204400098,
          4204400098,
          2896600020,
          7011201470,
          6632900574,
          6632900574,
          8078550250,
          6450304600,
          1853200080,
          6421100502,
          7520000440,
          322069109,
          2423069120,
          3723800086,
          6381500635,
          6065300840,
          3423059153,
          7806210380,
          3348401319,
          2013300050,
          2264500425,
          1105000780,
          127100005,
          458000235,
          4019301300,
          807800190,
          3024079063,
          7785000010,
          3213200314,
          9834200950,
          4027700321,
          6820100010,
          3391900130,
          686900010,
          8159300050,
          2113701100,
          9297300255,
          8663280080,
          9834200440,
          6613000585,
          7893202340,
          7522500020,
          1250203860,
          7856640170,
          1523069215,
          1201500010,
          8857310010,
          4364200250,
          6372000101,
          7871500440,
          461004095,
          1422700080,
          2926049408,
          6821101870,
          8854100130,
          2205700345,
          507100020,
          8820900670,
          2925059260,
          9197100263,
          222029026,
          6071200545,
          5379804393,
          6430500233,
          7701800050,
          7878400022,
          2893000280,
          3039000020,
          1873400020,
          9136102057,
          2787310130,
          8899000050,
          3271300345,
          7931000066,
          1681400010,
          3523069008,
          2253200010,
          7855000460,
          6152900402,
          9476200545,
          6338000592,
          2815600305,
          9368700006,
          3867400130,
          7856410020,
          2301400655,
          6204200170,
          8656800190,
          8805900080,
          224069102,
          6616000010,
          8901000911,
          4036800170,
          7971300020,
          1433500050,
          3303870050,
          3322049005,
          1196000007,
          7950302210,
          5072100095,
          2570300130,
          1245500950,
          2212500430,
          4046501300,
          4038700380,
          5700002125,
          1200019,
          4112100101,
          4302200415,
          6190701112,
          3856900005,
          6819100345,
          6083000050,
          686100380,
          507100005,
          2919702040,
          3095000095,
          7549800168,
          3226049466,
          7979900006,
          3558900430,
          1430800279,
          6821600005,
          9359100101,
          2872900280,
          7937600380,
          9828200545,
          1377300020,
          7997200130,
          9517200290,
          7715600050,
          8069000216,
          3401700255,
          4083306720,
          3438500797,
          3224510290,
          6072500050,
          1066000290,
          2114300290,
          5130000080,
          868002335,
          2487700130,
          6154900095,
          7936000403,
          8645540290,
          7613700660,
          6868200029,
          1326049130,
          3946900010,
          126049167,
          1525079069,
          1924069071,
          9346910500,
          4477000290,
          8127700440,
          5561400440,
          2297400250,
          6373000130,
          1311200460,
          7844200425,
          9407001330,
          7905370440,
          3992700585,
          8937500020,
          8917100020,
          2770600795,
          3336001470,
          1591600307,
          7130300170,
          2223069120,
          3459600440,
          6914700130,
          5451200280,
          582000010,
          3824100235,
          8732020440,
          8562500380,
          2655500235,
          3526059115,
          1722069052,
          3178100065,
          9310300300,
          461002150,
          3886902950,
          3883100220,
          2207200405,
          3288301050,
          2121000300,
          4077800026,
          3644100065,
          7818700410,
          7183000120,
          1022059123,
          2520069100,
          9238480120,
          626049058,
          8085400355,
          6169900580,
          3179101945,
          8827900690,
          3579700100,
          3352400330,
          9274204230,
          4058200985,
          3904100220,
          461002615,
          3332000530,
          7866000158,
          8084900195,
          4139420590,
          4139420590,
          524069101,
          9191200490,
          9459200110,
          3575304895,
          6071800410,
          1931300035,
          2770601800,
          5309100515,
          2113700115,
          5101400838,
          3886903155,
          8150600195,
          4022902260,
          6021500025,
          4134300175,
          1311910300,
          3390600025,
          1924059029,
          3959401880,
          1099900120,
          1545801970,
          9273200115,
          5249803550,
          7856601110,
          1121039059,
          797000256,
          5021900175,
          4038700220,
          4315701163,
          4157600120,
          3438500781,
          9268200315,
          4358700141,
          7844200120,
          7841300535,
          8562901250,
          3601800580,
          3726800201,
          13002460,
          4364700945,
          1924059254,
          2172000846,
          514500195,
          1310980580,
          6600220150,
          4343800100,
          1824059079,
          8948500025,
          2123700100,
          4038800580,
          1250202324,
          5127000410,
          9376301520,
          5366200330,
          984210590,
          3904100065,
          4077800088,
          5101404444,
          6329000705,
          5379805160,
          2523069146,
          6822100750,
          7550801207,
          2450500110,
          5101405340,
          2734100065,
          9178600360,
          6126601445,
          7812800515,
          4246000180,
          7520000616,
          5067400032,
          5459300040,
          7855200120,
          2306400040,
          9191201250,
          7855400330,
          8833510230,
          7229800175,
          2524049257,
          8645500900,
          9285800801,
          3750607974,
          2788500090,
          3750603940,
          269000615,
          3101500090,
          3447000090,
          2223069112,
          2114700540,
          5652601035,
          3524039202,
          2570500230,
          4302700559,
          2883200961,
          1126049095,
          9530101385,
          7243500015,
          5035300650,
          2675600025,
          8146300015,
          267020090,
          1623301185,
          4151800410,
          8731900790,
          1311100490,
          8679600150,
          6746700615,
          3222049055,
          1222069133,
          9165100230,
          4174600331,
          7202000220,
          259600530,
          5351200265,
          4449800315,
          7856400410,
          9541600490,
          7352200025,
          8835400805,
          3876310300,
          2523400205,
          424059100,
          5112800042,
          579002870,
          2461900790,
          5035300572,
          6415100410,
          1328300040,
          179001425,
          5469300330,
          4083302485,
          7857000716,
          4302201005,
          2125059123,
          5149800040,
          6117501755,
          2769600590,
          3735901080,
          9144300110,
          5423600100,
          4037500110,
          6073300750,
          7200001254,
          3904100035,
          3331500820,
          1787600165,
          2742100085,
          686530110,
          5151600530,
          5649000150,
          5035300085,
          6187700501,
          7011201550,
          4040700310,
          5561100431,
          5426300060,
          2894700270,
          2862100260,
          1446801000,
          4038700830,
          4400200060,
          9350900550,
          5398600075,
          7272000260,
          3583300075,
          5153200358,
          5700002325,
          2818100060,
          7856700060,
          7779200075,
          3438502200,
          2887700560,
          1923800135,
          7230300060,
          4364200125,
          4440400125,
          2896000710,
          9345400350,
          3034200435,
          3447000060,
          7767000060,
          3224059033,
          2624049050,
          4046700140,
          8665900070,
          3438501662,
          3298600340,
          1921059235,
          1995200200,
          1995200200,
          1311600030,
          2771600350,
          2473250400,
          2472950350,
          2323089065,
          1172000135,
          6821101895,
          4167700240,
          3361402041,
          4415600030,
          2205500335,
          3294700421,
          2570300240,
          2976800700,
          8001450060,
          9542600070,
          1223039195,
          7525300260,
          7715600070,
          7954000125,
          7856610160,
          5015000700,
          7504000510,
          3544400045,
          2518400046,
          1081330030,
          597000566,
          6145601890,
          4279900140,
          2204500550,
          7390400069,
          3317500070,
          269001331,
          7774200070,
          2600110560,
          6411600370,
          269000030,
          871000435,
          217500140,
          8825900465,
          7625704500,
          3260000570,
          2205500030,
          381000240,
          1250200786,
          1176000390,
          5332200320,
          1652500060,
          9368700270,
          9828201920,
          5152700060,
          8731901610,
          2044500152,
          6065300570,
          513000445,
          2162000260,
          3243200310,
          4459800075,
          7153200160,
          7604410030,
          2144800311,
          7922900030,
          1423069129,
          4037000160,
          2592200030,
          5154700060,
          414100045,
          3701000060,
          8955800045,
          8859000045,
          6163901433,
          7936500172,
          8567300270,
          2141200030,
          6002400030,
          3392500060,
          5467200055,
          9414610320,
          7567600030,
          9424400105,
          8718500260,
          6154900070,
          5592900105,
          1005000240,
          7950303290,
          4077800376,
          2461900550,
          5101402435,
          5101402435,
          5035300570,
          2887701940,
          2207000060,
          9530101290,
          9536601331,
          323059208,
          4141800030,
          7116500125,
          5119400075,
          2225059240,
          207500012,
          2207500200,
          986000045,
          3365900041,
          3389900800,
          1523069128,
          6071000030,
          1938000140,
          1923300135,
          5056500260,
          3260701160,
          2028701000,
          1546600565,
          9297301535,
          2492200055,
          4338800685,
          5100403754,
          1796200140,
          3878900681,
          7635801370,
          9353301070,
          7987400316,
          6821101275,
          7518502030,
          4078300024,
          6071000310,
          7577700136,
          9560500105,
          4039300140,
          1498301672,
          475001000,
          4139420640,
          7258200060,
          1118001360,
          2998300060,
          7504020960,
          6822100310,
          7856410030,
          6383500295,
          3589500260,
          1775920340,
          3124049196,
          1066100260,
          224069129,
          8964800390,
          9530101535,
          2493200370,
          9441300030,
          6071300160,
          6884800262,
          3211100990,
          5288200260,
          2816900030,
          7806210070,
          1432900310,
          8920100041,
          5457801925,
          3343903240,
          1498303855,
          7214810510,
          6385800030,
          4154303215,
          6708200320,
          3575200030,
          8031700186,
          7625702505,
          1775950030,
          1842100160,
          4365200055,
          3644100030,
          254000075,
          7529500030,
          7519001275,
          5430300171,
          5430300171,
          7287700059,
          6746701090,
          3760100200,
          9206950200,
          1311400350,
          9221400335,
          2172000570,
          1471701200,
          1217000340,
          1217000340,
          9468200163,
          2624049035,
          8098400135,
          8082400136,
          4037500230,
          5315100476,
          1794501415,
          9297301065,
          6446200175,
          2899200040,
          2644900149,
          1562000120,
          272000220,
          6819100150,
          430000035,
          1623049133,
          8665900206,
          2070100040,
          526059122,
          5249804655,
          1424200035,
          5460500040,
          4078300040,
          2205500355,
          9828701085,
          2789000120,
          7247000035,
          7349650120,
          9269200540,
          6362900145,
          7663700968,
          1262700040,
          4157600180,
          524059241,
          9238500040,
          9238500040,
          1868900035,
          6795100589,
          930000234,
          3867400175,
          5379800040,
          3344500085,
          3223059123,
          3920000040,
          5647900650,
          6154900065,
          3244500158,
          2978800120,
          5101400871,
          5561400610,
          5700000905,
          7986400180,
          1250201175,
          2331300395,
          8122600145,
          629000410,
          9550202700,
          7923100410,
          7229900925,
          4058802300,
          9528102060,
          2490200450,
          3321079060,
          1523049207,
          1523049207,
          7697800040,
          624110610,
          822069029,
          1115700040,
          1005000220,
          9144100035,
          625049318,
          2215500205,
          6813600365,
          627300145,
          2970800145,
          5561720180,
          3126049052,
          3726800220,
          2843200085,
          9279200910,
          5093301285,
          524069020,
          624069003,
          1115100119,
          2525049246,
          203101210,
          8121100325,
          1624049170,
          204000175,
          7942600975,
          3121069038,
          3025059124,
          251500330,
          1900600040,
          9269200150,
          1068000559,
          259800610,
          5561300540,
          5249803010,
          5459500145,
          622049106,
          7131300063,
          2807100155,
          8860300220,
          8854000410,
          3344500183,
          7129800063,
          2122700120,
          4039700870,
          6837700175,
          3797000330,
          8024202170,
          427000065,
          2207200455,
          4058801575,
          1604600085,
          5706200360,
          8122100355,
          5249803185,
          1598600209,
          9201000610,
          7525410120,
          1862400087,
          8898700120,
          1242700035,
          1219000043,
          7338402160,
          3024059044,
          8832900155,
          3448000344,
          7855800730,
          7881500330,
          3874010220,
          3526039101,
          7284900385,
          952001765,
          1175001135,
          4008400035,
          4074300150,
          1777600210,
          4058800925,
          6790600790,
          3031200230,
          6372000155,
          3329520410,
          6300500183,
          7857004225,
          4388000120,
          3325059177,
          5318101075,
          7200001608,
          923000120,
          4364700730,
          6021502300,
          2607801120,
          2769602710,
          6071300180,
          1326049170,
          65000085,
          2301400325,
          1562100220,
          1504800097,
          1061500360,
          1254200835,
          8562700410,
          7857001225,
          5249802520,
          1313000220,
          2946002914,
          7856640180,
          632000065,
          6821101765,
          4083300620,
          8122100905,
          871001484,
          726049213,
          3832500790,
          123039207,
          3426049124,
          4222500410,
          431500155,
          3345100286,
          8562901830,
          8608900205,
          8712100760,
          1025059186,
          1180005280,
          1254201106,
          5460900120,
          2112700845,
          7436200040,
          3835502815,
          3459600330,
          546001020,
          3421049044,
          3585900665,
          4034900065,
          4058800500,
          3500100089,
          7855400630,
          7214400095,
          585000095,
          1423069063,
          4027700396,
          3627800050,
          3856901760,
          7011201087,
          8638500170,
          9541800190,
          8924600020,
          4003000285,
          290000095,
          461002890,
          2597300020,
          9276200635,
          3444120130,
          7424110130,
          626049102,
          1529200480,
          726049217,
          7229900285,
          3832700250,
          3025049028,
          2848700095,
          3625059109,
          1929300415,
          7625701900,
          6372000190,
          9320500080,
          3142600130,
          1565600130,
          4384000020,
          2922701305,
          4037800020,
          3422049088,
          6433000050,
          59000250,
          5113400364,
          5100404761,
          7148700050,
          8819900170,
          4060000020,
          3992700048,
          2968800010,
          1024000050,
          624069108,
          7147600225,
          7922720250,
          3459900305,
          461005435,
          1818800235,
          1245000500,
          1257200290,
          126059005,
          1156000250,
          8650000250,
          3010300415,
          8963300005,
          13001795,
          9542000275,
          8141200080,
          3585900190,
          3582900280,
          9315600050,
          8824900050,
          2710600080,
          4219401236,
          751000080,
          1193000480,
          6332000050,
          7403200050,
          9460000010,
          4222700130,
          2423039134,
          3296000170,
          5561000420,
          7922800190,
          4083802425,
          5538300460,
          7625700305,
          7305300470,
          2296700050,
          4122900190,
          7784400130,
          259601100,
          8815400670,
          8651442910,
          5135000170,
          8155500020,
          1424059130,
          3885801190,
          2769602140,
          5152920170,
          3982700250,
          8026200080,
          8854000010,
          4023500352,
          9285800585,
          5727500561,
          7527410080,
          1236300307,
          3812400898,
          5652600427,
          5297200089,
          7855600080,
          5113400168,
          5559200020,
          1214000050,
          4027700009,
          8731960050,
          5652600605,
          6329000190,
          3083000048,
          2741100741,
          4452300130,
          9323600280,
          3438500114,
          6414100231,
          7905380080,
          5145100460,
          9542100005,
          4037000185,
          3023059071,
          1431700280,
          9412200080,
          7972601100,
          3291800670,
          6190700284,
          7419700010,
          2621750280,
          1423910670,
          9804500420,
          1568100670,
          9250900104,
          9250900104,
          623039026,
          5113000420,
          3971701300,
          798000630,
          2294900010,
          625049153,
          191100250,
          9547205380,
          2008000420,
          3222079120,
          2473250280,
          5456000280,
          5592900285,
          461001435,
          7922900250,
          1370802335,
          7518503220,
          2201500680,
          4022902555,
          7385300020,
          5016002275,
          9523102040,
          5538300225,
          3888100029,
          4364700585,
          3293700480,
          3975400185,
          8731950080,
          2475900170,
          2008000130,
          930000305,
          2215500080,
          3392900080,
          2112700185,
          5518800010,
          3645100280,
          582000185,
          5469501410,
          4107100190,
          6072000380,
          475000605,
          3336000050,
          7883601155,
          7173700591,
          2524049108,
          1552800280,
          7016300050,
          1024069063,
          2491200050,
          7893801760,
          2769602135,
          3448002285,
          868001435,
          3971700670,
          4154304505,
          2436700280,
          4146800050,
          7525900050,
          3783100080,
          5459000305,
          4122900020,
          4154303125,
          2487200279,
          4038700680,
          6392003810,
          7806210250,
          4127000050,
          8815400020,
          1742800430,
          7387500235,
          7387500235,
          1467400095,
          8081020380,
          5700002285,
          6822100305,
          9117100130,
          2425700022,
          8127700210,
          2771604791,
          9277200065,
          5315101728,
          1923300315,
          7347600490,
          2267000485,
          1093000090,
          3222049151,
          620079042,
          1423069076,
          1786830090,
          226039317,
          924069042,
          1422059039,
          1705400361,
          3449500035,
          2599700040,
          5592900205,
          2922701175,
          1951800580,
          6788201781,
          2600100300,
          424049039,
          1226039058,
          2770605175,
          5495200040,
          3096000040,
          3579800405,
          162500015,
          7340600735,
          9289900065,
          7589200153,
          2516000515,
          3975400085,
          8952900245,
          952000925,
          8151600941,
          3396800120,
          9826701765,
          8624700015,
          7520000330,
          7280300375,
          2558640110,
          2998800040,
          7658600150,
          9191201385,
          7589200165,
          1924059278,
          3142600120,
          3024079096,
          7986400265,
          3959400645,
          2579500110,
          7931000053,
          8074400035,
          7625701386,
          1311800040,
          1180008355,
          5210200184,
          3438501452,
          4302200625,
          142000175,
          7519001321,
          8024202380,
          421069081,
          5561000330,
          1370803445,
          2193320450,
          7923250090,
          1982201485,
          5145100300,
          3279000120,
          6448000100,
          1870400615,
          2457200120,
          1245001295,
          3760500455,
          3600072,
          1560800110,
          324069058,
          8935100100,
          1079450410,
          1386800054,
          6814600150,
          5122400025,
          9297300750,
          2485000076,
          1189000910,
          4443801340,
          6378500230,
          518000040,
          4242900245,
          1231001130,
          1105000360,
          1724079048,
          9169600209,
          1919800090,
          4038200120,
          8902000175,
          582000065,
          4038400150,
          9834200365,
          6909700040,
          4147200040,
          8807810110,
          4027700930,
          1535204165,
          9282801450,
          4037000925,
          9264910300,
          9274200735,
          5101405338,
          1066600090,
          2806800120,
          4443800785,
          7923600330,
          8127700410,
          621069218,
          7579200600,
          4058800930,
          9253900408,
          809002290,
          5561400220,
          6600220300,
          3131201105,
          1446400615,
          327000100,
          3297700100,
          2473370110,
          7923700330,
          4077800474,
          984200690,
          2968801605,
          2325039067,
          9322800210,
          2201501015,
          3732800495,
          8096600100,
          4323700230,
          7855600730,
          130000175,
          8643200061,
          7935000450,
          3918400097,
          2988800011,
          4174600391,
          323049176,
          923059206,
          3288301010,
          8563001130,
          3876311490,
          9297300590,
          1822059156,
          1224049095,
          7899800586,
          9164100035,
          1566100555,
          3658700395,
          7977201709,
          2324039152,
          7812801785,
          5458300580,
          9136100056,
          3019300090,
          9297301050,
          3585300194,
          6204000040,
          5537200043,
          868000905,
          2998300146,
          9122001225,
          4058200915,
          3876800580,
          9282801030,
          5267000180,
          3878900464,
          3472800068,
          8928100205,
          2473400110,
          9165100375,
          5078400035,
          984210120,
          9376301800,
          5422560850,
          6821102170,
          1624049293,
          1604601804,
          2888000030,
          8096800110,
          148000475,
          1777600850,
          6430500182,
          3524039228,
          1604601801,
          4305600360,
          9808100150,
          7683800205,
          3333001997,
          1239400650,
          1604601803,
          200480020,
          123059127,
          2924079034
         ],
         "lat": [
          47.5208,
          47.6007,
          47.7025,
          47.695,
          47.6621,
          47.4934,
          47.6989,
          47.6303,
          47.6034,
          47.5474,
          47.6823,
          47.5474,
          47.3309,
          47.7689,
          47.5707,
          47.3887,
          47.4877,
          47.4582,
          47.408,
          47.6627,
          47.5673,
          47.5884,
          47.3376,
          47.6338,
          47.6846,
          47.5405,
          47.5278,
          47.6601,
          47.5362,
          47.5461,
          47.6053,
          47.6933,
          47.476000000000006,
          47.6239,
          47.7222,
          47.7713,
          47.543,
          47.5651,
          47.7711,
          47.7711,
          47.5976,
          47.7015,
          47.7206,
          47.7691,
          47.4904,
          47.5772,
          47.3841,
          47.5789,
          47.5885,
          47.6277,
          47.682,
          47.7679,
          47.6759,
          47.5896,
          47.3664,
          47.5671,
          47.6374,
          47.5511,
          47.6051,
          47.6188,
          47.6101,
          47.5619,
          47.5433,
          47.6061,
          47.3748,
          47.7738,
          47.3122,
          47.6652,
          47.5507,
          47.5368,
          47.5499,
          47.5353,
          47.6733,
          47.6597,
          47.4417,
          47.6972,
          47.5491,
          47.6471,
          47.7289,
          47.3908,
          47.5702,
          47.7293,
          47.7008,
          47.6327,
          47.6769,
          47.6542,
          47.5415,
          47.5634,
          47.5262,
          47.477,
          47.5042,
          47.572,
          47.572,
          47.5831,
          47.5252,
          47.5008,
          47.5175,
          47.5283,
          47.7,
          47.5965,
          47.7165,
          47.4142,
          47.7021,
          47.4599,
          47.5554,
          47.5554,
          47.6851,
          47.679,
          47.7419,
          47.7757,
          47.5559,
          47.5102,
          47.6859,
          47.7338,
          47.3661,
          47.4132,
          47.6984,
          47.361,
          47.4674,
          47.6948,
          47.6925,
          47.6491,
          47.4851,
          47.524,
          47.5765,
          47.6408,
          47.7597,
          47.5959,
          47.6876,
          47.6785,
          47.6378,
          47.7752,
          47.559,
          47.7321,
          47.5491,
          47.6684,
          47.5947,
          47.6743,
          47.6694,
          47.4961,
          47.3627,
          47.5119,
          47.7289,
          47.588,
          47.5536,
          47.6273,
          47.5588,
          47.3473,
          47.5275,
          47.7735,
          47.5283,
          47.3084,
          47.7201,
          47.652,
          47.495,
          47.7076,
          47.6738,
          47.5671,
          47.5866,
          47.584,
          47.308,
          47.5707,
          47.5133,
          47.6053,
          47.7231,
          47.7659,
          47.56,
          47.5854,
          47.558,
          47.6391,
          47.6513,
          47.4891,
          47.7235,
          47.6768,
          47.5566,
          47.6211,
          47.7022,
          47.6991,
          47.555,
          47.5826,
          47.6545,
          47.7029,
          47.7447,
          47.6003,
          47.5833,
          47.5215,
          47.7119,
          47.6508,
          47.6255,
          47.3287,
          47.6456,
          47.6299,
          47.6466,
          47.3402,
          47.769,
          47.6049,
          47.7027,
          47.4799,
          47.6792,
          47.7229,
          47.4974,
          47.5744,
          47.5674,
          47.5159,
          47.7482,
          47.5328,
          47.7416,
          47.5615,
          47.4464,
          47.7278,
          47.6444,
          47.5327,
          47.68600000000001,
          47.5359,
          47.6965,
          47.68600000000001,
          47.7701,
          47.6158,
          47.6381,
          47.6005,
          47.4883,
          47.3944,
          47.4952,
          47.7159,
          47.5726,
          47.674,
          47.6765,
          47.3995,
          47.7669,
          47.6935,
          47.6987,
          47.69300000000001,
          47.4278,
          47.6754,
          47.7736,
          47.5688,
          47.5252,
          47.5768,
          47.5086,
          47.664,
          47.6788,
          47.6872,
          47.566,
          47.7288,
          47.7336,
          47.4947,
          47.5961,
          47.6497,
          47.3078,
          47.633,
          47.7074,
          47.4866,
          47.3224,
          47.6993,
          47.5259,
          47.6955,
          47.7055,
          47.7705,
          47.6896,
          47.5077,
          47.6474,
          47.7703,
          47.6536,
          47.6474,
          47.7326,
          47.2914,
          47.5747,
          47.6838,
          47.5183,
          47.6782,
          47.566,
          47.5734,
          47.5631,
          47.6787,
          47.4388,
          47.5135,
          47.3967,
          47.7013,
          47.6645,
          47.3174,
          47.551,
          47.5378,
          47.7589,
          47.4562,
          47.1986,
          47.6134,
          47.5658,
          47.2877,
          47.4116,
          47.5709,
          47.5707,
          47.5347,
          47.6815,
          47.5019,
          47.6408,
          47.5616,
          47.5691,
          47.4286,
          47.4012,
          47.5743,
          47.4869,
          47.4869,
          47.4667,
          47.5803,
          47.5243,
          47.6347,
          47.4878,
          47.7248,
          47.4438,
          47.6567,
          47.6557,
          47.5329,
          47.7632,
          47.5641,
          47.6112,
          47.5979,
          47.6116,
          47.681,
          47.681,
          47.6452,
          47.5707,
          47.7614,
          47.3261,
          47.6073,
          47.7743,
          47.5532,
          47.5265,
          47.5807,
          47.5298,
          47.569,
          47.6473,
          47.7015,
          47.3426,
          47.7458,
          47.3972,
          47.4416,
          47.5691,
          47.5696,
          47.3907,
          47.4141,
          47.6483,
          47.5135,
          47.6031,
          47.5911,
          47.5018,
          47.6553,
          47.5877,
          47.5738,
          47.6472,
          47.7461,
          47.6854,
          47.7219,
          47.5334,
          47.5101,
          47.6715,
          47.7226,
          47.5237,
          47.7056,
          47.3733,
          47.6418,
          47.54600000000001,
          47.6769,
          47.383,
          47.5512,
          47.7046,
          47.3626,
          47.7452,
          47.58600000000001,
          47.6112,
          47.7473,
          47.6975,
          47.6719,
          47.55,
          47.56800000000001,
          47.6911,
          47.5811,
          47.7027,
          47.7728,
          47.397,
          47.7396,
          47.7618,
          47.4612,
          47.5461,
          47.697,
          47.6371,
          47.5305,
          47.5565,
          47.6536,
          47.7505,
          47.6648,
          47.6891,
          47.5662,
          47.7354,
          47.719,
          47.6667,
          47.341,
          47.5768,
          47.5052,
          47.2802,
          47.5798,
          47.6499,
          47.6835,
          47.4464,
          47.6716,
          47.6408,
          47.7725,
          47.6089,
          47.5003,
          47.397,
          47.76300000000001,
          47.497,
          47.7161,
          47.5576,
          47.4715,
          47.3059,
          47.37,
          47.5285,
          47.3312,
          47.5459,
          47.4809,
          47.2604,
          47.7412,
          47.7212,
          47.5601,
          47.7437,
          47.74,
          47.5245,
          47.7387,
          47.6526,
          47.3385,
          47.6625,
          47.369,
          47.4608,
          47.6069,
          47.7109,
          47.6406,
          47.6306,
          47.5772,
          47.5709,
          47.6964,
          47.4887,
          47.4887,
          47.7226,
          47.6364,
          47.7372,
          47.7372,
          47.4038,
          47.7313,
          47.7119,
          47.6708,
          47.4963,
          47.4206,
          47.4633,
          47.5518,
          47.731,
          47.5701,
          47.4319,
          47.2924,
          47.4964,
          47.3924,
          47.65,
          47.5391,
          47.7744,
          47.6886,
          47.7584,
          47.3594,
          47.5435,
          47.5763,
          47.6723,
          47.572,
          47.7759,
          47.6833,
          47.3282,
          47.6348,
          47.4005,
          47.5291,
          47.5696,
          47.7103,
          47.5747,
          47.6605,
          47.4182,
          47.6862,
          47.5886,
          47.5706,
          47.4853,
          47.6627,
          47.6118,
          47.5296,
          47.5811,
          47.6429,
          47.681,
          47.4681,
          47.7058,
          47.6515,
          47.7469,
          47.5774,
          47.7775,
          47.7175,
          47.6249,
          47.3752,
          47.4285,
          47.5563,
          47.451,
          47.6894,
          47.4088,
          47.4879,
          47.4119,
          47.7025,
          47.7565,
          47.6662,
          47.4107,
          47.4558,
          47.6493,
          47.4234,
          47.6737,
          47.4375,
          47.5112,
          47.5654,
          47.7636,
          47.4919,
          47.67,
          47.5506,
          47.5055,
          47.5925,
          47.5643,
          47.6802,
          47.7352,
          47.6724,
          47.6428,
          47.5898,
          47.5542,
          47.7083,
          47.6019,
          47.6162,
          47.6191,
          47.3329,
          47.354,
          47.3408,
          47.565,
          47.4426,
          47.7166,
          47.6918,
          47.3343,
          47.695,
          47.61600000000001,
          47.5755,
          47.4444,
          47.5517,
          47.5257,
          47.7551,
          47.6721,
          47.6465,
          47.4868,
          47.6297,
          47.7775,
          47.6886,
          47.5561,
          47.5549,
          47.6946,
          47.7481,
          47.7091,
          47.4738,
          47.6501,
          47.5817,
          47.6268,
          47.4353,
          47.6155,
          47.6438,
          47.6949,
          47.7609,
          47.719,
          47.5102,
          47.7275,
          47.6489,
          47.55,
          47.5604,
          47.5456,
          47.6198,
          47.536,
          47.7612,
          47.7039,
          47.5237,
          47.7042,
          47.5536,
          47.4639,
          47.6589,
          47.7129,
          47.7422,
          47.6928,
          47.7627,
          47.6469,
          47.5516,
          47.5627,
          47.4603,
          47.6417,
          47.4598,
          47.7177,
          47.5762,
          47.3395,
          47.4286,
          47.4459,
          47.7212,
          47.7131,
          47.3301,
          47.6307,
          47.648,
          47.5255,
          47.4993,
          47.511,
          47.4649,
          47.56,
          47.6997,
          47.5342,
          47.6538,
          47.771,
          47.3131,
          47.674,
          47.576,
          47.6895,
          47.4009,
          47.6743,
          47.7385,
          47.6816,
          47.6839,
          47.4171,
          47.601000000000006,
          47.7336,
          47.7307,
          47.7081,
          47.592,
          47.6913,
          47.33600000000001,
          47.4126,
          47.1924,
          47.7726,
          47.7753,
          47.6363,
          47.6301,
          47.6753,
          47.67,
          47.7325,
          47.5039,
          47.5859,
          47.5044,
          47.5317,
          47.6827,
          47.551,
          47.5468,
          47.6322,
          47.5521,
          47.5521,
          47.5936,
          47.6702,
          47.5541,
          47.622,
          47.5473,
          47.657,
          47.6501,
          47.6795,
          47.53100000000001,
          47.6914,
          47.6839,
          47.5491,
          47.7682,
          47.6902,
          47.5571,
          47.3351,
          47.5331,
          47.557,
          47.5629,
          47.4685,
          47.3594,
          47.5914,
          47.5655,
          47.5641,
          47.3276,
          47.5102,
          47.5763,
          47.61600000000001,
          47.5373,
          47.5915,
          47.5508,
          47.6964,
          47.708,
          47.4298,
          47.4749,
          47.6086,
          47.381,
          47.5721,
          47.5211,
          47.5261,
          47.5479,
          47.4918,
          47.589,
          47.3641,
          47.6305,
          47.7201,
          47.5705,
          47.4952,
          47.5271,
          47.6141,
          47.5882,
          47.4768,
          47.6859,
          47.6088,
          47.4371,
          47.5341,
          47.7058,
          47.6969,
          47.5017,
          47.448,
          47.4511,
          47.6474,
          47.6727,
          47.584,
          47.701,
          47.5445,
          47.6572,
          47.5583,
          47.4971,
          47.5728,
          47.4962,
          47.3716,
          47.5731,
          47.5627,
          47.6587,
          47.6691,
          47.5667,
          47.7678,
          47.4739,
          47.5453,
          47.464,
          47.5686,
          47.2702,
          47.505,
          47.2633,
          47.6426,
          47.573,
          47.5716,
          47.4655,
          47.5327,
          47.6973,
          47.5257,
          47.7743,
          47.5291,
          47.6844,
          47.7609,
          47.666,
          47.5299,
          47.6514,
          47.6993,
          47.6078,
          47.6301,
          47.6827,
          47.6643,
          47.313,
          47.3381,
          47.7005,
          47.6675,
          47.3554,
          47.4039,
          47.6814,
          47.5552,
          47.7,
          47.632,
          47.6145,
          47.6899,
          47.5603,
          47.5963,
          47.7134,
          47.5445,
          47.7283,
          47.5573,
          47.5897,
          47.4496,
          47.6992,
          47.5506,
          47.6523,
          47.7303,
          47.4414,
          47.4928,
          47.374,
          47.6546,
          47.5508,
          47.5272,
          47.6451,
          47.3326,
          47.4409,
          47.6732,
          47.688,
          47.7618,
          47.6796,
          47.6074,
          47.5388,
          47.6812,
          47.5351,
          47.5521,
          47.7244,
          47.5556,
          47.6651,
          47.337,
          47.726000000000006,
          47.6534,
          47.7765,
          47.637,
          47.6226,
          47.4576,
          47.6322,
          47.3792,
          47.6681,
          47.4935,
          47.6148,
          47.6236,
          47.5787,
          47.5691,
          47.3979,
          47.7422,
          47.3305,
          47.5759,
          47.6995,
          47.565,
          47.4899,
          47.542,
          47.6886,
          47.6853,
          47.4712,
          47.5304,
          47.5035,
          47.6748,
          47.5806,
          47.7169,
          47.5722,
          47.5758,
          47.5266,
          47.5348,
          47.6895,
          47.7655,
          47.5456,
          47.2983,
          47.2898,
          47.6966,
          47.6966,
          47.3413,
          47.6424,
          47.4573,
          47.4292,
          47.4626,
          47.6948,
          47.651,
          47.3263,
          47.4961,
          47.4531,
          47.5774,
          47.4713,
          47.7182,
          47.5035,
          47.3211,
          47.5982,
          47.4959,
          47.5886,
          47.7183,
          47.5793,
          47.56100000000001,
          47.6268,
          47.6318,
          47.6885,
          47.5094,
          47.4693,
          47.5763,
          47.7027,
          47.5008,
          47.5729,
          47.4869,
          47.5606,
          47.6398,
          47.4938,
          47.5515,
          47.7153,
          47.646,
          47.6506,
          47.7358,
          47.6746,
          47.5434,
          47.6045,
          47.5762,
          47.6789,
          47.5979,
          47.6711,
          47.6284,
          47.63399999999999,
          47.503,
          47.6163,
          47.34,
          47.3112,
          47.7137,
          47.5697,
          47.5758,
          47.5585,
          47.4869,
          47.6902,
          47.6133,
          47.5528,
          47.4858,
          47.5868,
          47.4816,
          47.603,
          47.5491,
          47.525,
          47.7466,
          47.7431,
          47.3628,
          47.4961,
          47.753,
          47.5495,
          47.4067,
          47.5639,
          47.4909,
          47.4435,
          47.3616,
          47.5219,
          47.5022,
          47.5655,
          47.7397,
          47.7032,
          47.4835,
          47.5357,
          47.5635,
          47.7048,
          47.5507,
          47.6942,
          47.6942,
          47.6521,
          47.6856,
          47.5765,
          47.6659,
          47.3594,
          47.5091,
          47.615,
          47.3025,
          47.3881,
          47.6368,
          47.6382,
          47.6392,
          47.5059,
          47.4738,
          47.5628,
          47.48,
          47.5576,
          47.5876,
          47.6867,
          47.5443,
          47.3106,
          47.6766,
          47.636,
          47.5659,
          47.5354,
          47.4791,
          47.69600000000001,
          47.3516,
          47.5078,
          47.4695,
          47.4922,
          47.5732,
          47.6531,
          47.6767,
          47.7081,
          47.56,
          47.5696,
          47.588,
          47.6071,
          47.5858,
          47.6662,
          47.5511,
          47.5141,
          47.6324,
          47.5751,
          47.6319,
          47.6495,
          47.5641,
          47.6969,
          47.6699,
          47.7406,
          47.5212,
          47.6169,
          47.591,
          47.6201,
          47.6663,
          47.5274,
          47.7235,
          47.5547,
          47.6873,
          47.4804,
          47.5599,
          47.5001,
          47.2933,
          47.4579,
          47.5907,
          47.6295,
          47.5092,
          47.5841,
          47.7563,
          47.4676,
          47.567,
          47.768,
          47.6206,
          47.6838,
          47.5496,
          47.7578,
          47.6692,
          47.5237,
          47.5917,
          47.5134,
          47.5525,
          47.6864,
          47.6819,
          47.6819,
          47.7611,
          47.6637,
          47.7097,
          47.5364,
          47.3417,
          47.6746,
          47.4875,
          47.4596,
          47.455,
          47.455,
          47.6794,
          47.54,
          47.5081,
          47.6829,
          47.6095,
          47.5875,
          47.6365,
          47.5672,
          47.5529,
          47.5089,
          47.7772,
          47.6208,
          47.5893,
          47.6448,
          47.6811,
          47.481,
          47.7661,
          47.5575,
          47.7642,
          47.5591,
          47.6237,
          47.5708,
          47.7076,
          47.5766,
          47.6207,
          47.51,
          47.405,
          47.2842,
          47.5339,
          47.5958,
          47.7302,
          47.4973,
          47.5911,
          47.595,
          47.7735,
          47.7735,
          47.6726,
          47.5828,
          47.7193,
          47.5934,
          47.4594,
          47.5067,
          47.4345,
          47.5164,
          47.3296,
          47.7032,
          47.7637,
          47.7756,
          47.6914,
          47.4587,
          47.5817,
          47.6645,
          47.5972,
          47.6767,
          47.5371,
          47.5862,
          47.6681,
          47.5819,
          47.4817,
          47.5044,
          47.679,
          47.5331,
          47.2585,
          47.4758,
          47.4758,
          47.7758,
          47.7214,
          47.4127,
          47.5668,
          47.5359,
          47.6993,
          47.6878,
          47.6878,
          47.6889,
          47.5861,
          47.4738,
          47.3976,
          47.6964,
          47.5723,
          47.5038,
          47.5843,
          47.5838,
          47.5964,
          47.5953,
          47.758,
          47.6209,
          47.6397,
          47.5693,
          47.5729,
          47.6379,
          47.6054,
          47.2584,
          47.6251,
          47.6368,
          47.4692,
          47.534,
          47.6425,
          47.6297,
          47.4669,
          47.56100000000001,
          47.5734,
          47.4223,
          47.5166,
          47.7634,
          47.6875,
          47.7453,
          47.511,
          47.5149,
          47.5215,
          47.6122,
          47.5837,
          47.6867,
          47.6979,
          47.5384,
          47.6003,
          47.508,
          47.5621,
          47.5249,
          47.537,
          47.5579,
          47.3859,
          47.5836,
          47.575,
          47.6966,
          47.4544,
          47.6339,
          47.4631,
          47.5329,
          47.5314,
          47.7596,
          47.7176,
          47.5654,
          47.5677,
          47.3462,
          47.6965,
          47.7698,
          47.5668,
          47.6712,
          47.4395,
          47.7001,
          47.5698,
          47.5037,
          47.3941,
          47.5366,
          47.5798,
          47.3319,
          47.7045,
          47.543,
          47.319,
          47.6166,
          47.6343,
          47.6822,
          47.7263,
          47.5261,
          47.6863,
          47.5742,
          47.6752,
          47.5552,
          47.7439,
          47.5436,
          47.681,
          47.622,
          47.5202,
          47.5015,
          47.6798,
          47.6694,
          47.5497,
          47.5576,
          47.6358,
          47.4176,
          47.5708,
          47.6281,
          47.6511,
          47.6593,
          47.5359,
          47.6529,
          47.7574,
          47.3666,
          47.5145,
          47.6976,
          47.3428,
          47.6821,
          47.5221,
          47.6137,
          47.5589,
          47.6367,
          47.6722,
          47.4952,
          47.6796,
          47.5749,
          47.5353,
          47.3444,
          47.6112,
          47.5612,
          47.6876,
          47.2592,
          47.7608,
          47.5646,
          47.5091,
          47.7363,
          47.5647,
          47.6778,
          47.5828,
          47.4754,
          47.7733,
          47.5333,
          47.6714,
          47.6361,
          47.538,
          47.5955,
          47.677,
          47.6034,
          47.5062,
          47.6808,
          47.7603,
          47.58,
          47.3493,
          47.7129,
          47.7635,
          47.736,
          47.7543,
          47.4837,
          47.3662,
          47.6305,
          47.5688,
          47.6164,
          47.6428,
          47.5496,
          47.58,
          47.4139,
          47.6841,
          47.4364,
          47.5959,
          47.6876,
          47.6111,
          47.3547,
          47.5112,
          47.5787,
          47.6445,
          47.697,
          47.7525,
          47.6693,
          47.5002,
          47.7136,
          47.4594,
          47.5701,
          47.5928,
          47.4429,
          47.6614,
          47.5572,
          47.6805,
          47.5718,
          47.6923,
          47.6731,
          47.7726,
          47.3392,
          47.5209,
          47.5672,
          47.7577,
          47.523,
          47.6001,
          47.6241,
          47.7611,
          47.7424,
          47.6291,
          47.6756,
          47.6765,
          47.6569,
          47.7092,
          47.6467,
          47.5452,
          47.7434,
          47.488,
          47.3431,
          47.4631,
          47.6199,
          47.46100000000001,
          47.5882,
          47.6624,
          47.7488,
          47.554,
          47.7538,
          47.7202,
          47.6395,
          47.492,
          47.63399999999999,
          47.675,
          47.3634,
          47.5709,
          47.6225,
          47.567,
          47.6838,
          47.6753,
          47.3427,
          47.68899999999999,
          47.5147,
          47.7477,
          47.7609,
          47.5705,
          47.7503,
          47.5916,
          47.6863,
          47.5396,
          47.6973,
          47.5554,
          47.5706,
          47.6435,
          47.3219,
          47.4593,
          47.7735,
          47.3099,
          47.6955,
          47.4996,
          47.5754,
          47.5585,
          47.6561,
          47.5519,
          47.5545,
          47.7209,
          47.72,
          47.726000000000006,
          47.5919,
          47.6028,
          47.4496,
          47.4602,
          47.5225,
          47.53,
          47.489,
          47.7566,
          47.6719,
          47.371,
          47.4558,
          47.2504,
          47.7362,
          47.7737,
          47.7737,
          47.5098,
          47.4556,
          47.7689,
          47.4969,
          47.4734,
          47.6798,
          47.5651,
          47.6818,
          47.4118,
          47.3537,
          47.4576,
          47.5735,
          47.4841,
          47.6823,
          47.5866,
          47.642,
          47.6808,
          47.5718,
          47.7731,
          47.6205,
          47.6236,
          47.6756,
          47.7516,
          47.688,
          47.5251,
          47.7481,
          47.6546,
          47.3103,
          47.5671,
          47.4113,
          47.7172,
          47.6875,
          47.6889,
          47.5331,
          47.7645,
          47.7067,
          47.6535,
          47.3816,
          47.6227,
          47.5472,
          47.6678,
          47.5282,
          47.5255,
          47.6809,
          47.5323,
          47.3812,
          47.7404,
          47.5832,
          47.5233,
          47.4109,
          47.6753,
          47.7139,
          47.7067,
          47.7723,
          47.5631,
          47.666,
          47.6881,
          47.6302,
          47.3585,
          47.5767,
          47.6408,
          47.565,
          47.5198,
          47.6154,
          47.684,
          47.292,
          47.3729,
          47.6755,
          47.4883,
          47.5208,
          47.5208,
          47.3844,
          47.5507,
          47.5754,
          47.6493,
          47.4361,
          47.5979,
          47.6419,
          47.636,
          47.5789,
          47.5893,
          47.68600000000001,
          47.478,
          47.6927,
          47.6792,
          47.3573,
          47.2495,
          47.4834,
          47.648,
          47.7743,
          47.585,
          47.401,
          47.5566,
          47.5076,
          47.3318,
          47.4828,
          47.6881,
          47.5403,
          47.6398,
          47.5513,
          47.5945,
          47.7604,
          47.6508,
          47.5701,
          47.6732,
          47.7341,
          47.7671,
          47.4881,
          47.7622,
          47.6896,
          47.6583,
          47.6559,
          47.5468,
          47.567,
          47.5092,
          47.717,
          47.6038,
          47.5589,
          47.4964,
          47.7772,
          47.7222,
          47.5737,
          47.5929,
          47.6694,
          47.6892,
          47.5588,
          47.6842,
          47.54,
          47.6645,
          47.5648,
          47.5358,
          47.4235,
          47.4973,
          47.5537,
          47.3357,
          47.492,
          47.6971,
          47.5469,
          47.5277,
          47.5658,
          47.6865,
          47.699,
          47.3326,
          47.4619,
          47.6353,
          47.6956,
          47.6624,
          47.6646,
          47.7261,
          47.3031,
          47.6212,
          47.6727,
          47.4956,
          47.6895,
          47.6996,
          47.5801,
          47.6163,
          47.5905,
          47.6763,
          47.4732,
          47.4847,
          47.6803,
          47.4556,
          47.5654,
          47.5266,
          47.6118,
          47.6848,
          47.7108,
          47.72,
          47.6747,
          47.5539,
          47.5432,
          47.5646,
          47.5268,
          47.6946,
          47.6118,
          47.7084,
          47.6539,
          47.6079,
          47.574,
          47.5887,
          47.5458,
          47.6606,
          47.7751,
          47.4193,
          47.5009,
          47.6007,
          47.3074,
          47.5846,
          47.7004,
          47.5226,
          47.7762,
          47.6855,
          47.5941,
          47.643,
          47.3429,
          47.5579,
          47.5039,
          47.5895,
          47.6369,
          47.46100000000001,
          47.6297,
          47.6605,
          47.482,
          47.6846,
          47.577,
          47.4501,
          47.5965,
          47.7106,
          47.4341,
          47.4571,
          47.6388,
          47.5083,
          47.5725,
          47.557,
          47.7675,
          47.6192,
          47.5675,
          47.7004,
          47.3946,
          47.5497,
          47.7158,
          47.4816,
          47.5547,
          47.5158,
          47.492,
          47.734,
          47.6233,
          47.7338,
          47.5698,
          47.4002,
          47.5791,
          47.524,
          47.6821,
          47.6986,
          47.6786,
          47.6855,
          47.5523,
          47.4927,
          47.627,
          47.6685,
          47.6681,
          47.5667,
          47.7633,
          47.7496,
          47.476000000000006,
          47.7047,
          47.5739,
          47.5818,
          47.5058,
          47.7417,
          47.4994,
          47.41,
          47.5071,
          47.6255,
          47.6823,
          47.45399999999999,
          47.6819,
          47.6226,
          47.4375,
          47.6847,
          47.6642,
          47.6498,
          47.5701,
          47.566,
          47.7214,
          47.3785,
          47.5744,
          47.5681,
          47.6889,
          47.5314,
          47.5661,
          47.4799,
          47.648,
          47.3341,
          47.5448,
          47.6728,
          47.5661,
          47.6765,
          47.5133,
          47.5333
         ],
         "legendgroup": "False",
         "lon": [
          -122.393,
          -122.145,
          -122.341,
          -122.304,
          -122.132,
          -122.189,
          -122.369,
          -122.215,
          -122.125,
          -122.291,
          -122.349,
          -122.295,
          -122.299,
          -122.266,
          -122.128,
          -122.286,
          -122.335,
          -122.023,
          -122.327,
          -122.188,
          -122.21,
          -122.291,
          -122.324,
          -122.072,
          -122.345,
          -122.27,
          -122.345,
          -122.4,
          -122.268,
          -122.151,
          -122.077,
          -122.393,
          -122.337,
          -122.298,
          -122.32,
          -122.307,
          -122.28,
          -122.164,
          -122.341,
          -122.341,
          -122.118,
          -122.164,
          -122.211,
          -122.262,
          -122.226,
          -122.153,
          -122.284,
          -122.393,
          -122.248,
          -121.972,
          -122.372,
          -122.261,
          -122.286,
          -122.083,
          -122.1,
          -122.405,
          -122.279,
          -122.157,
          -122.195,
          -122.114,
          -122.295,
          -122.162,
          -122.185,
          -122.117,
          -122.276,
          -122.203,
          -122.191,
          -122.188,
          -122.381,
          -122.216,
          -122.391,
          -122.349,
          -122.301,
          -122.204,
          -122.09,
          -122.4,
          -122.272,
          -122.06,
          -122.283,
          -122.173,
          -122.128,
          -122.284,
          -122.338,
          -122.395,
          -122.36,
          -122.385,
          -122.18,
          -122.156,
          -122.386,
          -122.292,
          -122.265,
          -122.29,
          -122.29,
          -122.191,
          -122.382,
          -122.162,
          -122.36,
          -122.143,
          -122.292,
          -122.311,
          -122.259,
          -122.179,
          -122.287,
          -122,
          -122.27,
          -122.27,
          -122.209,
          -122.288,
          -122.181,
          -122.303,
          -122.379,
          -122.183,
          -122.399,
          -122.352,
          -122.28,
          -122.328,
          -122.201,
          -122.116,
          -122.107,
          -122.286,
          -122.388,
          -122.367,
          -122.338,
          -122.2,
          -122.147,
          -122.41,
          -122.079,
          -122.293,
          -122.384,
          -122.393,
          -122.372,
          -122.197,
          -122.298,
          -122.185,
          -122.17,
          -122.314,
          -122.288,
          -122.285,
          -122.298,
          -122.063,
          -122.285,
          -122.255,
          -122.201,
          -122.118,
          -122.283,
          -122.345,
          -122.364,
          -122.085,
          -122.383,
          -122.378,
          -122.321,
          -122.234,
          -122.062,
          -122.2,
          -122.266,
          -122.337,
          -122.281,
          -122.157,
          -122.171,
          -122.077,
          -122.209,
          -122.394,
          -122.031,
          -122.291,
          -122.301,
          -122.31,
          -122.316,
          -122.114,
          -122.392,
          -122.403,
          -122.346,
          -122.19,
          -122.369,
          -122.285,
          -122.153,
          -122.037,
          -122.227,
          -122.296,
          -122.114,
          -122.246,
          -122.333,
          -122.297,
          -122.328,
          -122.206,
          -122.073,
          -122.383,
          -122.365,
          -122.368,
          -122.199,
          -122.353,
          -122.389,
          -122.099,
          -122.389,
          -122.046,
          -122.316,
          -122.126,
          -122.347,
          -122.232,
          -122.287,
          -122.359,
          -122.231,
          -122.305,
          -122.142,
          -122.395,
          -122.244,
          -122.051,
          -122.32,
          -122.279,
          -122.497,
          -122.192,
          -122.22,
          -122.276,
          -122.391,
          -122.276,
          -122.342,
          -122.346,
          -122.389,
          -122.293,
          -122.304,
          -122.204,
          -122.191,
          -121.972,
          -122.068,
          -122.367,
          -122.213,
          -122.196,
          -122.404,
          -122.318,
          -122.268,
          -122.28,
          -122.231,
          -122.168,
          -122.152,
          -122.327,
          -122.371,
          -122.397,
          -122.361,
          -122.222,
          -122.258,
          -122.287,
          -122.283,
          -122.296,
          -122.225,
          -122.284,
          -122.29,
          -122.185,
          -122.305,
          -122.393,
          -122.383,
          -122.282,
          -122.349,
          -122.232,
          -122.343,
          -122.378,
          -122.261,
          -122.301,
          -122.315,
          -122.269,
          -122.362,
          -122.268,
          -122.362,
          -122.343,
          -122.414,
          -122.412,
          -122.291,
          -122.368,
          -122.384,
          -122.386,
          -122.265,
          -122.314,
          -122.38,
          -122.395,
          -122.317,
          -122.363,
          -122.339,
          -122.2,
          -122.174,
          -122.35,
          -122.326,
          -122.366,
          -122.356,
          -122.369,
          -122.277,
          -122.158,
          -121.967,
          -122.112,
          -122.276,
          -122.293,
          -122.029,
          -122.388,
          -122.359,
          -122.227,
          -122.382,
          -122.235,
          -122.403,
          -122.275,
          -122.284,
          -122.179,
          -122.11,
          -122.209,
          -122.34,
          -122.34,
          -122.214,
          -122.294,
          -122.204,
          -122.355,
          -122.221,
          -122.325,
          -122.34,
          -122.13,
          -122.388,
          -122.294,
          -122.29,
          -122.393,
          -122.303,
          -122.135,
          -122.169,
          -122.388,
          -122.388,
          -122.373,
          -122.129,
          -122.229,
          -122.355,
          -122.192,
          -122.286,
          -122.365,
          -122.202,
          -122.394,
          -122.344,
          -122.127,
          -122.407,
          -122.316,
          -122.285,
          -122.287,
          -122.029,
          -122.332,
          -122.391,
          -122.378,
          -122.448,
          -122.204,
          -122.404,
          -122.257,
          -122.13,
          -122.177,
          -122.23,
          -122.19,
          -122.157,
          -122.315,
          -122.157,
          -122.332,
          -122.291,
          -122.358,
          -122.168,
          -122.246,
          -122.155,
          -122.299,
          -122.353,
          -122.34,
          -122.214,
          -122.351,
          -122.175,
          -122.371,
          -122.288,
          -122.191,
          -122.316,
          -122.209,
          -122.224,
          -122.295,
          -122.126,
          -122.285,
          -122.316,
          -122.369,
          -122.312,
          -122.153,
          -122.348,
          -122.4,
          -122.378,
          -121.9,
          -122.321,
          -122.256,
          -122.253,
          -122.147,
          -122.377,
          -122.365,
          -122.279,
          -122.277,
          -122.275,
          -122.41,
          -122.317,
          -122.363,
          -122.208,
          -122.364,
          -122.174,
          -121.912,
          -122.361,
          -122.318,
          -122.307,
          -122.372,
          -122.211,
          -122.383,
          -122.199,
          -122.187,
          -122.129,
          -122.264,
          -122.3,
          -121.899,
          -122.303,
          -122.23,
          -122.313,
          -122.16,
          -122.088,
          -122.17,
          -122.317,
          -122.33,
          -122.108,
          -122.17,
          -122.345,
          -122.503,
          -122.176,
          -122.224,
          -122.023,
          -122.256,
          -122.226,
          -122.16,
          -122.287,
          -122.343,
          -122.384,
          -122.337,
          -122.345,
          -122.282,
          -122.178,
          -122.17,
          -122.196,
          -122.167,
          -122.323,
          -122.344,
          -121.968,
          -122.307,
          -122.214,
          -122.4,
          -122.223,
          -122.223,
          -122.219,
          -122.371,
          -122.316,
          -122.316,
          -122.175,
          -122.343,
          -122.23,
          -122.14,
          -122.35,
          -122.023,
          -121.976,
          -122.266,
          -122.303,
          -122.188,
          -122.148,
          -122.197,
          -122.263,
          -122.308,
          -122.34,
          -122.274,
          -122.338,
          -122.375,
          -122.271,
          -122.175,
          -121.966,
          -122.219,
          -122.263,
          -122.289,
          -122.272,
          -122.312,
          -122.332,
          -122.196,
          -122.311,
          -122.351,
          -122.375,
          -122.199,
          -122.287,
          -122.27,
          -122.332,
          -122.395,
          -122.288,
          -122.152,
          -122.034,
          -122.189,
          -122.116,
          -122.375,
          -122.404,
          -122.371,
          -122.372,
          -122.282,
          -122.315,
          -122.399,
          -122.217,
          -122.153,
          -122.336,
          -122.288,
          -122.206,
          -122.236,
          -122.511,
          -122.184,
          -122.278,
          -122.35,
          -122.089,
          -122.245,
          -122.181,
          -122.198,
          -122.331,
          -122.338,
          -122.179,
          -122.212,
          -122.413,
          -122.212,
          -122.304,
          -122.008,
          -122.186,
          -122.158,
          -122.294,
          -122.187,
          -122.284,
          -122.395,
          -122.26,
          -122.391,
          -122.16,
          -122.358,
          -122.201,
          -121.865,
          -122.302,
          -122.004,
          -122.265,
          -122.308,
          -122.13,
          -122.174,
          -122.145,
          -122.2,
          -122.293,
          -122.335,
          -122.284,
          -122.342,
          -122.201,
          -122.216,
          -122.194,
          -121.918,
          -122.115,
          -122.289,
          -122.351,
          -122.268,
          -122.357,
          -122.353,
          -122.323,
          -122.357,
          -122.303,
          -122.114,
          -122.337,
          -122.361,
          -122.377,
          -122.311,
          -122.328,
          -122.292,
          -122.198,
          -122.353,
          -122.395,
          -122.246,
          -122.038,
          -122.084,
          -122.3,
          -122.403,
          -122.389,
          -122.144,
          -122.307,
          -122.241,
          -122.122,
          -122.337,
          -122.356,
          -122.133,
          -122.179,
          -122.105,
          -122.358,
          -122.229,
          -122.385,
          -122.391,
          -122.37,
          -122.399,
          -122.17,
          -122.276,
          -122.304,
          -122.245,
          -122.323,
          -122.245,
          -121.897,
          -122.085,
          -122.137,
          -122.365,
          -122.397,
          -122.004,
          -122.224,
          -122.412,
          -122.28,
          -122.292,
          -121.773,
          -122.211,
          -122.283,
          -122.365,
          -122.088,
          -122.386,
          -122.265,
          -122.364,
          -122.251,
          -122.034,
          -122.144,
          -122.319,
          -122.226,
          -122.393,
          -122.258,
          -122.392,
          -122.154,
          -122.214,
          -122.129,
          -122.059,
          -122.269,
          -122.348,
          -122.374,
          -122.19,
          -122.202,
          -122.134,
          -122.183,
          -122.228,
          -122.277,
          -122.295,
          -122.366,
          -122.334,
          -122.165,
          -121.988,
          -122.139,
          -122.355,
          -122.207,
          -122.369,
          -122.278,
          -122.295,
          -122.245,
          -122.266,
          -122.385,
          -122.235,
          -122.276,
          -122.376,
          -122.272,
          -122.274,
          -122.216,
          -122.115,
          -122.115,
          -122.077,
          -122.3,
          -122.29,
          -122.059,
          -122.172,
          -122.345,
          -122.384,
          -122.371,
          -122.351,
          -122.309,
          -122.195,
          -122.375,
          -122.284,
          -122.382,
          -122.193,
          -122.282,
          -122.365,
          -122.21,
          -122.32,
          -122.265,
          -122.054,
          -122.385,
          -122.27,
          -122.149,
          -122.389,
          -122.324,
          -122.222,
          -122.115,
          -122.395,
          -122.132,
          -122.355,
          -122.365,
          -122.337,
          -122.29,
          -122.213,
          -122.059,
          -122.299,
          -122.309,
          -122.33,
          -122.376,
          -122.212,
          -122.258,
          -122.156,
          -122.278,
          -122.034,
          -122.35,
          -122.225,
          -122.178,
          -122.274,
          -122.116,
          -122.29,
          -122.155,
          -122.37,
          -122.293,
          -122.166,
          -122.279,
          -122.278,
          -122.31,
          -122.377,
          -122.28,
          -121.976,
          -122.402,
          -122.396,
          -122.195,
          -122.305,
          -122.321,
          -122.333,
          -122.38,
          -122.24,
          -122.125,
          -122.349,
          -122.321,
          -122.212,
          -122.156,
          -122.344,
          -122.299,
          -122.155,
          -122.254,
          -122.114,
          -122.234,
          -122.18,
          -122.378,
          -122.29,
          -122.316,
          -122.281,
          -122.388,
          -122.312,
          -122.128,
          -122.033,
          -122.347,
          -122.297,
          -122.382,
          -122.235,
          -122.356,
          -122.332,
          -122.26,
          -122.358,
          -122.288,
          -122.413,
          -122.377,
          -122.192,
          -122.103,
          -122.362,
          -122.202,
          -122.374,
          -122.289,
          -122.174,
          -122.316,
          -122.324,
          -121.98,
          -122.392,
          -122.3,
          -122.129,
          -122.119,
          -122.284,
          -122.391,
          -122.158,
          -122.171,
          -122.277,
          -122.263,
          -122.17,
          -122.392,
          -122.179,
          -122.083,
          -122.379,
          -122.385,
          -122.412,
          -122.329,
          -122.129,
          -122.274,
          -122.141,
          -122.337,
          -122.3,
          -122.359,
          -122.173,
          -122.323,
          -122.348,
          -122.363,
          -122.32,
          -122.162,
          -122.113,
          -122.125,
          -122.171,
          -122.113,
          -122.279,
          -122.271,
          -122.326,
          -122.294,
          -122.15,
          -122.321,
          -122.21,
          -122.41,
          -122.324,
          -122.371,
          -122.115,
          -121.984,
          -122.232,
          -122.28,
          -122.32,
          -122.332,
          -122.113,
          -122.306,
          -122.245,
          -122.394,
          -122.317,
          -122.257,
          -122.351,
          -122.288,
          -122.397,
          -122.144,
          -122.359,
          -122.364,
          -122.309,
          -122.35,
          -122.112,
          -122.374,
          -122.258,
          -122.144,
          -122.379,
          -122.329,
          -122.128,
          -122.242,
          -122.189,
          -122.269,
          -121.912,
          -122.3,
          -122.359,
          -122.166,
          -122.222,
          -122.324,
          -122.324,
          -122.277,
          -122.386,
          -122.158,
          -122.148,
          -121.739,
          -122.357,
          -122.399,
          -122.364,
          -122.322,
          -122.352,
          -122.147,
          -122.197,
          -122.201,
          -122.255,
          -122.277,
          -122.172,
          -122.367,
          -122.113,
          -122.306,
          -122.294,
          -122.153,
          -122.297,
          -122.058,
          -122.324,
          -122.376,
          -122.117,
          -122.309,
          -122.349,
          -122.257,
          -122.147,
          -122.243,
          -122.225,
          -122.39,
          -122.364,
          -122.153,
          -122.327,
          -122.39,
          -122.405,
          -122.335,
          -122.312,
          -122.388,
          -122.169,
          -122.143,
          -122.281,
          -122.297,
          -122.403,
          -122.291,
          -122.221,
          -122.262,
          -122.294,
          -122.327,
          -122.376,
          -122.315,
          -122.182,
          -122.382,
          -122.215,
          -122.123,
          -122.339,
          -122.287,
          -122.356,
          -122.231,
          -122.116,
          -122.005,
          -122.12,
          -122.151,
          -122.393,
          -122.34,
          -122.29,
          -122.147,
          -122.366,
          -122.317,
          -122.398,
          -122.03,
          -122.401,
          -122.257,
          -122.279,
          -122.144,
          -122.052,
          -122.223,
          -122.395,
          -122.259,
          -122.37,
          -122.192,
          -122.28,
          -122.282,
          -122.279,
          -122.383,
          -122.304,
          -122.304,
          -122.413,
          -122.312,
          -122.159,
          -122.359,
          -122.322,
          -122.144,
          -122.288,
          -122.224,
          -122.326,
          -122.157,
          -122.397,
          -122.318,
          -122.303,
          -122.266,
          -122.391,
          -122.03,
          -122.186,
          -122.172,
          -122.352,
          -122.177,
          -122.325,
          -122.368,
          -122.171,
          -122.376,
          -122.378,
          -122.347,
          -122.319,
          -122.119,
          -122.251,
          -122.366,
          -122.134,
          -122.372,
          -122.401,
          -122.38,
          -122.276,
          -122.181,
          -122.386,
          -122.168,
          -122.137,
          -122.308,
          -122.364,
          -122.114,
          -122.316,
          -122.289,
          -122.407,
          -122.05,
          -122.401,
          -122.16,
          -122.384,
          -122.317,
          -122.11,
          -122.339,
          -122.104,
          -122.01,
          -122.209,
          -122.357,
          -122.384,
          -122.359,
          -122.178,
          -122.314,
          -122.157,
          -122.378,
          -122.338,
          -122.195,
          -122.17,
          -122.086,
          -122.346,
          -122.195,
          -122.295,
          -122.147,
          -122.296,
          -122.273,
          -122.251,
          -122.056,
          -122.323,
          -122.385,
          -122.094,
          -122.151,
          -122.376,
          -122.296,
          -122.388,
          -122.3,
          -122.365,
          -122.287,
          -122.287,
          -122.351,
          -122.316,
          -122.216,
          -122.365,
          -122.281,
          -122.32,
          -122.255,
          -122.065,
          -122.35,
          -122.35,
          -122.351,
          -122.267,
          -122.385,
          -122.4,
          -122.122,
          -122.24,
          -122.361,
          -122.372,
          -122.026,
          -122.346,
          -122.357,
          -122.141,
          -122.299,
          -122.358,
          -122.283,
          -122.292,
          -122.306,
          -122.3,
          -122.195,
          -122.267,
          -122.21,
          -122.212,
          -122.276,
          -122.147,
          -122.295,
          -122.323,
          -122.288,
          -122.198,
          -122.372,
          -122.299,
          -122.291,
          -122.268,
          -122.133,
          -122.203,
          -122.133,
          -122.133,
          -122.294,
          -122.044,
          -122.361,
          -122.39,
          -122.279,
          -122.197,
          -122.198,
          -122.267,
          -122.256,
          -122.371,
          -122.134,
          -122.372,
          -122.308,
          -121.996,
          -122.291,
          -122.357,
          -122.295,
          -122.35,
          -122.368,
          -122.202,
          -122.324,
          -122.125,
          -122.097,
          -122.245,
          -122.319,
          -122.384,
          -121.925,
          -122.288,
          -122.288,
          -122.2,
          -122.056,
          -122.071,
          -122.169,
          -122.28,
          -122.376,
          -122.342,
          -122.286,
          -122.33,
          -122.113,
          -122.35,
          -122.166,
          -122.336,
          -122.309,
          -122.3,
          -122.393,
          -122.246,
          -122.077,
          -122.08,
          -122.325,
          -122.236,
          -121.953,
          -122.285,
          -122.302,
          -121.966,
          -122.314,
          -122.093,
          -122.218,
          -122.216,
          -122.35,
          -122.376,
          -122.406,
          -122.117,
          -122.003,
          -122.272,
          -122.213,
          -122.343,
          -122.266,
          -122.34,
          -122.122,
          -122.213,
          -122.197,
          -122.263,
          -122.275,
          -122.111,
          -122.382,
          -122.349,
          -122.31,
          -122.276,
          -122.132,
          -122.244,
          -122.291,
          -122.044,
          -122.375,
          -122.271,
          -122.221,
          -122.074,
          -122.033,
          -122.375,
          -122.204,
          -122.18,
          -122.341,
          -122.292,
          -122.222,
          -122.269,
          -122.302,
          -122.163,
          -122.363,
          -122.286,
          -122.393,
          -122.386,
          -122.384,
          -122.393,
          -122.111,
          -122.279,
          -122.132,
          -122.24,
          -122.307,
          -122.289,
          -122.404,
          -122.267,
          -122.342,
          -122.299,
          -122.373,
          -122.172,
          -122.282,
          -122.111,
          -122.363,
          -122.374,
          -122.382,
          -122.11,
          -122.361,
          -122.178,
          -122.242,
          -122.378,
          -122.359,
          -122.14,
          -122.378,
          -122.166,
          -122.391,
          -122.157,
          -122.295,
          -122.273,
          -122.103,
          -122.323,
          -122.153,
          -122.216,
          -122.4,
          -122.337,
          -122.372,
          -122.407,
          -122.343,
          -122.288,
          -122.365,
          -122.288,
          -122.303,
          -122.283,
          -122.178,
          -122.06,
          -122.392,
          -122.301,
          -122.162,
          -122.224,
          -122.393,
          -122.213,
          -122.352,
          -122.271,
          -122.226,
          -122.146,
          -122.381,
          -122.291,
          -122.378,
          -122.181,
          -122.241,
          -122.298,
          -122.155,
          -122.302,
          -122.396,
          -122.007,
          -122.271,
          -122.22,
          -122.329,
          -122.368,
          -122.353,
          -122.176,
          -122.275,
          -122.289,
          -122.385,
          -122.376,
          -122.273,
          -122.392,
          -122.062,
          -122.203,
          -122.335,
          -122.159,
          -122.341,
          -122.11,
          -122.282,
          -122.347,
          -122.363,
          -122.104,
          -122.348,
          -122.391,
          -122.405,
          -122.208,
          -122.309,
          -122.28,
          -122.116,
          -122.366,
          -122.126,
          -122.285,
          -122.329,
          -122.402,
          -122.374,
          -122.322,
          -122.315,
          -122.289,
          -122.246,
          -122.29,
          -122.346,
          -122.408,
          -122.086,
          -122.282,
          -122.138,
          -122.147,
          -122.366,
          -122.406,
          -122.2,
          -122.327,
          -122.111,
          -122.131,
          -122.052,
          -122.39,
          -122.358,
          -122.332,
          -122.176,
          -122.305,
          -122.372,
          -122.263,
          -122.226,
          -122.305,
          -122.287,
          -122.273,
          -122.291,
          -122.394,
          -122.379,
          -122.263,
          -122.221,
          -122.305,
          -122.362,
          -122.141,
          -121.992,
          -122.117,
          -122.336,
          -122.292,
          -122.385,
          -122.327,
          -122.22,
          -122.211,
          -122.364,
          -122.119,
          -122.289,
          -122.09,
          -122.406,
          -122.108,
          -122.124,
          -122.212,
          -122.363,
          -122.325,
          -122.196,
          -122.193,
          -122.217,
          -122.297,
          -122.376,
          -122.334,
          -122.076,
          -122.189,
          -122.276,
          -122.295,
          -122.274,
          -122.16,
          -122.373,
          -122.341,
          -122.343,
          -122.281,
          -122.384,
          -122.295,
          -122.378,
          -122.305,
          -122.317,
          -122.341,
          -122.156,
          -122.356,
          -122.318,
          -122.213,
          -122.221,
          -122.176,
          -122.12,
          -122.209,
          -122.171,
          -122.04,
          -122.347,
          -122.181,
          -122.363,
          -122.163,
          -122.108,
          -122.171,
          -122,
          -122.292,
          -122.35,
          -122.35,
          -122.474,
          -122.087,
          -122.315,
          -122.33,
          -121.999,
          -122.352,
          -122.221,
          -122.311,
          -122.314,
          -121.939,
          -122.16,
          -122.208,
          -122.19,
          -122.371,
          -122.118,
          -122.405,
          -122.38,
          -122.136,
          -122.282,
          -122.148,
          -122.299,
          -122.348,
          -122.294,
          -122.168,
          -122.37,
          -122.353,
          -122.344,
          -122.382,
          -121.89,
          -122.315,
          -122.361,
          -122.287,
          -122.342,
          -122.353,
          -122.197,
          -122.352,
          -122.397,
          -122.153,
          -122.216,
          -122.176,
          -122.361,
          -122.269,
          -122.327,
          -122.305,
          -122.237,
          -122.223,
          -122.186,
          -122.02,
          -122.378,
          -122.329,
          -122.363,
          -122.292,
          -122.38,
          -122.317,
          -122.271,
          -122.289,
          -122.342,
          -122.069,
          -122.067,
          -122.233,
          -122.212,
          -122.274,
          -122.389,
          -122.115,
          -122.281,
          -122.195,
          -122.037,
          -122.285,
          -122.225,
          -122.364,
          -122.364,
          -122,
          -122.133,
          -122.288,
          -122.401,
          -122.193,
          -122.194,
          -122.394,
          -122.391,
          -122.396,
          -122.232,
          -122.351,
          -122.278,
          -122.395,
          -122.303,
          -122.324,
          -121.97,
          -122.001,
          -122.118,
          -122.388,
          -122.051,
          -122.135,
          -122.278,
          -122.173,
          -122.34,
          -122.191,
          -122.367,
          -122.168,
          -122.306,
          -122.162,
          -122.291,
          -122.356,
          -122.373,
          -122.124,
          -122.4,
          -122.242,
          -122.334,
          -122.281,
          -122.302,
          -122.374,
          -122.362,
          -122.344,
          -122.267,
          -122.38,
          -122.362,
          -122.101,
          -122.303,
          -122.295,
          -122.353,
          -122.387,
          -122.168,
          -122.409,
          -122.303,
          -122.3,
          -122.375,
          -122.211,
          -122.309,
          -121.97,
          -122.358,
          -122.316,
          -122.213,
          -122.218,
          -122.177,
          -122.388,
          -122.275,
          -122.225,
          -122.282,
          -122.365,
          -122.355,
          -122.4,
          -122.366,
          -122.307,
          -122.046,
          -121.991,
          -122.402,
          -122.099,
          -122.202,
          -122.365,
          -122.22,
          -122.385,
          -122.224,
          -122.293,
          -122.181,
          -122.207,
          -122.229,
          -122.294,
          -122.138,
          -122.022,
          -122.282,
          -122.141,
          -122.291,
          -122.313,
          -122.369,
          -122.372,
          -122.387,
          -122.299,
          -122.391,
          -122.352,
          -122.236,
          -122.391,
          -122.267,
          -122.272,
          -121.935,
          -122.388,
          -122.336,
          -122.131,
          -122.303,
          -122.395,
          -122.132,
          -122.289,
          -122.291,
          -122.231,
          -122.059,
          -122.268,
          -122.439,
          -122.235,
          -122.117,
          -122.337,
          -122.387,
          -122.304,
          -122.183,
          -122.21,
          -122.391,
          -122.144,
          -122.397,
          -122.097,
          -122.384,
          -122.24,
          -122.111,
          -122.35,
          -122.002,
          -122.033,
          -122.326,
          -122.332,
          -122.268,
          -122.395,
          -122.139,
          -122.139,
          -122.286,
          -122.169,
          -122.345,
          -122.397,
          -122.388,
          -122.133,
          -122.308,
          -122.226,
          -122.055,
          -122.16,
          -122.287,
          -122.312,
          -122.396,
          -122.366,
          -122.233,
          -122.299,
          -122.281,
          -122.166,
          -122.182,
          -122.102,
          -122.169,
          -122.375,
          -122.217,
          -122.23,
          -122.359,
          -122.388,
          -122.297,
          -122.317,
          -122.291,
          -122.379,
          -122.248,
          -122.345,
          -122.335,
          -122.368,
          -122.372,
          -122.369,
          -122.201,
          -122.292,
          -122.378,
          -122.406,
          -122.296,
          -122.235,
          -122.172,
          -122.234,
          -122.208,
          -122.249,
          -122.208,
          -122.27,
          -122.164,
          -122.393,
          -122.205,
          -122.166,
          -122.37,
          -122.13,
          -122.396,
          -122.296,
          -122.29,
          -122.227,
          -122.185,
          -122.406,
          -122.127,
          -122.352,
          -122.392,
          -122.29,
          -122.127,
          -122.218,
          -122.304,
          -122.288,
          -122.189,
          -122.29,
          -122.175,
          -122.11,
          -121.933
         ],
         "marker": {
          "color": "#2E91E5",
          "size": [
           604000,
           662500,
           385000,
           438000,
           550000,
           345000,
           585000,
           1330000,
           380000,
           355000,
           570000,
           329950,
           220000,
           452000,
           527700,
           258000,
           255000,
           420000,
           269950,
           1100000,
           1510000,
           1070000,
           472000,
           2400000,
           481000,
           349500,
           385000,
           331000,
           405000,
           675000,
           3080000,
           576000,
           315000,
           725000,
           425000,
           387000,
           375000,
           795000,
           315000,
           530000,
           530000,
           570000,
           475000,
           520000,
           578000,
           378500,
           299000,
           615000,
           705000,
           505000,
           605000,
           595000,
           460000,
           700000,
           225000,
           950000,
           850000,
           942500,
           824000,
           420000,
           493000,
           1220000,
           565000,
           662500,
           285000,
           628000,
           289999,
           795000,
           200000,
           980000,
           435000,
           384000,
           645000,
           990000,
           390000,
           1200000,
           378000,
           582800,
           397500,
           469500,
           718000,
           645000,
           280300,
           980000,
           512031,
           410000,
           470500,
           1240000,
           986000,
           320000,
           310000,
           360000,
           550000,
           730000,
           575000,
           302000,
           170000,
           1280000,
           625000,
           380000,
           1960000,
           274700,
           632000,
           630000,
           263000,
           510000,
           949000,
           585000,
           330000,
           365000,
           645000,
           350000,
           546000,
           399000,
           321000,
           470000,
           748000,
           225000,
           360000,
           1080000,
           549000,
           749950,
           225000,
           250000,
           542000,
           1400000,
           480000,
           535000,
           672500,
           652000,
           850000,
           413000,
           500000,
           405000,
           495000,
           450000,
           1050000,
           500000,
           512000,
           780000,
           248000,
           415000,
           495000,
           561750,
           349950,
           550000,
           396000,
           440000,
           360000,
           442500,
           337000,
           189950,
           600000,
           975000,
           212000,
           480000,
           753000,
           1100000,
           550000,
           765000,
           247500,
           345000,
           850000,
           599000,
           375000,
           190000,
           320000,
           930000,
           483945,
           605000,
           725000,
           471750,
           635000,
           555000,
           962000,
           465000,
           835000,
           875000,
           1200000,
           1030000,
           800000,
           521000,
           399950,
           1640000,
           585000,
           678500,
           765000,
           460000,
           760000,
           311750,
           1050000,
           670000,
           608000,
           700000,
           273000,
           618000,
           403500,
           287500,
           625000,
           635000,
           243000,
           583000,
           437000,
           555000,
           459000,
           500000,
           366500,
           719000,
           482000,
           446000,
           1540000,
           335000,
           700000,
           285000,
           392450,
           425000,
           715000,
           890000,
           1600000,
           895000,
           300000,
           500000,
           590000,
           872000,
           1000000,
           900000,
           840000,
           418200,
           485000,
           779000,
           570000,
           649000,
           278500,
           595000,
           722500,
           555000,
           375000,
           711000,
           415000,
           763101,
           599950,
           425000,
           769000,
           760000,
           420000,
           230000,
           313000,
           495000,
           307450,
           524000,
           485000,
           285000,
           272000,
           615000,
           580000,
           595000,
           650000,
           387500,
           740000,
           200000,
           691000,
           449500,
           850000,
           765000,
           395000,
           215000,
           589000,
           480000,
           285000,
           575000,
           445000,
           537000,
           525000,
           511718,
           580000,
           739000,
           271000,
           575000,
           527000,
           245000,
           325000,
           359000,
           569000,
           318500,
           340000,
           905000,
           579000,
           314900,
           449500,
           515000,
           355000,
           1080000,
           535000,
           355000,
           629000,
           500000,
           635000,
           328950,
           350000,
           865000,
           175000,
           326000,
           312500,
           402500,
           539950,
           494400,
           280000,
           310000,
           470000,
           550000,
           777000,
           335000,
           464500,
           475000,
           430000,
           360000,
           740000,
           405000,
           625000,
           750000,
           680000,
           374950,
           304999,
           772000,
           525000,
           399950,
           585000,
           576750,
           495000,
           675000,
           756000,
           432000,
           250000,
           440000,
           422500,
           270000,
           711777,
           515000,
           1380000,
           335000,
           639000,
           325000,
           465000,
           875000,
           359950,
           698000,
           550000,
           470000,
           910000,
           339999,
           526000,
           550500,
           522500,
           360000,
           581000,
           527000,
           373000,
           550000,
           329500,
           710000,
           815000,
           489950,
           260000,
           858000,
           534950,
           465000,
           485000,
           496752,
           480000,
           485000,
           561500,
           639000,
           335000,
           1090000,
           450000,
           2050000,
           1150000,
           325000,
           402000,
           375000,
           396000,
           320000,
           448000,
           490000,
           790000,
           263500,
           468000,
           639000,
           381000,
           555000,
           749000,
           430000,
           466000,
           540000,
           477000,
           345000,
           527200,
           549900,
           238000,
           495000,
           880000,
           800000,
           324000,
           1130000,
           690000,
           599900,
           558000,
           353000,
           260000,
           470000,
           379000,
           475000,
           415000,
           318000,
           404000,
           275000,
           325000,
           549000,
           620000,
           312500,
           329999,
           692500,
           455000,
           1390000,
           600000,
           370000,
           731100,
           475000,
           475000,
           198000,
           528000,
           250000,
           300000,
           768500,
           500000,
           648475,
           635000,
           438500,
           1040000,
           582000,
           250000,
           385000,
           460000,
           625000,
           367500,
           595000,
           307000,
           315000,
           350000,
           695000,
           214000,
           411000,
           295000,
           665000,
           342000,
           2850000,
           785000,
           257500,
           372500,
           258000,
           640000,
           425000,
           377000,
           525000,
           472000,
           245000,
           850000,
           750000,
           874000,
           385000,
           420000,
           415000,
           258750,
           898000,
           355425,
           294010,
           565000,
           405000,
           615000,
           1620000,
           335000,
           730001,
           759000,
           789900,
           435000,
           833000,
           268500,
           400375,
           483500,
           750000,
           514000,
           253000,
           400000,
           524000,
           600000,
           500000,
           270000,
           399950,
           800000,
           237000,
           340000,
           541125,
           325000,
           650000,
           589950,
           390000,
           216600,
           450000,
           340000,
           650000,
           289950,
           313100,
           1030000,
           280000,
           885000,
           890000,
           390000,
           1450000,
           410000,
           270000,
           565000,
           695000,
           375000,
           810000,
           998160,
           775000,
           525000,
           280000,
           750000,
           615000,
           814000,
           425000,
           453000,
           800000,
           549950,
           545000,
           850000,
           384900,
           358000,
           554000,
           414999,
           1100000,
           323000,
           430000,
           657000,
           480000,
           647500,
           415000,
           339888,
           396000,
           535000,
           700000,
           235000,
           472000,
           285000,
           599000,
           580000,
           457500,
           340000,
           450000,
           615000,
           469000,
           710000,
           1370000,
           540000,
           435000,
           591000,
           650000,
           649950,
           482000,
           385000,
           356200,
           595000,
           560000,
           368000,
           920000,
           560000,
           600000,
           411500,
           481000,
           1430000,
           710000,
           565000,
           568000,
           358000,
           758800,
           467500,
           605000,
           500007,
           380000,
           650000,
           485000,
           700000,
           474950,
           654000,
           465000,
           445000,
           555000,
           265000,
           525000,
           355000,
           469950,
           445500,
           325000,
           1150000,
           585000,
           311000,
           360000,
           552000,
           440000,
           1310000,
           520500,
           1170000,
           830200,
           425000,
           297500,
           679000,
           1610000,
           515000,
           565000,
           676101,
           411000,
           725000,
           860000,
           299000,
           460000,
           482000,
           518000,
           715000,
           257000,
           481500,
           380000,
           250000,
           275000,
           575000,
           275000,
           1270000,
           1470000,
           864000,
           600000,
           389000,
           216000,
           410000,
           472000,
           276000,
           580000,
           599000,
           320000,
           1650000,
           1210000,
           1200000,
           850000,
           826600,
           315000,
           406550,
           500000,
           785000,
           525000,
           537000,
           369950,
           450000,
           606000,
           450000,
           460000,
           631750,
           1850000,
           260000,
           450000,
           4670000,
           395000,
           345000,
           250000,
           1250000,
           635000,
           945800,
           503000,
           339950,
           500000,
           610000,
           585000,
           580000,
           330000,
           456000,
           480000,
           340000,
           225000,
           516000,
           250000,
           410000,
           205000,
           459000,
           1300000,
           248000,
           556000,
           374900,
           549950,
           315000,
           880000,
           380000,
           353000,
           565000,
           610000,
           350000,
           595000,
           470000,
           360000,
           340000,
           699950,
           564000,
           545000,
           242000,
           349900,
           700000,
           536500,
           780000,
           460000,
           445000,
           760500,
           490000,
           159075,
           433000,
           325000,
           550000,
           715000,
           1370000,
           604000,
           580000,
           1100000,
           603500,
           453500,
           1530000,
           279000,
           364500,
           280000,
           309000,
           240000,
           875000,
           400000,
           653000,
           465000,
           366000,
           285000,
           1070000,
           400000,
           342000,
           700000,
           450000,
           540000,
           275000,
           1100000,
           603500,
           685000,
           580000,
           625000,
           1350000,
           354950,
           274000,
           581000,
           700000,
           650000,
           415000,
           575000,
           384000,
           426000,
           501000,
           1270000,
           412000,
           1100000,
           931088,
           1190000,
           657000,
           525000,
           510000,
           449228,
           400000,
           612500,
           560000,
           779000,
           440000,
           317500,
           230000,
           275000,
           913000,
           334998,
           353900,
           1250000,
           255000,
           355000,
           900000,
           645000,
           308000,
           604000,
           404000,
           480000,
           550000,
           235000,
           516200,
           396500,
           449500,
           599000,
           460000,
           385000,
           730000,
           360000,
           780000,
           416000,
           510000,
           1000000,
           275000,
           540000,
           352000,
           575000,
           650000,
           890000,
           523500,
           210500,
           599950,
           240000,
           640000,
           1280000,
           893880,
           689000,
           445000,
           616500,
           495000,
           370000,
           530000,
           228000,
           560000,
           665000,
           552625,
           577500,
           1900000,
           555000,
           338000,
           340000,
           460000,
           270000,
           400000,
           215000,
           313950,
           415000,
           270000,
           575000,
           325000,
           312500,
           800000,
           446000,
           680000,
           268450,
           134000,
           433000,
           420000,
           389000,
           405000,
           301350,
           370000,
           516000,
           465000,
           502000,
           385000,
           562000,
           925000,
           563225,
           750000,
           705000,
           456700,
           375000,
           335000,
           415000,
           251000,
           425000,
           450000,
           1140000,
           1310000,
           725000,
           750000,
           475000,
           976000,
           812000,
           464000,
           599000,
           500000,
           735000,
           331500,
           650500,
           360000,
           448000,
           675000,
           1650000,
           137900,
           360000,
           465000,
           282000,
           455000,
           1250000,
           554950,
           699000,
           300000,
           710000,
           1380000,
           375000,
           315000,
           851000,
           449000,
           506000,
           650000,
           1660000,
           344950,
           880000,
           530000,
           545000,
           425000,
           1180000,
           446000,
           625000,
           324950,
           368000,
           392500,
           463000,
           750000,
           525000,
           485000,
           700000,
           435000,
           395000,
           499950,
           600000,
           500000,
           312000,
           539000,
           650000,
           485000,
           500000,
           700000,
           420000,
           320000,
           920000,
           189000,
           950000,
           935000,
           855000,
           615000,
           240000,
           319000,
           395000,
           625000,
           610000,
           810000,
           365000,
           440000,
           286500,
           635200,
           705000,
           540000,
           412000,
           299999,
           420000,
           270000,
           272000,
           530000,
           342500,
           255000,
           478000,
           410000,
           590000,
           622000,
           615000,
           957000,
           530000,
           467000,
           670000,
           1790000,
           320000,
           1480000,
           672500,
           879900,
           685000,
           1030000,
           900000,
           550000,
           484000,
           330000,
           681500,
           500000,
           1500000,
           680000,
           415000,
           615000,
           585000,
           535000,
           410000,
           597000,
           338000,
           249500,
           320000,
           815000,
           885000,
           452000,
           718000,
           480000,
           335000,
           902000,
           599000,
           549000,
           710000,
           605000,
           375000,
           513000,
           450000,
           432500,
           368000,
           385000,
           624000,
           430000,
           615500,
           367950,
           680000,
           395000,
           352000,
           235000,
           570000,
           317000,
           302000,
           185000,
           340000,
           680000,
           560000,
           385000,
           815000,
           400000,
           760250,
           840500,
           625000,
           735000,
           242000,
           364000,
           660000,
           417000,
           677915,
           671000,
           205000,
           452000,
           467000,
           495200,
           800000,
           945000,
           1300000,
           850000,
           455000,
           747000,
           335000,
           210000,
           292000,
           429000,
           450000,
           565000,
           363500,
           598780,
           870000,
           400000,
           599000,
           840000,
           663000,
           525000,
           850000,
           275000,
           383000,
           550000,
           280000,
           500000,
           490000,
           570000,
           469000,
           445500,
           542500,
           739000,
           675000,
           386500,
           875000,
           452000,
           915000,
           460000,
           650000,
           381000,
           300000,
           516000,
           550000,
           378000,
           161000,
           220000,
           470000,
           1090000,
           579000,
           713500,
           410000,
           350000,
           605000,
           600000,
           527950,
           1150000,
           350500,
           252000,
           551000,
           348000,
           260000,
           770000,
           1580000,
           1050000,
           829000,
           360000,
           1550000,
           379500,
           575000,
           446800,
           381000,
           505000,
           355000,
           3170000,
           1780000,
           265000,
           390000,
           1280000,
           575000,
           492000,
           439000,
           975000,
           570000,
           350000,
           240000,
           612000,
           557000,
           375000,
           330000,
           235000,
           1160000,
           775000,
           471001,
           510000,
           537500,
           585000,
           415000,
           400000,
           465000,
           550000,
           525000,
           300000,
           875000,
           624500,
           475000,
           400000,
           772000,
           315000,
           349950,
           990000,
           439000,
           599950,
           940000,
           515000,
           289000,
           622000,
           970000,
           558000,
           424000,
           600000,
           460000,
           590000,
           452100,
           368000,
           350000,
           639950,
           245000,
           305000,
           355000,
           289950,
           850000,
           960000,
           540000,
           515000,
           280000,
           549010,
           830000,
           517950,
           525000,
           280000,
           430000,
           760000,
           605000,
           513000,
           287000,
           595000,
           528000,
           320000,
           402000,
           675000,
           325000,
           770000,
           1990000,
           442900,
           930000,
           395000,
           719000,
           410000,
           309000,
           283000,
           334000,
           267000,
           640000,
           560000,
           454800,
           565500,
           721000,
           438000,
           239950,
           524500,
           989900,
           270000,
           290000,
           1260000,
           925000,
           554000,
           289000,
           805000,
           459900,
           416100,
           495000,
           1030000,
           667500,
           625000,
           464950,
           505000,
           1380000,
           730000,
           385000,
           233000,
           915000,
           1540000,
           628000,
           675000,
           499000,
           725000,
           645000,
           399950,
           423000,
           397950,
           534640,
           425000,
           390000,
           270000,
           930000,
           412000,
           1050000,
           710000,
           467500,
           745000,
           265000,
           667500,
           275000,
           605000,
           470000,
           497500,
           389000,
           350000,
           720000,
           650000,
           547500,
           340000,
           861000,
           299980,
           526000,
           275000,
           915000,
           3200000,
           320000,
           601002,
           1110000,
           519000,
           1100000,
           750500,
           910000,
           547000,
           320000,
           611000,
           383000,
           390000,
           319500,
           675000,
           680000,
           825000,
           1120000,
           1680000,
           656500,
           525000,
           1690000,
           426000,
           784000,
           464000,
           1600000,
           285000,
           279000,
           387500,
           555000,
           490000,
           620000,
           608000,
           465000,
           564000,
           345000,
           475000,
           1350000,
           497300,
           580000,
           780000,
           247500,
           655000,
           530000,
           247500,
           1390000,
           499950,
           549000,
           799900,
           372000,
           540000,
           425000,
           460000,
           255544,
           585083,
           565000,
           399950,
           420000,
           664000,
           750000,
           620000,
           248500,
           350000,
           575000,
           302300,
           630000,
           750000,
           427000,
           411715,
           677000,
           822600,
           377000,
           440000,
           330000,
           469500,
           1130000,
           395000,
           631000,
           310000,
           440000,
           355000,
           439000,
           420000,
           665000,
           369950,
           305000,
           430000,
           395900,
           300000,
           496000,
           645000,
           420000,
           255000,
           340000,
           478000,
           605000,
           750000,
           630000,
           280500,
           330000,
           265000,
           820000,
           435000,
           566000,
           507500,
           1020000,
           520000,
           501000,
           609000,
           725000,
           610000,
           440000,
           405000,
           475300,
           485000,
           414950,
           645000,
           420000,
           303000,
           360500,
           379400,
           580000,
           625000,
           435000,
           515000,
           385000,
           655000,
           490000,
           2500000,
           505000,
           800000,
           435000,
           240000,
           735000,
           1380000,
           298950,
           420000,
           620000,
           423000,
           368000,
           435000,
           475000,
           2230000,
           420000,
           435000,
           840000,
           563000,
           780000,
           261000,
           648752,
           1390000,
           650000,
           560000,
           750000,
           530000,
           235000,
           485000,
           601000,
           463828,
           340000,
           363000,
           545000,
           1200000,
           495000,
           465000,
           368500,
           425000,
           600000,
           680000,
           616000,
           770000,
           565000,
           245000,
           635000,
           776000,
           820000,
           370000,
           560000,
           599000,
           750000,
           775000,
           455000,
           600000,
           322000,
           160000,
           380000,
           535000,
           590000,
           886000,
           623000,
           570000,
           425000,
           620047,
           610000,
           871000,
           440000,
           362500,
           285000,
           440000,
           559000,
           623500,
           850000,
           850000,
           430000,
           340000,
           540000,
           715000,
           640000,
           285000,
           536000,
           498000,
           589000,
           435000,
           505400,
           515000,
           762400,
           627000,
           510000,
           770000,
           605000,
           2370000,
           362950,
           315000,
           430000,
           260000,
           380000,
           452000,
           329000,
           335000,
           625000,
           545000,
           418000,
           337000,
           525000,
           1140000,
           655000,
           1500000,
           675000,
           465000,
           274000,
           1730000,
           635000,
           359000,
           648360,
           1450000,
           680000,
           580000,
           568000,
           476000,
           450000,
           283450,
           863000,
           568000,
           355000,
           1050000,
           517000,
           480000,
           423000,
           440000,
           618000,
           572000,
           320000,
           475000,
           746300,
           625000,
           534000,
           489000,
           725000,
           465000,
           607000,
           813000,
           1090000,
           432000,
           330000,
           510000,
           361000,
           650000,
           345000,
           567500,
           452000,
           519000,
           400000,
           481000,
           520000,
           511200,
           410000,
           575000,
           385000,
           1400000,
           1190000,
           592500,
           600000,
           580000,
           268000,
           1160000,
           577000,
           370000,
           510000,
           571500,
           299000,
           285000,
           690000,
           879950,
           430000,
           429000,
           455000,
           390000,
           920000,
           655000,
           235000,
           1050000,
           567000,
           244000,
           393000,
           325000,
           374000,
           585000,
           654000,
           580000,
           435000,
           680000,
           959000,
           372000,
           655000,
           721000,
           628000,
           475000,
           624000,
           221347,
           478000,
           875000,
           535000,
           465000,
           1400000,
           608000,
           211000,
           950000,
           936000,
           610000,
           324950,
           351000,
           440000,
           299000,
           229500,
           968000,
           725000,
           315500,
           510000,
           875000,
           359900,
           724950,
           541338,
           794154,
           390000,
           532000,
           500000,
           345000,
           1400000,
           859000,
           1210000,
           394000,
           539000,
           500012,
           3350000,
           298450,
           445000,
           1240000,
           525000,
           770000,
           625000,
           332220
          ],
          "sizemode": "area",
          "sizeref": 11675
         },
         "mode": "markers",
         "name": "False",
         "showlegend": true,
         "subplot": "mapbox",
         "type": "scattermapbox"
        },
        {
         "customdata": [
          [
           5113400431,
           "Seattle",
           615000,
           0.9,
           "large",
           "Above average",
           "Richie rich"
          ],
          [
           5101405124,
           "Seattle",
           435000,
           1,
           "large",
           "Above average",
           "City"
          ],
          [
           194000505,
           "Seattle",
           651000,
           1,
           "large",
           "Above average",
           "City"
          ],
          [
           3990200125,
           "Normandy Park",
           385000,
           1,
           "large",
           "Below average",
           "Has Shore"
          ],
          [
           2207100405,
           "Bellevue",
           423000,
           1,
           "large",
           "Below average",
           "Richie rich"
          ],
          [
           8731990090,
           "Auburn",
           560000,
           0.9,
           "xlarge",
           "Below average",
           "Has Shore"
          ],
          [
           9136102680,
           "Seattle",
           626500,
           0.8,
           "large",
           "Above average",
           "City"
          ],
          [
           5166700050,
           "Seattle",
           600000,
           1,
           "xlarge",
           "Below average",
           "City"
          ],
          [
           6117500430,
           "Normandy Park",
           925000,
           0.8,
           "xlarge",
           "Below average",
           "Has Shore"
          ],
          [
           8058500005,
           "Seattle",
           290000,
           0.8,
           "large",
           "Below average",
           "City"
          ],
          [
           1622059088,
           "Kent",
           385000,
           1,
           "xlarge",
           "Below average",
           "Outskirt"
          ],
          [
           9547205260,
           "Seattle",
           733000,
           0.8,
           "large",
           "Top 10",
           "City"
          ],
          [
           2141300080,
           "Bellevue",
           707000,
           0.9,
           "xlarge",
           "Below average",
           "Richie rich"
          ],
          [
           6928600330,
           "Federal Way",
           278000,
           1,
           "xlarge",
           "Below average",
           "Outskirt"
          ],
          [
           8068000730,
           "Seattle",
           315000,
           0.9,
           "large",
           "Below average",
           "City "
          ],
          [
           5113400113,
           "Seattle",
           756000,
           1,
           "xlarge",
           "Above average",
           "Richie rich"
          ],
          [
           3211600140,
           "Kirkland",
           475000,
           0.9,
           "xlarge",
           "Below average",
           "Richie rich"
          ],
          [
           486000510,
           "Seattle",
           1330000,
           0.8,
           "xlarge",
           "Above average",
           "City"
          ],
          [
           3438500677,
           "Seattle",
           305000,
           1,
           "large",
           "Above average",
           "City"
          ],
          [
           2473510260,
           "Renton",
           460000,
           0.9,
           "xlarge",
           "Below average",
           "Outskirt"
          ],
          [
           4206901550,
           "Seattle",
           550000,
           1,
           "large",
           "Above average",
           "City"
          ],
          [
           1402200140,
           "Renton",
           400000,
           1,
           "xlarge",
           "Below average",
           "Outskirt"
          ],
          [
           3211200140,
           "Kirkland",
           350000,
           1,
           "large",
           "Below average",
           "Richie rich"
          ],
          [
           9276202160,
           "Seattle",
           660000,
           1,
           "xlarge",
           "Above average",
           "City"
          ],
          [
           798000145,
           "Burien",
           244500,
           1,
           "large",
           "Below average",
           "Outskirt"
          ],
          [
           7011201445,
           "Seattle",
           525000,
           0.8,
           "large",
           "Above average",
           "Richie rich"
          ],
          [
           7937600087,
           "Renton",
           405000,
           1,
           "xlarge",
           "Below average",
           "Outskirt"
          ],
          [
           1842300050,
           "Redmond",
           600000,
           1,
           "xlarge",
           "Above average",
           "Richie rich"
          ],
          [
           9122500080,
           "Kent",
           275000,
           0.8,
           "xlarge",
           "Below average",
           "Outskirt"
          ],
          [
           7802900500,
           "Snoqualmie",
           532500,
           0.8,
           "xlarge",
           "Below average",
           "Wide land"
          ],
          [
           3300701440,
           "Seattle",
           409000,
           1,
           "large",
           "Above average",
           "City"
          ],
          [
           8864000425,
           "Burien",
           242000,
           1,
           "large",
           "Below average",
           "Outskirt"
          ],
          [
           1545806720,
           "Maple Valley",
           254950,
           0.9,
           "xlarge",
           "Below average",
           "Wide land"
          ],
          [
           1180002745,
           "Seattle",
           285000,
           0.8,
           "xlarge",
           "Below average",
           "City "
          ],
          [
           9542200220,
           "Bellevue",
           810000,
           0.8,
           "xlarge",
           "Below average",
           "Richie rich"
          ],
          [
           6126601380,
           "Seattle",
           490000,
           0.8,
           "large",
           "Above average",
           "City"
          ]
         ],
         "hovertemplate": "<b>%{hovertext}</b><br><br>has_secret_storage=True<br>price=%{customdata[2]}<br>lat=%{lat}<br>long=%{lon}<br>id=%{customdata[0]}<br>city=%{customdata[1]}<br>basement_to_rest_ratio=%{customdata[3]}<br>basement_sizes_string=%{customdata[4]}<br>price_tag_house=%{customdata[5]}<br>classification=%{customdata[6]}<extra></extra>",
         "hovertext": [
          5113400431,
          5101405124,
          194000505,
          3990200125,
          2207100405,
          8731990090,
          9136102680,
          5166700050,
          6117500430,
          8058500005,
          1622059088,
          9547205260,
          2141300080,
          6928600330,
          8068000730,
          5113400113,
          3211600140,
          486000510,
          3438500677,
          2473510260,
          4206901550,
          1402200140,
          3211200140,
          9276202160,
          798000145,
          7011201445,
          7937600087,
          1842300050,
          9122500080,
          7802900500,
          3300701440,
          8864000425,
          1545806720,
          1180002745,
          9542200220,
          6126601380
         ],
         "lat": [
          47.6454,
          47.6988,
          47.5664,
          47.4598,
          47.5995,
          47.3227,
          47.6656,
          47.5561,
          47.4384,
          47.7069,
          47.3931,
          47.6816,
          47.5596,
          47.3355,
          47.5094,
          47.6442,
          47.726000000000006,
          47.6773,
          47.5524,
          47.4462,
          47.6557,
          47.4379,
          47.7307,
          47.5791,
          47.4989,
          47.6368,
          47.4398,
          47.6696,
          47.3896,
          47.5244,
          47.6916,
          47.4807,
          47.3676,
          47.49800000000001,
          47.5956,
          47.5577
         ],
         "legendgroup": "True",
         "lon": [
          -122.373,
          -122.319,
          -122.389,
          -122.352,
          -122.144,
          -122.384,
          -122.335,
          -122.379,
          -122.352,
          -122.299,
          -122.183,
          -122.31,
          -122.142,
          -122.331,
          -122.263,
          -122.372,
          -122.198,
          -122.403,
          -122.356,
          -122.137,
          -122.327,
          -122.146,
          -122.239,
          -122.392,
          -122.329,
          -122.371,
          -122.08,
          -122.149,
          -122.218,
          -121.842,
          -122.38,
          -122.29,
          -122.046,
          -122.222,
          -122.178,
          -122.379
         ],
         "marker": {
          "color": "#E15F99",
          "size": [
           615000,
           435000,
           651000,
           385000,
           423000,
           560000,
           626500,
           600000,
           925000,
           290000,
           385000,
           733000,
           707000,
           278000,
           315000,
           756000,
           475000,
           1330000,
           305000,
           460000,
           550000,
           400000,
           350000,
           660000,
           244500,
           525000,
           405000,
           600000,
           275000,
           532500,
           409000,
           242000,
           254950,
           285000,
           810000,
           490000
          ],
          "sizemode": "area",
          "sizeref": 11675
         },
         "mode": "markers",
         "name": "True",
         "showlegend": true,
         "subplot": "mapbox",
         "type": "scattermapbox"
        }
       ],
       "layout": {
        "height": 600,
        "legend": {
         "itemsizing": "constant",
         "title": {
          "text": "Has secret storage"
         },
         "tracegroupgap": 0
        },
        "mapbox": {
         "center": {
          "lat": 47.5,
          "lon": -122.2
         },
         "domain": {
          "x": [
           0,
           1
          ],
          "y": [
           0,
           1
          ]
         },
         "style": "open-street-map",
         "zoom": 9
        },
        "margin": {
         "b": 10,
         "l": 10,
         "r": 10,
         "t": 40
        },
        "template": {
         "data": {
          "bar": [
           {
            "error_x": {
             "color": "#2a3f5f"
            },
            "error_y": {
             "color": "#2a3f5f"
            },
            "marker": {
             "line": {
              "color": "#E5ECF6",
              "width": 0.5
             },
             "pattern": {
              "fillmode": "overlay",
              "size": 10,
              "solidity": 0.2
             }
            },
            "type": "bar"
           }
          ],
          "barpolar": [
           {
            "marker": {
             "line": {
              "color": "#E5ECF6",
              "width": 0.5
             },
             "pattern": {
              "fillmode": "overlay",
              "size": 10,
              "solidity": 0.2
             }
            },
            "type": "barpolar"
           }
          ],
          "carpet": [
           {
            "aaxis": {
             "endlinecolor": "#2a3f5f",
             "gridcolor": "white",
             "linecolor": "white",
             "minorgridcolor": "white",
             "startlinecolor": "#2a3f5f"
            },
            "baxis": {
             "endlinecolor": "#2a3f5f",
             "gridcolor": "white",
             "linecolor": "white",
             "minorgridcolor": "white",
             "startlinecolor": "#2a3f5f"
            },
            "type": "carpet"
           }
          ],
          "choropleth": [
           {
            "colorbar": {
             "outlinewidth": 0,
             "ticks": ""
            },
            "type": "choropleth"
           }
          ],
          "contour": [
           {
            "colorbar": {
             "outlinewidth": 0,
             "ticks": ""
            },
            "colorscale": [
             [
              0,
              "#0d0887"
             ],
             [
              0.1111111111111111,
              "#46039f"
             ],
             [
              0.2222222222222222,
              "#7201a8"
             ],
             [
              0.3333333333333333,
              "#9c179e"
             ],
             [
              0.4444444444444444,
              "#bd3786"
             ],
             [
              0.5555555555555556,
              "#d8576b"
             ],
             [
              0.6666666666666666,
              "#ed7953"
             ],
             [
              0.7777777777777778,
              "#fb9f3a"
             ],
             [
              0.8888888888888888,
              "#fdca26"
             ],
             [
              1,
              "#f0f921"
             ]
            ],
            "type": "contour"
           }
          ],
          "contourcarpet": [
           {
            "colorbar": {
             "outlinewidth": 0,
             "ticks": ""
            },
            "type": "contourcarpet"
           }
          ],
          "heatmap": [
           {
            "colorbar": {
             "outlinewidth": 0,
             "ticks": ""
            },
            "colorscale": [
             [
              0,
              "#0d0887"
             ],
             [
              0.1111111111111111,
              "#46039f"
             ],
             [
              0.2222222222222222,
              "#7201a8"
             ],
             [
              0.3333333333333333,
              "#9c179e"
             ],
             [
              0.4444444444444444,
              "#bd3786"
             ],
             [
              0.5555555555555556,
              "#d8576b"
             ],
             [
              0.6666666666666666,
              "#ed7953"
             ],
             [
              0.7777777777777778,
              "#fb9f3a"
             ],
             [
              0.8888888888888888,
              "#fdca26"
             ],
             [
              1,
              "#f0f921"
             ]
            ],
            "type": "heatmap"
           }
          ],
          "heatmapgl": [
           {
            "colorbar": {
             "outlinewidth": 0,
             "ticks": ""
            },
            "colorscale": [
             [
              0,
              "#0d0887"
             ],
             [
              0.1111111111111111,
              "#46039f"
             ],
             [
              0.2222222222222222,
              "#7201a8"
             ],
             [
              0.3333333333333333,
              "#9c179e"
             ],
             [
              0.4444444444444444,
              "#bd3786"
             ],
             [
              0.5555555555555556,
              "#d8576b"
             ],
             [
              0.6666666666666666,
              "#ed7953"
             ],
             [
              0.7777777777777778,
              "#fb9f3a"
             ],
             [
              0.8888888888888888,
              "#fdca26"
             ],
             [
              1,
              "#f0f921"
             ]
            ],
            "type": "heatmapgl"
           }
          ],
          "histogram": [
           {
            "marker": {
             "pattern": {
              "fillmode": "overlay",
              "size": 10,
              "solidity": 0.2
             }
            },
            "type": "histogram"
           }
          ],
          "histogram2d": [
           {
            "colorbar": {
             "outlinewidth": 0,
             "ticks": ""
            },
            "colorscale": [
             [
              0,
              "#0d0887"
             ],
             [
              0.1111111111111111,
              "#46039f"
             ],
             [
              0.2222222222222222,
              "#7201a8"
             ],
             [
              0.3333333333333333,
              "#9c179e"
             ],
             [
              0.4444444444444444,
              "#bd3786"
             ],
             [
              0.5555555555555556,
              "#d8576b"
             ],
             [
              0.6666666666666666,
              "#ed7953"
             ],
             [
              0.7777777777777778,
              "#fb9f3a"
             ],
             [
              0.8888888888888888,
              "#fdca26"
             ],
             [
              1,
              "#f0f921"
             ]
            ],
            "type": "histogram2d"
           }
          ],
          "histogram2dcontour": [
           {
            "colorbar": {
             "outlinewidth": 0,
             "ticks": ""
            },
            "colorscale": [
             [
              0,
              "#0d0887"
             ],
             [
              0.1111111111111111,
              "#46039f"
             ],
             [
              0.2222222222222222,
              "#7201a8"
             ],
             [
              0.3333333333333333,
              "#9c179e"
             ],
             [
              0.4444444444444444,
              "#bd3786"
             ],
             [
              0.5555555555555556,
              "#d8576b"
             ],
             [
              0.6666666666666666,
              "#ed7953"
             ],
             [
              0.7777777777777778,
              "#fb9f3a"
             ],
             [
              0.8888888888888888,
              "#fdca26"
             ],
             [
              1,
              "#f0f921"
             ]
            ],
            "type": "histogram2dcontour"
           }
          ],
          "mesh3d": [
           {
            "colorbar": {
             "outlinewidth": 0,
             "ticks": ""
            },
            "type": "mesh3d"
           }
          ],
          "parcoords": [
           {
            "line": {
             "colorbar": {
              "outlinewidth": 0,
              "ticks": ""
             }
            },
            "type": "parcoords"
           }
          ],
          "pie": [
           {
            "automargin": true,
            "type": "pie"
           }
          ],
          "scatter": [
           {
            "fillpattern": {
             "fillmode": "overlay",
             "size": 10,
             "solidity": 0.2
            },
            "type": "scatter"
           }
          ],
          "scatter3d": [
           {
            "line": {
             "colorbar": {
              "outlinewidth": 0,
              "ticks": ""
             }
            },
            "marker": {
             "colorbar": {
              "outlinewidth": 0,
              "ticks": ""
             }
            },
            "type": "scatter3d"
           }
          ],
          "scattercarpet": [
           {
            "marker": {
             "colorbar": {
              "outlinewidth": 0,
              "ticks": ""
             }
            },
            "type": "scattercarpet"
           }
          ],
          "scattergeo": [
           {
            "marker": {
             "colorbar": {
              "outlinewidth": 0,
              "ticks": ""
             }
            },
            "type": "scattergeo"
           }
          ],
          "scattergl": [
           {
            "marker": {
             "colorbar": {
              "outlinewidth": 0,
              "ticks": ""
             }
            },
            "type": "scattergl"
           }
          ],
          "scattermapbox": [
           {
            "marker": {
             "colorbar": {
              "outlinewidth": 0,
              "ticks": ""
             }
            },
            "type": "scattermapbox"
           }
          ],
          "scatterpolar": [
           {
            "marker": {
             "colorbar": {
              "outlinewidth": 0,
              "ticks": ""
             }
            },
            "type": "scatterpolar"
           }
          ],
          "scatterpolargl": [
           {
            "marker": {
             "colorbar": {
              "outlinewidth": 0,
              "ticks": ""
             }
            },
            "type": "scatterpolargl"
           }
          ],
          "scatterternary": [
           {
            "marker": {
             "colorbar": {
              "outlinewidth": 0,
              "ticks": ""
             }
            },
            "type": "scatterternary"
           }
          ],
          "surface": [
           {
            "colorbar": {
             "outlinewidth": 0,
             "ticks": ""
            },
            "colorscale": [
             [
              0,
              "#0d0887"
             ],
             [
              0.1111111111111111,
              "#46039f"
             ],
             [
              0.2222222222222222,
              "#7201a8"
             ],
             [
              0.3333333333333333,
              "#9c179e"
             ],
             [
              0.4444444444444444,
              "#bd3786"
             ],
             [
              0.5555555555555556,
              "#d8576b"
             ],
             [
              0.6666666666666666,
              "#ed7953"
             ],
             [
              0.7777777777777778,
              "#fb9f3a"
             ],
             [
              0.8888888888888888,
              "#fdca26"
             ],
             [
              1,
              "#f0f921"
             ]
            ],
            "type": "surface"
           }
          ],
          "table": [
           {
            "cells": {
             "fill": {
              "color": "#EBF0F8"
             },
             "line": {
              "color": "white"
             }
            },
            "header": {
             "fill": {
              "color": "#C8D4E3"
             },
             "line": {
              "color": "white"
             }
            },
            "type": "table"
           }
          ]
         },
         "layout": {
          "annotationdefaults": {
           "arrowcolor": "#2a3f5f",
           "arrowhead": 0,
           "arrowwidth": 1
          },
          "autotypenumbers": "strict",
          "coloraxis": {
           "colorbar": {
            "outlinewidth": 0,
            "ticks": ""
           }
          },
          "colorscale": {
           "diverging": [
            [
             0,
             "#8e0152"
            ],
            [
             0.1,
             "#c51b7d"
            ],
            [
             0.2,
             "#de77ae"
            ],
            [
             0.3,
             "#f1b6da"
            ],
            [
             0.4,
             "#fde0ef"
            ],
            [
             0.5,
             "#f7f7f7"
            ],
            [
             0.6,
             "#e6f5d0"
            ],
            [
             0.7,
             "#b8e186"
            ],
            [
             0.8,
             "#7fbc41"
            ],
            [
             0.9,
             "#4d9221"
            ],
            [
             1,
             "#276419"
            ]
           ],
           "sequential": [
            [
             0,
             "#0d0887"
            ],
            [
             0.1111111111111111,
             "#46039f"
            ],
            [
             0.2222222222222222,
             "#7201a8"
            ],
            [
             0.3333333333333333,
             "#9c179e"
            ],
            [
             0.4444444444444444,
             "#bd3786"
            ],
            [
             0.5555555555555556,
             "#d8576b"
            ],
            [
             0.6666666666666666,
             "#ed7953"
            ],
            [
             0.7777777777777778,
             "#fb9f3a"
            ],
            [
             0.8888888888888888,
             "#fdca26"
            ],
            [
             1,
             "#f0f921"
            ]
           ],
           "sequentialminus": [
            [
             0,
             "#0d0887"
            ],
            [
             0.1111111111111111,
             "#46039f"
            ],
            [
             0.2222222222222222,
             "#7201a8"
            ],
            [
             0.3333333333333333,
             "#9c179e"
            ],
            [
             0.4444444444444444,
             "#bd3786"
            ],
            [
             0.5555555555555556,
             "#d8576b"
            ],
            [
             0.6666666666666666,
             "#ed7953"
            ],
            [
             0.7777777777777778,
             "#fb9f3a"
            ],
            [
             0.8888888888888888,
             "#fdca26"
            ],
            [
             1,
             "#f0f921"
            ]
           ]
          },
          "colorway": [
           "#636efa",
           "#EF553B",
           "#00cc96",
           "#ab63fa",
           "#FFA15A",
           "#19d3f3",
           "#FF6692",
           "#B6E880",
           "#FF97FF",
           "#FECB52"
          ],
          "font": {
           "color": "#2a3f5f"
          },
          "geo": {
           "bgcolor": "white",
           "lakecolor": "white",
           "landcolor": "#E5ECF6",
           "showlakes": true,
           "showland": true,
           "subunitcolor": "white"
          },
          "hoverlabel": {
           "align": "left"
          },
          "hovermode": "closest",
          "mapbox": {
           "style": "light"
          },
          "paper_bgcolor": "white",
          "plot_bgcolor": "#E5ECF6",
          "polar": {
           "angularaxis": {
            "gridcolor": "white",
            "linecolor": "white",
            "ticks": ""
           },
           "bgcolor": "#E5ECF6",
           "radialaxis": {
            "gridcolor": "white",
            "linecolor": "white",
            "ticks": ""
           }
          },
          "scene": {
           "xaxis": {
            "backgroundcolor": "#E5ECF6",
            "gridcolor": "white",
            "gridwidth": 2,
            "linecolor": "white",
            "showbackground": true,
            "ticks": "",
            "zerolinecolor": "white"
           },
           "yaxis": {
            "backgroundcolor": "#E5ECF6",
            "gridcolor": "white",
            "gridwidth": 2,
            "linecolor": "white",
            "showbackground": true,
            "ticks": "",
            "zerolinecolor": "white"
           },
           "zaxis": {
            "backgroundcolor": "#E5ECF6",
            "gridcolor": "white",
            "gridwidth": 2,
            "linecolor": "white",
            "showbackground": true,
            "ticks": "",
            "zerolinecolor": "white"
           }
          },
          "shapedefaults": {
           "line": {
            "color": "#2a3f5f"
           }
          },
          "ternary": {
           "aaxis": {
            "gridcolor": "white",
            "linecolor": "white",
            "ticks": ""
           },
           "baxis": {
            "gridcolor": "white",
            "linecolor": "white",
            "ticks": ""
           },
           "bgcolor": "#E5ECF6",
           "caxis": {
            "gridcolor": "white",
            "linecolor": "white",
            "ticks": ""
           }
          },
          "title": {
           "x": 0.05
          },
          "xaxis": {
           "automargin": true,
           "gridcolor": "white",
           "linecolor": "white",
           "ticks": "",
           "title": {
            "standoff": 15
           },
           "zerolinecolor": "white",
           "zerolinewidth": 2
          },
          "yaxis": {
           "automargin": true,
           "gridcolor": "white",
           "linecolor": "white",
           "ticks": "",
           "title": {
            "standoff": 15
           },
           "zerolinecolor": "white",
           "zerolinewidth": 2
          }
         }
        },
        "title": {
         "text": "Opportunities by basement to rest ratio and official basement knowledge"
        },
        "width": 1000
       }
      }
     },
     "metadata": {},
     "output_type": "display_data"
    }
   ],
   "source": [
    "# Opportunities by basement size and official knowledge of the basement, indication by cheap picks first\n",
    "h3b = px.scatter_mapbox(large_basement_to_rest, lat=\"lat\", lon=\"long\", color='has_secret_storage', size = 'price', hover_name=\"id\", hover_data=[\"id\", \"city\",\"price\",'basement_to_rest_ratio','basement_sizes_string','price_tag_house','classification'],\n",
    "                        color_discrete_sequence=px.colors.qualitative.Dark24, zoom=9, center={'lon': -122.2, 'lat': 47.5 }, width=1000, height=600)\n",
    "h3b.update_layout(mapbox_style=\"open-street-map\",\n",
    "    title=\"Opportunities by basement to rest ratio and official basement knowledge\",\n",
    "    legend_title=\"Has secret storage\",\n",
    "    margin={\"r\":10,\"t\":40,\"l\":10,\"b\":10}\n",
    "    )\n",
    "h3b.show()"
   ]
  }
 ],
 "metadata": {
  "kernelspec": {
   "display_name": "Python 3.9.8 ('.venv': venv)",
   "language": "python",
   "name": "python3"
  },
  "language_info": {
   "codemirror_mode": {
    "name": "ipython",
    "version": 3
   },
   "file_extension": ".py",
   "mimetype": "text/x-python",
   "name": "python",
   "nbconvert_exporter": "python",
   "pygments_lexer": "ipython3",
   "version": "3.9.8"
  },
  "orig_nbformat": 4,
  "vscode": {
   "interpreter": {
    "hash": "751a575710e0294bc08aeef92a2e2ff8b8a13067439a1d775f615b0057bf307a"
   }
  }
 },
 "nbformat": 4,
 "nbformat_minor": 2
}
